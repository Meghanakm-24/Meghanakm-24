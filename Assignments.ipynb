{
  "nbformat": 4,
  "nbformat_minor": 0,
  "metadata": {
    "colab": {
      "provenance": [],
      "authorship_tag": "ABX9TyPrwqdGzQU2htYmoVJKmCm9",
      "include_colab_link": true
    },
    "kernelspec": {
      "name": "python3",
      "display_name": "Python 3"
    },
    "language_info": {
      "name": "python"
    }
  },
  "cells": [
    {
      "cell_type": "markdown",
      "metadata": {
        "id": "view-in-github",
        "colab_type": "text"
      },
      "source": [
        "<a href=\"https://colab.research.google.com/github/Meghanakm-24/Meghanakm-24/blob/main/Assignments.ipynb\" target=\"_parent\"><img src=\"https://colab.research.google.com/assets/colab-badge.svg\" alt=\"Open In Colab\"/></a>"
      ]
    },
    {
      "cell_type": "code",
      "source": [
        "A=12\n",
        "B=20\n",
        "B=A\n",
        "print(B)"
      ],
      "metadata": {
        "colab": {
          "base_uri": "https://localhost:8080/"
        },
        "id": "LWfTyB0WK9Jp",
        "outputId": "cac5f467-b6a4-4d0c-9249-88655e261868"
      },
      "execution_count": null,
      "outputs": [
        {
          "output_type": "stream",
          "name": "stdout",
          "text": [
            "12\n"
          ]
        }
      ]
    },
    {
      "cell_type": "code",
      "source": [
        "Class=\"Python batch\""
      ],
      "metadata": {
        "id": "XaVQm79fLu0L"
      },
      "execution_count": null,
      "outputs": []
    },
    {
      "cell_type": "code",
      "source": [
        "Class.lower()"
      ],
      "metadata": {
        "colab": {
          "base_uri": "https://localhost:8080/",
          "height": 36
        },
        "id": "eIyyHSNRMCt-",
        "outputId": "2c848832-acd2-4379-bf5c-89cc3ad360ad"
      },
      "execution_count": null,
      "outputs": [
        {
          "output_type": "execute_result",
          "data": {
            "text/plain": [
              "'python batch'"
            ],
            "application/vnd.google.colaboratory.intrinsic+json": {
              "type": "string"
            }
          },
          "metadata": {},
          "execution_count": 8
        }
      ]
    },
    {
      "cell_type": "code",
      "source": [
        "Class.upper()"
      ],
      "metadata": {
        "colab": {
          "base_uri": "https://localhost:8080/",
          "height": 36
        },
        "id": "HjnoAN5BMobV",
        "outputId": "8e593f3d-97a7-4f23-e732-f535ff1669d9"
      },
      "execution_count": null,
      "outputs": [
        {
          "output_type": "execute_result",
          "data": {
            "text/plain": [
              "'PYTHON BATCH'"
            ],
            "application/vnd.google.colaboratory.intrinsic+json": {
              "type": "string"
            }
          },
          "metadata": {},
          "execution_count": 9
        }
      ]
    },
    {
      "cell_type": "code",
      "source": [
        "Class.title()"
      ],
      "metadata": {
        "colab": {
          "base_uri": "https://localhost:8080/",
          "height": 36
        },
        "id": "c8XUx2t9MsFA",
        "outputId": "1823b3be-8f96-48bb-a352-c9e64dfa4e56"
      },
      "execution_count": null,
      "outputs": [
        {
          "output_type": "execute_result",
          "data": {
            "text/plain": [
              "'Python Batch'"
            ],
            "application/vnd.google.colaboratory.intrinsic+json": {
              "type": "string"
            }
          },
          "metadata": {},
          "execution_count": 10
        }
      ]
    },
    {
      "cell_type": "code",
      "source": [
        "Class.capitalize()"
      ],
      "metadata": {
        "colab": {
          "base_uri": "https://localhost:8080/",
          "height": 36
        },
        "id": "at8-YyGKMxp6",
        "outputId": "58a6d169-8827-4656-9691-1ee7e4038802"
      },
      "execution_count": null,
      "outputs": [
        {
          "output_type": "execute_result",
          "data": {
            "text/plain": [
              "'Python batch'"
            ],
            "application/vnd.google.colaboratory.intrinsic+json": {
              "type": "string"
            }
          },
          "metadata": {},
          "execution_count": 11
        }
      ]
    },
    {
      "cell_type": "code",
      "source": [
        "Class.swapcase()"
      ],
      "metadata": {
        "colab": {
          "base_uri": "https://localhost:8080/",
          "height": 36
        },
        "id": "hZkAmI8BM4ML",
        "outputId": "acd1acb1-2005-4c37-80a8-0f2d8c4d3756"
      },
      "execution_count": null,
      "outputs": [
        {
          "output_type": "execute_result",
          "data": {
            "text/plain": [
              "'pYTHON BATCH'"
            ],
            "application/vnd.google.colaboratory.intrinsic+json": {
              "type": "string"
            }
          },
          "metadata": {},
          "execution_count": 12
        }
      ]
    },
    {
      "cell_type": "code",
      "source": [
        "Class.isalpha()"
      ],
      "metadata": {
        "colab": {
          "base_uri": "https://localhost:8080/"
        },
        "id": "GRYD6reVM-rp",
        "outputId": "0f221499-2854-4035-e6c7-6e4fce139d87"
      },
      "execution_count": null,
      "outputs": [
        {
          "output_type": "execute_result",
          "data": {
            "text/plain": [
              "False"
            ]
          },
          "metadata": {},
          "execution_count": 15
        }
      ]
    },
    {
      "cell_type": "code",
      "source": [
        "Class.isalnum()"
      ],
      "metadata": {
        "colab": {
          "base_uri": "https://localhost:8080/"
        },
        "id": "0K2JHHX5NIz9",
        "outputId": "8b8e6c34-ca70-48ac-b05c-bc24d990b9ca"
      },
      "execution_count": null,
      "outputs": [
        {
          "output_type": "execute_result",
          "data": {
            "text/plain": [
              "False"
            ]
          },
          "metadata": {},
          "execution_count": 17
        }
      ]
    },
    {
      "cell_type": "code",
      "source": [
        "X=15\n",
        "print(X)\n",
        "type(X)"
      ],
      "metadata": {
        "id": "PfyTzTnBTshz",
        "colab": {
          "base_uri": "https://localhost:8080/"
        },
        "outputId": "9df3c3a8-4a3e-40be-b21f-8f901b79bb07"
      },
      "execution_count": null,
      "outputs": [
        {
          "output_type": "stream",
          "name": "stdout",
          "text": [
            "15\n"
          ]
        },
        {
          "output_type": "execute_result",
          "data": {
            "text/plain": [
              "int"
            ]
          },
          "metadata": {},
          "execution_count": 4
        }
      ]
    },
    {
      "cell_type": "code",
      "source": [
        "Class=\"Python batch\""
      ],
      "metadata": {
        "id": "FZ0Wr1UASliW"
      },
      "execution_count": null,
      "outputs": []
    },
    {
      "cell_type": "code",
      "source": [
        "Class.startswith(\"P\")"
      ],
      "metadata": {
        "colab": {
          "base_uri": "https://localhost:8080/"
        },
        "id": "wn_zpG7aUvjv",
        "outputId": "d20eb728-3d4b-464e-fff2-0adaa68bf7eb"
      },
      "execution_count": null,
      "outputs": [
        {
          "output_type": "execute_result",
          "data": {
            "text/plain": [
              "True"
            ]
          },
          "metadata": {},
          "execution_count": 12
        }
      ]
    },
    {
      "cell_type": "code",
      "source": [
        "X=int(input(\"Enter value of X\"))"
      ],
      "metadata": {
        "id": "1s_mDEC8ZvoK"
      },
      "execution_count": null,
      "outputs": []
    },
    {
      "cell_type": "markdown",
      "source": [
        "create a tuple with values (10,20,30),and 2nd tuple with values(40,50,60) and concatinate the two tuples and store it in t_combine."
      ],
      "metadata": {
        "id": "3snax3rITLnv"
      }
    },
    {
      "cell_type": "code",
      "source": [
        "A=(10,20,30)\n",
        "B=(40,50,60)\n",
        "t_combine= A+B\n",
        "print(t_combine)"
      ],
      "metadata": {
        "colab": {
          "base_uri": "https://localhost:8080/"
        },
        "id": "pYtJdMXje1Qx",
        "outputId": "3d7aef2c-baa8-468a-fa6a-665c82fbbebb"
      },
      "execution_count": null,
      "outputs": [
        {
          "output_type": "stream",
          "name": "stdout",
          "text": [
            "(10, 20, '30', 40, 50, 60)\n"
          ]
        }
      ]
    },
    {
      "cell_type": "markdown",
      "source": [
        "Access the third element from t_combine."
      ],
      "metadata": {
        "id": "RvHtBhe2Trj6"
      }
    },
    {
      "cell_type": "code",
      "source": [
        "t_combine[2]"
      ],
      "metadata": {
        "colab": {
          "base_uri": "https://localhost:8080/",
          "height": 36
        },
        "id": "AnJ3vI9l8Z1E",
        "outputId": "eedda260-8e15-4590-b871-0035c6963a35"
      },
      "execution_count": null,
      "outputs": [
        {
          "output_type": "execute_result",
          "data": {
            "text/plain": [
              "'30'"
            ],
            "application/vnd.google.colaboratory.intrinsic+json": {
              "type": "string"
            }
          },
          "metadata": {},
          "execution_count": 8
        }
      ]
    },
    {
      "cell_type": "markdown",
      "source": [
        "Access the first three elments from t_combine."
      ],
      "metadata": {
        "id": "PtE919FdTxFC"
      }
    },
    {
      "cell_type": "code",
      "source": [
        "t_combine[0:3]"
      ],
      "metadata": {
        "colab": {
          "base_uri": "https://localhost:8080/"
        },
        "id": "6-shP0Gl9ZPU",
        "outputId": "00dbafa8-91a5-4583-a1be-077e572ff511"
      },
      "execution_count": null,
      "outputs": [
        {
          "output_type": "execute_result",
          "data": {
            "text/plain": [
              "(10, 20, '30')"
            ]
          },
          "metadata": {},
          "execution_count": 9
        }
      ]
    },
    {
      "cell_type": "markdown",
      "source": [
        "Acces the last elements from t_combine."
      ],
      "metadata": {
        "id": "20Fk0yR5T3QM"
      }
    },
    {
      "cell_type": "code",
      "source": [
        "t_combine[3:]"
      ],
      "metadata": {
        "colab": {
          "base_uri": "https://localhost:8080/"
        },
        "id": "k5RbdNNK9udW",
        "outputId": "9b5d0fee-ee61-4c82-d07b-440b533c726d"
      },
      "execution_count": null,
      "outputs": [
        {
          "output_type": "execute_result",
          "data": {
            "text/plain": [
              "(40, 50, 60)"
            ]
          },
          "metadata": {},
          "execution_count": 10
        }
      ]
    },
    {
      "cell_type": "markdown",
      "source": [
        "Create a list my_list with elements\n",
        "a. First element is a tuple with values 1,2,3.\n",
        "b. Second element is a tuple with values \"a\",\"b\",\"c\".\n",
        "c. Third element is a tuple with with values True ,False."
      ],
      "metadata": {
        "id": "KFRL3T6-T9PX"
      }
    },
    {
      "cell_type": "code",
      "source": [
        "my_list=[(1,2,3),\n",
        "        (\"a\",\"b\",\"c\"),\n",
        "        (True,False)]"
      ],
      "metadata": {
        "id": "nNP46raB-DD7"
      },
      "execution_count": null,
      "outputs": []
    },
    {
      "cell_type": "markdown",
      "source": [
        "Append a new tuple (1,'a',True) to my_list."
      ],
      "metadata": {
        "id": "KiP7DLfbUeey"
      }
    },
    {
      "cell_type": "code",
      "source": [
        "my_list.append((1,'a',True))"
      ],
      "metadata": {
        "id": "m8R_ZgWM-wZn"
      },
      "execution_count": null,
      "outputs": []
    },
    {
      "cell_type": "code",
      "source": [
        "print(my_list)"
      ],
      "metadata": {
        "colab": {
          "base_uri": "https://localhost:8080/"
        },
        "id": "GR25ezCc-_49",
        "outputId": "fdf24619-38bd-4b45-cc76-e4a48e6f74da"
      },
      "execution_count": null,
      "outputs": [
        {
          "output_type": "stream",
          "name": "stdout",
          "text": [
            "[(1, 2, 3), ('a', 'b', 'c'), (True, False), (1, 'a', True)]\n"
          ]
        }
      ]
    },
    {
      "cell_type": "markdown",
      "source": [
        "Append a new list \"sparta,123 to my_list."
      ],
      "metadata": {
        "id": "9T8694D8Upsd"
      }
    },
    {
      "cell_type": "code",
      "source": [
        "my_list.append([\"sparta\", 123])"
      ],
      "metadata": {
        "id": "AMjRaiNm_Guf"
      },
      "execution_count": null,
      "outputs": []
    },
    {
      "cell_type": "code",
      "source": [
        "print(my_list)"
      ],
      "metadata": {
        "colab": {
          "base_uri": "https://localhost:8080/"
        },
        "id": "msEF2GSE_UsA",
        "outputId": "44682dae-499f-445d-e676-7ddb569c9ecd"
      },
      "execution_count": null,
      "outputs": [
        {
          "output_type": "stream",
          "name": "stdout",
          "text": [
            "[(1, 2, 3), ('a', 'b', 'c'), (True, False), (1, 'a', True), ['sparta', 123]]\n"
          ]
        }
      ]
    },
    {
      "cell_type": "markdown",
      "source": [
        "Create a dictionary 'Fruit' where\n",
        "a. The first key is 'Fruit' and the values are(\"Apple\",\"Banana\",\"Mango\",\"Guava\")\n",
        "b. The second key is 'Cost' and the vaules are(85,54,120,70)\n",
        "c. Exteract all the keys from 'Fruit'\n",
        "d. Extract all the keys from 'cost'."
      ],
      "metadata": {
        "id": "2pswxitvUzHa"
      }
    },
    {
      "cell_type": "code",
      "source": [
        "Fruits={\"Apple\":85,\"Banana\":54,\"Mango\":120,\"Guava\":70}"
      ],
      "metadata": {
        "id": "og-QOlGV_c7q"
      },
      "execution_count": null,
      "outputs": []
    },
    {
      "cell_type": "code",
      "source": [
        "print(Fruits.keys)"
      ],
      "metadata": {
        "colab": {
          "base_uri": "https://localhost:8080/"
        },
        "id": "DzcMarUYAi6e",
        "outputId": "0fc47627-5e13-4c28-e981-5305716c5085"
      },
      "execution_count": null,
      "outputs": [
        {
          "output_type": "stream",
          "name": "stdout",
          "text": [
            "<built-in method keys of dict object at 0x7823e461d940>\n"
          ]
        }
      ]
    },
    {
      "cell_type": "code",
      "source": [
        "Fruits[\"Apple\"]"
      ],
      "metadata": {
        "colab": {
          "base_uri": "https://localhost:8080/"
        },
        "id": "JDsyqEv9AxYa",
        "outputId": "e18753e7-bd55-4b72-e421-094f185301b4"
      },
      "execution_count": null,
      "outputs": [
        {
          "output_type": "execute_result",
          "data": {
            "text/plain": [
              "85"
            ]
          },
          "metadata": {},
          "execution_count": 33
        }
      ]
    },
    {
      "cell_type": "markdown",
      "source": [
        "Create a set named 'my_set with values(1,1,\"a\",\"a\",True,True) and print the result."
      ],
      "metadata": {
        "id": "Q1WHK0PKVfZL"
      }
    },
    {
      "cell_type": "code",
      "source": [
        "my_set={1,1,\"a\",\"a\",True,True}"
      ],
      "metadata": {
        "id": "xBksVlmKB5gZ"
      },
      "execution_count": null,
      "outputs": []
    },
    {
      "cell_type": "code",
      "source": [
        "print(my_set)"
      ],
      "metadata": {
        "colab": {
          "base_uri": "https://localhost:8080/"
        },
        "id": "66xhfbbuCVCw",
        "outputId": "addac309-2a18-4521-8eeb-d72fbda47c25"
      },
      "execution_count": null,
      "outputs": [
        {
          "output_type": "stream",
          "name": "stdout",
          "text": [
            "{1, 'a'}\n"
          ]
        }
      ]
    },
    {
      "cell_type": "markdown",
      "source": [
        "Input the values of a and b as 10 and 20 respectively.Now check if a is greater or b is greater.using if condition."
      ],
      "metadata": {
        "id": "WC1jPZ10St2V"
      }
    },
    {
      "cell_type": "markdown",
      "source": [],
      "metadata": {
        "id": "OeIqUjaESty3"
      }
    },
    {
      "cell_type": "code",
      "source": [
        "a=10\n",
        "b=20\n",
        "if a<b:\n",
        " print(\"bis greater\")\n"
      ],
      "metadata": {
        "colab": {
          "base_uri": "https://localhost:8080/"
        },
        "id": "nmmL5p4YPQjH",
        "outputId": "61f6d2ae-4f97-4e0d-b24b-860a16dc5801"
      },
      "execution_count": null,
      "outputs": [
        {
          "output_type": "stream",
          "name": "stdout",
          "text": [
            "bis greater\n"
          ]
        }
      ]
    },
    {
      "cell_type": "markdown",
      "source": [
        "Take three user inputs and print the greatest number from inputs using if-else condition"
      ],
      "metadata": {
        "id": "FcBDdonnSgBM"
      }
    },
    {
      "cell_type": "code",
      "source": [
        "a=int(input(\"enter the valu4e of a\"))\n",
        "b=int(input(\"enter the value of b\"))\n",
        "c=int(input(\"enter the value of c\"))\n",
        "if a>b and a>c:\n",
        "  print(\"a is greater\")\n",
        "elif b>a and b>c:\n",
        "   print(\"b is greater\")\n",
        "else:\n",
        "  print(\"c is greater\")"
      ],
      "metadata": {
        "colab": {
          "base_uri": "https://localhost:8080/"
        },
        "id": "1wvMkNkrQXBQ",
        "outputId": "708e0b99-805d-4b1b-de48-1ea05796adce"
      },
      "execution_count": null,
      "outputs": [
        {
          "output_type": "stream",
          "name": "stdout",
          "text": [
            "enter the valu4e of a12\n",
            "enter the value of b27\n",
            "enter the value of c50\n",
            "c is greater\n"
          ]
        }
      ]
    },
    {
      "cell_type": "markdown",
      "source": [
        "Assignment 3\n",
        "\n",
        "Create a list named ‘myList’ that has the following elements: 10, 20, 30,\n",
        "‘apple’, True, 8.10:\n",
        "a. Now in the ‘myList’, append these values: 30, 40\n",
        "b.After that, reverse the elements of the ‘myList’ and store that in\n",
        "‘reversedList’\n"
      ],
      "metadata": {
        "id": "72f25dv3tFCh"
      }
    },
    {
      "cell_type": "code",
      "source": [
        "mylist=[10,20,30,'apple',True,8.10]"
      ],
      "metadata": {
        "id": "sW--fSF2nHey"
      },
      "execution_count": null,
      "outputs": []
    },
    {
      "cell_type": "code",
      "source": [
        "mylist.append(30)\n",
        "mylist.append(40)\n",
        "print(mylist)"
      ],
      "metadata": {
        "colab": {
          "base_uri": "https://localhost:8080/"
        },
        "id": "AiCNv3JsnQ_5",
        "outputId": "58292af4-07ea-4685-ad95-b888d68b5d6c"
      },
      "execution_count": null,
      "outputs": [
        {
          "output_type": "stream",
          "name": "stdout",
          "text": [
            "[10, 20, 30, 'apple', True, 8.1, 30, 40, 30, 40]\n"
          ]
        }
      ]
    },
    {
      "cell_type": "code",
      "source": [
        "Reversedlist=mylist[::-1]\n",
        "print(Reversedlist)"
      ],
      "metadata": {
        "colab": {
          "base_uri": "https://localhost:8080/"
        },
        "id": "0GxShl5qnr60",
        "outputId": "2b3e08a1-cda3-4f88-8822-fa3125647cba"
      },
      "execution_count": null,
      "outputs": [
        {
          "output_type": "stream",
          "name": "stdout",
          "text": [
            "[40, 30, 40, 30, 8.1, True, 'apple', 30, 20, 10]\n"
          ]
        }
      ]
    },
    {
      "cell_type": "markdown",
      "source": [],
      "metadata": {
        "id": "qRndEdw7tTGG"
      }
    },
    {
      "cell_type": "markdown",
      "source": [
        "2. Create a dictionary with key values as 1, 2, 3 and the values as ‘data’,\n",
        "‘information’ and ‘text’:\n",
        "a. After that, eliminate the ‘text’ value from the dictionary\n",
        "b. Add ‘features’ in the dictionary\n",
        "c. Fetch the ‘data’ element from the dictionary and display it in the output"
      ],
      "metadata": {
        "id": "W2og_pjbtTJM"
      }
    },
    {
      "cell_type": "code",
      "source": [
        "dic={1:'data',2:'information',3:'text'}"
      ],
      "metadata": {
        "id": "Yhwg0v8SoGR4"
      },
      "execution_count": null,
      "outputs": []
    },
    {
      "cell_type": "code",
      "source": [
        "dic.pop(3)"
      ],
      "metadata": {
        "colab": {
          "base_uri": "https://localhost:8080/",
          "height": 36
        },
        "id": "ATLulu36u_6l",
        "outputId": "0134f10d-5403-4202-9a3e-adfd64eca225"
      },
      "execution_count": null,
      "outputs": [
        {
          "output_type": "execute_result",
          "data": {
            "text/plain": [
              "'text'"
            ],
            "application/vnd.google.colaboratory.intrinsic+json": {
              "type": "string"
            }
          },
          "metadata": {},
          "execution_count": 45
        }
      ]
    },
    {
      "cell_type": "code",
      "source": [],
      "metadata": {
        "id": "YuV-WSRivHDr"
      },
      "execution_count": null,
      "outputs": []
    },
    {
      "cell_type": "markdown",
      "source": [
        "3. Create a tuple and add these elements 1, 2, 3, apple, mango in my_tuple.\n",
        "4. Create another tuple named numeric_tuple consisting of only integer\n",
        "values 10, 20, 30, 40, 50:\n",
        "a. Find the minimum value from the numeric_tuple\n",
        "b. Concatenate my_tuple with numeric_tuple and store the result in r1\n",
        "c. Duplicate the tuple named my_tuple 2 times and store that in ‘newdupli’"
      ],
      "metadata": {
        "id": "sZyqG_u6thu-"
      }
    },
    {
      "cell_type": "code",
      "source": [
        "my_tuple=(1,2,3,'apple','mango')"
      ],
      "metadata": {
        "id": "0vEHYOD8pZY4"
      },
      "execution_count": null,
      "outputs": []
    },
    {
      "cell_type": "code",
      "source": [
        "numeric_tuple=(10,20,30,40,50)"
      ],
      "metadata": {
        "id": "EXo3ThoUp0-A"
      },
      "execution_count": null,
      "outputs": []
    },
    {
      "cell_type": "code",
      "source": [
        "min(numeric_tuple)"
      ],
      "metadata": {
        "colab": {
          "base_uri": "https://localhost:8080/"
        },
        "id": "7-97LQ5jp6WC",
        "outputId": "3725889a-8b90-47bb-8ccc-495bf53e4415"
      },
      "execution_count": null,
      "outputs": [
        {
          "output_type": "execute_result",
          "data": {
            "text/plain": [
              "10"
            ]
          },
          "metadata": {},
          "execution_count": 34
        }
      ]
    },
    {
      "cell_type": "code",
      "source": [
        "r1=my_tuple+numeric_tuple\n",
        "print(r1)"
      ],
      "metadata": {
        "colab": {
          "base_uri": "https://localhost:8080/"
        },
        "id": "BOkIRfmPrbZj",
        "outputId": "28ba1483-617f-49b5-85a3-2e280eddb08b"
      },
      "execution_count": null,
      "outputs": [
        {
          "output_type": "stream",
          "name": "stdout",
          "text": [
            "(1, 2, 3, 'apple', 'mango', 10, 20, 30, 40, 50)\n"
          ]
        }
      ]
    },
    {
      "cell_type": "code",
      "source": [
        "newdupli=my_tuple*2\n",
        "print(newdupli)"
      ],
      "metadata": {
        "colab": {
          "base_uri": "https://localhost:8080/"
        },
        "id": "ZSIBZGLer1I-",
        "outputId": "b0a18c9c-7fd7-4441-f1fd-8025eeb85626"
      },
      "execution_count": null,
      "outputs": [
        {
          "output_type": "stream",
          "name": "stdout",
          "text": [
            "(1, 2, 3, 'apple', 'mango', 1, 2, 3, 'apple', 'mango')\n"
          ]
        }
      ]
    },
    {
      "cell_type": "markdown",
      "source": [
        "5. Create 2 sets with the names set1 and set2, where set1 contains\n",
        "{1,2,3,4,5} and set2 contains {2,3,7,6,1}\n",
        "Perform the below operation:\n",
        "\n",
        "a. set1 union set2\n",
        "\n",
        "b. set1 intersection set2\n",
        "\n",
        "c. set1 difference set2"
      ],
      "metadata": {
        "id": "h8oj0gK6trIh"
      }
    },
    {
      "cell_type": "code",
      "source": [
        "set1={1,2,3,4,5}\n",
        "set2={2,3,7,6,1}"
      ],
      "metadata": {
        "id": "J8lO_HHlr9Ee"
      },
      "execution_count": null,
      "outputs": []
    },
    {
      "cell_type": "code",
      "source": [
        "set1.union(set2)"
      ],
      "metadata": {
        "colab": {
          "base_uri": "https://localhost:8080/"
        },
        "id": "GOMhCMGosRbI",
        "outputId": "1b25be96-3a59-414e-8957-9358d0bebcda"
      },
      "execution_count": null,
      "outputs": [
        {
          "output_type": "execute_result",
          "data": {
            "text/plain": [
              "{1, 2, 3, 4, 5, 6, 7}"
            ]
          },
          "metadata": {},
          "execution_count": 40
        }
      ]
    },
    {
      "cell_type": "code",
      "source": [
        "set1.intersection(set2)"
      ],
      "metadata": {
        "colab": {
          "base_uri": "https://localhost:8080/"
        },
        "id": "7Vxhe1WUsZ2K",
        "outputId": "52af1b3f-064a-4a9e-d550-279a3bd2cf96"
      },
      "execution_count": null,
      "outputs": [
        {
          "output_type": "execute_result",
          "data": {
            "text/plain": [
              "{1, 2, 3}"
            ]
          },
          "metadata": {},
          "execution_count": 42
        }
      ]
    },
    {
      "cell_type": "code",
      "source": [
        "set1.difference(set2)"
      ],
      "metadata": {
        "colab": {
          "base_uri": "https://localhost:8080/"
        },
        "id": "SHifDtjbslPw",
        "outputId": "eb246636-a285-460b-f103-bc9480c43e9f"
      },
      "execution_count": null,
      "outputs": [
        {
          "output_type": "execute_result",
          "data": {
            "text/plain": [
              "{4, 5}"
            ]
          },
          "metadata": {},
          "execution_count": 43
        }
      ]
    },
    {
      "cell_type": "markdown",
      "source": [
        "1. Create a 3x3 matrix array with values ranging from 2 to 10.\n"
      ],
      "metadata": {
        "id": "q_GtEptNzko3"
      }
    },
    {
      "cell_type": "code",
      "source": [
        "import numpy as np\n",
        "a=np.random.randint(2,10,(3,3))\n",
        "print(a)"
      ],
      "metadata": {
        "colab": {
          "base_uri": "https://localhost:8080/"
        },
        "id": "NICt4C8RzaO-",
        "outputId": "e1a361fc-404d-4229-cadf-d19f3ffd8024"
      },
      "execution_count": null,
      "outputs": [
        {
          "output_type": "stream",
          "name": "stdout",
          "text": [
            "[[8 4 5]\n",
            " [6 3 4]\n",
            " [4 9 5]]\n"
          ]
        }
      ]
    },
    {
      "cell_type": "markdown",
      "source": [
        "2. Create a NumPy array having user input values and convert the integer\n",
        "type to the float type of the elements of the array. For instance: Original\n",
        "array [1, 2, 3, 4] Array converted to a float type: [ 1. 2. 3. 4.]"
      ],
      "metadata": {
        "id": "8xk16jGO0HMs"
      }
    },
    {
      "cell_type": "code",
      "source": [
        "array=int(input(\"enter the value of array\"))\n",
        "array=array.split()"
      ],
      "metadata": {
        "colab": {
          "base_uri": "https://localhost:8080/",
          "height": 176
        },
        "id": "5I_3jbrW0Gyk",
        "outputId": "6b299fee-b90e-4aa9-9cd3-dbfefd54edb3"
      },
      "execution_count": null,
      "outputs": [
        {
          "name": "stdout",
          "output_type": "stream",
          "text": [
            "enter the value of array1 2 3 4\n"
          ]
        },
        {
          "output_type": "error",
          "ename": "ValueError",
          "evalue": "invalid literal for int() with base 10: '1 2 3 4'",
          "traceback": [
            "\u001b[0;31m---------------------------------------------------------------------------\u001b[0m",
            "\u001b[0;31mValueError\u001b[0m                                Traceback (most recent call last)",
            "\u001b[0;32m<ipython-input-6-a92c9128699e>\u001b[0m in \u001b[0;36m<cell line: 0>\u001b[0;34m()\u001b[0m\n\u001b[0;32m----> 1\u001b[0;31m \u001b[0marray\u001b[0m\u001b[0;34m=\u001b[0m\u001b[0mint\u001b[0m\u001b[0;34m(\u001b[0m\u001b[0minput\u001b[0m\u001b[0;34m(\u001b[0m\u001b[0;34m\"enter the value of array\"\u001b[0m\u001b[0;34m)\u001b[0m\u001b[0;34m)\u001b[0m\u001b[0;34m\u001b[0m\u001b[0;34m\u001b[0m\u001b[0m\n\u001b[0m\u001b[1;32m      2\u001b[0m \u001b[0marray\u001b[0m\u001b[0;34m=\u001b[0m\u001b[0marray\u001b[0m\u001b[0;34m.\u001b[0m\u001b[0msplit\u001b[0m\u001b[0;34m(\u001b[0m\u001b[0;34m)\u001b[0m\u001b[0;34m\u001b[0m\u001b[0;34m\u001b[0m\u001b[0m\n",
            "\u001b[0;31mValueError\u001b[0m: invalid literal for int() with base 10: '1 2 3 4'"
          ]
        }
      ]
    },
    {
      "cell_type": "markdown",
      "source": [
        "3. Write a NumPy program to append values to the end of an array. For\n",
        "instance: Original array: [10, 20, 30] . After that, append values to the end\n",
        "of the array: [10 20 30 40 50 60 70 80 90]\n"
      ],
      "metadata": {
        "id": "OH5jhdtd1QgF"
      }
    },
    {
      "cell_type": "markdown",
      "source": [],
      "metadata": {
        "id": "kODWOjnb0ICy"
      }
    },
    {
      "cell_type": "code",
      "source": [
        "original_array=np.array([10,20,30])\n",
        "new_array=[40,50,50,70,80,90]"
      ],
      "metadata": {
        "id": "Pn6YOa1b1TAQ"
      },
      "execution_count": null,
      "outputs": []
    },
    {
      "cell_type": "code",
      "source": [
        "np.append(original_array,new_array)"
      ],
      "metadata": {
        "colab": {
          "base_uri": "https://localhost:8080/"
        },
        "id": "ZHzrT8eI1cxx",
        "outputId": "33caadd8-90ff-47e1-ee62-013a9cbf0fc6"
      },
      "execution_count": null,
      "outputs": [
        {
          "output_type": "execute_result",
          "data": {
            "text/plain": [
              "array([10, 20, 30, 40, 50, 50, 70, 80, 90])"
            ]
          },
          "metadata": {},
          "execution_count": 12
        }
      ]
    },
    {
      "cell_type": "markdown",
      "source": [
        "4. Create two NumPy arrays and add the elements of both the arrays and\n",
        "store the result in sumArray."
      ],
      "metadata": {
        "id": "z7nBOQ4w2Xyz"
      }
    },
    {
      "cell_type": "code",
      "source": [
        "a1=np.array([[1,2,3],[2,3,4]])\n",
        "a2=np.array([[5,7,9],[4,7,8]])\n",
        "sum_array=a1+a2\n",
        "print(sum_array)"
      ],
      "metadata": {
        "colab": {
          "base_uri": "https://localhost:8080/"
        },
        "id": "Z7bGn1St2aAe",
        "outputId": "8aa6fe03-be28-4ad8-efa6-a49e2c13be1d"
      },
      "execution_count": null,
      "outputs": [
        {
          "output_type": "stream",
          "name": "stdout",
          "text": [
            "[[ 6  9 12]\n",
            " [ 6 10 12]]\n"
          ]
        }
      ]
    },
    {
      "cell_type": "markdown",
      "source": [
        "5.Create a 3x3 array having values from 10-90 (interval of 10) and store that\n",
        "in array1\n",
        "Perform the following tasks:\n",
        "a. Extract the 1st row from the array\n",
        "b. Extract the last element from the array"
      ],
      "metadata": {
        "id": "hfR8NyLG3Ix4"
      }
    },
    {
      "cell_type": "code",
      "source": [
        "array1=np.arange(10,91,10)\n",
        "array1.shape=(3,3)\n",
        "print(array1)"
      ],
      "metadata": {
        "colab": {
          "base_uri": "https://localhost:8080/"
        },
        "id": "jMZqA7uZ3KGx",
        "outputId": "e6688551-344b-4267-a545-c3a271c143ad"
      },
      "execution_count": null,
      "outputs": [
        {
          "output_type": "stream",
          "name": "stdout",
          "text": [
            "[[10 20 30]\n",
            " [40 50 60]\n",
            " [70 80 90]]\n"
          ]
        }
      ]
    },
    {
      "cell_type": "code",
      "source": [
        "array1[0]"
      ],
      "metadata": {
        "colab": {
          "base_uri": "https://localhost:8080/"
        },
        "id": "TV5Ce5JF4AMe",
        "outputId": "31721df3-ff77-4580-8f04-641417233521"
      },
      "execution_count": null,
      "outputs": [
        {
          "output_type": "execute_result",
          "data": {
            "text/plain": [
              "array([10, 20, 30])"
            ]
          },
          "metadata": {},
          "execution_count": 25
        }
      ]
    },
    {
      "cell_type": "code",
      "source": [
        "array1[2: ,0 :]"
      ],
      "metadata": {
        "colab": {
          "base_uri": "https://localhost:8080/"
        },
        "id": "OVySJs0s5Lvn",
        "outputId": "c5f3ea2e-e93c-4fc3-b3ae-9afcb3814f2b"
      },
      "execution_count": null,
      "outputs": [
        {
          "output_type": "execute_result",
          "data": {
            "text/plain": [
              "array([[70, 80, 90]])"
            ]
          },
          "metadata": {},
          "execution_count": 27
        }
      ]
    }
  ]
}