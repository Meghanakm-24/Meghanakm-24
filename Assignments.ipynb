{
  "nbformat": 4,
  "nbformat_minor": 0,
  "metadata": {
    "colab": {
      "provenance": [],
      "authorship_tag": "ABX9TyOQoM2OI9CFpPj/4opJRO4G",
      "include_colab_link": true
    },
    "kernelspec": {
      "name": "python3",
      "display_name": "Python 3"
    },
    "language_info": {
      "name": "python"
    }
  },
  "cells": [
    {
      "cell_type": "markdown",
      "metadata": {
        "id": "view-in-github",
        "colab_type": "text"
      },
      "source": [
        "<a href=\"https://colab.research.google.com/github/Meghanakm-24/Python-files/blob/main/Assignments.ipynb\" target=\"_parent\"><img src=\"https://colab.research.google.com/assets/colab-badge.svg\" alt=\"Open In Colab\"/></a>"
      ]
    },
    {
      "cell_type": "code",
      "source": [
        "A=12\n",
        "B=20\n",
        "B=A\n",
        "print(B)"
      ],
      "metadata": {
        "colab": {
          "base_uri": "https://localhost:8080/"
        },
        "id": "LWfTyB0WK9Jp",
        "outputId": "cac5f467-b6a4-4d0c-9249-88655e261868"
      },
      "execution_count": null,
      "outputs": [
        {
          "output_type": "stream",
          "name": "stdout",
          "text": [
            "12\n"
          ]
        }
      ]
    },
    {
      "cell_type": "code",
      "source": [
        "Class=\"Python batch\""
      ],
      "metadata": {
        "id": "XaVQm79fLu0L"
      },
      "execution_count": null,
      "outputs": []
    },
    {
      "cell_type": "code",
      "source": [
        "Class.lower()"
      ],
      "metadata": {
        "colab": {
          "base_uri": "https://localhost:8080/",
          "height": 36
        },
        "id": "eIyyHSNRMCt-",
        "outputId": "2c848832-acd2-4379-bf5c-89cc3ad360ad"
      },
      "execution_count": null,
      "outputs": [
        {
          "output_type": "execute_result",
          "data": {
            "text/plain": [
              "'python batch'"
            ],
            "application/vnd.google.colaboratory.intrinsic+json": {
              "type": "string"
            }
          },
          "metadata": {},
          "execution_count": 8
        }
      ]
    },
    {
      "cell_type": "code",
      "source": [
        "Class.upper()"
      ],
      "metadata": {
        "colab": {
          "base_uri": "https://localhost:8080/",
          "height": 36
        },
        "id": "HjnoAN5BMobV",
        "outputId": "8e593f3d-97a7-4f23-e732-f535ff1669d9"
      },
      "execution_count": null,
      "outputs": [
        {
          "output_type": "execute_result",
          "data": {
            "text/plain": [
              "'PYTHON BATCH'"
            ],
            "application/vnd.google.colaboratory.intrinsic+json": {
              "type": "string"
            }
          },
          "metadata": {},
          "execution_count": 9
        }
      ]
    },
    {
      "cell_type": "code",
      "source": [
        "Class.title()"
      ],
      "metadata": {
        "colab": {
          "base_uri": "https://localhost:8080/",
          "height": 36
        },
        "id": "c8XUx2t9MsFA",
        "outputId": "1823b3be-8f96-48bb-a352-c9e64dfa4e56"
      },
      "execution_count": null,
      "outputs": [
        {
          "output_type": "execute_result",
          "data": {
            "text/plain": [
              "'Python Batch'"
            ],
            "application/vnd.google.colaboratory.intrinsic+json": {
              "type": "string"
            }
          },
          "metadata": {},
          "execution_count": 10
        }
      ]
    },
    {
      "cell_type": "code",
      "source": [
        "Class.capitalize()"
      ],
      "metadata": {
        "colab": {
          "base_uri": "https://localhost:8080/",
          "height": 36
        },
        "id": "at8-YyGKMxp6",
        "outputId": "58a6d169-8827-4656-9691-1ee7e4038802"
      },
      "execution_count": null,
      "outputs": [
        {
          "output_type": "execute_result",
          "data": {
            "text/plain": [
              "'Python batch'"
            ],
            "application/vnd.google.colaboratory.intrinsic+json": {
              "type": "string"
            }
          },
          "metadata": {},
          "execution_count": 11
        }
      ]
    },
    {
      "cell_type": "code",
      "source": [
        "Class.swapcase()"
      ],
      "metadata": {
        "colab": {
          "base_uri": "https://localhost:8080/",
          "height": 36
        },
        "id": "hZkAmI8BM4ML",
        "outputId": "acd1acb1-2005-4c37-80a8-0f2d8c4d3756"
      },
      "execution_count": null,
      "outputs": [
        {
          "output_type": "execute_result",
          "data": {
            "text/plain": [
              "'pYTHON BATCH'"
            ],
            "application/vnd.google.colaboratory.intrinsic+json": {
              "type": "string"
            }
          },
          "metadata": {},
          "execution_count": 12
        }
      ]
    },
    {
      "cell_type": "code",
      "source": [
        "Class.isalpha()"
      ],
      "metadata": {
        "colab": {
          "base_uri": "https://localhost:8080/"
        },
        "id": "GRYD6reVM-rp",
        "outputId": "0f221499-2854-4035-e6c7-6e4fce139d87"
      },
      "execution_count": null,
      "outputs": [
        {
          "output_type": "execute_result",
          "data": {
            "text/plain": [
              "False"
            ]
          },
          "metadata": {},
          "execution_count": 15
        }
      ]
    },
    {
      "cell_type": "code",
      "source": [
        "Class.isalnum()"
      ],
      "metadata": {
        "colab": {
          "base_uri": "https://localhost:8080/"
        },
        "id": "0K2JHHX5NIz9",
        "outputId": "8b8e6c34-ca70-48ac-b05c-bc24d990b9ca"
      },
      "execution_count": null,
      "outputs": [
        {
          "output_type": "execute_result",
          "data": {
            "text/plain": [
              "False"
            ]
          },
          "metadata": {},
          "execution_count": 17
        }
      ]
    },
    {
      "cell_type": "code",
      "source": [
        "X=15\n",
        "print(X)\n",
        "type(X)"
      ],
      "metadata": {
        "id": "PfyTzTnBTshz",
        "colab": {
          "base_uri": "https://localhost:8080/"
        },
        "outputId": "9df3c3a8-4a3e-40be-b21f-8f901b79bb07"
      },
      "execution_count": null,
      "outputs": [
        {
          "output_type": "stream",
          "name": "stdout",
          "text": [
            "15\n"
          ]
        },
        {
          "output_type": "execute_result",
          "data": {
            "text/plain": [
              "int"
            ]
          },
          "metadata": {},
          "execution_count": 4
        }
      ]
    },
    {
      "cell_type": "code",
      "source": [
        "Class=\"Python batch\""
      ],
      "metadata": {
        "id": "FZ0Wr1UASliW"
      },
      "execution_count": null,
      "outputs": []
    },
    {
      "cell_type": "code",
      "source": [
        "Class.startswith(\"P\")"
      ],
      "metadata": {
        "colab": {
          "base_uri": "https://localhost:8080/"
        },
        "id": "wn_zpG7aUvjv",
        "outputId": "d20eb728-3d4b-464e-fff2-0adaa68bf7eb"
      },
      "execution_count": null,
      "outputs": [
        {
          "output_type": "execute_result",
          "data": {
            "text/plain": [
              "True"
            ]
          },
          "metadata": {},
          "execution_count": 12
        }
      ]
    },
    {
      "cell_type": "code",
      "source": [
        "X=int(input(\"Enter value of X\"))"
      ],
      "metadata": {
        "id": "1s_mDEC8ZvoK"
      },
      "execution_count": null,
      "outputs": []
    },
    {
      "cell_type": "markdown",
      "source": [
        "create a tuple with values (10,20,30),and 2nd tuple with values(40,50,60) and concatinate the two tuples and store it in t_combine."
      ],
      "metadata": {
        "id": "3snax3rITLnv"
      }
    },
    {
      "cell_type": "code",
      "source": [
        "A=(10,20,30)\n",
        "B=(40,50,60)\n",
        "t_combine= A+B\n",
        "print(t_combine)"
      ],
      "metadata": {
        "colab": {
          "base_uri": "https://localhost:8080/"
        },
        "id": "pYtJdMXje1Qx",
        "outputId": "3d7aef2c-baa8-468a-fa6a-665c82fbbebb"
      },
      "execution_count": null,
      "outputs": [
        {
          "output_type": "stream",
          "name": "stdout",
          "text": [
            "(10, 20, '30', 40, 50, 60)\n"
          ]
        }
      ]
    },
    {
      "cell_type": "markdown",
      "source": [
        "Access the third element from t_combine."
      ],
      "metadata": {
        "id": "RvHtBhe2Trj6"
      }
    },
    {
      "cell_type": "code",
      "source": [
        "t_combine[2]"
      ],
      "metadata": {
        "colab": {
          "base_uri": "https://localhost:8080/",
          "height": 36
        },
        "id": "AnJ3vI9l8Z1E",
        "outputId": "eedda260-8e15-4590-b871-0035c6963a35"
      },
      "execution_count": null,
      "outputs": [
        {
          "output_type": "execute_result",
          "data": {
            "text/plain": [
              "'30'"
            ],
            "application/vnd.google.colaboratory.intrinsic+json": {
              "type": "string"
            }
          },
          "metadata": {},
          "execution_count": 8
        }
      ]
    },
    {
      "cell_type": "markdown",
      "source": [
        "Access the first three elments from t_combine."
      ],
      "metadata": {
        "id": "PtE919FdTxFC"
      }
    },
    {
      "cell_type": "code",
      "source": [
        "t_combine[0:3]"
      ],
      "metadata": {
        "colab": {
          "base_uri": "https://localhost:8080/"
        },
        "id": "6-shP0Gl9ZPU",
        "outputId": "00dbafa8-91a5-4583-a1be-077e572ff511"
      },
      "execution_count": null,
      "outputs": [
        {
          "output_type": "execute_result",
          "data": {
            "text/plain": [
              "(10, 20, '30')"
            ]
          },
          "metadata": {},
          "execution_count": 9
        }
      ]
    },
    {
      "cell_type": "markdown",
      "source": [
        "Acces the last elements from t_combine."
      ],
      "metadata": {
        "id": "20Fk0yR5T3QM"
      }
    },
    {
      "cell_type": "code",
      "source": [
        "t_combine[3:]"
      ],
      "metadata": {
        "colab": {
          "base_uri": "https://localhost:8080/"
        },
        "id": "k5RbdNNK9udW",
        "outputId": "9b5d0fee-ee61-4c82-d07b-440b533c726d"
      },
      "execution_count": null,
      "outputs": [
        {
          "output_type": "execute_result",
          "data": {
            "text/plain": [
              "(40, 50, 60)"
            ]
          },
          "metadata": {},
          "execution_count": 10
        }
      ]
    },
    {
      "cell_type": "markdown",
      "source": [
        "Create a list my_list with elements\n",
        "a. First element is a tuple with values 1,2,3.\n",
        "b. Second element is a tuple with values \"a\",\"b\",\"c\".\n",
        "c. Third element is a tuple with with values True ,False."
      ],
      "metadata": {
        "id": "KFRL3T6-T9PX"
      }
    },
    {
      "cell_type": "code",
      "source": [
        "my_list=[(1,2,3),\n",
        "        (\"a\",\"b\",\"c\"),\n",
        "        (True,False)]"
      ],
      "metadata": {
        "id": "nNP46raB-DD7"
      },
      "execution_count": null,
      "outputs": []
    },
    {
      "cell_type": "markdown",
      "source": [
        "Append a new tuple (1,'a',True) to my_list."
      ],
      "metadata": {
        "id": "KiP7DLfbUeey"
      }
    },
    {
      "cell_type": "code",
      "source": [
        "my_list.append((1,'a',True))"
      ],
      "metadata": {
        "id": "m8R_ZgWM-wZn"
      },
      "execution_count": null,
      "outputs": []
    },
    {
      "cell_type": "code",
      "source": [
        "print(my_list)"
      ],
      "metadata": {
        "colab": {
          "base_uri": "https://localhost:8080/"
        },
        "id": "GR25ezCc-_49",
        "outputId": "fdf24619-38bd-4b45-cc76-e4a48e6f74da"
      },
      "execution_count": null,
      "outputs": [
        {
          "output_type": "stream",
          "name": "stdout",
          "text": [
            "[(1, 2, 3), ('a', 'b', 'c'), (True, False), (1, 'a', True)]\n"
          ]
        }
      ]
    },
    {
      "cell_type": "markdown",
      "source": [
        "Append a new list \"sparta,123 to my_list."
      ],
      "metadata": {
        "id": "9T8694D8Upsd"
      }
    },
    {
      "cell_type": "code",
      "source": [
        "my_list.append([\"sparta\", 123])"
      ],
      "metadata": {
        "id": "AMjRaiNm_Guf"
      },
      "execution_count": null,
      "outputs": []
    },
    {
      "cell_type": "code",
      "source": [
        "print(my_list)"
      ],
      "metadata": {
        "colab": {
          "base_uri": "https://localhost:8080/"
        },
        "id": "msEF2GSE_UsA",
        "outputId": "44682dae-499f-445d-e676-7ddb569c9ecd"
      },
      "execution_count": null,
      "outputs": [
        {
          "output_type": "stream",
          "name": "stdout",
          "text": [
            "[(1, 2, 3), ('a', 'b', 'c'), (True, False), (1, 'a', True), ['sparta', 123]]\n"
          ]
        }
      ]
    },
    {
      "cell_type": "markdown",
      "source": [
        "Create a dictionary 'Fruit' where\n",
        "a. The first key is 'Fruit' and the values are(\"Apple\",\"Banana\",\"Mango\",\"Guava\")\n",
        "b. The second key is 'Cost' and the vaules are(85,54,120,70)\n",
        "c. Exteract all the keys from 'Fruit'\n",
        "d. Extract all the keys from 'cost'."
      ],
      "metadata": {
        "id": "2pswxitvUzHa"
      }
    },
    {
      "cell_type": "code",
      "source": [
        "Fruits={\"Apple\":85,\"Banana\":54,\"Mango\":120,\"Guava\":70}"
      ],
      "metadata": {
        "id": "og-QOlGV_c7q"
      },
      "execution_count": null,
      "outputs": []
    },
    {
      "cell_type": "code",
      "source": [
        "print(Fruits.keys)"
      ],
      "metadata": {
        "colab": {
          "base_uri": "https://localhost:8080/"
        },
        "id": "DzcMarUYAi6e",
        "outputId": "0fc47627-5e13-4c28-e981-5305716c5085"
      },
      "execution_count": null,
      "outputs": [
        {
          "output_type": "stream",
          "name": "stdout",
          "text": [
            "<built-in method keys of dict object at 0x7823e461d940>\n"
          ]
        }
      ]
    },
    {
      "cell_type": "code",
      "source": [
        "Fruits[\"Apple\"]"
      ],
      "metadata": {
        "colab": {
          "base_uri": "https://localhost:8080/"
        },
        "id": "JDsyqEv9AxYa",
        "outputId": "e18753e7-bd55-4b72-e421-094f185301b4"
      },
      "execution_count": null,
      "outputs": [
        {
          "output_type": "execute_result",
          "data": {
            "text/plain": [
              "85"
            ]
          },
          "metadata": {},
          "execution_count": 33
        }
      ]
    },
    {
      "cell_type": "markdown",
      "source": [
        "Create a set named 'my_set with values(1,1,\"a\",\"a\",True,True) and print the result."
      ],
      "metadata": {
        "id": "Q1WHK0PKVfZL"
      }
    },
    {
      "cell_type": "code",
      "source": [
        "my_set={1,1,\"a\",\"a\",True,True}"
      ],
      "metadata": {
        "id": "xBksVlmKB5gZ"
      },
      "execution_count": null,
      "outputs": []
    },
    {
      "cell_type": "code",
      "source": [
        "print(my_set)"
      ],
      "metadata": {
        "colab": {
          "base_uri": "https://localhost:8080/"
        },
        "id": "66xhfbbuCVCw",
        "outputId": "addac309-2a18-4521-8eeb-d72fbda47c25"
      },
      "execution_count": null,
      "outputs": [
        {
          "output_type": "stream",
          "name": "stdout",
          "text": [
            "{1, 'a'}\n"
          ]
        }
      ]
    },
    {
      "cell_type": "markdown",
      "source": [
        "Input the values of a and b as 10 and 20 respectively.Now check if a is greater or b is greater.using if condition."
      ],
      "metadata": {
        "id": "WC1jPZ10St2V"
      }
    },
    {
      "cell_type": "markdown",
      "source": [],
      "metadata": {
        "id": "OeIqUjaESty3"
      }
    },
    {
      "cell_type": "code",
      "source": [
        "a=10\n",
        "b=20\n",
        "if a<b:\n",
        " print(\"bis greater\")\n"
      ],
      "metadata": {
        "colab": {
          "base_uri": "https://localhost:8080/"
        },
        "id": "nmmL5p4YPQjH",
        "outputId": "61f6d2ae-4f97-4e0d-b24b-860a16dc5801"
      },
      "execution_count": null,
      "outputs": [
        {
          "output_type": "stream",
          "name": "stdout",
          "text": [
            "bis greater\n"
          ]
        }
      ]
    },
    {
      "cell_type": "markdown",
      "source": [
        "Take three user inputs and print the greatest number from inputs using if-else condition"
      ],
      "metadata": {
        "id": "FcBDdonnSgBM"
      }
    },
    {
      "cell_type": "code",
      "source": [
        "a=int(input(\"enter the valu4e of a\"))\n",
        "b=int(input(\"enter the value of b\"))\n",
        "c=int(input(\"enter the value of c\"))\n",
        "if a>b and a>c:\n",
        "  print(\"a is greater\")\n",
        "elif b>a and b>c:\n",
        "   print(\"b is greater\")\n",
        "else:\n",
        "  print(\"c is greater\")"
      ],
      "metadata": {
        "colab": {
          "base_uri": "https://localhost:8080/"
        },
        "id": "1wvMkNkrQXBQ",
        "outputId": "708e0b99-805d-4b1b-de48-1ea05796adce"
      },
      "execution_count": null,
      "outputs": [
        {
          "output_type": "stream",
          "name": "stdout",
          "text": [
            "enter the valu4e of a12\n",
            "enter the value of b27\n",
            "enter the value of c50\n",
            "c is greater\n"
          ]
        }
      ]
    },
    {
      "cell_type": "markdown",
      "source": [
        "Assignment 3\n",
        "\n",
        "Create a list named ‘myList’ that has the following elements: 10, 20, 30,\n",
        "‘apple’, True, 8.10:\n",
        "a. Now in the ‘myList’, append these values: 30, 40\n",
        "b.After that, reverse the elements of the ‘myList’ and store that in\n",
        "‘reversedList’\n"
      ],
      "metadata": {
        "id": "72f25dv3tFCh"
      }
    },
    {
      "cell_type": "code",
      "source": [
        "mylist=[10,20,30,'apple',True,8.10]"
      ],
      "metadata": {
        "id": "sW--fSF2nHey"
      },
      "execution_count": null,
      "outputs": []
    },
    {
      "cell_type": "code",
      "source": [
        "mylist.append(30)\n",
        "mylist.append(40)\n",
        "print(mylist)"
      ],
      "metadata": {
        "colab": {
          "base_uri": "https://localhost:8080/"
        },
        "id": "AiCNv3JsnQ_5",
        "outputId": "58292af4-07ea-4685-ad95-b888d68b5d6c"
      },
      "execution_count": null,
      "outputs": [
        {
          "output_type": "stream",
          "name": "stdout",
          "text": [
            "[10, 20, 30, 'apple', True, 8.1, 30, 40, 30, 40]\n"
          ]
        }
      ]
    },
    {
      "cell_type": "code",
      "source": [
        "Reversedlist=mylist[::-1]\n",
        "print(Reversedlist)"
      ],
      "metadata": {
        "colab": {
          "base_uri": "https://localhost:8080/"
        },
        "id": "0GxShl5qnr60",
        "outputId": "2b3e08a1-cda3-4f88-8822-fa3125647cba"
      },
      "execution_count": null,
      "outputs": [
        {
          "output_type": "stream",
          "name": "stdout",
          "text": [
            "[40, 30, 40, 30, 8.1, True, 'apple', 30, 20, 10]\n"
          ]
        }
      ]
    },
    {
      "cell_type": "markdown",
      "source": [],
      "metadata": {
        "id": "qRndEdw7tTGG"
      }
    },
    {
      "cell_type": "markdown",
      "source": [
        "2. Create a dictionary with key values as 1, 2, 3 and the values as ‘data’,\n",
        "‘information’ and ‘text’:\n",
        "a. After that, eliminate the ‘text’ value from the dictionary\n",
        "b. Add ‘features’ in the dictionary\n",
        "c. Fetch the ‘data’ element from the dictionary and display it in the output"
      ],
      "metadata": {
        "id": "W2og_pjbtTJM"
      }
    },
    {
      "cell_type": "code",
      "source": [
        "dic={1:'data',2:'information',3:'text'}"
      ],
      "metadata": {
        "id": "Yhwg0v8SoGR4"
      },
      "execution_count": null,
      "outputs": []
    },
    {
      "cell_type": "code",
      "source": [
        "dic.pop(3)"
      ],
      "metadata": {
        "colab": {
          "base_uri": "https://localhost:8080/",
          "height": 36
        },
        "id": "ATLulu36u_6l",
        "outputId": "0134f10d-5403-4202-9a3e-adfd64eca225"
      },
      "execution_count": null,
      "outputs": [
        {
          "output_type": "execute_result",
          "data": {
            "text/plain": [
              "'text'"
            ],
            "application/vnd.google.colaboratory.intrinsic+json": {
              "type": "string"
            }
          },
          "metadata": {},
          "execution_count": 45
        }
      ]
    },
    {
      "cell_type": "code",
      "source": [],
      "metadata": {
        "id": "YuV-WSRivHDr"
      },
      "execution_count": null,
      "outputs": []
    },
    {
      "cell_type": "markdown",
      "source": [
        "3. Create a tuple and add these elements 1, 2, 3, apple, mango in my_tuple.\n",
        "4. Create another tuple named numeric_tuple consisting of only integer\n",
        "values 10, 20, 30, 40, 50:\n",
        "a. Find the minimum value from the numeric_tuple\n",
        "b. Concatenate my_tuple with numeric_tuple and store the result in r1\n",
        "c. Duplicate the tuple named my_tuple 2 times and store that in ‘newdupli’"
      ],
      "metadata": {
        "id": "sZyqG_u6thu-"
      }
    },
    {
      "cell_type": "code",
      "source": [
        "my_tuple=(1,2,3,'apple','mango')"
      ],
      "metadata": {
        "id": "0vEHYOD8pZY4"
      },
      "execution_count": null,
      "outputs": []
    },
    {
      "cell_type": "code",
      "source": [
        "numeric_tuple=(10,20,30,40,50)"
      ],
      "metadata": {
        "id": "EXo3ThoUp0-A"
      },
      "execution_count": null,
      "outputs": []
    },
    {
      "cell_type": "code",
      "source": [
        "min(numeric_tuple)"
      ],
      "metadata": {
        "colab": {
          "base_uri": "https://localhost:8080/"
        },
        "id": "7-97LQ5jp6WC",
        "outputId": "3725889a-8b90-47bb-8ccc-495bf53e4415"
      },
      "execution_count": null,
      "outputs": [
        {
          "output_type": "execute_result",
          "data": {
            "text/plain": [
              "10"
            ]
          },
          "metadata": {},
          "execution_count": 34
        }
      ]
    },
    {
      "cell_type": "code",
      "source": [
        "r1=my_tuple+numeric_tuple\n",
        "print(r1)"
      ],
      "metadata": {
        "colab": {
          "base_uri": "https://localhost:8080/"
        },
        "id": "BOkIRfmPrbZj",
        "outputId": "28ba1483-617f-49b5-85a3-2e280eddb08b"
      },
      "execution_count": null,
      "outputs": [
        {
          "output_type": "stream",
          "name": "stdout",
          "text": [
            "(1, 2, 3, 'apple', 'mango', 10, 20, 30, 40, 50)\n"
          ]
        }
      ]
    },
    {
      "cell_type": "code",
      "source": [
        "newdupli=my_tuple*2\n",
        "print(newdupli)"
      ],
      "metadata": {
        "colab": {
          "base_uri": "https://localhost:8080/"
        },
        "id": "ZSIBZGLer1I-",
        "outputId": "b0a18c9c-7fd7-4441-f1fd-8025eeb85626"
      },
      "execution_count": null,
      "outputs": [
        {
          "output_type": "stream",
          "name": "stdout",
          "text": [
            "(1, 2, 3, 'apple', 'mango', 1, 2, 3, 'apple', 'mango')\n"
          ]
        }
      ]
    },
    {
      "cell_type": "markdown",
      "source": [
        "5. Create 2 sets with the names set1 and set2, where set1 contains\n",
        "{1,2,3,4,5} and set2 contains {2,3,7,6,1}\n",
        "Perform the below operation:\n",
        "\n",
        "a. set1 union set2\n",
        "\n",
        "b. set1 intersection set2\n",
        "\n",
        "c. set1 difference set2"
      ],
      "metadata": {
        "id": "h8oj0gK6trIh"
      }
    },
    {
      "cell_type": "code",
      "source": [
        "set1={1,2,3,4,5}\n",
        "set2={2,3,7,6,1}"
      ],
      "metadata": {
        "id": "J8lO_HHlr9Ee"
      },
      "execution_count": null,
      "outputs": []
    },
    {
      "cell_type": "code",
      "source": [
        "set1.union(set2)"
      ],
      "metadata": {
        "colab": {
          "base_uri": "https://localhost:8080/"
        },
        "id": "GOMhCMGosRbI",
        "outputId": "1b25be96-3a59-414e-8957-9358d0bebcda"
      },
      "execution_count": null,
      "outputs": [
        {
          "output_type": "execute_result",
          "data": {
            "text/plain": [
              "{1, 2, 3, 4, 5, 6, 7}"
            ]
          },
          "metadata": {},
          "execution_count": 40
        }
      ]
    },
    {
      "cell_type": "code",
      "source": [
        "set1.intersection(set2)"
      ],
      "metadata": {
        "colab": {
          "base_uri": "https://localhost:8080/"
        },
        "id": "7Vxhe1WUsZ2K",
        "outputId": "52af1b3f-064a-4a9e-d550-279a3bd2cf96"
      },
      "execution_count": null,
      "outputs": [
        {
          "output_type": "execute_result",
          "data": {
            "text/plain": [
              "{1, 2, 3}"
            ]
          },
          "metadata": {},
          "execution_count": 42
        }
      ]
    },
    {
      "cell_type": "code",
      "source": [
        "set1.difference(set2)"
      ],
      "metadata": {
        "colab": {
          "base_uri": "https://localhost:8080/"
        },
        "id": "SHifDtjbslPw",
        "outputId": "eb246636-a285-460b-f103-bc9480c43e9f"
      },
      "execution_count": null,
      "outputs": [
        {
          "output_type": "execute_result",
          "data": {
            "text/plain": [
              "{4, 5}"
            ]
          },
          "metadata": {},
          "execution_count": 43
        }
      ]
    },
    {
      "cell_type": "markdown",
      "source": [
        "1. Create a 3x3 matrix array with values ranging from 2 to 10.\n"
      ],
      "metadata": {
        "id": "q_GtEptNzko3"
      }
    },
    {
      "cell_type": "code",
      "source": [
        "import numpy as np\n",
        "a=np.random.randint(2,10,(3,3))\n",
        "print(a)"
      ],
      "metadata": {
        "colab": {
          "base_uri": "https://localhost:8080/"
        },
        "id": "NICt4C8RzaO-",
        "outputId": "e1a361fc-404d-4229-cadf-d19f3ffd8024"
      },
      "execution_count": null,
      "outputs": [
        {
          "output_type": "stream",
          "name": "stdout",
          "text": [
            "[[8 4 5]\n",
            " [6 3 4]\n",
            " [4 9 5]]\n"
          ]
        }
      ]
    },
    {
      "cell_type": "markdown",
      "source": [
        "2. Create a NumPy array having user input values and convert the integer\n",
        "type to the float type of the elements of the array. For instance: Original\n",
        "array [1, 2, 3, 4] Array converted to a float type: [ 1. 2. 3. 4.]"
      ],
      "metadata": {
        "id": "8xk16jGO0HMs"
      }
    },
    {
      "cell_type": "code",
      "source": [
        "array=int(input(\"enter the value of array\"))\n",
        "array=array.split()"
      ],
      "metadata": {
        "colab": {
          "base_uri": "https://localhost:8080/",
          "height": 176
        },
        "id": "5I_3jbrW0Gyk",
        "outputId": "6b299fee-b90e-4aa9-9cd3-dbfefd54edb3"
      },
      "execution_count": null,
      "outputs": [
        {
          "name": "stdout",
          "output_type": "stream",
          "text": [
            "enter the value of array1 2 3 4\n"
          ]
        },
        {
          "output_type": "error",
          "ename": "ValueError",
          "evalue": "invalid literal for int() with base 10: '1 2 3 4'",
          "traceback": [
            "\u001b[0;31m---------------------------------------------------------------------------\u001b[0m",
            "\u001b[0;31mValueError\u001b[0m                                Traceback (most recent call last)",
            "\u001b[0;32m<ipython-input-6-a92c9128699e>\u001b[0m in \u001b[0;36m<cell line: 0>\u001b[0;34m()\u001b[0m\n\u001b[0;32m----> 1\u001b[0;31m \u001b[0marray\u001b[0m\u001b[0;34m=\u001b[0m\u001b[0mint\u001b[0m\u001b[0;34m(\u001b[0m\u001b[0minput\u001b[0m\u001b[0;34m(\u001b[0m\u001b[0;34m\"enter the value of array\"\u001b[0m\u001b[0;34m)\u001b[0m\u001b[0;34m)\u001b[0m\u001b[0;34m\u001b[0m\u001b[0;34m\u001b[0m\u001b[0m\n\u001b[0m\u001b[1;32m      2\u001b[0m \u001b[0marray\u001b[0m\u001b[0;34m=\u001b[0m\u001b[0marray\u001b[0m\u001b[0;34m.\u001b[0m\u001b[0msplit\u001b[0m\u001b[0;34m(\u001b[0m\u001b[0;34m)\u001b[0m\u001b[0;34m\u001b[0m\u001b[0;34m\u001b[0m\u001b[0m\n",
            "\u001b[0;31mValueError\u001b[0m: invalid literal for int() with base 10: '1 2 3 4'"
          ]
        }
      ]
    },
    {
      "cell_type": "markdown",
      "source": [
        "3. Write a NumPy program to append values to the end of an array. For\n",
        "instance: Original array: [10, 20, 30] . After that, append values to the end\n",
        "of the array: [10 20 30 40 50 60 70 80 90]\n"
      ],
      "metadata": {
        "id": "OH5jhdtd1QgF"
      }
    },
    {
      "cell_type": "markdown",
      "source": [],
      "metadata": {
        "id": "kODWOjnb0ICy"
      }
    },
    {
      "cell_type": "code",
      "source": [
        "original_array=np.array([10,20,30])\n",
        "new_array=[40,50,50,70,80,90]"
      ],
      "metadata": {
        "id": "Pn6YOa1b1TAQ"
      },
      "execution_count": null,
      "outputs": []
    },
    {
      "cell_type": "code",
      "source": [
        "np.append(original_array,new_array)"
      ],
      "metadata": {
        "colab": {
          "base_uri": "https://localhost:8080/"
        },
        "id": "ZHzrT8eI1cxx",
        "outputId": "33caadd8-90ff-47e1-ee62-013a9cbf0fc6"
      },
      "execution_count": null,
      "outputs": [
        {
          "output_type": "execute_result",
          "data": {
            "text/plain": [
              "array([10, 20, 30, 40, 50, 50, 70, 80, 90])"
            ]
          },
          "metadata": {},
          "execution_count": 12
        }
      ]
    },
    {
      "cell_type": "markdown",
      "source": [
        "4. Create two NumPy arrays and add the elements of both the arrays and\n",
        "store the result in sumArray."
      ],
      "metadata": {
        "id": "z7nBOQ4w2Xyz"
      }
    },
    {
      "cell_type": "code",
      "source": [
        "a1=np.array([[1,2,3],[2,3,4]])\n",
        "a2=np.array([[5,7,9],[4,7,8]])\n",
        "sum_array=a1+a2\n",
        "print(sum_array)"
      ],
      "metadata": {
        "colab": {
          "base_uri": "https://localhost:8080/"
        },
        "id": "Z7bGn1St2aAe",
        "outputId": "8aa6fe03-be28-4ad8-efa6-a49e2c13be1d"
      },
      "execution_count": null,
      "outputs": [
        {
          "output_type": "stream",
          "name": "stdout",
          "text": [
            "[[ 6  9 12]\n",
            " [ 6 10 12]]\n"
          ]
        }
      ]
    },
    {
      "cell_type": "markdown",
      "source": [
        "5.Create a 3x3 array having values from 10-90 (interval of 10) and store that\n",
        "in array1\n",
        "Perform the following tasks:\n",
        "a. Extract the 1st row from the array\n",
        "b. Extract the last element from the array"
      ],
      "metadata": {
        "id": "hfR8NyLG3Ix4"
      }
    },
    {
      "cell_type": "code",
      "source": [
        "array1=np.arange(10,91,10)\n",
        "array1.shape=(3,3)\n",
        "print(array1)"
      ],
      "metadata": {
        "colab": {
          "base_uri": "https://localhost:8080/"
        },
        "id": "jMZqA7uZ3KGx",
        "outputId": "e6688551-344b-4267-a545-c3a271c143ad"
      },
      "execution_count": null,
      "outputs": [
        {
          "output_type": "stream",
          "name": "stdout",
          "text": [
            "[[10 20 30]\n",
            " [40 50 60]\n",
            " [70 80 90]]\n"
          ]
        }
      ]
    },
    {
      "cell_type": "code",
      "source": [
        "array1[0]"
      ],
      "metadata": {
        "colab": {
          "base_uri": "https://localhost:8080/"
        },
        "id": "TV5Ce5JF4AMe",
        "outputId": "31721df3-ff77-4580-8f04-641417233521"
      },
      "execution_count": null,
      "outputs": [
        {
          "output_type": "execute_result",
          "data": {
            "text/plain": [
              "array([10, 20, 30])"
            ]
          },
          "metadata": {},
          "execution_count": 25
        }
      ]
    },
    {
      "cell_type": "code",
      "source": [
        "array1[2: ,0 :]"
      ],
      "metadata": {
        "colab": {
          "base_uri": "https://localhost:8080/"
        },
        "id": "OVySJs0s5Lvn",
        "outputId": "c5f3ea2e-e93c-4fc3-b3ae-9afcb3814f2b"
      },
      "execution_count": null,
      "outputs": [
        {
          "output_type": "execute_result",
          "data": {
            "text/plain": [
              "array([[70, 80, 90]])"
            ]
          },
          "metadata": {},
          "execution_count": 27
        }
      ]
    },
    {
      "cell_type": "markdown",
      "source": [
        " Create a function that takes dimensions as tuples e.g. (3, 3) and a numeric\n",
        "value and returns a NumPy array of the given dimension filled with the\n",
        "given value e.g.: solve((3, 3), 5) will return.\n"
      ],
      "metadata": {
        "id": "_SNyOJRT1tUA"
      }
    },
    {
      "cell_type": "code",
      "source": [
        "import numpy as np\n",
        "np.full((3,3),5)"
      ],
      "metadata": {
        "colab": {
          "base_uri": "https://localhost:8080/"
        },
        "id": "fIKiyoBB1Vi7",
        "outputId": "2d3d668e-d72b-4c75-cf55-50339201a217"
      },
      "execution_count": 1,
      "outputs": [
        {
          "output_type": "execute_result",
          "data": {
            "text/plain": [
              "array([[5, 5, 5],\n",
              "       [5, 5, 5],\n",
              "       [5, 5, 5]])"
            ]
          },
          "metadata": {},
          "execution_count": 1
        }
      ]
    },
    {
      "cell_type": "markdown",
      "source": [
        "Given a 2 D Array of N X M Dimension, write a function that accepts this\n",
        "array as well as two numbers N and M. The method should return the\n",
        "top-left N X M sub matrix, e.g:\n"
      ],
      "metadata": {
        "id": "KYF8WhfE1zlz"
      }
    },
    {
      "cell_type": "code",
      "source": [
        "def sub_matrix(matrix,n,m):\n",
        " return [row[-m:] for row in matrix[-n:]]"
      ],
      "metadata": {
        "id": "MjKrlfav9Aa0"
      },
      "execution_count": 18,
      "outputs": []
    },
    {
      "cell_type": "code",
      "source": [
        "matrix=np.arange(1,10).reshape(3,3)\n",
        "print(matrix)"
      ],
      "metadata": {
        "colab": {
          "base_uri": "https://localhost:8080/"
        },
        "id": "biZv3ueK14h9",
        "outputId": "f1024dab-d075-4ed7-b9db-967ee13dd64e"
      },
      "execution_count": 12,
      "outputs": [
        {
          "output_type": "stream",
          "name": "stdout",
          "text": [
            "[[1 2 3]\n",
            " [4 5 6]\n",
            " [7 8 9]]\n"
          ]
        }
      ]
    },
    {
      "cell_type": "code",
      "source": [
        "matrix[0:2,0:2]"
      ],
      "metadata": {
        "colab": {
          "base_uri": "https://localhost:8080/"
        },
        "id": "QQBCqVKd8dPd",
        "outputId": "04e64ce5-b31c-4180-b556-92fa03746acd"
      },
      "execution_count": 13,
      "outputs": [
        {
          "output_type": "execute_result",
          "data": {
            "text/plain": [
              "array([[1, 2],\n",
              "       [4, 5]])"
            ]
          },
          "metadata": {},
          "execution_count": 13
        }
      ]
    },
    {
      "cell_type": "code",
      "source": [
        "result=sub_matrix(matrix,2,2)\n",
        "print(result)"
      ],
      "metadata": {
        "colab": {
          "base_uri": "https://localhost:8080/"
        },
        "id": "yiSKTMhB-4A1",
        "outputId": "0a2aca0e-a17f-4793-ff84-94b153f7854e"
      },
      "execution_count": 19,
      "outputs": [
        {
          "output_type": "stream",
          "name": "stdout",
          "text": [
            "[array([5, 6]), array([8, 9])]\n"
          ]
        }
      ]
    },
    {
      "cell_type": "markdown",
      "source": [
        "Assignment 4"
      ],
      "metadata": {
        "id": "wCCh28EnCLaE"
      }
    },
    {
      "cell_type": "markdown",
      "source": [
        "Create a function named ‘factor’ that can only accept 1\n",
        "argument.The function should return the factorial of that\n",
        "number.\n"
      ],
      "metadata": {
        "id": "pN9T9X4fCXJ6"
      }
    },
    {
      "cell_type": "code",
      "source": [
        "def factor(n):\n",
        "    if not isinstance(n, int) or n < 0:\n",
        "        raise ValueError(\"Input must be a non-negative integer.\")\n",
        "    if n == 0 or n == 1:\n",
        "        return 1\n",
        "    result = 1\n",
        "    for i in range(2, n + 1):\n",
        "        result *= i\n",
        "    return result"
      ],
      "metadata": {
        "id": "aKAob98aCPSi"
      },
      "execution_count": 20,
      "outputs": []
    },
    {
      "cell_type": "code",
      "source": [
        "print(factor(5))"
      ],
      "metadata": {
        "colab": {
          "base_uri": "https://localhost:8080/"
        },
        "id": "8WwdQ4WxCxTa",
        "outputId": "6c13aba0-c2c1-4fad-a585-1079731c6f94"
      },
      "execution_count": 21,
      "outputs": [
        {
          "output_type": "stream",
          "name": "stdout",
          "text": [
            "120\n"
          ]
        }
      ]
    },
    {
      "cell_type": "markdown",
      "source": [
        "Create a function named ‘check_string’, the function should accept\n",
        "a string data from the user and the function should check if\n",
        "the user input contains the letter ‘s’ in it. If it contains\n",
        "the letter ‘s’ then print- ‘The string is containing the letter ‘s’’, if\n",
        "not then print- ‘The string doesn’t contain the letter ‘s’’."
      ],
      "metadata": {
        "id": "FWX-KS7nDzEN"
      }
    },
    {
      "cell_type": "code",
      "source": [
        "def check_string(user_input):\n",
        "  if 's'in user_input or 'S'in user_input:\n",
        "    print(\"The string is containing the letter 's'\")\n",
        "  else:\n",
        "    print(\"The string doesn't contain the letter 's'\")"
      ],
      "metadata": {
        "id": "PYPG7INUD0cf"
      },
      "execution_count": 22,
      "outputs": []
    },
    {
      "cell_type": "code",
      "source": [
        "check_string(\"sunshine\")"
      ],
      "metadata": {
        "colab": {
          "base_uri": "https://localhost:8080/"
        },
        "id": "-Z3T5zUoENG-",
        "outputId": "7821439c-b49f-4e80-80ed-7a61353787f8"
      },
      "execution_count": 24,
      "outputs": [
        {
          "output_type": "stream",
          "name": "stdout",
          "text": [
            "The string is containing the letter 's'\n"
          ]
        }
      ]
    },
    {
      "cell_type": "markdown",
      "source": [],
      "metadata": {
        "id": "czyyCS6bFbBK"
      }
    },
    {
      "cell_type": "markdown",
      "source": [
        "Create a class named ‘student’ and inside the class, create a\n",
        "function named ‘fun1’- this method should accept the user\n",
        "defined input and return that value:\n",
        "a. Create another method named- message() and that method\n",
        "should print the user defined input that we have defined in ‘fun1’."
      ],
      "metadata": {
        "id": "YnZKhqX-FdVX"
      }
    },
    {
      "cell_type": "code",
      "source": [
        "class student:\n",
        "    def fun1(self):\n",
        "        self.data = input(\"Enter something: \")\n",
        "        return self.data\n",
        "\n",
        "    def message(self):\n",
        "        print(\"You entered:\", self.data)\n",
        "s1=student()\n",
        "s1.fun1()\n",
        "s1.message()"
      ],
      "metadata": {
        "colab": {
          "base_uri": "https://localhost:8080/"
        },
        "id": "2G8-pyjUFUyt",
        "outputId": "c6e03b2f-a293-460d-8c55-22be160043b9"
      },
      "execution_count": 30,
      "outputs": [
        {
          "output_type": "stream",
          "name": "stdout",
          "text": [
            "Enter something: hell0\n",
            "You entered: hell0\n"
          ]
        }
      ]
    },
    {
      "cell_type": "markdown",
      "source": [],
      "metadata": {
        "id": "AtNuHbOqFqrk"
      }
    },
    {
      "cell_type": "markdown",
      "source": [
        "Create a lambda function that should double or multiply the\n",
        "number (that we will be passing in the lambda function) by 2.\n",
        "Store the lambda function in a variable named ‘double_num’.\n"
      ],
      "metadata": {
        "id": "kJbSYY4aI3iG"
      }
    },
    {
      "cell_type": "code",
      "source": [
        "double_num=lambda x:x*2\n",
        "print(double_num(5))"
      ],
      "metadata": {
        "colab": {
          "base_uri": "https://localhost:8080/"
        },
        "id": "fYcnSYvqFiDN",
        "outputId": "470d06b8-e6ec-46ba-f96f-f4906311043a"
      },
      "execution_count": 31,
      "outputs": [
        {
          "output_type": "stream",
          "name": "stdout",
          "text": [
            "10\n"
          ]
        }
      ]
    },
    {
      "cell_type": "markdown",
      "source": [
        "Take user input string and check whether that string is palindrome\n",
        "or not"
      ],
      "metadata": {
        "id": "MxR9fYRRI6jT"
      }
    },
    {
      "cell_type": "code",
      "source": [
        "string=input(\"Enter a string\")\n",
        "cleaned_input=string.replace(\" \",\"\").lower()\n",
        "if cleaned_input==cleaned_input[::-1]:\n",
        " print(\"The string is a palindrome\")\n",
        "else:\n",
        "  print(\"The string is not a palindrome\")\n",
        "\n",
        "\n"
      ],
      "metadata": {
        "colab": {
          "base_uri": "https://localhost:8080/"
        },
        "id": "oSsDDRmEHsBb",
        "outputId": "7e8ee1ae-f279-4493-ed64-803ac812af94"
      },
      "execution_count": 34,
      "outputs": [
        {
          "output_type": "stream",
          "name": "stdout",
          "text": [
            "Enter a stringmeghana\n",
            "The string is not a palindrome\n"
          ]
        }
      ]
    },
    {
      "cell_type": "markdown",
      "source": [
        "Create a class named ‘Super’ and inside that class define a user-defined\n",
        "function named fun1\n",
        "a. Inside the ‘fun1’ function, pass the message “This is function 1 in the Super\n",
        "class.” in the print statement.\n"
      ],
      "metadata": {
        "id": "95cZ8hk4LaaZ"
      }
    },
    {
      "cell_type": "code",
      "source": [
        "class Super:\n",
        "  def fun1(self):\n",
        "   print(\"This function is in upper class\")\n",
        "obj=Super()\n",
        "obj.fun1()\n"
      ],
      "metadata": {
        "colab": {
          "base_uri": "https://localhost:8080/"
        },
        "id": "BJfp550PJs7T",
        "outputId": "547e0acb-f748-43d3-fb77-efb318caed7c"
      },
      "execution_count": 38,
      "outputs": [
        {
          "output_type": "stream",
          "name": "stdout",
          "text": [
            "This function is in upper class\n"
          ]
        }
      ]
    },
    {
      "cell_type": "markdown",
      "source": [
        "Create another class named ‘Modified_Super’ and inherit this class from\n",
        "the Super class\n",
        "\n",
        "a. Inside the Modified_Super class, create a function named ‘fun1’ and pass\n",
        "the following message inside the print statement: ‘This is function 1 in the Modified\n",
        "Super class.’\n",
        "\n",
        "b. Create another user-defined function named ‘fun2’ and pass the\n",
        "message: ‘This is the 2 nd function from the Modified Super class’ in the print\n",
        "statement.\n",
        "\n",
        "c. After that, now create an object for the Modified_Super class and call the fun1()"
      ],
      "metadata": {
        "id": "GT1wtMqpQFPm"
      }
    },
    {
      "cell_type": "code",
      "source": [
        "class Modified_Super(Super):\n",
        "    def fun1(self):\n",
        "      print(\"This message is modified Supee class\")\n",
        "    def fun2(self):\n",
        "      print(\"This is second function from the modified Super class\")\n",
        "obj=Modified_Super()\n",
        "obj.fun1()\n",
        "obj.fun2()"
      ],
      "metadata": {
        "colab": {
          "base_uri": "https://localhost:8080/"
        },
        "id": "MzeK63XzL8wG",
        "outputId": "1914bf7e-fa05-4676-f7c9-52f468bcc021"
      },
      "execution_count": 46,
      "outputs": [
        {
          "output_type": "stream",
          "name": "stdout",
          "text": [
            "This message is modified Supee class\n",
            "This is second function from the modified Super class\n"
          ]
        }
      ]
    },
    {
      "cell_type": "markdown",
      "source": [
        "Create 2 methods named ‘Hello’. In the 1st Hello method, pass only one\n",
        "argument and pass this message: ‘This function is only having 1\n",
        "argument’. And in the 2nd Hello method, pass two arguments and pass\n",
        "this message: ‘This function is having 2 arguments’.\n",
        "a. Try to call both the methods and analyze the output of both the methods.\n"
      ],
      "metadata": {
        "id": "pocMGZK7TbZ5"
      }
    },
    {
      "cell_type": "code",
      "source": [
        "class Myclass:\n",
        "  def Hello(self,*args):\n",
        "    if len(args)==1:\n",
        "      print(\"This function is only having 1 argument\")\n",
        "    elif len(args)==2:\n",
        "      print(\"This function is having 2 arguments\")\n",
        "    else:\n",
        "      print(\"Invalid number of arguments\")\n",
        "obj1=Myclass()\n",
        "obj1.Hello(\"Meghana\")\n",
        "obj1.Hello(\"Meghana\",\"Maggi\")"
      ],
      "metadata": {
        "colab": {
          "base_uri": "https://localhost:8080/"
        },
        "id": "pIzNLUYEQqn_",
        "outputId": "4d137ec2-ddb6-4f45-ac57-41b23aed87b2"
      },
      "execution_count": 52,
      "outputs": [
        {
          "output_type": "stream",
          "name": "stdout",
          "text": [
            "This function is only having 1 argument\n",
            "This function is having 2 arguments\n"
          ]
        }
      ]
    },
    {
      "cell_type": "code",
      "source": [
        "class Encapsulation:\n",
        "  def __init__(self):\n",
        "    self.__originalvalue=10\n",
        "  def value(self):\n",
        "    return self.__originalvalue\n",
        "  def setvalue(self,newvalue):\n",
        "    self.__originalvalue=newvalue\n",
        "obj=Encapsulation()\n",
        "obj.value()\n",
        "obj.setvalue(25)\n",
        "obj.value()"
      ],
      "metadata": {
        "colab": {
          "base_uri": "https://localhost:8080/"
        },
        "id": "3ooqFHGNTmNp",
        "outputId": "79c65e66-e4c7-41a2-96ae-6e7842e7fbbb"
      },
      "execution_count": 60,
      "outputs": [
        {
          "output_type": "execute_result",
          "data": {
            "text/plain": [
              "25"
            ]
          },
          "metadata": {},
          "execution_count": 60
        }
      ]
    },
    {
      "cell_type": "code",
      "source": [
        "num=10\n",
        "class parent_class:\n",
        "    def fun1(self):\n",
        "      pass\n",
        "class child_class(parent_class):\n",
        "     def fun2(self):\n",
        "      print(\"The value of num is:\",num)\n",
        "obj=child_class()\n",
        "obj.fun2()\n",
        "\n"
      ],
      "metadata": {
        "colab": {
          "base_uri": "https://localhost:8080/"
        },
        "id": "-rmpirexWnvf",
        "outputId": "8f46745b-9985-4f0c-c773-0a2d999a689e"
      },
      "execution_count": 71,
      "outputs": [
        {
          "output_type": "stream",
          "name": "stdout",
          "text": [
            "The value of num is: 10\n"
          ]
        }
      ]
    },
    {
      "cell_type": "markdown",
      "source": [
        "Create three classes named A, B and C\n",
        "a. Inside the A class, create a constructor. Inside the constructor, initialize 2 global\n",
        "variables name and age.\n",
        "\n",
        "b. After initializing the global variables inside the constructor, now create a function named\n",
        "‘details’ and that function should return the ‘name’ variable.\n",
        "\n",
        "c. Inside the B class, create a constructor. Inside the constructor, initialize 2 global variables\n",
        "name and id.\n",
        "\n",
        "d. After initializing the global variables inside the constructor, now create a function named\n",
        "‘details’ and that function should return the ‘name’ variable.\n",
        "\n",
        "e. The C class should inherit from class A, and B. Inside the class C, create a\n",
        "constructor, and inside the constructor, call the constructor of class A.\n",
        "\n",
        "f. Now, create a method inside the class C, as get_details, and this function should return\n",
        "the value of name.\n",
        "\n",
        "g. Atlast, create an object of class C, and with the help of the object, call the get_details().\n"
      ],
      "metadata": {
        "id": "hI9lqyNCh0dn"
      }
    },
    {
      "cell_type": "code",
      "source": [
        "class A:\n",
        "  def __init__(self):\n",
        "     global name,age\n",
        "     name=\"alice\"\n",
        "     age=25\n",
        "  def details(self):\n",
        "     return name\n",
        "class B:\n",
        "  def __init__(self):\n",
        "     name=\"Sam\"\n",
        "     id=100\n",
        "     return name\n",
        "class C(A,B):\n",
        "  def __init__(self):\n",
        "   A.__init__(self)\n",
        "  def get_details(self):\n",
        "       return name\n",
        "obj=C()\n",
        "obj.get_details()"
      ],
      "metadata": {
        "colab": {
          "base_uri": "https://localhost:8080/",
          "height": 36
        },
        "id": "uP2BikuZeFR7",
        "outputId": "f92c75dc-3662-44bb-eb5f-0609df40cdb9"
      },
      "execution_count": 77,
      "outputs": [
        {
          "output_type": "execute_result",
          "data": {
            "text/plain": [
              "'alice'"
            ],
            "application/vnd.google.colaboratory.intrinsic+json": {
              "type": "string"
            }
          },
          "metadata": {},
          "execution_count": 77
        }
      ]
    },
    {
      "cell_type": "markdown",
      "source": [
        "Create a class named ‘Sub1’, inside the class, generate a user defined function\n",
        "named ‘first’ and inside the function, pass the following statement in the print()- ‘This is\n",
        "the first function from Sub 1 class’.\n",
        "\n",
        "a. Now create another class named ‘Sub2’, and inside the class, create a function named\n",
        "‘second’, and pass the following message in the print()- ‘This is the second function from\n",
        "the Sub 2 class'.\n",
        "\n",
        "b. After that, create another class named ‘Super’ and inside that class, create\n",
        "a method named ‘final’, and pass the below message in the print()- ‘This is the\n",
        "final method from the super class’.\n",
        "\n",
        "c. Now, create an object for the Super class and call all the 3 user defined\n",
        "methods, i.e., first(), second(), and final().\n"
      ],
      "metadata": {
        "id": "u9cK2ovnj6bs"
      }
    },
    {
      "cell_type": "code",
      "source": [
        "class Sub1:\n",
        "  def first(self):\n",
        "    print(\"This is first fun from sub1 class\")\n",
        "class sub2:\n",
        "  def second(self):\n",
        "    print(\"This is second fun from sub2 class\")\n",
        "class Super(Sub1,sub2):\n",
        "  def final(self):\n",
        "    print(\"This is final method from super class\")\n",
        "obj=Super()\n",
        "obj.first()\n",
        "obj.second()\n",
        "obj.final()"
      ],
      "metadata": {
        "colab": {
          "base_uri": "https://localhost:8080/"
        },
        "id": "2YD2MrywiD7R",
        "outputId": "dc85d0bd-c1a7-45d5-cf6c-dea8af065f42"
      },
      "execution_count": 81,
      "outputs": [
        {
          "output_type": "stream",
          "name": "stdout",
          "text": [
            "This is first fun from sub1 class\n",
            "This is second fun from sub2 class\n",
            "This is final method from super class\n"
          ]
        }
      ]
    },
    {
      "cell_type": "markdown",
      "source": [
        "Create a class named ‘Parent’, and inside the class, create a function\n",
        "named ‘fun1’ and pass the following message in the print()- ‘This is the\n",
        "message from the fun1’.\n",
        "a. Now create a class named ‘Child1’ and inside the class, create a\n",
        "method named ‘fun2’ and pass the following message in the print()- ‘This is the\n",
        "message from the fun2’.\n",
        "\n",
        "b. After that, create another class named ‘Child2’ and inside the class, create\n",
        "a method named ‘fun3’ and pass the following message in the print()- ‘This is\n",
        "the message from the fun3’.\n",
        "\n",
        "c. Now, create an object of Child2 class and with the help of the object, call the\n",
        "‘fun1’ method from the ‘Parent’ class.\n",
        "5. Create a class named ‘Parent’, and inside the class, create a"
      ],
      "metadata": {
        "id": "PdsDGQWmlOai"
      }
    },
    {
      "cell_type": "code",
      "source": [
        "class parent:\n",
        "  def fun1(self):\n",
        "    print(\"This is msg from fun1\")\n",
        "class child1:\n",
        "  def fun2(self):\n",
        "    print(\"This is msg from fun2\")\n",
        "class child2(parent):\n",
        "  def fun3(self):\n",
        "    print(\"This is msg from fun3\")\n",
        "obj=child2()\n",
        "obj.fun1()"
      ],
      "metadata": {
        "colab": {
          "base_uri": "https://localhost:8080/"
        },
        "id": "XsuOW49zkMGY",
        "outputId": "3b89571b-2109-4055-c229-4c3a91fc5a76"
      },
      "execution_count": 82,
      "outputs": [
        {
          "output_type": "stream",
          "name": "stdout",
          "text": [
            "This is msg from fun1\n"
          ]
        }
      ]
    },
    {
      "cell_type": "markdown",
      "source": [],
      "metadata": {
        "id": "LhYpJTGAlSwV"
      }
    },
    {
      "cell_type": "code",
      "source": [
        "class parent:\n",
        "  def fun1(self):\n",
        "    print(\"This is msg from fun1\")\n",
        "class child:\n",
        "  def fun2(self):\n",
        "    print(\"This is msg from fun2\")\n",
        "class Hybrid(parent,child):\n",
        "  def fun3(self):\n",
        "    print(\"This is msg from fun3\")\n",
        "obj=Hybrid()\n",
        "obj.fun1()\n",
        "obj.fun2()\n",
        "obj.fun3()"
      ],
      "metadata": {
        "id": "5Br9CJyOlgOB",
        "outputId": "844a27c6-acfe-4300-8d7d-75eb6677e587",
        "colab": {
          "base_uri": "https://localhost:8080/"
        }
      },
      "execution_count": 83,
      "outputs": [
        {
          "output_type": "stream",
          "name": "stdout",
          "text": [
            "This is msg from fun1\n",
            "This is msg from fun2\n",
            "This is msg from fun3\n"
          ]
        }
      ]
    },
    {
      "cell_type": "markdown",
      "source": [
        "Assignment 5"
      ],
      "metadata": {
        "id": "CwQAos_X4WQ7"
      }
    },
    {
      "cell_type": "code",
      "source": [
        "from google.colab import drive\n",
        "drive.mount('/content/drive')"
      ],
      "metadata": {
        "id": "4W8fESe2mdJ_",
        "outputId": "20c43239-8a7d-4dd3-b52d-48fd5d52edea",
        "colab": {
          "base_uri": "https://localhost:8080/"
        }
      },
      "execution_count": 84,
      "outputs": [
        {
          "output_type": "stream",
          "name": "stdout",
          "text": [
            "Mounted at /content/drive\n"
          ]
        }
      ]
    },
    {
      "cell_type": "code",
      "source": [
        "import pandas as pd\n",
        "filepath=('/content/drive/My Drive/Sample - Superstore.xls')\n",
        "data=pd.read_excel(filepath)\n",
        "print(data)"
      ],
      "metadata": {
        "id": "3vK06rh8m-Jl",
        "outputId": "e1bd9e24-f1eb-4bd4-94d5-ae37016ed5fd",
        "colab": {
          "base_uri": "https://localhost:8080/"
        }
      },
      "execution_count": 88,
      "outputs": [
        {
          "output_type": "stream",
          "name": "stdout",
          "text": [
            "      Row ID        Order ID Order Date  Ship Date       Ship Mode  \\\n",
            "0          1  CA-2016-152156 2016-11-08 2016-11-11    Second Class   \n",
            "1          2  CA-2016-152156 2016-11-08 2016-11-11    Second Class   \n",
            "2          3  CA-2016-138688 2016-06-12 2016-06-16    Second Class   \n",
            "3          4  US-2015-108966 2015-10-11 2015-10-18  Standard Class   \n",
            "4          5  US-2015-108966 2015-10-11 2015-10-18  Standard Class   \n",
            "...      ...             ...        ...        ...             ...   \n",
            "9989    9990  CA-2014-110422 2014-01-21 2014-01-23    Second Class   \n",
            "9990    9991  CA-2017-121258 2017-02-26 2017-03-03  Standard Class   \n",
            "9991    9992  CA-2017-121258 2017-02-26 2017-03-03  Standard Class   \n",
            "9992    9993  CA-2017-121258 2017-02-26 2017-03-03  Standard Class   \n",
            "9993    9994  CA-2017-119914 2017-05-04 2017-05-09    Second Class   \n",
            "\n",
            "     Customer ID     Customer Name    Segment        Country             City  \\\n",
            "0       CG-12520       Claire Gute   Consumer  United States        Henderson   \n",
            "1       CG-12520       Claire Gute   Consumer  United States        Henderson   \n",
            "2       DV-13045   Darrin Van Huff  Corporate  United States      Los Angeles   \n",
            "3       SO-20335    Sean O'Donnell   Consumer  United States  Fort Lauderdale   \n",
            "4       SO-20335    Sean O'Donnell   Consumer  United States  Fort Lauderdale   \n",
            "...          ...               ...        ...            ...              ...   \n",
            "9989    TB-21400  Tom Boeckenhauer   Consumer  United States            Miami   \n",
            "9990    DB-13060       Dave Brooks   Consumer  United States       Costa Mesa   \n",
            "9991    DB-13060       Dave Brooks   Consumer  United States       Costa Mesa   \n",
            "9992    DB-13060       Dave Brooks   Consumer  United States       Costa Mesa   \n",
            "9993    CC-12220      Chris Cortes   Consumer  United States      Westminster   \n",
            "\n",
            "      ... Postal Code  Region       Product ID         Category Sub-Category  \\\n",
            "0     ...       42420   South  FUR-BO-10001798        Furniture    Bookcases   \n",
            "1     ...       42420   South  FUR-CH-10000454        Furniture       Chairs   \n",
            "2     ...       90036    West  OFF-LA-10000240  Office Supplies       Labels   \n",
            "3     ...       33311   South  FUR-TA-10000577        Furniture       Tables   \n",
            "4     ...       33311   South  OFF-ST-10000760  Office Supplies      Storage   \n",
            "...   ...         ...     ...              ...              ...          ...   \n",
            "9989  ...       33180   South  FUR-FU-10001889        Furniture  Furnishings   \n",
            "9990  ...       92627    West  FUR-FU-10000747        Furniture  Furnishings   \n",
            "9991  ...       92627    West  TEC-PH-10003645       Technology       Phones   \n",
            "9992  ...       92627    West  OFF-PA-10004041  Office Supplies        Paper   \n",
            "9993  ...       92683    West  OFF-AP-10002684  Office Supplies   Appliances   \n",
            "\n",
            "                                           Product Name     Sales  Quantity  \\\n",
            "0                     Bush Somerset Collection Bookcase  261.9600         2   \n",
            "1     Hon Deluxe Fabric Upholstered Stacking Chairs,...  731.9400         3   \n",
            "2     Self-Adhesive Address Labels for Typewriters b...   14.6200         2   \n",
            "3         Bretford CR4500 Series Slim Rectangular Table  957.5775         5   \n",
            "4                        Eldon Fold 'N Roll Cart System   22.3680         2   \n",
            "...                                                 ...       ...       ...   \n",
            "9989                             Ultra Door Pull Handle   25.2480         3   \n",
            "9990  Tenex B1-RE Series Chair Mats for Low Pile Car...   91.9600         2   \n",
            "9991                              Aastra 57i VoIP phone  258.5760         2   \n",
            "9992  It's Hot Message Books with Stickers, 2 3/4\" x 5\"   29.6000         4   \n",
            "9993  Acco 7-Outlet Masterpiece Power Center, Wihtou...  243.1600         2   \n",
            "\n",
            "      Discount    Profit  \n",
            "0         0.00   41.9136  \n",
            "1         0.00  219.5820  \n",
            "2         0.00    6.8714  \n",
            "3         0.45 -383.0310  \n",
            "4         0.20    2.5164  \n",
            "...        ...       ...  \n",
            "9989      0.20    4.1028  \n",
            "9990      0.00   15.6332  \n",
            "9991      0.20   19.3932  \n",
            "9992      0.00   13.3200  \n",
            "9993      0.00   72.9480  \n",
            "\n",
            "[9994 rows x 21 columns]\n"
          ]
        }
      ]
    },
    {
      "cell_type": "markdown",
      "source": [
        "From the Samplesuperstore, select only 3rd, 7th, 9th, and\n",
        "20th columns and all the rows and store that in a new\n",
        "DataFrame named newCols\n",
        "\n"
      ],
      "metadata": {
        "id": "R1WAkI7kqQsL"
      }
    },
    {
      "cell_type": "code",
      "source": [
        "newcols=data.iloc[ :,[3,7,9,20]]\n",
        "print(newcols)"
      ],
      "metadata": {
        "id": "97yuFZWkn72B",
        "outputId": "e08d6d41-fab7-4262-d1b4-4beb8b527bc8",
        "colab": {
          "base_uri": "https://localhost:8080/"
        }
      },
      "execution_count": 90,
      "outputs": [
        {
          "output_type": "stream",
          "name": "stdout",
          "text": [
            "      Ship Date    Segment             City    Profit\n",
            "0    2016-11-11   Consumer        Henderson   41.9136\n",
            "1    2016-11-11   Consumer        Henderson  219.5820\n",
            "2    2016-06-16  Corporate      Los Angeles    6.8714\n",
            "3    2015-10-18   Consumer  Fort Lauderdale -383.0310\n",
            "4    2015-10-18   Consumer  Fort Lauderdale    2.5164\n",
            "...         ...        ...              ...       ...\n",
            "9989 2014-01-23   Consumer            Miami    4.1028\n",
            "9990 2017-03-03   Consumer       Costa Mesa   15.6332\n",
            "9991 2017-03-03   Consumer       Costa Mesa   19.3932\n",
            "9992 2017-03-03   Consumer       Costa Mesa   13.3200\n",
            "9993 2017-05-09   Consumer      Westminster   72.9480\n",
            "\n",
            "[9994 rows x 4 columns]\n"
          ]
        }
      ]
    },
    {
      "cell_type": "markdown",
      "source": [
        "From the original DataFrame, select only the rows from the\n",
        "200th index till the 1000th index(inclusive) column.\n",
        "4"
      ],
      "metadata": {
        "id": "pCLcqnWWqXV9"
      }
    },
    {
      "cell_type": "markdown",
      "source": [
        "From the original DataFrame, select only the rows from the\n",
        "200th index till the 1000th index(inclusive) column.\n"
      ],
      "metadata": {
        "id": "l4w_LOVbqdIA"
      }
    },
    {
      "cell_type": "code",
      "source": [
        "data.iloc[200:1001, :]"
      ],
      "metadata": {
        "id": "iGIwqASko2Gi",
        "outputId": "dea3db86-a627-4273-ba78-9d2a6ffe1150",
        "colab": {
          "base_uri": "https://localhost:8080/",
          "height": 1000
        }
      },
      "execution_count": 91,
      "outputs": [
        {
          "output_type": "execute_result",
          "data": {
            "text/plain": [
              "      Row ID        Order ID Order Date  Ship Date       Ship Mode  \\\n",
              "200      201  CA-2017-105074 2017-06-24 2017-06-29  Standard Class   \n",
              "201      202  CA-2014-133690 2014-08-03 2014-08-05     First Class   \n",
              "202      203  CA-2014-133690 2014-08-03 2014-08-05     First Class   \n",
              "203      204  US-2017-116701 2017-12-17 2017-12-21    Second Class   \n",
              "204      205  CA-2017-126382 2017-06-03 2017-06-07  Standard Class   \n",
              "...      ...             ...        ...        ...             ...   \n",
              "996      997  CA-2015-162537 2015-10-28 2015-11-03  Standard Class   \n",
              "997      998  CA-2015-162537 2015-10-28 2015-11-03  Standard Class   \n",
              "998      999  CA-2015-162537 2015-10-28 2015-11-03  Standard Class   \n",
              "999     1000  CA-2015-162537 2015-10-28 2015-11-03  Standard Class   \n",
              "1000    1001  CA-2016-155488 2016-11-13 2016-11-17  Standard Class   \n",
              "\n",
              "     Customer ID     Customer Name      Segment        Country       City  \\\n",
              "200     MB-17305   Maria Bertelson     Consumer  United States      Akron   \n",
              "201     BS-11755     Bruce Stewart     Consumer  United States     Denver   \n",
              "202     BS-11755     Bruce Stewart     Consumer  United States     Denver   \n",
              "203     LC-17140      Logan Currie     Consumer  United States     Dallas   \n",
              "204     HK-14890  Heather Kirkland    Corporate  United States   Franklin   \n",
              "...          ...               ...          ...            ...        ...   \n",
              "996     RD-19585          Rob Dowd     Consumer  United States  Henderson   \n",
              "997     RD-19585          Rob Dowd     Consumer  United States  Henderson   \n",
              "998     RD-19585          Rob Dowd     Consumer  United States  Henderson   \n",
              "999     RD-19585          Rob Dowd     Consumer  United States  Henderson   \n",
              "1000    FM-14290      Frank Merwin  Home Office  United States  Vancouver   \n",
              "\n",
              "      ... Postal Code   Region       Product ID         Category Sub-Category  \\\n",
              "200   ...       44312     East  OFF-PA-10002666  Office Supplies        Paper   \n",
              "201   ...       80219     West  FUR-TA-10004289        Furniture       Tables   \n",
              "202   ...       80219     West  OFF-AP-10003622  Office Supplies   Appliances   \n",
              "203   ...       75220  Central  OFF-AP-10003217  Office Supplies   Appliances   \n",
              "204   ...       37064    South  FUR-FU-10002960        Furniture  Furnishings   \n",
              "...   ...         ...      ...              ...              ...          ...   \n",
              "996   ...       42420    South  OFF-EN-10003862  Office Supplies    Envelopes   \n",
              "997   ...       42420    South  OFF-ST-10004258  Office Supplies      Storage   \n",
              "998   ...       42420    South  FUR-FU-10002885        Furniture  Furnishings   \n",
              "999   ...       42420    South  FUR-FU-10001918        Furniture  Furnishings   \n",
              "1000  ...       98661     West  OFF-AR-10002956  Office Supplies          Art   \n",
              "\n",
              "                                           Product Name    Sales  Quantity  \\\n",
              "200   Southworth 25% Cotton Linen-Finish Paper & Env...   21.744         3   \n",
              "201   BoxOffice By Design Rectangular and Half-Moon ...  218.750         2   \n",
              "202   Bravo II Megaboss 12-Amp Hard Body Upright, Re...    2.600         1   \n",
              "203                Eureka Sanitaire  Commercial Upright   66.284         2   \n",
              "204          Eldon 200 Class Desk Accessories, Burgundy   35.168         7   \n",
              "...                                                 ...      ...       ...   \n",
              "996                  Laser & Ink Jet Business Envelopes   10.670         1   \n",
              "997                          Portable Personal File Box   36.630         3   \n",
              "998               Magna Visual Magnetic Picture Hangers   24.100         5   \n",
              "999   C-Line Cubicle Keepers Polyproplyene Holder Wi...   33.110         7   \n",
              "1000     Boston 16801 Nautilus Battery Pencil Sharpener   44.020         2   \n",
              "\n",
              "      Discount    Profit  \n",
              "200        0.2    6.7950  \n",
              "201        0.5 -161.8750  \n",
              "202        0.2    0.2925  \n",
              "203        0.8 -178.9668  \n",
              "204        0.2    9.6712  \n",
              "...        ...       ...  \n",
              "996        0.0    4.9082  \n",
              "997        0.0    9.8901  \n",
              "998        0.0    9.1580  \n",
              "999        0.0   12.9129  \n",
              "1000       0.0   11.4452  \n",
              "\n",
              "[801 rows x 21 columns]"
            ],
            "text/html": [
              "\n",
              "  <div id=\"df-691f482a-030b-4fac-8473-ff7f6d4cb3bd\" class=\"colab-df-container\">\n",
              "    <div>\n",
              "<style scoped>\n",
              "    .dataframe tbody tr th:only-of-type {\n",
              "        vertical-align: middle;\n",
              "    }\n",
              "\n",
              "    .dataframe tbody tr th {\n",
              "        vertical-align: top;\n",
              "    }\n",
              "\n",
              "    .dataframe thead th {\n",
              "        text-align: right;\n",
              "    }\n",
              "</style>\n",
              "<table border=\"1\" class=\"dataframe\">\n",
              "  <thead>\n",
              "    <tr style=\"text-align: right;\">\n",
              "      <th></th>\n",
              "      <th>Row ID</th>\n",
              "      <th>Order ID</th>\n",
              "      <th>Order Date</th>\n",
              "      <th>Ship Date</th>\n",
              "      <th>Ship Mode</th>\n",
              "      <th>Customer ID</th>\n",
              "      <th>Customer Name</th>\n",
              "      <th>Segment</th>\n",
              "      <th>Country</th>\n",
              "      <th>City</th>\n",
              "      <th>...</th>\n",
              "      <th>Postal Code</th>\n",
              "      <th>Region</th>\n",
              "      <th>Product ID</th>\n",
              "      <th>Category</th>\n",
              "      <th>Sub-Category</th>\n",
              "      <th>Product Name</th>\n",
              "      <th>Sales</th>\n",
              "      <th>Quantity</th>\n",
              "      <th>Discount</th>\n",
              "      <th>Profit</th>\n",
              "    </tr>\n",
              "  </thead>\n",
              "  <tbody>\n",
              "    <tr>\n",
              "      <th>200</th>\n",
              "      <td>201</td>\n",
              "      <td>CA-2017-105074</td>\n",
              "      <td>2017-06-24</td>\n",
              "      <td>2017-06-29</td>\n",
              "      <td>Standard Class</td>\n",
              "      <td>MB-17305</td>\n",
              "      <td>Maria Bertelson</td>\n",
              "      <td>Consumer</td>\n",
              "      <td>United States</td>\n",
              "      <td>Akron</td>\n",
              "      <td>...</td>\n",
              "      <td>44312</td>\n",
              "      <td>East</td>\n",
              "      <td>OFF-PA-10002666</td>\n",
              "      <td>Office Supplies</td>\n",
              "      <td>Paper</td>\n",
              "      <td>Southworth 25% Cotton Linen-Finish Paper &amp; Env...</td>\n",
              "      <td>21.744</td>\n",
              "      <td>3</td>\n",
              "      <td>0.2</td>\n",
              "      <td>6.7950</td>\n",
              "    </tr>\n",
              "    <tr>\n",
              "      <th>201</th>\n",
              "      <td>202</td>\n",
              "      <td>CA-2014-133690</td>\n",
              "      <td>2014-08-03</td>\n",
              "      <td>2014-08-05</td>\n",
              "      <td>First Class</td>\n",
              "      <td>BS-11755</td>\n",
              "      <td>Bruce Stewart</td>\n",
              "      <td>Consumer</td>\n",
              "      <td>United States</td>\n",
              "      <td>Denver</td>\n",
              "      <td>...</td>\n",
              "      <td>80219</td>\n",
              "      <td>West</td>\n",
              "      <td>FUR-TA-10004289</td>\n",
              "      <td>Furniture</td>\n",
              "      <td>Tables</td>\n",
              "      <td>BoxOffice By Design Rectangular and Half-Moon ...</td>\n",
              "      <td>218.750</td>\n",
              "      <td>2</td>\n",
              "      <td>0.5</td>\n",
              "      <td>-161.8750</td>\n",
              "    </tr>\n",
              "    <tr>\n",
              "      <th>202</th>\n",
              "      <td>203</td>\n",
              "      <td>CA-2014-133690</td>\n",
              "      <td>2014-08-03</td>\n",
              "      <td>2014-08-05</td>\n",
              "      <td>First Class</td>\n",
              "      <td>BS-11755</td>\n",
              "      <td>Bruce Stewart</td>\n",
              "      <td>Consumer</td>\n",
              "      <td>United States</td>\n",
              "      <td>Denver</td>\n",
              "      <td>...</td>\n",
              "      <td>80219</td>\n",
              "      <td>West</td>\n",
              "      <td>OFF-AP-10003622</td>\n",
              "      <td>Office Supplies</td>\n",
              "      <td>Appliances</td>\n",
              "      <td>Bravo II Megaboss 12-Amp Hard Body Upright, Re...</td>\n",
              "      <td>2.600</td>\n",
              "      <td>1</td>\n",
              "      <td>0.2</td>\n",
              "      <td>0.2925</td>\n",
              "    </tr>\n",
              "    <tr>\n",
              "      <th>203</th>\n",
              "      <td>204</td>\n",
              "      <td>US-2017-116701</td>\n",
              "      <td>2017-12-17</td>\n",
              "      <td>2017-12-21</td>\n",
              "      <td>Second Class</td>\n",
              "      <td>LC-17140</td>\n",
              "      <td>Logan Currie</td>\n",
              "      <td>Consumer</td>\n",
              "      <td>United States</td>\n",
              "      <td>Dallas</td>\n",
              "      <td>...</td>\n",
              "      <td>75220</td>\n",
              "      <td>Central</td>\n",
              "      <td>OFF-AP-10003217</td>\n",
              "      <td>Office Supplies</td>\n",
              "      <td>Appliances</td>\n",
              "      <td>Eureka Sanitaire  Commercial Upright</td>\n",
              "      <td>66.284</td>\n",
              "      <td>2</td>\n",
              "      <td>0.8</td>\n",
              "      <td>-178.9668</td>\n",
              "    </tr>\n",
              "    <tr>\n",
              "      <th>204</th>\n",
              "      <td>205</td>\n",
              "      <td>CA-2017-126382</td>\n",
              "      <td>2017-06-03</td>\n",
              "      <td>2017-06-07</td>\n",
              "      <td>Standard Class</td>\n",
              "      <td>HK-14890</td>\n",
              "      <td>Heather Kirkland</td>\n",
              "      <td>Corporate</td>\n",
              "      <td>United States</td>\n",
              "      <td>Franklin</td>\n",
              "      <td>...</td>\n",
              "      <td>37064</td>\n",
              "      <td>South</td>\n",
              "      <td>FUR-FU-10002960</td>\n",
              "      <td>Furniture</td>\n",
              "      <td>Furnishings</td>\n",
              "      <td>Eldon 200 Class Desk Accessories, Burgundy</td>\n",
              "      <td>35.168</td>\n",
              "      <td>7</td>\n",
              "      <td>0.2</td>\n",
              "      <td>9.6712</td>\n",
              "    </tr>\n",
              "    <tr>\n",
              "      <th>...</th>\n",
              "      <td>...</td>\n",
              "      <td>...</td>\n",
              "      <td>...</td>\n",
              "      <td>...</td>\n",
              "      <td>...</td>\n",
              "      <td>...</td>\n",
              "      <td>...</td>\n",
              "      <td>...</td>\n",
              "      <td>...</td>\n",
              "      <td>...</td>\n",
              "      <td>...</td>\n",
              "      <td>...</td>\n",
              "      <td>...</td>\n",
              "      <td>...</td>\n",
              "      <td>...</td>\n",
              "      <td>...</td>\n",
              "      <td>...</td>\n",
              "      <td>...</td>\n",
              "      <td>...</td>\n",
              "      <td>...</td>\n",
              "      <td>...</td>\n",
              "    </tr>\n",
              "    <tr>\n",
              "      <th>996</th>\n",
              "      <td>997</td>\n",
              "      <td>CA-2015-162537</td>\n",
              "      <td>2015-10-28</td>\n",
              "      <td>2015-11-03</td>\n",
              "      <td>Standard Class</td>\n",
              "      <td>RD-19585</td>\n",
              "      <td>Rob Dowd</td>\n",
              "      <td>Consumer</td>\n",
              "      <td>United States</td>\n",
              "      <td>Henderson</td>\n",
              "      <td>...</td>\n",
              "      <td>42420</td>\n",
              "      <td>South</td>\n",
              "      <td>OFF-EN-10003862</td>\n",
              "      <td>Office Supplies</td>\n",
              "      <td>Envelopes</td>\n",
              "      <td>Laser &amp; Ink Jet Business Envelopes</td>\n",
              "      <td>10.670</td>\n",
              "      <td>1</td>\n",
              "      <td>0.0</td>\n",
              "      <td>4.9082</td>\n",
              "    </tr>\n",
              "    <tr>\n",
              "      <th>997</th>\n",
              "      <td>998</td>\n",
              "      <td>CA-2015-162537</td>\n",
              "      <td>2015-10-28</td>\n",
              "      <td>2015-11-03</td>\n",
              "      <td>Standard Class</td>\n",
              "      <td>RD-19585</td>\n",
              "      <td>Rob Dowd</td>\n",
              "      <td>Consumer</td>\n",
              "      <td>United States</td>\n",
              "      <td>Henderson</td>\n",
              "      <td>...</td>\n",
              "      <td>42420</td>\n",
              "      <td>South</td>\n",
              "      <td>OFF-ST-10004258</td>\n",
              "      <td>Office Supplies</td>\n",
              "      <td>Storage</td>\n",
              "      <td>Portable Personal File Box</td>\n",
              "      <td>36.630</td>\n",
              "      <td>3</td>\n",
              "      <td>0.0</td>\n",
              "      <td>9.8901</td>\n",
              "    </tr>\n",
              "    <tr>\n",
              "      <th>998</th>\n",
              "      <td>999</td>\n",
              "      <td>CA-2015-162537</td>\n",
              "      <td>2015-10-28</td>\n",
              "      <td>2015-11-03</td>\n",
              "      <td>Standard Class</td>\n",
              "      <td>RD-19585</td>\n",
              "      <td>Rob Dowd</td>\n",
              "      <td>Consumer</td>\n",
              "      <td>United States</td>\n",
              "      <td>Henderson</td>\n",
              "      <td>...</td>\n",
              "      <td>42420</td>\n",
              "      <td>South</td>\n",
              "      <td>FUR-FU-10002885</td>\n",
              "      <td>Furniture</td>\n",
              "      <td>Furnishings</td>\n",
              "      <td>Magna Visual Magnetic Picture Hangers</td>\n",
              "      <td>24.100</td>\n",
              "      <td>5</td>\n",
              "      <td>0.0</td>\n",
              "      <td>9.1580</td>\n",
              "    </tr>\n",
              "    <tr>\n",
              "      <th>999</th>\n",
              "      <td>1000</td>\n",
              "      <td>CA-2015-162537</td>\n",
              "      <td>2015-10-28</td>\n",
              "      <td>2015-11-03</td>\n",
              "      <td>Standard Class</td>\n",
              "      <td>RD-19585</td>\n",
              "      <td>Rob Dowd</td>\n",
              "      <td>Consumer</td>\n",
              "      <td>United States</td>\n",
              "      <td>Henderson</td>\n",
              "      <td>...</td>\n",
              "      <td>42420</td>\n",
              "      <td>South</td>\n",
              "      <td>FUR-FU-10001918</td>\n",
              "      <td>Furniture</td>\n",
              "      <td>Furnishings</td>\n",
              "      <td>C-Line Cubicle Keepers Polyproplyene Holder Wi...</td>\n",
              "      <td>33.110</td>\n",
              "      <td>7</td>\n",
              "      <td>0.0</td>\n",
              "      <td>12.9129</td>\n",
              "    </tr>\n",
              "    <tr>\n",
              "      <th>1000</th>\n",
              "      <td>1001</td>\n",
              "      <td>CA-2016-155488</td>\n",
              "      <td>2016-11-13</td>\n",
              "      <td>2016-11-17</td>\n",
              "      <td>Standard Class</td>\n",
              "      <td>FM-14290</td>\n",
              "      <td>Frank Merwin</td>\n",
              "      <td>Home Office</td>\n",
              "      <td>United States</td>\n",
              "      <td>Vancouver</td>\n",
              "      <td>...</td>\n",
              "      <td>98661</td>\n",
              "      <td>West</td>\n",
              "      <td>OFF-AR-10002956</td>\n",
              "      <td>Office Supplies</td>\n",
              "      <td>Art</td>\n",
              "      <td>Boston 16801 Nautilus Battery Pencil Sharpener</td>\n",
              "      <td>44.020</td>\n",
              "      <td>2</td>\n",
              "      <td>0.0</td>\n",
              "      <td>11.4452</td>\n",
              "    </tr>\n",
              "  </tbody>\n",
              "</table>\n",
              "<p>801 rows × 21 columns</p>\n",
              "</div>\n",
              "    <div class=\"colab-df-buttons\">\n",
              "\n",
              "  <div class=\"colab-df-container\">\n",
              "    <button class=\"colab-df-convert\" onclick=\"convertToInteractive('df-691f482a-030b-4fac-8473-ff7f6d4cb3bd')\"\n",
              "            title=\"Convert this dataframe to an interactive table.\"\n",
              "            style=\"display:none;\">\n",
              "\n",
              "  <svg xmlns=\"http://www.w3.org/2000/svg\" height=\"24px\" viewBox=\"0 -960 960 960\">\n",
              "    <path d=\"M120-120v-720h720v720H120Zm60-500h600v-160H180v160Zm220 220h160v-160H400v160Zm0 220h160v-160H400v160ZM180-400h160v-160H180v160Zm440 0h160v-160H620v160ZM180-180h160v-160H180v160Zm440 0h160v-160H620v160Z\"/>\n",
              "  </svg>\n",
              "    </button>\n",
              "\n",
              "  <style>\n",
              "    .colab-df-container {\n",
              "      display:flex;\n",
              "      gap: 12px;\n",
              "    }\n",
              "\n",
              "    .colab-df-convert {\n",
              "      background-color: #E8F0FE;\n",
              "      border: none;\n",
              "      border-radius: 50%;\n",
              "      cursor: pointer;\n",
              "      display: none;\n",
              "      fill: #1967D2;\n",
              "      height: 32px;\n",
              "      padding: 0 0 0 0;\n",
              "      width: 32px;\n",
              "    }\n",
              "\n",
              "    .colab-df-convert:hover {\n",
              "      background-color: #E2EBFA;\n",
              "      box-shadow: 0px 1px 2px rgba(60, 64, 67, 0.3), 0px 1px 3px 1px rgba(60, 64, 67, 0.15);\n",
              "      fill: #174EA6;\n",
              "    }\n",
              "\n",
              "    .colab-df-buttons div {\n",
              "      margin-bottom: 4px;\n",
              "    }\n",
              "\n",
              "    [theme=dark] .colab-df-convert {\n",
              "      background-color: #3B4455;\n",
              "      fill: #D2E3FC;\n",
              "    }\n",
              "\n",
              "    [theme=dark] .colab-df-convert:hover {\n",
              "      background-color: #434B5C;\n",
              "      box-shadow: 0px 1px 3px 1px rgba(0, 0, 0, 0.15);\n",
              "      filter: drop-shadow(0px 1px 2px rgba(0, 0, 0, 0.3));\n",
              "      fill: #FFFFFF;\n",
              "    }\n",
              "  </style>\n",
              "\n",
              "    <script>\n",
              "      const buttonEl =\n",
              "        document.querySelector('#df-691f482a-030b-4fac-8473-ff7f6d4cb3bd button.colab-df-convert');\n",
              "      buttonEl.style.display =\n",
              "        google.colab.kernel.accessAllowed ? 'block' : 'none';\n",
              "\n",
              "      async function convertToInteractive(key) {\n",
              "        const element = document.querySelector('#df-691f482a-030b-4fac-8473-ff7f6d4cb3bd');\n",
              "        const dataTable =\n",
              "          await google.colab.kernel.invokeFunction('convertToInteractive',\n",
              "                                                    [key], {});\n",
              "        if (!dataTable) return;\n",
              "\n",
              "        const docLinkHtml = 'Like what you see? Visit the ' +\n",
              "          '<a target=\"_blank\" href=https://colab.research.google.com/notebooks/data_table.ipynb>data table notebook</a>'\n",
              "          + ' to learn more about interactive tables.';\n",
              "        element.innerHTML = '';\n",
              "        dataTable['output_type'] = 'display_data';\n",
              "        await google.colab.output.renderOutput(dataTable, element);\n",
              "        const docLink = document.createElement('div');\n",
              "        docLink.innerHTML = docLinkHtml;\n",
              "        element.appendChild(docLink);\n",
              "      }\n",
              "    </script>\n",
              "  </div>\n",
              "\n",
              "\n",
              "    <div id=\"df-48ddbaf6-8482-4460-a99c-f624047353a6\">\n",
              "      <button class=\"colab-df-quickchart\" onclick=\"quickchart('df-48ddbaf6-8482-4460-a99c-f624047353a6')\"\n",
              "                title=\"Suggest charts\"\n",
              "                style=\"display:none;\">\n",
              "\n",
              "<svg xmlns=\"http://www.w3.org/2000/svg\" height=\"24px\"viewBox=\"0 0 24 24\"\n",
              "     width=\"24px\">\n",
              "    <g>\n",
              "        <path d=\"M19 3H5c-1.1 0-2 .9-2 2v14c0 1.1.9 2 2 2h14c1.1 0 2-.9 2-2V5c0-1.1-.9-2-2-2zM9 17H7v-7h2v7zm4 0h-2V7h2v10zm4 0h-2v-4h2v4z\"/>\n",
              "    </g>\n",
              "</svg>\n",
              "      </button>\n",
              "\n",
              "<style>\n",
              "  .colab-df-quickchart {\n",
              "      --bg-color: #E8F0FE;\n",
              "      --fill-color: #1967D2;\n",
              "      --hover-bg-color: #E2EBFA;\n",
              "      --hover-fill-color: #174EA6;\n",
              "      --disabled-fill-color: #AAA;\n",
              "      --disabled-bg-color: #DDD;\n",
              "  }\n",
              "\n",
              "  [theme=dark] .colab-df-quickchart {\n",
              "      --bg-color: #3B4455;\n",
              "      --fill-color: #D2E3FC;\n",
              "      --hover-bg-color: #434B5C;\n",
              "      --hover-fill-color: #FFFFFF;\n",
              "      --disabled-bg-color: #3B4455;\n",
              "      --disabled-fill-color: #666;\n",
              "  }\n",
              "\n",
              "  .colab-df-quickchart {\n",
              "    background-color: var(--bg-color);\n",
              "    border: none;\n",
              "    border-radius: 50%;\n",
              "    cursor: pointer;\n",
              "    display: none;\n",
              "    fill: var(--fill-color);\n",
              "    height: 32px;\n",
              "    padding: 0;\n",
              "    width: 32px;\n",
              "  }\n",
              "\n",
              "  .colab-df-quickchart:hover {\n",
              "    background-color: var(--hover-bg-color);\n",
              "    box-shadow: 0 1px 2px rgba(60, 64, 67, 0.3), 0 1px 3px 1px rgba(60, 64, 67, 0.15);\n",
              "    fill: var(--button-hover-fill-color);\n",
              "  }\n",
              "\n",
              "  .colab-df-quickchart-complete:disabled,\n",
              "  .colab-df-quickchart-complete:disabled:hover {\n",
              "    background-color: var(--disabled-bg-color);\n",
              "    fill: var(--disabled-fill-color);\n",
              "    box-shadow: none;\n",
              "  }\n",
              "\n",
              "  .colab-df-spinner {\n",
              "    border: 2px solid var(--fill-color);\n",
              "    border-color: transparent;\n",
              "    border-bottom-color: var(--fill-color);\n",
              "    animation:\n",
              "      spin 1s steps(1) infinite;\n",
              "  }\n",
              "\n",
              "  @keyframes spin {\n",
              "    0% {\n",
              "      border-color: transparent;\n",
              "      border-bottom-color: var(--fill-color);\n",
              "      border-left-color: var(--fill-color);\n",
              "    }\n",
              "    20% {\n",
              "      border-color: transparent;\n",
              "      border-left-color: var(--fill-color);\n",
              "      border-top-color: var(--fill-color);\n",
              "    }\n",
              "    30% {\n",
              "      border-color: transparent;\n",
              "      border-left-color: var(--fill-color);\n",
              "      border-top-color: var(--fill-color);\n",
              "      border-right-color: var(--fill-color);\n",
              "    }\n",
              "    40% {\n",
              "      border-color: transparent;\n",
              "      border-right-color: var(--fill-color);\n",
              "      border-top-color: var(--fill-color);\n",
              "    }\n",
              "    60% {\n",
              "      border-color: transparent;\n",
              "      border-right-color: var(--fill-color);\n",
              "    }\n",
              "    80% {\n",
              "      border-color: transparent;\n",
              "      border-right-color: var(--fill-color);\n",
              "      border-bottom-color: var(--fill-color);\n",
              "    }\n",
              "    90% {\n",
              "      border-color: transparent;\n",
              "      border-bottom-color: var(--fill-color);\n",
              "    }\n",
              "  }\n",
              "</style>\n",
              "\n",
              "      <script>\n",
              "        async function quickchart(key) {\n",
              "          const quickchartButtonEl =\n",
              "            document.querySelector('#' + key + ' button');\n",
              "          quickchartButtonEl.disabled = true;  // To prevent multiple clicks.\n",
              "          quickchartButtonEl.classList.add('colab-df-spinner');\n",
              "          try {\n",
              "            const charts = await google.colab.kernel.invokeFunction(\n",
              "                'suggestCharts', [key], {});\n",
              "          } catch (error) {\n",
              "            console.error('Error during call to suggestCharts:', error);\n",
              "          }\n",
              "          quickchartButtonEl.classList.remove('colab-df-spinner');\n",
              "          quickchartButtonEl.classList.add('colab-df-quickchart-complete');\n",
              "        }\n",
              "        (() => {\n",
              "          let quickchartButtonEl =\n",
              "            document.querySelector('#df-48ddbaf6-8482-4460-a99c-f624047353a6 button');\n",
              "          quickchartButtonEl.style.display =\n",
              "            google.colab.kernel.accessAllowed ? 'block' : 'none';\n",
              "        })();\n",
              "      </script>\n",
              "    </div>\n",
              "\n",
              "    </div>\n",
              "  </div>\n"
            ],
            "application/vnd.google.colaboratory.intrinsic+json": {
              "type": "dataframe"
            }
          },
          "metadata": {},
          "execution_count": 91
        }
      ]
    },
    {
      "cell_type": "markdown",
      "source": [
        "Now select the rows from 20th index till 200th\n",
        "index(exclusive),and columns from 2nd index till 15th index\n",
        "value.\n"
      ],
      "metadata": {
        "id": "DuNwrS0kqrRb"
      }
    },
    {
      "cell_type": "code",
      "source": [
        "data.iloc[20:200,2:16]"
      ],
      "metadata": {
        "id": "KpOOFzhjpgKL",
        "outputId": "0b7807f5-08f3-4ab4-f6c9-de61f1ff869e",
        "colab": {
          "base_uri": "https://localhost:8080/",
          "height": 614
        }
      },
      "execution_count": 92,
      "outputs": [
        {
          "output_type": "execute_result",
          "data": {
            "text/plain": [
              "    Order Date  Ship Date       Ship Mode Customer ID       Customer Name  \\\n",
              "20  2014-08-27 2014-09-01    Second Class    ZD-21925  Zuschuss Donatelli   \n",
              "21  2016-12-09 2016-12-13  Standard Class    KB-16585           Ken Black   \n",
              "22  2016-12-09 2016-12-13  Standard Class    KB-16585           Ken Black   \n",
              "23  2017-07-16 2017-07-18    Second Class    SF-20065     Sandra Flanagan   \n",
              "24  2015-09-25 2015-09-30  Standard Class    EB-13870         Emily Burns   \n",
              "..         ...        ...             ...         ...                 ...   \n",
              "195 2014-03-21 2014-03-25  Standard Class    CB-12025   Cassandra Brandow   \n",
              "196 2014-03-21 2014-03-25  Standard Class    CB-12025   Cassandra Brandow   \n",
              "197 2017-11-06 2017-11-13  Standard Class    VM-21685     Valerie Mitchum   \n",
              "198 2017-07-06 2017-07-13  Standard Class    FH-14365        Fred Hopkins   \n",
              "199 2017-07-06 2017-07-13  Standard Class    FH-14365        Fred Hopkins   \n",
              "\n",
              "         Segment        Country           City         State  Postal Code  \\\n",
              "20      Consumer  United States  San Francisco    California        94109   \n",
              "21     Corporate  United States        Fremont      Nebraska        68025   \n",
              "22     Corporate  United States        Fremont      Nebraska        68025   \n",
              "23      Consumer  United States   Philadelphia  Pennsylvania        19140   \n",
              "24      Consumer  United States           Orem          Utah        84057   \n",
              "..           ...            ...            ...           ...          ...   \n",
              "195     Consumer  United States       Hamilton          Ohio        45011   \n",
              "196     Consumer  United States       Hamilton          Ohio        45011   \n",
              "197  Home Office  United States      Westfield    New Jersey         7090   \n",
              "198    Corporate  United States   Philadelphia  Pennsylvania        19120   \n",
              "199    Corporate  United States   Philadelphia  Pennsylvania        19120   \n",
              "\n",
              "      Region       Product ID         Category Sub-Category  \n",
              "20      West  OFF-BI-10002215  Office Supplies      Binders  \n",
              "21   Central  OFF-AR-10000246  Office Supplies          Art  \n",
              "22   Central  OFF-AP-10001492  Office Supplies   Appliances  \n",
              "23      East  FUR-CH-10002774        Furniture       Chairs  \n",
              "24      West  FUR-TA-10000577        Furniture       Tables  \n",
              "..       ...              ...              ...          ...  \n",
              "195     East  OFF-AR-10004685  Office Supplies          Art  \n",
              "196     East  OFF-AR-10004027  Office Supplies          Art  \n",
              "197     East  OFF-ST-10001414  Office Supplies      Storage  \n",
              "198     East  OFF-BI-10000343  Office Supplies      Binders  \n",
              "199     East  OFF-PA-10002749  Office Supplies        Paper  \n",
              "\n",
              "[180 rows x 14 columns]"
            ],
            "text/html": [
              "\n",
              "  <div id=\"df-fac0859f-6c9a-4087-9b74-0ec00536fe48\" class=\"colab-df-container\">\n",
              "    <div>\n",
              "<style scoped>\n",
              "    .dataframe tbody tr th:only-of-type {\n",
              "        vertical-align: middle;\n",
              "    }\n",
              "\n",
              "    .dataframe tbody tr th {\n",
              "        vertical-align: top;\n",
              "    }\n",
              "\n",
              "    .dataframe thead th {\n",
              "        text-align: right;\n",
              "    }\n",
              "</style>\n",
              "<table border=\"1\" class=\"dataframe\">\n",
              "  <thead>\n",
              "    <tr style=\"text-align: right;\">\n",
              "      <th></th>\n",
              "      <th>Order Date</th>\n",
              "      <th>Ship Date</th>\n",
              "      <th>Ship Mode</th>\n",
              "      <th>Customer ID</th>\n",
              "      <th>Customer Name</th>\n",
              "      <th>Segment</th>\n",
              "      <th>Country</th>\n",
              "      <th>City</th>\n",
              "      <th>State</th>\n",
              "      <th>Postal Code</th>\n",
              "      <th>Region</th>\n",
              "      <th>Product ID</th>\n",
              "      <th>Category</th>\n",
              "      <th>Sub-Category</th>\n",
              "    </tr>\n",
              "  </thead>\n",
              "  <tbody>\n",
              "    <tr>\n",
              "      <th>20</th>\n",
              "      <td>2014-08-27</td>\n",
              "      <td>2014-09-01</td>\n",
              "      <td>Second Class</td>\n",
              "      <td>ZD-21925</td>\n",
              "      <td>Zuschuss Donatelli</td>\n",
              "      <td>Consumer</td>\n",
              "      <td>United States</td>\n",
              "      <td>San Francisco</td>\n",
              "      <td>California</td>\n",
              "      <td>94109</td>\n",
              "      <td>West</td>\n",
              "      <td>OFF-BI-10002215</td>\n",
              "      <td>Office Supplies</td>\n",
              "      <td>Binders</td>\n",
              "    </tr>\n",
              "    <tr>\n",
              "      <th>21</th>\n",
              "      <td>2016-12-09</td>\n",
              "      <td>2016-12-13</td>\n",
              "      <td>Standard Class</td>\n",
              "      <td>KB-16585</td>\n",
              "      <td>Ken Black</td>\n",
              "      <td>Corporate</td>\n",
              "      <td>United States</td>\n",
              "      <td>Fremont</td>\n",
              "      <td>Nebraska</td>\n",
              "      <td>68025</td>\n",
              "      <td>Central</td>\n",
              "      <td>OFF-AR-10000246</td>\n",
              "      <td>Office Supplies</td>\n",
              "      <td>Art</td>\n",
              "    </tr>\n",
              "    <tr>\n",
              "      <th>22</th>\n",
              "      <td>2016-12-09</td>\n",
              "      <td>2016-12-13</td>\n",
              "      <td>Standard Class</td>\n",
              "      <td>KB-16585</td>\n",
              "      <td>Ken Black</td>\n",
              "      <td>Corporate</td>\n",
              "      <td>United States</td>\n",
              "      <td>Fremont</td>\n",
              "      <td>Nebraska</td>\n",
              "      <td>68025</td>\n",
              "      <td>Central</td>\n",
              "      <td>OFF-AP-10001492</td>\n",
              "      <td>Office Supplies</td>\n",
              "      <td>Appliances</td>\n",
              "    </tr>\n",
              "    <tr>\n",
              "      <th>23</th>\n",
              "      <td>2017-07-16</td>\n",
              "      <td>2017-07-18</td>\n",
              "      <td>Second Class</td>\n",
              "      <td>SF-20065</td>\n",
              "      <td>Sandra Flanagan</td>\n",
              "      <td>Consumer</td>\n",
              "      <td>United States</td>\n",
              "      <td>Philadelphia</td>\n",
              "      <td>Pennsylvania</td>\n",
              "      <td>19140</td>\n",
              "      <td>East</td>\n",
              "      <td>FUR-CH-10002774</td>\n",
              "      <td>Furniture</td>\n",
              "      <td>Chairs</td>\n",
              "    </tr>\n",
              "    <tr>\n",
              "      <th>24</th>\n",
              "      <td>2015-09-25</td>\n",
              "      <td>2015-09-30</td>\n",
              "      <td>Standard Class</td>\n",
              "      <td>EB-13870</td>\n",
              "      <td>Emily Burns</td>\n",
              "      <td>Consumer</td>\n",
              "      <td>United States</td>\n",
              "      <td>Orem</td>\n",
              "      <td>Utah</td>\n",
              "      <td>84057</td>\n",
              "      <td>West</td>\n",
              "      <td>FUR-TA-10000577</td>\n",
              "      <td>Furniture</td>\n",
              "      <td>Tables</td>\n",
              "    </tr>\n",
              "    <tr>\n",
              "      <th>...</th>\n",
              "      <td>...</td>\n",
              "      <td>...</td>\n",
              "      <td>...</td>\n",
              "      <td>...</td>\n",
              "      <td>...</td>\n",
              "      <td>...</td>\n",
              "      <td>...</td>\n",
              "      <td>...</td>\n",
              "      <td>...</td>\n",
              "      <td>...</td>\n",
              "      <td>...</td>\n",
              "      <td>...</td>\n",
              "      <td>...</td>\n",
              "      <td>...</td>\n",
              "    </tr>\n",
              "    <tr>\n",
              "      <th>195</th>\n",
              "      <td>2014-03-21</td>\n",
              "      <td>2014-03-25</td>\n",
              "      <td>Standard Class</td>\n",
              "      <td>CB-12025</td>\n",
              "      <td>Cassandra Brandow</td>\n",
              "      <td>Consumer</td>\n",
              "      <td>United States</td>\n",
              "      <td>Hamilton</td>\n",
              "      <td>Ohio</td>\n",
              "      <td>45011</td>\n",
              "      <td>East</td>\n",
              "      <td>OFF-AR-10004685</td>\n",
              "      <td>Office Supplies</td>\n",
              "      <td>Art</td>\n",
              "    </tr>\n",
              "    <tr>\n",
              "      <th>196</th>\n",
              "      <td>2014-03-21</td>\n",
              "      <td>2014-03-25</td>\n",
              "      <td>Standard Class</td>\n",
              "      <td>CB-12025</td>\n",
              "      <td>Cassandra Brandow</td>\n",
              "      <td>Consumer</td>\n",
              "      <td>United States</td>\n",
              "      <td>Hamilton</td>\n",
              "      <td>Ohio</td>\n",
              "      <td>45011</td>\n",
              "      <td>East</td>\n",
              "      <td>OFF-AR-10004027</td>\n",
              "      <td>Office Supplies</td>\n",
              "      <td>Art</td>\n",
              "    </tr>\n",
              "    <tr>\n",
              "      <th>197</th>\n",
              "      <td>2017-11-06</td>\n",
              "      <td>2017-11-13</td>\n",
              "      <td>Standard Class</td>\n",
              "      <td>VM-21685</td>\n",
              "      <td>Valerie Mitchum</td>\n",
              "      <td>Home Office</td>\n",
              "      <td>United States</td>\n",
              "      <td>Westfield</td>\n",
              "      <td>New Jersey</td>\n",
              "      <td>7090</td>\n",
              "      <td>East</td>\n",
              "      <td>OFF-ST-10001414</td>\n",
              "      <td>Office Supplies</td>\n",
              "      <td>Storage</td>\n",
              "    </tr>\n",
              "    <tr>\n",
              "      <th>198</th>\n",
              "      <td>2017-07-06</td>\n",
              "      <td>2017-07-13</td>\n",
              "      <td>Standard Class</td>\n",
              "      <td>FH-14365</td>\n",
              "      <td>Fred Hopkins</td>\n",
              "      <td>Corporate</td>\n",
              "      <td>United States</td>\n",
              "      <td>Philadelphia</td>\n",
              "      <td>Pennsylvania</td>\n",
              "      <td>19120</td>\n",
              "      <td>East</td>\n",
              "      <td>OFF-BI-10000343</td>\n",
              "      <td>Office Supplies</td>\n",
              "      <td>Binders</td>\n",
              "    </tr>\n",
              "    <tr>\n",
              "      <th>199</th>\n",
              "      <td>2017-07-06</td>\n",
              "      <td>2017-07-13</td>\n",
              "      <td>Standard Class</td>\n",
              "      <td>FH-14365</td>\n",
              "      <td>Fred Hopkins</td>\n",
              "      <td>Corporate</td>\n",
              "      <td>United States</td>\n",
              "      <td>Philadelphia</td>\n",
              "      <td>Pennsylvania</td>\n",
              "      <td>19120</td>\n",
              "      <td>East</td>\n",
              "      <td>OFF-PA-10002749</td>\n",
              "      <td>Office Supplies</td>\n",
              "      <td>Paper</td>\n",
              "    </tr>\n",
              "  </tbody>\n",
              "</table>\n",
              "<p>180 rows × 14 columns</p>\n",
              "</div>\n",
              "    <div class=\"colab-df-buttons\">\n",
              "\n",
              "  <div class=\"colab-df-container\">\n",
              "    <button class=\"colab-df-convert\" onclick=\"convertToInteractive('df-fac0859f-6c9a-4087-9b74-0ec00536fe48')\"\n",
              "            title=\"Convert this dataframe to an interactive table.\"\n",
              "            style=\"display:none;\">\n",
              "\n",
              "  <svg xmlns=\"http://www.w3.org/2000/svg\" height=\"24px\" viewBox=\"0 -960 960 960\">\n",
              "    <path d=\"M120-120v-720h720v720H120Zm60-500h600v-160H180v160Zm220 220h160v-160H400v160Zm0 220h160v-160H400v160ZM180-400h160v-160H180v160Zm440 0h160v-160H620v160ZM180-180h160v-160H180v160Zm440 0h160v-160H620v160Z\"/>\n",
              "  </svg>\n",
              "    </button>\n",
              "\n",
              "  <style>\n",
              "    .colab-df-container {\n",
              "      display:flex;\n",
              "      gap: 12px;\n",
              "    }\n",
              "\n",
              "    .colab-df-convert {\n",
              "      background-color: #E8F0FE;\n",
              "      border: none;\n",
              "      border-radius: 50%;\n",
              "      cursor: pointer;\n",
              "      display: none;\n",
              "      fill: #1967D2;\n",
              "      height: 32px;\n",
              "      padding: 0 0 0 0;\n",
              "      width: 32px;\n",
              "    }\n",
              "\n",
              "    .colab-df-convert:hover {\n",
              "      background-color: #E2EBFA;\n",
              "      box-shadow: 0px 1px 2px rgba(60, 64, 67, 0.3), 0px 1px 3px 1px rgba(60, 64, 67, 0.15);\n",
              "      fill: #174EA6;\n",
              "    }\n",
              "\n",
              "    .colab-df-buttons div {\n",
              "      margin-bottom: 4px;\n",
              "    }\n",
              "\n",
              "    [theme=dark] .colab-df-convert {\n",
              "      background-color: #3B4455;\n",
              "      fill: #D2E3FC;\n",
              "    }\n",
              "\n",
              "    [theme=dark] .colab-df-convert:hover {\n",
              "      background-color: #434B5C;\n",
              "      box-shadow: 0px 1px 3px 1px rgba(0, 0, 0, 0.15);\n",
              "      filter: drop-shadow(0px 1px 2px rgba(0, 0, 0, 0.3));\n",
              "      fill: #FFFFFF;\n",
              "    }\n",
              "  </style>\n",
              "\n",
              "    <script>\n",
              "      const buttonEl =\n",
              "        document.querySelector('#df-fac0859f-6c9a-4087-9b74-0ec00536fe48 button.colab-df-convert');\n",
              "      buttonEl.style.display =\n",
              "        google.colab.kernel.accessAllowed ? 'block' : 'none';\n",
              "\n",
              "      async function convertToInteractive(key) {\n",
              "        const element = document.querySelector('#df-fac0859f-6c9a-4087-9b74-0ec00536fe48');\n",
              "        const dataTable =\n",
              "          await google.colab.kernel.invokeFunction('convertToInteractive',\n",
              "                                                    [key], {});\n",
              "        if (!dataTable) return;\n",
              "\n",
              "        const docLinkHtml = 'Like what you see? Visit the ' +\n",
              "          '<a target=\"_blank\" href=https://colab.research.google.com/notebooks/data_table.ipynb>data table notebook</a>'\n",
              "          + ' to learn more about interactive tables.';\n",
              "        element.innerHTML = '';\n",
              "        dataTable['output_type'] = 'display_data';\n",
              "        await google.colab.output.renderOutput(dataTable, element);\n",
              "        const docLink = document.createElement('div');\n",
              "        docLink.innerHTML = docLinkHtml;\n",
              "        element.appendChild(docLink);\n",
              "      }\n",
              "    </script>\n",
              "  </div>\n",
              "\n",
              "\n",
              "    <div id=\"df-948d35ba-1852-4b09-b4e9-b4aa566a4d88\">\n",
              "      <button class=\"colab-df-quickchart\" onclick=\"quickchart('df-948d35ba-1852-4b09-b4e9-b4aa566a4d88')\"\n",
              "                title=\"Suggest charts\"\n",
              "                style=\"display:none;\">\n",
              "\n",
              "<svg xmlns=\"http://www.w3.org/2000/svg\" height=\"24px\"viewBox=\"0 0 24 24\"\n",
              "     width=\"24px\">\n",
              "    <g>\n",
              "        <path d=\"M19 3H5c-1.1 0-2 .9-2 2v14c0 1.1.9 2 2 2h14c1.1 0 2-.9 2-2V5c0-1.1-.9-2-2-2zM9 17H7v-7h2v7zm4 0h-2V7h2v10zm4 0h-2v-4h2v4z\"/>\n",
              "    </g>\n",
              "</svg>\n",
              "      </button>\n",
              "\n",
              "<style>\n",
              "  .colab-df-quickchart {\n",
              "      --bg-color: #E8F0FE;\n",
              "      --fill-color: #1967D2;\n",
              "      --hover-bg-color: #E2EBFA;\n",
              "      --hover-fill-color: #174EA6;\n",
              "      --disabled-fill-color: #AAA;\n",
              "      --disabled-bg-color: #DDD;\n",
              "  }\n",
              "\n",
              "  [theme=dark] .colab-df-quickchart {\n",
              "      --bg-color: #3B4455;\n",
              "      --fill-color: #D2E3FC;\n",
              "      --hover-bg-color: #434B5C;\n",
              "      --hover-fill-color: #FFFFFF;\n",
              "      --disabled-bg-color: #3B4455;\n",
              "      --disabled-fill-color: #666;\n",
              "  }\n",
              "\n",
              "  .colab-df-quickchart {\n",
              "    background-color: var(--bg-color);\n",
              "    border: none;\n",
              "    border-radius: 50%;\n",
              "    cursor: pointer;\n",
              "    display: none;\n",
              "    fill: var(--fill-color);\n",
              "    height: 32px;\n",
              "    padding: 0;\n",
              "    width: 32px;\n",
              "  }\n",
              "\n",
              "  .colab-df-quickchart:hover {\n",
              "    background-color: var(--hover-bg-color);\n",
              "    box-shadow: 0 1px 2px rgba(60, 64, 67, 0.3), 0 1px 3px 1px rgba(60, 64, 67, 0.15);\n",
              "    fill: var(--button-hover-fill-color);\n",
              "  }\n",
              "\n",
              "  .colab-df-quickchart-complete:disabled,\n",
              "  .colab-df-quickchart-complete:disabled:hover {\n",
              "    background-color: var(--disabled-bg-color);\n",
              "    fill: var(--disabled-fill-color);\n",
              "    box-shadow: none;\n",
              "  }\n",
              "\n",
              "  .colab-df-spinner {\n",
              "    border: 2px solid var(--fill-color);\n",
              "    border-color: transparent;\n",
              "    border-bottom-color: var(--fill-color);\n",
              "    animation:\n",
              "      spin 1s steps(1) infinite;\n",
              "  }\n",
              "\n",
              "  @keyframes spin {\n",
              "    0% {\n",
              "      border-color: transparent;\n",
              "      border-bottom-color: var(--fill-color);\n",
              "      border-left-color: var(--fill-color);\n",
              "    }\n",
              "    20% {\n",
              "      border-color: transparent;\n",
              "      border-left-color: var(--fill-color);\n",
              "      border-top-color: var(--fill-color);\n",
              "    }\n",
              "    30% {\n",
              "      border-color: transparent;\n",
              "      border-left-color: var(--fill-color);\n",
              "      border-top-color: var(--fill-color);\n",
              "      border-right-color: var(--fill-color);\n",
              "    }\n",
              "    40% {\n",
              "      border-color: transparent;\n",
              "      border-right-color: var(--fill-color);\n",
              "      border-top-color: var(--fill-color);\n",
              "    }\n",
              "    60% {\n",
              "      border-color: transparent;\n",
              "      border-right-color: var(--fill-color);\n",
              "    }\n",
              "    80% {\n",
              "      border-color: transparent;\n",
              "      border-right-color: var(--fill-color);\n",
              "      border-bottom-color: var(--fill-color);\n",
              "    }\n",
              "    90% {\n",
              "      border-color: transparent;\n",
              "      border-bottom-color: var(--fill-color);\n",
              "    }\n",
              "  }\n",
              "</style>\n",
              "\n",
              "      <script>\n",
              "        async function quickchart(key) {\n",
              "          const quickchartButtonEl =\n",
              "            document.querySelector('#' + key + ' button');\n",
              "          quickchartButtonEl.disabled = true;  // To prevent multiple clicks.\n",
              "          quickchartButtonEl.classList.add('colab-df-spinner');\n",
              "          try {\n",
              "            const charts = await google.colab.kernel.invokeFunction(\n",
              "                'suggestCharts', [key], {});\n",
              "          } catch (error) {\n",
              "            console.error('Error during call to suggestCharts:', error);\n",
              "          }\n",
              "          quickchartButtonEl.classList.remove('colab-df-spinner');\n",
              "          quickchartButtonEl.classList.add('colab-df-quickchart-complete');\n",
              "        }\n",
              "        (() => {\n",
              "          let quickchartButtonEl =\n",
              "            document.querySelector('#df-948d35ba-1852-4b09-b4e9-b4aa566a4d88 button');\n",
              "          quickchartButtonEl.style.display =\n",
              "            google.colab.kernel.accessAllowed ? 'block' : 'none';\n",
              "        })();\n",
              "      </script>\n",
              "    </div>\n",
              "\n",
              "    </div>\n",
              "  </div>\n"
            ],
            "application/vnd.google.colaboratory.intrinsic+json": {
              "type": "dataframe",
              "summary": "{\n  \"name\": \"data\",\n  \"rows\": 180,\n  \"fields\": [\n    {\n      \"column\": \"Order Date\",\n      \"properties\": {\n        \"dtype\": \"date\",\n        \"min\": \"2014-03-01 00:00:00\",\n        \"max\": \"2017-12-25 00:00:00\",\n        \"num_unique_values\": 85,\n        \"samples\": [\n          \"2016-11-28 00:00:00\",\n          \"2014-08-27 00:00:00\",\n          \"2015-12-28 00:00:00\"\n        ],\n        \"semantic_type\": \"\",\n        \"description\": \"\"\n      }\n    },\n    {\n      \"column\": \"Ship Date\",\n      \"properties\": {\n        \"dtype\": \"date\",\n        \"min\": \"2014-03-06 00:00:00\",\n        \"max\": \"2017-12-30 00:00:00\",\n        \"num_unique_values\": 82,\n        \"samples\": [\n          \"2017-11-16 00:00:00\",\n          \"2014-09-01 00:00:00\",\n          \"2016-09-23 00:00:00\"\n        ],\n        \"semantic_type\": \"\",\n        \"description\": \"\"\n      }\n    },\n    {\n      \"column\": \"Ship Mode\",\n      \"properties\": {\n        \"dtype\": \"category\",\n        \"num_unique_values\": 3,\n        \"samples\": [\n          \"Second Class\",\n          \"Standard Class\",\n          \"First Class\"\n        ],\n        \"semantic_type\": \"\",\n        \"description\": \"\"\n      }\n    },\n    {\n      \"column\": \"Customer ID\",\n      \"properties\": {\n        \"dtype\": \"category\",\n        \"num_unique_values\": 84,\n        \"samples\": [\n          \"JK-15640\",\n          \"ZD-21925\",\n          \"MG-17680\"\n        ],\n        \"semantic_type\": \"\",\n        \"description\": \"\"\n      }\n    },\n    {\n      \"column\": \"Customer Name\",\n      \"properties\": {\n        \"dtype\": \"category\",\n        \"num_unique_values\": 84,\n        \"samples\": [\n          \"Jim Kriz\",\n          \"Zuschuss Donatelli\",\n          \"Maureen Gastineau\"\n        ],\n        \"semantic_type\": \"\",\n        \"description\": \"\"\n      }\n    },\n    {\n      \"column\": \"Segment\",\n      \"properties\": {\n        \"dtype\": \"category\",\n        \"num_unique_values\": 3,\n        \"samples\": [\n          \"Consumer\",\n          \"Corporate\",\n          \"Home Office\"\n        ],\n        \"semantic_type\": \"\",\n        \"description\": \"\"\n      }\n    },\n    {\n      \"column\": \"Country\",\n      \"properties\": {\n        \"dtype\": \"category\",\n        \"num_unique_values\": 1,\n        \"samples\": [\n          \"United States\"\n        ],\n        \"semantic_type\": \"\",\n        \"description\": \"\"\n      }\n    },\n    {\n      \"column\": \"City\",\n      \"properties\": {\n        \"dtype\": \"category\",\n        \"num_unique_values\": 53,\n        \"samples\": [\n          \"Memphis\"\n        ],\n        \"semantic_type\": \"\",\n        \"description\": \"\"\n      }\n    },\n    {\n      \"column\": \"State\",\n      \"properties\": {\n        \"dtype\": \"category\",\n        \"num_unique_values\": 30,\n        \"samples\": [\n          \"Louisiana\"\n        ],\n        \"semantic_type\": \"\",\n        \"description\": \"\"\n      }\n    },\n    {\n      \"column\": \"Postal Code\",\n      \"properties\": {\n        \"dtype\": \"number\",\n        \"std\": 29329,\n        \"min\": 6824,\n        \"max\": 98115,\n        \"num_unique_values\": 69,\n        \"samples\": [\n          38109\n        ],\n        \"semantic_type\": \"\",\n        \"description\": \"\"\n      }\n    },\n    {\n      \"column\": \"Region\",\n      \"properties\": {\n        \"dtype\": \"category\",\n        \"num_unique_values\": 4,\n        \"samples\": [\n          \"Central\"\n        ],\n        \"semantic_type\": \"\",\n        \"description\": \"\"\n      }\n    },\n    {\n      \"column\": \"Product ID\",\n      \"properties\": {\n        \"dtype\": \"string\",\n        \"num_unique_values\": 170,\n        \"samples\": [\n          \"OFF-ST-10000991\"\n        ],\n        \"semantic_type\": \"\",\n        \"description\": \"\"\n      }\n    },\n    {\n      \"column\": \"Category\",\n      \"properties\": {\n        \"dtype\": \"category\",\n        \"num_unique_values\": 3,\n        \"samples\": [\n          \"Office Supplies\"\n        ],\n        \"semantic_type\": \"\",\n        \"description\": \"\"\n      }\n    },\n    {\n      \"column\": \"Sub-Category\",\n      \"properties\": {\n        \"dtype\": \"category\",\n        \"num_unique_values\": 16,\n        \"samples\": [\n          \"Binders\"\n        ],\n        \"semantic_type\": \"\",\n        \"description\": \"\"\n      }\n    }\n  ]\n}"
            }
          },
          "metadata": {},
          "execution_count": 92
        }
      ]
    },
    {
      "cell_type": "markdown",
      "source": [
        "\n",
        " Display the top 100 records from the original DataFrame"
      ],
      "metadata": {
        "id": "wkpM9UW9qv43"
      }
    },
    {
      "cell_type": "code",
      "source": [
        "data.head(100)"
      ],
      "metadata": {
        "id": "IlcnUzzapoz0",
        "outputId": "77750acb-d7aa-439f-c59f-1c763c6530de",
        "colab": {
          "base_uri": "https://localhost:8080/",
          "height": 1000
        }
      },
      "execution_count": 93,
      "outputs": [
        {
          "output_type": "execute_result",
          "data": {
            "text/plain": [
              "    Row ID        Order ID Order Date  Ship Date       Ship Mode Customer ID  \\\n",
              "0        1  CA-2016-152156 2016-11-08 2016-11-11    Second Class    CG-12520   \n",
              "1        2  CA-2016-152156 2016-11-08 2016-11-11    Second Class    CG-12520   \n",
              "2        3  CA-2016-138688 2016-06-12 2016-06-16    Second Class    DV-13045   \n",
              "3        4  US-2015-108966 2015-10-11 2015-10-18  Standard Class    SO-20335   \n",
              "4        5  US-2015-108966 2015-10-11 2015-10-18  Standard Class    SO-20335   \n",
              "..     ...             ...        ...        ...             ...         ...   \n",
              "95      96  US-2017-109484 2017-11-06 2017-11-12  Standard Class    RB-19705   \n",
              "96      97  CA-2017-161018 2017-11-09 2017-11-11    Second Class    PN-18775   \n",
              "97      98  CA-2017-157833 2017-06-17 2017-06-20     First Class    KD-16345   \n",
              "98      99  CA-2016-149223 2016-09-06 2016-09-11  Standard Class    ER-13855   \n",
              "99     100  CA-2016-158568 2016-08-29 2016-09-02  Standard Class    RB-19465   \n",
              "\n",
              "        Customer Name      Segment        Country             City  ...  \\\n",
              "0         Claire Gute     Consumer  United States        Henderson  ...   \n",
              "1         Claire Gute     Consumer  United States        Henderson  ...   \n",
              "2     Darrin Van Huff    Corporate  United States      Los Angeles  ...   \n",
              "3      Sean O'Donnell     Consumer  United States  Fort Lauderdale  ...   \n",
              "4      Sean O'Donnell     Consumer  United States  Fort Lauderdale  ...   \n",
              "..                ...          ...            ...              ...  ...   \n",
              "95       Roger Barcio  Home Office  United States         Portland  ...   \n",
              "96     Parhena Norris  Home Office  United States    New York City  ...   \n",
              "97   Katherine Ducich     Consumer  United States    San Francisco  ...   \n",
              "98  Elpida Rittenbach    Corporate  United States       Saint Paul  ...   \n",
              "99       Rick Bensley  Home Office  United States          Chicago  ...   \n",
              "\n",
              "   Postal Code   Region       Product ID         Category Sub-Category  \\\n",
              "0        42420    South  FUR-BO-10001798        Furniture    Bookcases   \n",
              "1        42420    South  FUR-CH-10000454        Furniture       Chairs   \n",
              "2        90036     West  OFF-LA-10000240  Office Supplies       Labels   \n",
              "3        33311    South  FUR-TA-10000577        Furniture       Tables   \n",
              "4        33311    South  OFF-ST-10000760  Office Supplies      Storage   \n",
              "..         ...      ...              ...              ...          ...   \n",
              "95       97206     West  OFF-BI-10004738  Office Supplies      Binders   \n",
              "96       10009     East  FUR-FU-10000629        Furniture  Furnishings   \n",
              "97       94122     West  OFF-BI-10001721  Office Supplies      Binders   \n",
              "98       55106  Central  OFF-AP-10000358  Office Supplies   Appliances   \n",
              "99       60610  Central  OFF-PA-10003256  Office Supplies        Paper   \n",
              "\n",
              "                                         Product Name     Sales  Quantity  \\\n",
              "0                   Bush Somerset Collection Bookcase  261.9600         2   \n",
              "1   Hon Deluxe Fabric Upholstered Stacking Chairs,...  731.9400         3   \n",
              "2   Self-Adhesive Address Labels for Typewriters b...   14.6200         2   \n",
              "3       Bretford CR4500 Series Slim Rectangular Table  957.5775         5   \n",
              "4                      Eldon Fold 'N Roll Cart System   22.3680         2   \n",
              "..                                                ...       ...       ...   \n",
              "95  Flexible Leather- Look Classic Collection Ring...    5.6820         1   \n",
              "96                    9-3/4 Diameter Round Wall Clock   96.5300         7   \n",
              "97                     Trimflex Flexible Post Binders   51.3120         3   \n",
              "98  Fellowes Basic Home/Office Series Surge Protec...   77.8800         6   \n",
              "99         Avery Personal Creations Heavyweight Cards   64.6240         7   \n",
              "\n",
              "    Discount    Profit  \n",
              "0       0.00   41.9136  \n",
              "1       0.00  219.5820  \n",
              "2       0.00    6.8714  \n",
              "3       0.45 -383.0310  \n",
              "4       0.20    2.5164  \n",
              "..       ...       ...  \n",
              "95      0.70   -3.7880  \n",
              "96      0.00   40.5426  \n",
              "97      0.20   17.9592  \n",
              "98      0.00   22.5852  \n",
              "99      0.20   22.6184  \n",
              "\n",
              "[100 rows x 21 columns]"
            ],
            "text/html": [
              "\n",
              "  <div id=\"df-a3e3a76d-4183-4edf-bce2-a27c80aa0fe8\" class=\"colab-df-container\">\n",
              "    <div>\n",
              "<style scoped>\n",
              "    .dataframe tbody tr th:only-of-type {\n",
              "        vertical-align: middle;\n",
              "    }\n",
              "\n",
              "    .dataframe tbody tr th {\n",
              "        vertical-align: top;\n",
              "    }\n",
              "\n",
              "    .dataframe thead th {\n",
              "        text-align: right;\n",
              "    }\n",
              "</style>\n",
              "<table border=\"1\" class=\"dataframe\">\n",
              "  <thead>\n",
              "    <tr style=\"text-align: right;\">\n",
              "      <th></th>\n",
              "      <th>Row ID</th>\n",
              "      <th>Order ID</th>\n",
              "      <th>Order Date</th>\n",
              "      <th>Ship Date</th>\n",
              "      <th>Ship Mode</th>\n",
              "      <th>Customer ID</th>\n",
              "      <th>Customer Name</th>\n",
              "      <th>Segment</th>\n",
              "      <th>Country</th>\n",
              "      <th>City</th>\n",
              "      <th>...</th>\n",
              "      <th>Postal Code</th>\n",
              "      <th>Region</th>\n",
              "      <th>Product ID</th>\n",
              "      <th>Category</th>\n",
              "      <th>Sub-Category</th>\n",
              "      <th>Product Name</th>\n",
              "      <th>Sales</th>\n",
              "      <th>Quantity</th>\n",
              "      <th>Discount</th>\n",
              "      <th>Profit</th>\n",
              "    </tr>\n",
              "  </thead>\n",
              "  <tbody>\n",
              "    <tr>\n",
              "      <th>0</th>\n",
              "      <td>1</td>\n",
              "      <td>CA-2016-152156</td>\n",
              "      <td>2016-11-08</td>\n",
              "      <td>2016-11-11</td>\n",
              "      <td>Second Class</td>\n",
              "      <td>CG-12520</td>\n",
              "      <td>Claire Gute</td>\n",
              "      <td>Consumer</td>\n",
              "      <td>United States</td>\n",
              "      <td>Henderson</td>\n",
              "      <td>...</td>\n",
              "      <td>42420</td>\n",
              "      <td>South</td>\n",
              "      <td>FUR-BO-10001798</td>\n",
              "      <td>Furniture</td>\n",
              "      <td>Bookcases</td>\n",
              "      <td>Bush Somerset Collection Bookcase</td>\n",
              "      <td>261.9600</td>\n",
              "      <td>2</td>\n",
              "      <td>0.00</td>\n",
              "      <td>41.9136</td>\n",
              "    </tr>\n",
              "    <tr>\n",
              "      <th>1</th>\n",
              "      <td>2</td>\n",
              "      <td>CA-2016-152156</td>\n",
              "      <td>2016-11-08</td>\n",
              "      <td>2016-11-11</td>\n",
              "      <td>Second Class</td>\n",
              "      <td>CG-12520</td>\n",
              "      <td>Claire Gute</td>\n",
              "      <td>Consumer</td>\n",
              "      <td>United States</td>\n",
              "      <td>Henderson</td>\n",
              "      <td>...</td>\n",
              "      <td>42420</td>\n",
              "      <td>South</td>\n",
              "      <td>FUR-CH-10000454</td>\n",
              "      <td>Furniture</td>\n",
              "      <td>Chairs</td>\n",
              "      <td>Hon Deluxe Fabric Upholstered Stacking Chairs,...</td>\n",
              "      <td>731.9400</td>\n",
              "      <td>3</td>\n",
              "      <td>0.00</td>\n",
              "      <td>219.5820</td>\n",
              "    </tr>\n",
              "    <tr>\n",
              "      <th>2</th>\n",
              "      <td>3</td>\n",
              "      <td>CA-2016-138688</td>\n",
              "      <td>2016-06-12</td>\n",
              "      <td>2016-06-16</td>\n",
              "      <td>Second Class</td>\n",
              "      <td>DV-13045</td>\n",
              "      <td>Darrin Van Huff</td>\n",
              "      <td>Corporate</td>\n",
              "      <td>United States</td>\n",
              "      <td>Los Angeles</td>\n",
              "      <td>...</td>\n",
              "      <td>90036</td>\n",
              "      <td>West</td>\n",
              "      <td>OFF-LA-10000240</td>\n",
              "      <td>Office Supplies</td>\n",
              "      <td>Labels</td>\n",
              "      <td>Self-Adhesive Address Labels for Typewriters b...</td>\n",
              "      <td>14.6200</td>\n",
              "      <td>2</td>\n",
              "      <td>0.00</td>\n",
              "      <td>6.8714</td>\n",
              "    </tr>\n",
              "    <tr>\n",
              "      <th>3</th>\n",
              "      <td>4</td>\n",
              "      <td>US-2015-108966</td>\n",
              "      <td>2015-10-11</td>\n",
              "      <td>2015-10-18</td>\n",
              "      <td>Standard Class</td>\n",
              "      <td>SO-20335</td>\n",
              "      <td>Sean O'Donnell</td>\n",
              "      <td>Consumer</td>\n",
              "      <td>United States</td>\n",
              "      <td>Fort Lauderdale</td>\n",
              "      <td>...</td>\n",
              "      <td>33311</td>\n",
              "      <td>South</td>\n",
              "      <td>FUR-TA-10000577</td>\n",
              "      <td>Furniture</td>\n",
              "      <td>Tables</td>\n",
              "      <td>Bretford CR4500 Series Slim Rectangular Table</td>\n",
              "      <td>957.5775</td>\n",
              "      <td>5</td>\n",
              "      <td>0.45</td>\n",
              "      <td>-383.0310</td>\n",
              "    </tr>\n",
              "    <tr>\n",
              "      <th>4</th>\n",
              "      <td>5</td>\n",
              "      <td>US-2015-108966</td>\n",
              "      <td>2015-10-11</td>\n",
              "      <td>2015-10-18</td>\n",
              "      <td>Standard Class</td>\n",
              "      <td>SO-20335</td>\n",
              "      <td>Sean O'Donnell</td>\n",
              "      <td>Consumer</td>\n",
              "      <td>United States</td>\n",
              "      <td>Fort Lauderdale</td>\n",
              "      <td>...</td>\n",
              "      <td>33311</td>\n",
              "      <td>South</td>\n",
              "      <td>OFF-ST-10000760</td>\n",
              "      <td>Office Supplies</td>\n",
              "      <td>Storage</td>\n",
              "      <td>Eldon Fold 'N Roll Cart System</td>\n",
              "      <td>22.3680</td>\n",
              "      <td>2</td>\n",
              "      <td>0.20</td>\n",
              "      <td>2.5164</td>\n",
              "    </tr>\n",
              "    <tr>\n",
              "      <th>...</th>\n",
              "      <td>...</td>\n",
              "      <td>...</td>\n",
              "      <td>...</td>\n",
              "      <td>...</td>\n",
              "      <td>...</td>\n",
              "      <td>...</td>\n",
              "      <td>...</td>\n",
              "      <td>...</td>\n",
              "      <td>...</td>\n",
              "      <td>...</td>\n",
              "      <td>...</td>\n",
              "      <td>...</td>\n",
              "      <td>...</td>\n",
              "      <td>...</td>\n",
              "      <td>...</td>\n",
              "      <td>...</td>\n",
              "      <td>...</td>\n",
              "      <td>...</td>\n",
              "      <td>...</td>\n",
              "      <td>...</td>\n",
              "      <td>...</td>\n",
              "    </tr>\n",
              "    <tr>\n",
              "      <th>95</th>\n",
              "      <td>96</td>\n",
              "      <td>US-2017-109484</td>\n",
              "      <td>2017-11-06</td>\n",
              "      <td>2017-11-12</td>\n",
              "      <td>Standard Class</td>\n",
              "      <td>RB-19705</td>\n",
              "      <td>Roger Barcio</td>\n",
              "      <td>Home Office</td>\n",
              "      <td>United States</td>\n",
              "      <td>Portland</td>\n",
              "      <td>...</td>\n",
              "      <td>97206</td>\n",
              "      <td>West</td>\n",
              "      <td>OFF-BI-10004738</td>\n",
              "      <td>Office Supplies</td>\n",
              "      <td>Binders</td>\n",
              "      <td>Flexible Leather- Look Classic Collection Ring...</td>\n",
              "      <td>5.6820</td>\n",
              "      <td>1</td>\n",
              "      <td>0.70</td>\n",
              "      <td>-3.7880</td>\n",
              "    </tr>\n",
              "    <tr>\n",
              "      <th>96</th>\n",
              "      <td>97</td>\n",
              "      <td>CA-2017-161018</td>\n",
              "      <td>2017-11-09</td>\n",
              "      <td>2017-11-11</td>\n",
              "      <td>Second Class</td>\n",
              "      <td>PN-18775</td>\n",
              "      <td>Parhena Norris</td>\n",
              "      <td>Home Office</td>\n",
              "      <td>United States</td>\n",
              "      <td>New York City</td>\n",
              "      <td>...</td>\n",
              "      <td>10009</td>\n",
              "      <td>East</td>\n",
              "      <td>FUR-FU-10000629</td>\n",
              "      <td>Furniture</td>\n",
              "      <td>Furnishings</td>\n",
              "      <td>9-3/4 Diameter Round Wall Clock</td>\n",
              "      <td>96.5300</td>\n",
              "      <td>7</td>\n",
              "      <td>0.00</td>\n",
              "      <td>40.5426</td>\n",
              "    </tr>\n",
              "    <tr>\n",
              "      <th>97</th>\n",
              "      <td>98</td>\n",
              "      <td>CA-2017-157833</td>\n",
              "      <td>2017-06-17</td>\n",
              "      <td>2017-06-20</td>\n",
              "      <td>First Class</td>\n",
              "      <td>KD-16345</td>\n",
              "      <td>Katherine Ducich</td>\n",
              "      <td>Consumer</td>\n",
              "      <td>United States</td>\n",
              "      <td>San Francisco</td>\n",
              "      <td>...</td>\n",
              "      <td>94122</td>\n",
              "      <td>West</td>\n",
              "      <td>OFF-BI-10001721</td>\n",
              "      <td>Office Supplies</td>\n",
              "      <td>Binders</td>\n",
              "      <td>Trimflex Flexible Post Binders</td>\n",
              "      <td>51.3120</td>\n",
              "      <td>3</td>\n",
              "      <td>0.20</td>\n",
              "      <td>17.9592</td>\n",
              "    </tr>\n",
              "    <tr>\n",
              "      <th>98</th>\n",
              "      <td>99</td>\n",
              "      <td>CA-2016-149223</td>\n",
              "      <td>2016-09-06</td>\n",
              "      <td>2016-09-11</td>\n",
              "      <td>Standard Class</td>\n",
              "      <td>ER-13855</td>\n",
              "      <td>Elpida Rittenbach</td>\n",
              "      <td>Corporate</td>\n",
              "      <td>United States</td>\n",
              "      <td>Saint Paul</td>\n",
              "      <td>...</td>\n",
              "      <td>55106</td>\n",
              "      <td>Central</td>\n",
              "      <td>OFF-AP-10000358</td>\n",
              "      <td>Office Supplies</td>\n",
              "      <td>Appliances</td>\n",
              "      <td>Fellowes Basic Home/Office Series Surge Protec...</td>\n",
              "      <td>77.8800</td>\n",
              "      <td>6</td>\n",
              "      <td>0.00</td>\n",
              "      <td>22.5852</td>\n",
              "    </tr>\n",
              "    <tr>\n",
              "      <th>99</th>\n",
              "      <td>100</td>\n",
              "      <td>CA-2016-158568</td>\n",
              "      <td>2016-08-29</td>\n",
              "      <td>2016-09-02</td>\n",
              "      <td>Standard Class</td>\n",
              "      <td>RB-19465</td>\n",
              "      <td>Rick Bensley</td>\n",
              "      <td>Home Office</td>\n",
              "      <td>United States</td>\n",
              "      <td>Chicago</td>\n",
              "      <td>...</td>\n",
              "      <td>60610</td>\n",
              "      <td>Central</td>\n",
              "      <td>OFF-PA-10003256</td>\n",
              "      <td>Office Supplies</td>\n",
              "      <td>Paper</td>\n",
              "      <td>Avery Personal Creations Heavyweight Cards</td>\n",
              "      <td>64.6240</td>\n",
              "      <td>7</td>\n",
              "      <td>0.20</td>\n",
              "      <td>22.6184</td>\n",
              "    </tr>\n",
              "  </tbody>\n",
              "</table>\n",
              "<p>100 rows × 21 columns</p>\n",
              "</div>\n",
              "    <div class=\"colab-df-buttons\">\n",
              "\n",
              "  <div class=\"colab-df-container\">\n",
              "    <button class=\"colab-df-convert\" onclick=\"convertToInteractive('df-a3e3a76d-4183-4edf-bce2-a27c80aa0fe8')\"\n",
              "            title=\"Convert this dataframe to an interactive table.\"\n",
              "            style=\"display:none;\">\n",
              "\n",
              "  <svg xmlns=\"http://www.w3.org/2000/svg\" height=\"24px\" viewBox=\"0 -960 960 960\">\n",
              "    <path d=\"M120-120v-720h720v720H120Zm60-500h600v-160H180v160Zm220 220h160v-160H400v160Zm0 220h160v-160H400v160ZM180-400h160v-160H180v160Zm440 0h160v-160H620v160ZM180-180h160v-160H180v160Zm440 0h160v-160H620v160Z\"/>\n",
              "  </svg>\n",
              "    </button>\n",
              "\n",
              "  <style>\n",
              "    .colab-df-container {\n",
              "      display:flex;\n",
              "      gap: 12px;\n",
              "    }\n",
              "\n",
              "    .colab-df-convert {\n",
              "      background-color: #E8F0FE;\n",
              "      border: none;\n",
              "      border-radius: 50%;\n",
              "      cursor: pointer;\n",
              "      display: none;\n",
              "      fill: #1967D2;\n",
              "      height: 32px;\n",
              "      padding: 0 0 0 0;\n",
              "      width: 32px;\n",
              "    }\n",
              "\n",
              "    .colab-df-convert:hover {\n",
              "      background-color: #E2EBFA;\n",
              "      box-shadow: 0px 1px 2px rgba(60, 64, 67, 0.3), 0px 1px 3px 1px rgba(60, 64, 67, 0.15);\n",
              "      fill: #174EA6;\n",
              "    }\n",
              "\n",
              "    .colab-df-buttons div {\n",
              "      margin-bottom: 4px;\n",
              "    }\n",
              "\n",
              "    [theme=dark] .colab-df-convert {\n",
              "      background-color: #3B4455;\n",
              "      fill: #D2E3FC;\n",
              "    }\n",
              "\n",
              "    [theme=dark] .colab-df-convert:hover {\n",
              "      background-color: #434B5C;\n",
              "      box-shadow: 0px 1px 3px 1px rgba(0, 0, 0, 0.15);\n",
              "      filter: drop-shadow(0px 1px 2px rgba(0, 0, 0, 0.3));\n",
              "      fill: #FFFFFF;\n",
              "    }\n",
              "  </style>\n",
              "\n",
              "    <script>\n",
              "      const buttonEl =\n",
              "        document.querySelector('#df-a3e3a76d-4183-4edf-bce2-a27c80aa0fe8 button.colab-df-convert');\n",
              "      buttonEl.style.display =\n",
              "        google.colab.kernel.accessAllowed ? 'block' : 'none';\n",
              "\n",
              "      async function convertToInteractive(key) {\n",
              "        const element = document.querySelector('#df-a3e3a76d-4183-4edf-bce2-a27c80aa0fe8');\n",
              "        const dataTable =\n",
              "          await google.colab.kernel.invokeFunction('convertToInteractive',\n",
              "                                                    [key], {});\n",
              "        if (!dataTable) return;\n",
              "\n",
              "        const docLinkHtml = 'Like what you see? Visit the ' +\n",
              "          '<a target=\"_blank\" href=https://colab.research.google.com/notebooks/data_table.ipynb>data table notebook</a>'\n",
              "          + ' to learn more about interactive tables.';\n",
              "        element.innerHTML = '';\n",
              "        dataTable['output_type'] = 'display_data';\n",
              "        await google.colab.output.renderOutput(dataTable, element);\n",
              "        const docLink = document.createElement('div');\n",
              "        docLink.innerHTML = docLinkHtml;\n",
              "        element.appendChild(docLink);\n",
              "      }\n",
              "    </script>\n",
              "  </div>\n",
              "\n",
              "\n",
              "    <div id=\"df-a8f55b51-7c4e-433d-8ab8-ce5518d0c50f\">\n",
              "      <button class=\"colab-df-quickchart\" onclick=\"quickchart('df-a8f55b51-7c4e-433d-8ab8-ce5518d0c50f')\"\n",
              "                title=\"Suggest charts\"\n",
              "                style=\"display:none;\">\n",
              "\n",
              "<svg xmlns=\"http://www.w3.org/2000/svg\" height=\"24px\"viewBox=\"0 0 24 24\"\n",
              "     width=\"24px\">\n",
              "    <g>\n",
              "        <path d=\"M19 3H5c-1.1 0-2 .9-2 2v14c0 1.1.9 2 2 2h14c1.1 0 2-.9 2-2V5c0-1.1-.9-2-2-2zM9 17H7v-7h2v7zm4 0h-2V7h2v10zm4 0h-2v-4h2v4z\"/>\n",
              "    </g>\n",
              "</svg>\n",
              "      </button>\n",
              "\n",
              "<style>\n",
              "  .colab-df-quickchart {\n",
              "      --bg-color: #E8F0FE;\n",
              "      --fill-color: #1967D2;\n",
              "      --hover-bg-color: #E2EBFA;\n",
              "      --hover-fill-color: #174EA6;\n",
              "      --disabled-fill-color: #AAA;\n",
              "      --disabled-bg-color: #DDD;\n",
              "  }\n",
              "\n",
              "  [theme=dark] .colab-df-quickchart {\n",
              "      --bg-color: #3B4455;\n",
              "      --fill-color: #D2E3FC;\n",
              "      --hover-bg-color: #434B5C;\n",
              "      --hover-fill-color: #FFFFFF;\n",
              "      --disabled-bg-color: #3B4455;\n",
              "      --disabled-fill-color: #666;\n",
              "  }\n",
              "\n",
              "  .colab-df-quickchart {\n",
              "    background-color: var(--bg-color);\n",
              "    border: none;\n",
              "    border-radius: 50%;\n",
              "    cursor: pointer;\n",
              "    display: none;\n",
              "    fill: var(--fill-color);\n",
              "    height: 32px;\n",
              "    padding: 0;\n",
              "    width: 32px;\n",
              "  }\n",
              "\n",
              "  .colab-df-quickchart:hover {\n",
              "    background-color: var(--hover-bg-color);\n",
              "    box-shadow: 0 1px 2px rgba(60, 64, 67, 0.3), 0 1px 3px 1px rgba(60, 64, 67, 0.15);\n",
              "    fill: var(--button-hover-fill-color);\n",
              "  }\n",
              "\n",
              "  .colab-df-quickchart-complete:disabled,\n",
              "  .colab-df-quickchart-complete:disabled:hover {\n",
              "    background-color: var(--disabled-bg-color);\n",
              "    fill: var(--disabled-fill-color);\n",
              "    box-shadow: none;\n",
              "  }\n",
              "\n",
              "  .colab-df-spinner {\n",
              "    border: 2px solid var(--fill-color);\n",
              "    border-color: transparent;\n",
              "    border-bottom-color: var(--fill-color);\n",
              "    animation:\n",
              "      spin 1s steps(1) infinite;\n",
              "  }\n",
              "\n",
              "  @keyframes spin {\n",
              "    0% {\n",
              "      border-color: transparent;\n",
              "      border-bottom-color: var(--fill-color);\n",
              "      border-left-color: var(--fill-color);\n",
              "    }\n",
              "    20% {\n",
              "      border-color: transparent;\n",
              "      border-left-color: var(--fill-color);\n",
              "      border-top-color: var(--fill-color);\n",
              "    }\n",
              "    30% {\n",
              "      border-color: transparent;\n",
              "      border-left-color: var(--fill-color);\n",
              "      border-top-color: var(--fill-color);\n",
              "      border-right-color: var(--fill-color);\n",
              "    }\n",
              "    40% {\n",
              "      border-color: transparent;\n",
              "      border-right-color: var(--fill-color);\n",
              "      border-top-color: var(--fill-color);\n",
              "    }\n",
              "    60% {\n",
              "      border-color: transparent;\n",
              "      border-right-color: var(--fill-color);\n",
              "    }\n",
              "    80% {\n",
              "      border-color: transparent;\n",
              "      border-right-color: var(--fill-color);\n",
              "      border-bottom-color: var(--fill-color);\n",
              "    }\n",
              "    90% {\n",
              "      border-color: transparent;\n",
              "      border-bottom-color: var(--fill-color);\n",
              "    }\n",
              "  }\n",
              "</style>\n",
              "\n",
              "      <script>\n",
              "        async function quickchart(key) {\n",
              "          const quickchartButtonEl =\n",
              "            document.querySelector('#' + key + ' button');\n",
              "          quickchartButtonEl.disabled = true;  // To prevent multiple clicks.\n",
              "          quickchartButtonEl.classList.add('colab-df-spinner');\n",
              "          try {\n",
              "            const charts = await google.colab.kernel.invokeFunction(\n",
              "                'suggestCharts', [key], {});\n",
              "          } catch (error) {\n",
              "            console.error('Error during call to suggestCharts:', error);\n",
              "          }\n",
              "          quickchartButtonEl.classList.remove('colab-df-spinner');\n",
              "          quickchartButtonEl.classList.add('colab-df-quickchart-complete');\n",
              "        }\n",
              "        (() => {\n",
              "          let quickchartButtonEl =\n",
              "            document.querySelector('#df-a8f55b51-7c4e-433d-8ab8-ce5518d0c50f button');\n",
              "          quickchartButtonEl.style.display =\n",
              "            google.colab.kernel.accessAllowed ? 'block' : 'none';\n",
              "        })();\n",
              "      </script>\n",
              "    </div>\n",
              "\n",
              "    </div>\n",
              "  </div>\n"
            ],
            "application/vnd.google.colaboratory.intrinsic+json": {
              "type": "dataframe",
              "variable_name": "data"
            }
          },
          "metadata": {},
          "execution_count": 93
        }
      ]
    },
    {
      "cell_type": "markdown",
      "source": [
        "Display the last 10 records from the DataFrame"
      ],
      "metadata": {
        "id": "0jBRAY2-r1Fz"
      }
    },
    {
      "cell_type": "code",
      "source": [
        "data.tail(10)"
      ],
      "metadata": {
        "id": "8rv3nuxJptw9",
        "outputId": "5846eb37-183b-4ea8-ec88-6cc25b01837f",
        "colab": {
          "base_uri": "https://localhost:8080/",
          "height": 1000
        }
      },
      "execution_count": 94,
      "outputs": [
        {
          "output_type": "execute_result",
          "data": {
            "text/plain": [
              "      Row ID        Order ID Order Date  Ship Date       Ship Mode  \\\n",
              "9984    9985  CA-2015-100251 2015-05-17 2015-05-23  Standard Class   \n",
              "9985    9986  CA-2015-100251 2015-05-17 2015-05-23  Standard Class   \n",
              "9986    9987  CA-2016-125794 2016-09-29 2016-10-03  Standard Class   \n",
              "9987    9988  CA-2017-163629 2017-11-17 2017-11-21  Standard Class   \n",
              "9988    9989  CA-2017-163629 2017-11-17 2017-11-21  Standard Class   \n",
              "9989    9990  CA-2014-110422 2014-01-21 2014-01-23    Second Class   \n",
              "9990    9991  CA-2017-121258 2017-02-26 2017-03-03  Standard Class   \n",
              "9991    9992  CA-2017-121258 2017-02-26 2017-03-03  Standard Class   \n",
              "9992    9993  CA-2017-121258 2017-02-26 2017-03-03  Standard Class   \n",
              "9993    9994  CA-2017-119914 2017-05-04 2017-05-09    Second Class   \n",
              "\n",
              "     Customer ID     Customer Name    Segment        Country         City  \\\n",
              "9984    DV-13465  Dianna Vittorini   Consumer  United States   Long Beach   \n",
              "9985    DV-13465  Dianna Vittorini   Consumer  United States   Long Beach   \n",
              "9986    ML-17410      Maris LaWare   Consumer  United States  Los Angeles   \n",
              "9987    RA-19885      Ruben Ausman  Corporate  United States       Athens   \n",
              "9988    RA-19885      Ruben Ausman  Corporate  United States       Athens   \n",
              "9989    TB-21400  Tom Boeckenhauer   Consumer  United States        Miami   \n",
              "9990    DB-13060       Dave Brooks   Consumer  United States   Costa Mesa   \n",
              "9991    DB-13060       Dave Brooks   Consumer  United States   Costa Mesa   \n",
              "9992    DB-13060       Dave Brooks   Consumer  United States   Costa Mesa   \n",
              "9993    CC-12220      Chris Cortes   Consumer  United States  Westminster   \n",
              "\n",
              "      ... Postal Code  Region       Product ID         Category Sub-Category  \\\n",
              "9984  ...       11561    East  OFF-LA-10003766  Office Supplies       Labels   \n",
              "9985  ...       11561    East  OFF-SU-10000898  Office Supplies     Supplies   \n",
              "9986  ...       90008    West  TEC-AC-10003399       Technology  Accessories   \n",
              "9987  ...       30605   South  TEC-AC-10001539       Technology  Accessories   \n",
              "9988  ...       30605   South  TEC-PH-10004006       Technology       Phones   \n",
              "9989  ...       33180   South  FUR-FU-10001889        Furniture  Furnishings   \n",
              "9990  ...       92627    West  FUR-FU-10000747        Furniture  Furnishings   \n",
              "9991  ...       92627    West  TEC-PH-10003645       Technology       Phones   \n",
              "9992  ...       92627    West  OFF-PA-10004041  Office Supplies        Paper   \n",
              "9993  ...       92683    West  OFF-AP-10002684  Office Supplies   Appliances   \n",
              "\n",
              "                                           Product Name    Sales  Quantity  \\\n",
              "9984                     Self-Adhesive Removable Labels   31.500        10   \n",
              "9985  Acme Hot Forged Carbon Steel Scissors with Nic...   55.600         4   \n",
              "9986  Memorex Mini Travel Drive 64 GB USB 2.0 Flash ...   36.240         1   \n",
              "9987  Logitech G430 Surround Sound Gaming Headset wi...   79.990         1   \n",
              "9988                    Panasonic KX - TS880B Telephone  206.100         5   \n",
              "9989                             Ultra Door Pull Handle   25.248         3   \n",
              "9990  Tenex B1-RE Series Chair Mats for Low Pile Car...   91.960         2   \n",
              "9991                              Aastra 57i VoIP phone  258.576         2   \n",
              "9992  It's Hot Message Books with Stickers, 2 3/4\" x 5\"   29.600         4   \n",
              "9993  Acco 7-Outlet Masterpiece Power Center, Wihtou...  243.160         2   \n",
              "\n",
              "      Discount   Profit  \n",
              "9984       0.0  15.1200  \n",
              "9985       0.0  16.1240  \n",
              "9986       0.0  15.2208  \n",
              "9987       0.0  28.7964  \n",
              "9988       0.0  55.6470  \n",
              "9989       0.2   4.1028  \n",
              "9990       0.0  15.6332  \n",
              "9991       0.2  19.3932  \n",
              "9992       0.0  13.3200  \n",
              "9993       0.0  72.9480  \n",
              "\n",
              "[10 rows x 21 columns]"
            ],
            "text/html": [
              "\n",
              "  <div id=\"df-f73e8be3-ec42-407f-bd94-bb2d167f7b8e\" class=\"colab-df-container\">\n",
              "    <div>\n",
              "<style scoped>\n",
              "    .dataframe tbody tr th:only-of-type {\n",
              "        vertical-align: middle;\n",
              "    }\n",
              "\n",
              "    .dataframe tbody tr th {\n",
              "        vertical-align: top;\n",
              "    }\n",
              "\n",
              "    .dataframe thead th {\n",
              "        text-align: right;\n",
              "    }\n",
              "</style>\n",
              "<table border=\"1\" class=\"dataframe\">\n",
              "  <thead>\n",
              "    <tr style=\"text-align: right;\">\n",
              "      <th></th>\n",
              "      <th>Row ID</th>\n",
              "      <th>Order ID</th>\n",
              "      <th>Order Date</th>\n",
              "      <th>Ship Date</th>\n",
              "      <th>Ship Mode</th>\n",
              "      <th>Customer ID</th>\n",
              "      <th>Customer Name</th>\n",
              "      <th>Segment</th>\n",
              "      <th>Country</th>\n",
              "      <th>City</th>\n",
              "      <th>...</th>\n",
              "      <th>Postal Code</th>\n",
              "      <th>Region</th>\n",
              "      <th>Product ID</th>\n",
              "      <th>Category</th>\n",
              "      <th>Sub-Category</th>\n",
              "      <th>Product Name</th>\n",
              "      <th>Sales</th>\n",
              "      <th>Quantity</th>\n",
              "      <th>Discount</th>\n",
              "      <th>Profit</th>\n",
              "    </tr>\n",
              "  </thead>\n",
              "  <tbody>\n",
              "    <tr>\n",
              "      <th>9984</th>\n",
              "      <td>9985</td>\n",
              "      <td>CA-2015-100251</td>\n",
              "      <td>2015-05-17</td>\n",
              "      <td>2015-05-23</td>\n",
              "      <td>Standard Class</td>\n",
              "      <td>DV-13465</td>\n",
              "      <td>Dianna Vittorini</td>\n",
              "      <td>Consumer</td>\n",
              "      <td>United States</td>\n",
              "      <td>Long Beach</td>\n",
              "      <td>...</td>\n",
              "      <td>11561</td>\n",
              "      <td>East</td>\n",
              "      <td>OFF-LA-10003766</td>\n",
              "      <td>Office Supplies</td>\n",
              "      <td>Labels</td>\n",
              "      <td>Self-Adhesive Removable Labels</td>\n",
              "      <td>31.500</td>\n",
              "      <td>10</td>\n",
              "      <td>0.0</td>\n",
              "      <td>15.1200</td>\n",
              "    </tr>\n",
              "    <tr>\n",
              "      <th>9985</th>\n",
              "      <td>9986</td>\n",
              "      <td>CA-2015-100251</td>\n",
              "      <td>2015-05-17</td>\n",
              "      <td>2015-05-23</td>\n",
              "      <td>Standard Class</td>\n",
              "      <td>DV-13465</td>\n",
              "      <td>Dianna Vittorini</td>\n",
              "      <td>Consumer</td>\n",
              "      <td>United States</td>\n",
              "      <td>Long Beach</td>\n",
              "      <td>...</td>\n",
              "      <td>11561</td>\n",
              "      <td>East</td>\n",
              "      <td>OFF-SU-10000898</td>\n",
              "      <td>Office Supplies</td>\n",
              "      <td>Supplies</td>\n",
              "      <td>Acme Hot Forged Carbon Steel Scissors with Nic...</td>\n",
              "      <td>55.600</td>\n",
              "      <td>4</td>\n",
              "      <td>0.0</td>\n",
              "      <td>16.1240</td>\n",
              "    </tr>\n",
              "    <tr>\n",
              "      <th>9986</th>\n",
              "      <td>9987</td>\n",
              "      <td>CA-2016-125794</td>\n",
              "      <td>2016-09-29</td>\n",
              "      <td>2016-10-03</td>\n",
              "      <td>Standard Class</td>\n",
              "      <td>ML-17410</td>\n",
              "      <td>Maris LaWare</td>\n",
              "      <td>Consumer</td>\n",
              "      <td>United States</td>\n",
              "      <td>Los Angeles</td>\n",
              "      <td>...</td>\n",
              "      <td>90008</td>\n",
              "      <td>West</td>\n",
              "      <td>TEC-AC-10003399</td>\n",
              "      <td>Technology</td>\n",
              "      <td>Accessories</td>\n",
              "      <td>Memorex Mini Travel Drive 64 GB USB 2.0 Flash ...</td>\n",
              "      <td>36.240</td>\n",
              "      <td>1</td>\n",
              "      <td>0.0</td>\n",
              "      <td>15.2208</td>\n",
              "    </tr>\n",
              "    <tr>\n",
              "      <th>9987</th>\n",
              "      <td>9988</td>\n",
              "      <td>CA-2017-163629</td>\n",
              "      <td>2017-11-17</td>\n",
              "      <td>2017-11-21</td>\n",
              "      <td>Standard Class</td>\n",
              "      <td>RA-19885</td>\n",
              "      <td>Ruben Ausman</td>\n",
              "      <td>Corporate</td>\n",
              "      <td>United States</td>\n",
              "      <td>Athens</td>\n",
              "      <td>...</td>\n",
              "      <td>30605</td>\n",
              "      <td>South</td>\n",
              "      <td>TEC-AC-10001539</td>\n",
              "      <td>Technology</td>\n",
              "      <td>Accessories</td>\n",
              "      <td>Logitech G430 Surround Sound Gaming Headset wi...</td>\n",
              "      <td>79.990</td>\n",
              "      <td>1</td>\n",
              "      <td>0.0</td>\n",
              "      <td>28.7964</td>\n",
              "    </tr>\n",
              "    <tr>\n",
              "      <th>9988</th>\n",
              "      <td>9989</td>\n",
              "      <td>CA-2017-163629</td>\n",
              "      <td>2017-11-17</td>\n",
              "      <td>2017-11-21</td>\n",
              "      <td>Standard Class</td>\n",
              "      <td>RA-19885</td>\n",
              "      <td>Ruben Ausman</td>\n",
              "      <td>Corporate</td>\n",
              "      <td>United States</td>\n",
              "      <td>Athens</td>\n",
              "      <td>...</td>\n",
              "      <td>30605</td>\n",
              "      <td>South</td>\n",
              "      <td>TEC-PH-10004006</td>\n",
              "      <td>Technology</td>\n",
              "      <td>Phones</td>\n",
              "      <td>Panasonic KX - TS880B Telephone</td>\n",
              "      <td>206.100</td>\n",
              "      <td>5</td>\n",
              "      <td>0.0</td>\n",
              "      <td>55.6470</td>\n",
              "    </tr>\n",
              "    <tr>\n",
              "      <th>9989</th>\n",
              "      <td>9990</td>\n",
              "      <td>CA-2014-110422</td>\n",
              "      <td>2014-01-21</td>\n",
              "      <td>2014-01-23</td>\n",
              "      <td>Second Class</td>\n",
              "      <td>TB-21400</td>\n",
              "      <td>Tom Boeckenhauer</td>\n",
              "      <td>Consumer</td>\n",
              "      <td>United States</td>\n",
              "      <td>Miami</td>\n",
              "      <td>...</td>\n",
              "      <td>33180</td>\n",
              "      <td>South</td>\n",
              "      <td>FUR-FU-10001889</td>\n",
              "      <td>Furniture</td>\n",
              "      <td>Furnishings</td>\n",
              "      <td>Ultra Door Pull Handle</td>\n",
              "      <td>25.248</td>\n",
              "      <td>3</td>\n",
              "      <td>0.2</td>\n",
              "      <td>4.1028</td>\n",
              "    </tr>\n",
              "    <tr>\n",
              "      <th>9990</th>\n",
              "      <td>9991</td>\n",
              "      <td>CA-2017-121258</td>\n",
              "      <td>2017-02-26</td>\n",
              "      <td>2017-03-03</td>\n",
              "      <td>Standard Class</td>\n",
              "      <td>DB-13060</td>\n",
              "      <td>Dave Brooks</td>\n",
              "      <td>Consumer</td>\n",
              "      <td>United States</td>\n",
              "      <td>Costa Mesa</td>\n",
              "      <td>...</td>\n",
              "      <td>92627</td>\n",
              "      <td>West</td>\n",
              "      <td>FUR-FU-10000747</td>\n",
              "      <td>Furniture</td>\n",
              "      <td>Furnishings</td>\n",
              "      <td>Tenex B1-RE Series Chair Mats for Low Pile Car...</td>\n",
              "      <td>91.960</td>\n",
              "      <td>2</td>\n",
              "      <td>0.0</td>\n",
              "      <td>15.6332</td>\n",
              "    </tr>\n",
              "    <tr>\n",
              "      <th>9991</th>\n",
              "      <td>9992</td>\n",
              "      <td>CA-2017-121258</td>\n",
              "      <td>2017-02-26</td>\n",
              "      <td>2017-03-03</td>\n",
              "      <td>Standard Class</td>\n",
              "      <td>DB-13060</td>\n",
              "      <td>Dave Brooks</td>\n",
              "      <td>Consumer</td>\n",
              "      <td>United States</td>\n",
              "      <td>Costa Mesa</td>\n",
              "      <td>...</td>\n",
              "      <td>92627</td>\n",
              "      <td>West</td>\n",
              "      <td>TEC-PH-10003645</td>\n",
              "      <td>Technology</td>\n",
              "      <td>Phones</td>\n",
              "      <td>Aastra 57i VoIP phone</td>\n",
              "      <td>258.576</td>\n",
              "      <td>2</td>\n",
              "      <td>0.2</td>\n",
              "      <td>19.3932</td>\n",
              "    </tr>\n",
              "    <tr>\n",
              "      <th>9992</th>\n",
              "      <td>9993</td>\n",
              "      <td>CA-2017-121258</td>\n",
              "      <td>2017-02-26</td>\n",
              "      <td>2017-03-03</td>\n",
              "      <td>Standard Class</td>\n",
              "      <td>DB-13060</td>\n",
              "      <td>Dave Brooks</td>\n",
              "      <td>Consumer</td>\n",
              "      <td>United States</td>\n",
              "      <td>Costa Mesa</td>\n",
              "      <td>...</td>\n",
              "      <td>92627</td>\n",
              "      <td>West</td>\n",
              "      <td>OFF-PA-10004041</td>\n",
              "      <td>Office Supplies</td>\n",
              "      <td>Paper</td>\n",
              "      <td>It's Hot Message Books with Stickers, 2 3/4\" x 5\"</td>\n",
              "      <td>29.600</td>\n",
              "      <td>4</td>\n",
              "      <td>0.0</td>\n",
              "      <td>13.3200</td>\n",
              "    </tr>\n",
              "    <tr>\n",
              "      <th>9993</th>\n",
              "      <td>9994</td>\n",
              "      <td>CA-2017-119914</td>\n",
              "      <td>2017-05-04</td>\n",
              "      <td>2017-05-09</td>\n",
              "      <td>Second Class</td>\n",
              "      <td>CC-12220</td>\n",
              "      <td>Chris Cortes</td>\n",
              "      <td>Consumer</td>\n",
              "      <td>United States</td>\n",
              "      <td>Westminster</td>\n",
              "      <td>...</td>\n",
              "      <td>92683</td>\n",
              "      <td>West</td>\n",
              "      <td>OFF-AP-10002684</td>\n",
              "      <td>Office Supplies</td>\n",
              "      <td>Appliances</td>\n",
              "      <td>Acco 7-Outlet Masterpiece Power Center, Wihtou...</td>\n",
              "      <td>243.160</td>\n",
              "      <td>2</td>\n",
              "      <td>0.0</td>\n",
              "      <td>72.9480</td>\n",
              "    </tr>\n",
              "  </tbody>\n",
              "</table>\n",
              "<p>10 rows × 21 columns</p>\n",
              "</div>\n",
              "    <div class=\"colab-df-buttons\">\n",
              "\n",
              "  <div class=\"colab-df-container\">\n",
              "    <button class=\"colab-df-convert\" onclick=\"convertToInteractive('df-f73e8be3-ec42-407f-bd94-bb2d167f7b8e')\"\n",
              "            title=\"Convert this dataframe to an interactive table.\"\n",
              "            style=\"display:none;\">\n",
              "\n",
              "  <svg xmlns=\"http://www.w3.org/2000/svg\" height=\"24px\" viewBox=\"0 -960 960 960\">\n",
              "    <path d=\"M120-120v-720h720v720H120Zm60-500h600v-160H180v160Zm220 220h160v-160H400v160Zm0 220h160v-160H400v160ZM180-400h160v-160H180v160Zm440 0h160v-160H620v160ZM180-180h160v-160H180v160Zm440 0h160v-160H620v160Z\"/>\n",
              "  </svg>\n",
              "    </button>\n",
              "\n",
              "  <style>\n",
              "    .colab-df-container {\n",
              "      display:flex;\n",
              "      gap: 12px;\n",
              "    }\n",
              "\n",
              "    .colab-df-convert {\n",
              "      background-color: #E8F0FE;\n",
              "      border: none;\n",
              "      border-radius: 50%;\n",
              "      cursor: pointer;\n",
              "      display: none;\n",
              "      fill: #1967D2;\n",
              "      height: 32px;\n",
              "      padding: 0 0 0 0;\n",
              "      width: 32px;\n",
              "    }\n",
              "\n",
              "    .colab-df-convert:hover {\n",
              "      background-color: #E2EBFA;\n",
              "      box-shadow: 0px 1px 2px rgba(60, 64, 67, 0.3), 0px 1px 3px 1px rgba(60, 64, 67, 0.15);\n",
              "      fill: #174EA6;\n",
              "    }\n",
              "\n",
              "    .colab-df-buttons div {\n",
              "      margin-bottom: 4px;\n",
              "    }\n",
              "\n",
              "    [theme=dark] .colab-df-convert {\n",
              "      background-color: #3B4455;\n",
              "      fill: #D2E3FC;\n",
              "    }\n",
              "\n",
              "    [theme=dark] .colab-df-convert:hover {\n",
              "      background-color: #434B5C;\n",
              "      box-shadow: 0px 1px 3px 1px rgba(0, 0, 0, 0.15);\n",
              "      filter: drop-shadow(0px 1px 2px rgba(0, 0, 0, 0.3));\n",
              "      fill: #FFFFFF;\n",
              "    }\n",
              "  </style>\n",
              "\n",
              "    <script>\n",
              "      const buttonEl =\n",
              "        document.querySelector('#df-f73e8be3-ec42-407f-bd94-bb2d167f7b8e button.colab-df-convert');\n",
              "      buttonEl.style.display =\n",
              "        google.colab.kernel.accessAllowed ? 'block' : 'none';\n",
              "\n",
              "      async function convertToInteractive(key) {\n",
              "        const element = document.querySelector('#df-f73e8be3-ec42-407f-bd94-bb2d167f7b8e');\n",
              "        const dataTable =\n",
              "          await google.colab.kernel.invokeFunction('convertToInteractive',\n",
              "                                                    [key], {});\n",
              "        if (!dataTable) return;\n",
              "\n",
              "        const docLinkHtml = 'Like what you see? Visit the ' +\n",
              "          '<a target=\"_blank\" href=https://colab.research.google.com/notebooks/data_table.ipynb>data table notebook</a>'\n",
              "          + ' to learn more about interactive tables.';\n",
              "        element.innerHTML = '';\n",
              "        dataTable['output_type'] = 'display_data';\n",
              "        await google.colab.output.renderOutput(dataTable, element);\n",
              "        const docLink = document.createElement('div');\n",
              "        docLink.innerHTML = docLinkHtml;\n",
              "        element.appendChild(docLink);\n",
              "      }\n",
              "    </script>\n",
              "  </div>\n",
              "\n",
              "\n",
              "    <div id=\"df-24cf7b23-4fa7-4b74-a9b1-830b6d902695\">\n",
              "      <button class=\"colab-df-quickchart\" onclick=\"quickchart('df-24cf7b23-4fa7-4b74-a9b1-830b6d902695')\"\n",
              "                title=\"Suggest charts\"\n",
              "                style=\"display:none;\">\n",
              "\n",
              "<svg xmlns=\"http://www.w3.org/2000/svg\" height=\"24px\"viewBox=\"0 0 24 24\"\n",
              "     width=\"24px\">\n",
              "    <g>\n",
              "        <path d=\"M19 3H5c-1.1 0-2 .9-2 2v14c0 1.1.9 2 2 2h14c1.1 0 2-.9 2-2V5c0-1.1-.9-2-2-2zM9 17H7v-7h2v7zm4 0h-2V7h2v10zm4 0h-2v-4h2v4z\"/>\n",
              "    </g>\n",
              "</svg>\n",
              "      </button>\n",
              "\n",
              "<style>\n",
              "  .colab-df-quickchart {\n",
              "      --bg-color: #E8F0FE;\n",
              "      --fill-color: #1967D2;\n",
              "      --hover-bg-color: #E2EBFA;\n",
              "      --hover-fill-color: #174EA6;\n",
              "      --disabled-fill-color: #AAA;\n",
              "      --disabled-bg-color: #DDD;\n",
              "  }\n",
              "\n",
              "  [theme=dark] .colab-df-quickchart {\n",
              "      --bg-color: #3B4455;\n",
              "      --fill-color: #D2E3FC;\n",
              "      --hover-bg-color: #434B5C;\n",
              "      --hover-fill-color: #FFFFFF;\n",
              "      --disabled-bg-color: #3B4455;\n",
              "      --disabled-fill-color: #666;\n",
              "  }\n",
              "\n",
              "  .colab-df-quickchart {\n",
              "    background-color: var(--bg-color);\n",
              "    border: none;\n",
              "    border-radius: 50%;\n",
              "    cursor: pointer;\n",
              "    display: none;\n",
              "    fill: var(--fill-color);\n",
              "    height: 32px;\n",
              "    padding: 0;\n",
              "    width: 32px;\n",
              "  }\n",
              "\n",
              "  .colab-df-quickchart:hover {\n",
              "    background-color: var(--hover-bg-color);\n",
              "    box-shadow: 0 1px 2px rgba(60, 64, 67, 0.3), 0 1px 3px 1px rgba(60, 64, 67, 0.15);\n",
              "    fill: var(--button-hover-fill-color);\n",
              "  }\n",
              "\n",
              "  .colab-df-quickchart-complete:disabled,\n",
              "  .colab-df-quickchart-complete:disabled:hover {\n",
              "    background-color: var(--disabled-bg-color);\n",
              "    fill: var(--disabled-fill-color);\n",
              "    box-shadow: none;\n",
              "  }\n",
              "\n",
              "  .colab-df-spinner {\n",
              "    border: 2px solid var(--fill-color);\n",
              "    border-color: transparent;\n",
              "    border-bottom-color: var(--fill-color);\n",
              "    animation:\n",
              "      spin 1s steps(1) infinite;\n",
              "  }\n",
              "\n",
              "  @keyframes spin {\n",
              "    0% {\n",
              "      border-color: transparent;\n",
              "      border-bottom-color: var(--fill-color);\n",
              "      border-left-color: var(--fill-color);\n",
              "    }\n",
              "    20% {\n",
              "      border-color: transparent;\n",
              "      border-left-color: var(--fill-color);\n",
              "      border-top-color: var(--fill-color);\n",
              "    }\n",
              "    30% {\n",
              "      border-color: transparent;\n",
              "      border-left-color: var(--fill-color);\n",
              "      border-top-color: var(--fill-color);\n",
              "      border-right-color: var(--fill-color);\n",
              "    }\n",
              "    40% {\n",
              "      border-color: transparent;\n",
              "      border-right-color: var(--fill-color);\n",
              "      border-top-color: var(--fill-color);\n",
              "    }\n",
              "    60% {\n",
              "      border-color: transparent;\n",
              "      border-right-color: var(--fill-color);\n",
              "    }\n",
              "    80% {\n",
              "      border-color: transparent;\n",
              "      border-right-color: var(--fill-color);\n",
              "      border-bottom-color: var(--fill-color);\n",
              "    }\n",
              "    90% {\n",
              "      border-color: transparent;\n",
              "      border-bottom-color: var(--fill-color);\n",
              "    }\n",
              "  }\n",
              "</style>\n",
              "\n",
              "      <script>\n",
              "        async function quickchart(key) {\n",
              "          const quickchartButtonEl =\n",
              "            document.querySelector('#' + key + ' button');\n",
              "          quickchartButtonEl.disabled = true;  // To prevent multiple clicks.\n",
              "          quickchartButtonEl.classList.add('colab-df-spinner');\n",
              "          try {\n",
              "            const charts = await google.colab.kernel.invokeFunction(\n",
              "                'suggestCharts', [key], {});\n",
              "          } catch (error) {\n",
              "            console.error('Error during call to suggestCharts:', error);\n",
              "          }\n",
              "          quickchartButtonEl.classList.remove('colab-df-spinner');\n",
              "          quickchartButtonEl.classList.add('colab-df-quickchart-complete');\n",
              "        }\n",
              "        (() => {\n",
              "          let quickchartButtonEl =\n",
              "            document.querySelector('#df-24cf7b23-4fa7-4b74-a9b1-830b6d902695 button');\n",
              "          quickchartButtonEl.style.display =\n",
              "            google.colab.kernel.accessAllowed ? 'block' : 'none';\n",
              "        })();\n",
              "      </script>\n",
              "    </div>\n",
              "\n",
              "    </div>\n",
              "  </div>\n"
            ],
            "application/vnd.google.colaboratory.intrinsic+json": {
              "type": "dataframe"
            }
          },
          "metadata": {},
          "execution_count": 94
        }
      ]
    },
    {
      "cell_type": "markdown",
      "source": [
        "Display the last record from the DataFrame"
      ],
      "metadata": {
        "id": "BYYNUELosDy4"
      }
    },
    {
      "cell_type": "code",
      "source": [
        "data.iloc[-1]"
      ],
      "metadata": {
        "id": "RtDDpUncp0WF",
        "outputId": "8bbcbf82-5fa4-485a-e955-6049e5b923aa",
        "colab": {
          "base_uri": "https://localhost:8080/",
          "height": 742
        }
      },
      "execution_count": 95,
      "outputs": [
        {
          "output_type": "execute_result",
          "data": {
            "text/plain": [
              "Row ID                                                        9994\n",
              "Order ID                                            CA-2017-119914\n",
              "Order Date                                     2017-05-04 00:00:00\n",
              "Ship Date                                      2017-05-09 00:00:00\n",
              "Ship Mode                                             Second Class\n",
              "Customer ID                                               CC-12220\n",
              "Customer Name                                         Chris Cortes\n",
              "Segment                                                   Consumer\n",
              "Country                                              United States\n",
              "City                                                   Westminster\n",
              "State                                                   California\n",
              "Postal Code                                                  92683\n",
              "Region                                                        West\n",
              "Product ID                                         OFF-AP-10002684\n",
              "Category                                           Office Supplies\n",
              "Sub-Category                                            Appliances\n",
              "Product Name     Acco 7-Outlet Masterpiece Power Center, Wihtou...\n",
              "Sales                                                       243.16\n",
              "Quantity                                                         2\n",
              "Discount                                                       0.0\n",
              "Profit                                                      72.948\n",
              "Name: 9993, dtype: object"
            ],
            "text/html": [
              "<div>\n",
              "<style scoped>\n",
              "    .dataframe tbody tr th:only-of-type {\n",
              "        vertical-align: middle;\n",
              "    }\n",
              "\n",
              "    .dataframe tbody tr th {\n",
              "        vertical-align: top;\n",
              "    }\n",
              "\n",
              "    .dataframe thead th {\n",
              "        text-align: right;\n",
              "    }\n",
              "</style>\n",
              "<table border=\"1\" class=\"dataframe\">\n",
              "  <thead>\n",
              "    <tr style=\"text-align: right;\">\n",
              "      <th></th>\n",
              "      <th>9993</th>\n",
              "    </tr>\n",
              "  </thead>\n",
              "  <tbody>\n",
              "    <tr>\n",
              "      <th>Row ID</th>\n",
              "      <td>9994</td>\n",
              "    </tr>\n",
              "    <tr>\n",
              "      <th>Order ID</th>\n",
              "      <td>CA-2017-119914</td>\n",
              "    </tr>\n",
              "    <tr>\n",
              "      <th>Order Date</th>\n",
              "      <td>2017-05-04 00:00:00</td>\n",
              "    </tr>\n",
              "    <tr>\n",
              "      <th>Ship Date</th>\n",
              "      <td>2017-05-09 00:00:00</td>\n",
              "    </tr>\n",
              "    <tr>\n",
              "      <th>Ship Mode</th>\n",
              "      <td>Second Class</td>\n",
              "    </tr>\n",
              "    <tr>\n",
              "      <th>Customer ID</th>\n",
              "      <td>CC-12220</td>\n",
              "    </tr>\n",
              "    <tr>\n",
              "      <th>Customer Name</th>\n",
              "      <td>Chris Cortes</td>\n",
              "    </tr>\n",
              "    <tr>\n",
              "      <th>Segment</th>\n",
              "      <td>Consumer</td>\n",
              "    </tr>\n",
              "    <tr>\n",
              "      <th>Country</th>\n",
              "      <td>United States</td>\n",
              "    </tr>\n",
              "    <tr>\n",
              "      <th>City</th>\n",
              "      <td>Westminster</td>\n",
              "    </tr>\n",
              "    <tr>\n",
              "      <th>State</th>\n",
              "      <td>California</td>\n",
              "    </tr>\n",
              "    <tr>\n",
              "      <th>Postal Code</th>\n",
              "      <td>92683</td>\n",
              "    </tr>\n",
              "    <tr>\n",
              "      <th>Region</th>\n",
              "      <td>West</td>\n",
              "    </tr>\n",
              "    <tr>\n",
              "      <th>Product ID</th>\n",
              "      <td>OFF-AP-10002684</td>\n",
              "    </tr>\n",
              "    <tr>\n",
              "      <th>Category</th>\n",
              "      <td>Office Supplies</td>\n",
              "    </tr>\n",
              "    <tr>\n",
              "      <th>Sub-Category</th>\n",
              "      <td>Appliances</td>\n",
              "    </tr>\n",
              "    <tr>\n",
              "      <th>Product Name</th>\n",
              "      <td>Acco 7-Outlet Masterpiece Power Center, Wihtou...</td>\n",
              "    </tr>\n",
              "    <tr>\n",
              "      <th>Sales</th>\n",
              "      <td>243.16</td>\n",
              "    </tr>\n",
              "    <tr>\n",
              "      <th>Quantity</th>\n",
              "      <td>2</td>\n",
              "    </tr>\n",
              "    <tr>\n",
              "      <th>Discount</th>\n",
              "      <td>0.0</td>\n",
              "    </tr>\n",
              "    <tr>\n",
              "      <th>Profit</th>\n",
              "      <td>72.948</td>\n",
              "    </tr>\n",
              "  </tbody>\n",
              "</table>\n",
              "</div><br><label><b>dtype:</b> object</label>"
            ]
          },
          "metadata": {},
          "execution_count": 95
        }
      ]
    },
    {
      "cell_type": "markdown",
      "source": [
        "Now from the Samplesuperstore DataFrame, try to sort the data by the\n",
        "tenure column according to the descending order."
      ],
      "metadata": {
        "id": "Yj1FwNGCsFQc"
      }
    },
    {
      "cell_type": "code",
      "source": [
        "data.sort_values(by='Sales',ascending=False)"
      ],
      "metadata": {
        "id": "Tv5AATmvqGuY",
        "outputId": "aeeb8115-4530-4157-b280-f2eb8951a6bc",
        "colab": {
          "base_uri": "https://localhost:8080/",
          "height": 947
        }
      },
      "execution_count": 98,
      "outputs": [
        {
          "output_type": "execute_result",
          "data": {
            "text/plain": [
              "      Row ID        Order ID Order Date  Ship Date       Ship Mode  \\\n",
              "2697    2698  CA-2014-145317 2014-03-18 2014-03-23  Standard Class   \n",
              "6826    6827  CA-2016-118689 2016-10-02 2016-10-09  Standard Class   \n",
              "8153    8154  CA-2017-140151 2017-03-23 2017-03-25     First Class   \n",
              "2623    2624  CA-2017-127180 2017-10-22 2017-10-24     First Class   \n",
              "4190    4191  CA-2017-166709 2017-11-17 2017-11-22  Standard Class   \n",
              "...      ...             ...        ...        ...             ...   \n",
              "2106    2107  US-2014-152723 2014-09-26 2014-09-26        Same Day   \n",
              "4711    4712  CA-2014-112403 2014-03-31 2014-03-31        Same Day   \n",
              "8658    8659  CA-2016-168361 2016-06-21 2016-06-25  Standard Class   \n",
              "9292    9293  CA-2017-124114 2017-03-02 2017-03-02        Same Day   \n",
              "4101    4102  US-2017-102288 2017-06-19 2017-06-23  Standard Class   \n",
              "\n",
              "     Customer ID     Customer Name      Segment        Country           City  \\\n",
              "2697    SM-20320       Sean Miller  Home Office  United States   Jacksonville   \n",
              "6826    TC-20980      Tamara Chand    Corporate  United States      Lafayette   \n",
              "8153    RB-19360      Raymond Buch     Consumer  United States        Seattle   \n",
              "2623    TA-21385      Tom Ashbrook  Home Office  United States  New York City   \n",
              "4190    HL-15040      Hunter Lopez     Consumer  United States         Newark   \n",
              "...          ...               ...          ...            ...            ...   \n",
              "2106    HG-14965     Henry Goldwyn    Corporate  United States       Mesquite   \n",
              "4711    JO-15280     Jas O'Carroll     Consumer  United States   Philadelphia   \n",
              "8658    KB-16600       Ken Brennan    Corporate  United States        Chicago   \n",
              "9292    RS-19765    Roland Schwarz    Corporate  United States           Waco   \n",
              "4101    ZC-21910  Zuschuss Carroll     Consumer  United States        Houston   \n",
              "\n",
              "      ... Postal Code   Region       Product ID         Category Sub-Category  \\\n",
              "2697  ...       32216    South  TEC-MA-10002412       Technology     Machines   \n",
              "6826  ...       47905  Central  TEC-CO-10004722       Technology      Copiers   \n",
              "8153  ...       98115     West  TEC-CO-10004722       Technology      Copiers   \n",
              "2623  ...       10024     East  TEC-CO-10004722       Technology      Copiers   \n",
              "4190  ...       19711     East  TEC-CO-10004722       Technology      Copiers   \n",
              "...   ...         ...      ...              ...              ...          ...   \n",
              "2106  ...       75150  Central  OFF-BI-10003460  Office Supplies      Binders   \n",
              "4711  ...       19120     East  OFF-BI-10003529  Office Supplies      Binders   \n",
              "8658  ...       60623  Central  OFF-BI-10003727  Office Supplies      Binders   \n",
              "9292  ...       76706  Central  OFF-BI-10004022  Office Supplies      Binders   \n",
              "4101  ...       77095  Central  OFF-AP-10002906  Office Supplies   Appliances   \n",
              "\n",
              "                                           Product Name      Sales  Quantity  \\\n",
              "2697  Cisco TelePresence System EX90 Videoconferenci...  22638.480         6   \n",
              "6826              Canon imageCLASS 2200 Advanced Copier  17499.950         5   \n",
              "8153              Canon imageCLASS 2200 Advanced Copier  13999.960         4   \n",
              "2623              Canon imageCLASS 2200 Advanced Copier  11199.968         4   \n",
              "4190              Canon imageCLASS 2200 Advanced Copier  10499.970         3   \n",
              "...                                                 ...        ...       ...   \n",
              "2106                                  Acco 3-Hole Punch      0.876         1   \n",
              "4711                      Avery Round Ring Poly Binders      0.852         1   \n",
              "8658  Avery Durable Slant Ring Binders With Label Ho...      0.836         1   \n",
              "9292           Acco Suede Grain Vinyl Round Ring Binder      0.556         1   \n",
              "4101  Hoover Replacement Belt for Commercial Guardsm...      0.444         1   \n",
              "\n",
              "      Discount     Profit  \n",
              "2697       0.5 -1811.0784  \n",
              "6826       0.0  8399.9760  \n",
              "8153       0.0  6719.9808  \n",
              "2623       0.2  3919.9888  \n",
              "4190       0.0  5039.9856  \n",
              "...        ...        ...  \n",
              "2106       0.8    -1.4016  \n",
              "4711       0.7    -0.5964  \n",
              "8658       0.8    -1.3376  \n",
              "9292       0.8    -0.9452  \n",
              "4101       0.8    -1.1100  \n",
              "\n",
              "[9994 rows x 21 columns]"
            ],
            "text/html": [
              "\n",
              "  <div id=\"df-ba6a9cec-53a4-40af-968b-452382b359d9\" class=\"colab-df-container\">\n",
              "    <div>\n",
              "<style scoped>\n",
              "    .dataframe tbody tr th:only-of-type {\n",
              "        vertical-align: middle;\n",
              "    }\n",
              "\n",
              "    .dataframe tbody tr th {\n",
              "        vertical-align: top;\n",
              "    }\n",
              "\n",
              "    .dataframe thead th {\n",
              "        text-align: right;\n",
              "    }\n",
              "</style>\n",
              "<table border=\"1\" class=\"dataframe\">\n",
              "  <thead>\n",
              "    <tr style=\"text-align: right;\">\n",
              "      <th></th>\n",
              "      <th>Row ID</th>\n",
              "      <th>Order ID</th>\n",
              "      <th>Order Date</th>\n",
              "      <th>Ship Date</th>\n",
              "      <th>Ship Mode</th>\n",
              "      <th>Customer ID</th>\n",
              "      <th>Customer Name</th>\n",
              "      <th>Segment</th>\n",
              "      <th>Country</th>\n",
              "      <th>City</th>\n",
              "      <th>...</th>\n",
              "      <th>Postal Code</th>\n",
              "      <th>Region</th>\n",
              "      <th>Product ID</th>\n",
              "      <th>Category</th>\n",
              "      <th>Sub-Category</th>\n",
              "      <th>Product Name</th>\n",
              "      <th>Sales</th>\n",
              "      <th>Quantity</th>\n",
              "      <th>Discount</th>\n",
              "      <th>Profit</th>\n",
              "    </tr>\n",
              "  </thead>\n",
              "  <tbody>\n",
              "    <tr>\n",
              "      <th>2697</th>\n",
              "      <td>2698</td>\n",
              "      <td>CA-2014-145317</td>\n",
              "      <td>2014-03-18</td>\n",
              "      <td>2014-03-23</td>\n",
              "      <td>Standard Class</td>\n",
              "      <td>SM-20320</td>\n",
              "      <td>Sean Miller</td>\n",
              "      <td>Home Office</td>\n",
              "      <td>United States</td>\n",
              "      <td>Jacksonville</td>\n",
              "      <td>...</td>\n",
              "      <td>32216</td>\n",
              "      <td>South</td>\n",
              "      <td>TEC-MA-10002412</td>\n",
              "      <td>Technology</td>\n",
              "      <td>Machines</td>\n",
              "      <td>Cisco TelePresence System EX90 Videoconferenci...</td>\n",
              "      <td>22638.480</td>\n",
              "      <td>6</td>\n",
              "      <td>0.5</td>\n",
              "      <td>-1811.0784</td>\n",
              "    </tr>\n",
              "    <tr>\n",
              "      <th>6826</th>\n",
              "      <td>6827</td>\n",
              "      <td>CA-2016-118689</td>\n",
              "      <td>2016-10-02</td>\n",
              "      <td>2016-10-09</td>\n",
              "      <td>Standard Class</td>\n",
              "      <td>TC-20980</td>\n",
              "      <td>Tamara Chand</td>\n",
              "      <td>Corporate</td>\n",
              "      <td>United States</td>\n",
              "      <td>Lafayette</td>\n",
              "      <td>...</td>\n",
              "      <td>47905</td>\n",
              "      <td>Central</td>\n",
              "      <td>TEC-CO-10004722</td>\n",
              "      <td>Technology</td>\n",
              "      <td>Copiers</td>\n",
              "      <td>Canon imageCLASS 2200 Advanced Copier</td>\n",
              "      <td>17499.950</td>\n",
              "      <td>5</td>\n",
              "      <td>0.0</td>\n",
              "      <td>8399.9760</td>\n",
              "    </tr>\n",
              "    <tr>\n",
              "      <th>8153</th>\n",
              "      <td>8154</td>\n",
              "      <td>CA-2017-140151</td>\n",
              "      <td>2017-03-23</td>\n",
              "      <td>2017-03-25</td>\n",
              "      <td>First Class</td>\n",
              "      <td>RB-19360</td>\n",
              "      <td>Raymond Buch</td>\n",
              "      <td>Consumer</td>\n",
              "      <td>United States</td>\n",
              "      <td>Seattle</td>\n",
              "      <td>...</td>\n",
              "      <td>98115</td>\n",
              "      <td>West</td>\n",
              "      <td>TEC-CO-10004722</td>\n",
              "      <td>Technology</td>\n",
              "      <td>Copiers</td>\n",
              "      <td>Canon imageCLASS 2200 Advanced Copier</td>\n",
              "      <td>13999.960</td>\n",
              "      <td>4</td>\n",
              "      <td>0.0</td>\n",
              "      <td>6719.9808</td>\n",
              "    </tr>\n",
              "    <tr>\n",
              "      <th>2623</th>\n",
              "      <td>2624</td>\n",
              "      <td>CA-2017-127180</td>\n",
              "      <td>2017-10-22</td>\n",
              "      <td>2017-10-24</td>\n",
              "      <td>First Class</td>\n",
              "      <td>TA-21385</td>\n",
              "      <td>Tom Ashbrook</td>\n",
              "      <td>Home Office</td>\n",
              "      <td>United States</td>\n",
              "      <td>New York City</td>\n",
              "      <td>...</td>\n",
              "      <td>10024</td>\n",
              "      <td>East</td>\n",
              "      <td>TEC-CO-10004722</td>\n",
              "      <td>Technology</td>\n",
              "      <td>Copiers</td>\n",
              "      <td>Canon imageCLASS 2200 Advanced Copier</td>\n",
              "      <td>11199.968</td>\n",
              "      <td>4</td>\n",
              "      <td>0.2</td>\n",
              "      <td>3919.9888</td>\n",
              "    </tr>\n",
              "    <tr>\n",
              "      <th>4190</th>\n",
              "      <td>4191</td>\n",
              "      <td>CA-2017-166709</td>\n",
              "      <td>2017-11-17</td>\n",
              "      <td>2017-11-22</td>\n",
              "      <td>Standard Class</td>\n",
              "      <td>HL-15040</td>\n",
              "      <td>Hunter Lopez</td>\n",
              "      <td>Consumer</td>\n",
              "      <td>United States</td>\n",
              "      <td>Newark</td>\n",
              "      <td>...</td>\n",
              "      <td>19711</td>\n",
              "      <td>East</td>\n",
              "      <td>TEC-CO-10004722</td>\n",
              "      <td>Technology</td>\n",
              "      <td>Copiers</td>\n",
              "      <td>Canon imageCLASS 2200 Advanced Copier</td>\n",
              "      <td>10499.970</td>\n",
              "      <td>3</td>\n",
              "      <td>0.0</td>\n",
              "      <td>5039.9856</td>\n",
              "    </tr>\n",
              "    <tr>\n",
              "      <th>...</th>\n",
              "      <td>...</td>\n",
              "      <td>...</td>\n",
              "      <td>...</td>\n",
              "      <td>...</td>\n",
              "      <td>...</td>\n",
              "      <td>...</td>\n",
              "      <td>...</td>\n",
              "      <td>...</td>\n",
              "      <td>...</td>\n",
              "      <td>...</td>\n",
              "      <td>...</td>\n",
              "      <td>...</td>\n",
              "      <td>...</td>\n",
              "      <td>...</td>\n",
              "      <td>...</td>\n",
              "      <td>...</td>\n",
              "      <td>...</td>\n",
              "      <td>...</td>\n",
              "      <td>...</td>\n",
              "      <td>...</td>\n",
              "      <td>...</td>\n",
              "    </tr>\n",
              "    <tr>\n",
              "      <th>2106</th>\n",
              "      <td>2107</td>\n",
              "      <td>US-2014-152723</td>\n",
              "      <td>2014-09-26</td>\n",
              "      <td>2014-09-26</td>\n",
              "      <td>Same Day</td>\n",
              "      <td>HG-14965</td>\n",
              "      <td>Henry Goldwyn</td>\n",
              "      <td>Corporate</td>\n",
              "      <td>United States</td>\n",
              "      <td>Mesquite</td>\n",
              "      <td>...</td>\n",
              "      <td>75150</td>\n",
              "      <td>Central</td>\n",
              "      <td>OFF-BI-10003460</td>\n",
              "      <td>Office Supplies</td>\n",
              "      <td>Binders</td>\n",
              "      <td>Acco 3-Hole Punch</td>\n",
              "      <td>0.876</td>\n",
              "      <td>1</td>\n",
              "      <td>0.8</td>\n",
              "      <td>-1.4016</td>\n",
              "    </tr>\n",
              "    <tr>\n",
              "      <th>4711</th>\n",
              "      <td>4712</td>\n",
              "      <td>CA-2014-112403</td>\n",
              "      <td>2014-03-31</td>\n",
              "      <td>2014-03-31</td>\n",
              "      <td>Same Day</td>\n",
              "      <td>JO-15280</td>\n",
              "      <td>Jas O'Carroll</td>\n",
              "      <td>Consumer</td>\n",
              "      <td>United States</td>\n",
              "      <td>Philadelphia</td>\n",
              "      <td>...</td>\n",
              "      <td>19120</td>\n",
              "      <td>East</td>\n",
              "      <td>OFF-BI-10003529</td>\n",
              "      <td>Office Supplies</td>\n",
              "      <td>Binders</td>\n",
              "      <td>Avery Round Ring Poly Binders</td>\n",
              "      <td>0.852</td>\n",
              "      <td>1</td>\n",
              "      <td>0.7</td>\n",
              "      <td>-0.5964</td>\n",
              "    </tr>\n",
              "    <tr>\n",
              "      <th>8658</th>\n",
              "      <td>8659</td>\n",
              "      <td>CA-2016-168361</td>\n",
              "      <td>2016-06-21</td>\n",
              "      <td>2016-06-25</td>\n",
              "      <td>Standard Class</td>\n",
              "      <td>KB-16600</td>\n",
              "      <td>Ken Brennan</td>\n",
              "      <td>Corporate</td>\n",
              "      <td>United States</td>\n",
              "      <td>Chicago</td>\n",
              "      <td>...</td>\n",
              "      <td>60623</td>\n",
              "      <td>Central</td>\n",
              "      <td>OFF-BI-10003727</td>\n",
              "      <td>Office Supplies</td>\n",
              "      <td>Binders</td>\n",
              "      <td>Avery Durable Slant Ring Binders With Label Ho...</td>\n",
              "      <td>0.836</td>\n",
              "      <td>1</td>\n",
              "      <td>0.8</td>\n",
              "      <td>-1.3376</td>\n",
              "    </tr>\n",
              "    <tr>\n",
              "      <th>9292</th>\n",
              "      <td>9293</td>\n",
              "      <td>CA-2017-124114</td>\n",
              "      <td>2017-03-02</td>\n",
              "      <td>2017-03-02</td>\n",
              "      <td>Same Day</td>\n",
              "      <td>RS-19765</td>\n",
              "      <td>Roland Schwarz</td>\n",
              "      <td>Corporate</td>\n",
              "      <td>United States</td>\n",
              "      <td>Waco</td>\n",
              "      <td>...</td>\n",
              "      <td>76706</td>\n",
              "      <td>Central</td>\n",
              "      <td>OFF-BI-10004022</td>\n",
              "      <td>Office Supplies</td>\n",
              "      <td>Binders</td>\n",
              "      <td>Acco Suede Grain Vinyl Round Ring Binder</td>\n",
              "      <td>0.556</td>\n",
              "      <td>1</td>\n",
              "      <td>0.8</td>\n",
              "      <td>-0.9452</td>\n",
              "    </tr>\n",
              "    <tr>\n",
              "      <th>4101</th>\n",
              "      <td>4102</td>\n",
              "      <td>US-2017-102288</td>\n",
              "      <td>2017-06-19</td>\n",
              "      <td>2017-06-23</td>\n",
              "      <td>Standard Class</td>\n",
              "      <td>ZC-21910</td>\n",
              "      <td>Zuschuss Carroll</td>\n",
              "      <td>Consumer</td>\n",
              "      <td>United States</td>\n",
              "      <td>Houston</td>\n",
              "      <td>...</td>\n",
              "      <td>77095</td>\n",
              "      <td>Central</td>\n",
              "      <td>OFF-AP-10002906</td>\n",
              "      <td>Office Supplies</td>\n",
              "      <td>Appliances</td>\n",
              "      <td>Hoover Replacement Belt for Commercial Guardsm...</td>\n",
              "      <td>0.444</td>\n",
              "      <td>1</td>\n",
              "      <td>0.8</td>\n",
              "      <td>-1.1100</td>\n",
              "    </tr>\n",
              "  </tbody>\n",
              "</table>\n",
              "<p>9994 rows × 21 columns</p>\n",
              "</div>\n",
              "    <div class=\"colab-df-buttons\">\n",
              "\n",
              "  <div class=\"colab-df-container\">\n",
              "    <button class=\"colab-df-convert\" onclick=\"convertToInteractive('df-ba6a9cec-53a4-40af-968b-452382b359d9')\"\n",
              "            title=\"Convert this dataframe to an interactive table.\"\n",
              "            style=\"display:none;\">\n",
              "\n",
              "  <svg xmlns=\"http://www.w3.org/2000/svg\" height=\"24px\" viewBox=\"0 -960 960 960\">\n",
              "    <path d=\"M120-120v-720h720v720H120Zm60-500h600v-160H180v160Zm220 220h160v-160H400v160Zm0 220h160v-160H400v160ZM180-400h160v-160H180v160Zm440 0h160v-160H620v160ZM180-180h160v-160H180v160Zm440 0h160v-160H620v160Z\"/>\n",
              "  </svg>\n",
              "    </button>\n",
              "\n",
              "  <style>\n",
              "    .colab-df-container {\n",
              "      display:flex;\n",
              "      gap: 12px;\n",
              "    }\n",
              "\n",
              "    .colab-df-convert {\n",
              "      background-color: #E8F0FE;\n",
              "      border: none;\n",
              "      border-radius: 50%;\n",
              "      cursor: pointer;\n",
              "      display: none;\n",
              "      fill: #1967D2;\n",
              "      height: 32px;\n",
              "      padding: 0 0 0 0;\n",
              "      width: 32px;\n",
              "    }\n",
              "\n",
              "    .colab-df-convert:hover {\n",
              "      background-color: #E2EBFA;\n",
              "      box-shadow: 0px 1px 2px rgba(60, 64, 67, 0.3), 0px 1px 3px 1px rgba(60, 64, 67, 0.15);\n",
              "      fill: #174EA6;\n",
              "    }\n",
              "\n",
              "    .colab-df-buttons div {\n",
              "      margin-bottom: 4px;\n",
              "    }\n",
              "\n",
              "    [theme=dark] .colab-df-convert {\n",
              "      background-color: #3B4455;\n",
              "      fill: #D2E3FC;\n",
              "    }\n",
              "\n",
              "    [theme=dark] .colab-df-convert:hover {\n",
              "      background-color: #434B5C;\n",
              "      box-shadow: 0px 1px 3px 1px rgba(0, 0, 0, 0.15);\n",
              "      filter: drop-shadow(0px 1px 2px rgba(0, 0, 0, 0.3));\n",
              "      fill: #FFFFFF;\n",
              "    }\n",
              "  </style>\n",
              "\n",
              "    <script>\n",
              "      const buttonEl =\n",
              "        document.querySelector('#df-ba6a9cec-53a4-40af-968b-452382b359d9 button.colab-df-convert');\n",
              "      buttonEl.style.display =\n",
              "        google.colab.kernel.accessAllowed ? 'block' : 'none';\n",
              "\n",
              "      async function convertToInteractive(key) {\n",
              "        const element = document.querySelector('#df-ba6a9cec-53a4-40af-968b-452382b359d9');\n",
              "        const dataTable =\n",
              "          await google.colab.kernel.invokeFunction('convertToInteractive',\n",
              "                                                    [key], {});\n",
              "        if (!dataTable) return;\n",
              "\n",
              "        const docLinkHtml = 'Like what you see? Visit the ' +\n",
              "          '<a target=\"_blank\" href=https://colab.research.google.com/notebooks/data_table.ipynb>data table notebook</a>'\n",
              "          + ' to learn more about interactive tables.';\n",
              "        element.innerHTML = '';\n",
              "        dataTable['output_type'] = 'display_data';\n",
              "        await google.colab.output.renderOutput(dataTable, element);\n",
              "        const docLink = document.createElement('div');\n",
              "        docLink.innerHTML = docLinkHtml;\n",
              "        element.appendChild(docLink);\n",
              "      }\n",
              "    </script>\n",
              "  </div>\n",
              "\n",
              "\n",
              "    <div id=\"df-0a5bd5b8-6ae5-4da3-9e8d-5cf499342bd6\">\n",
              "      <button class=\"colab-df-quickchart\" onclick=\"quickchart('df-0a5bd5b8-6ae5-4da3-9e8d-5cf499342bd6')\"\n",
              "                title=\"Suggest charts\"\n",
              "                style=\"display:none;\">\n",
              "\n",
              "<svg xmlns=\"http://www.w3.org/2000/svg\" height=\"24px\"viewBox=\"0 0 24 24\"\n",
              "     width=\"24px\">\n",
              "    <g>\n",
              "        <path d=\"M19 3H5c-1.1 0-2 .9-2 2v14c0 1.1.9 2 2 2h14c1.1 0 2-.9 2-2V5c0-1.1-.9-2-2-2zM9 17H7v-7h2v7zm4 0h-2V7h2v10zm4 0h-2v-4h2v4z\"/>\n",
              "    </g>\n",
              "</svg>\n",
              "      </button>\n",
              "\n",
              "<style>\n",
              "  .colab-df-quickchart {\n",
              "      --bg-color: #E8F0FE;\n",
              "      --fill-color: #1967D2;\n",
              "      --hover-bg-color: #E2EBFA;\n",
              "      --hover-fill-color: #174EA6;\n",
              "      --disabled-fill-color: #AAA;\n",
              "      --disabled-bg-color: #DDD;\n",
              "  }\n",
              "\n",
              "  [theme=dark] .colab-df-quickchart {\n",
              "      --bg-color: #3B4455;\n",
              "      --fill-color: #D2E3FC;\n",
              "      --hover-bg-color: #434B5C;\n",
              "      --hover-fill-color: #FFFFFF;\n",
              "      --disabled-bg-color: #3B4455;\n",
              "      --disabled-fill-color: #666;\n",
              "  }\n",
              "\n",
              "  .colab-df-quickchart {\n",
              "    background-color: var(--bg-color);\n",
              "    border: none;\n",
              "    border-radius: 50%;\n",
              "    cursor: pointer;\n",
              "    display: none;\n",
              "    fill: var(--fill-color);\n",
              "    height: 32px;\n",
              "    padding: 0;\n",
              "    width: 32px;\n",
              "  }\n",
              "\n",
              "  .colab-df-quickchart:hover {\n",
              "    background-color: var(--hover-bg-color);\n",
              "    box-shadow: 0 1px 2px rgba(60, 64, 67, 0.3), 0 1px 3px 1px rgba(60, 64, 67, 0.15);\n",
              "    fill: var(--button-hover-fill-color);\n",
              "  }\n",
              "\n",
              "  .colab-df-quickchart-complete:disabled,\n",
              "  .colab-df-quickchart-complete:disabled:hover {\n",
              "    background-color: var(--disabled-bg-color);\n",
              "    fill: var(--disabled-fill-color);\n",
              "    box-shadow: none;\n",
              "  }\n",
              "\n",
              "  .colab-df-spinner {\n",
              "    border: 2px solid var(--fill-color);\n",
              "    border-color: transparent;\n",
              "    border-bottom-color: var(--fill-color);\n",
              "    animation:\n",
              "      spin 1s steps(1) infinite;\n",
              "  }\n",
              "\n",
              "  @keyframes spin {\n",
              "    0% {\n",
              "      border-color: transparent;\n",
              "      border-bottom-color: var(--fill-color);\n",
              "      border-left-color: var(--fill-color);\n",
              "    }\n",
              "    20% {\n",
              "      border-color: transparent;\n",
              "      border-left-color: var(--fill-color);\n",
              "      border-top-color: var(--fill-color);\n",
              "    }\n",
              "    30% {\n",
              "      border-color: transparent;\n",
              "      border-left-color: var(--fill-color);\n",
              "      border-top-color: var(--fill-color);\n",
              "      border-right-color: var(--fill-color);\n",
              "    }\n",
              "    40% {\n",
              "      border-color: transparent;\n",
              "      border-right-color: var(--fill-color);\n",
              "      border-top-color: var(--fill-color);\n",
              "    }\n",
              "    60% {\n",
              "      border-color: transparent;\n",
              "      border-right-color: var(--fill-color);\n",
              "    }\n",
              "    80% {\n",
              "      border-color: transparent;\n",
              "      border-right-color: var(--fill-color);\n",
              "      border-bottom-color: var(--fill-color);\n",
              "    }\n",
              "    90% {\n",
              "      border-color: transparent;\n",
              "      border-bottom-color: var(--fill-color);\n",
              "    }\n",
              "  }\n",
              "</style>\n",
              "\n",
              "      <script>\n",
              "        async function quickchart(key) {\n",
              "          const quickchartButtonEl =\n",
              "            document.querySelector('#' + key + ' button');\n",
              "          quickchartButtonEl.disabled = true;  // To prevent multiple clicks.\n",
              "          quickchartButtonEl.classList.add('colab-df-spinner');\n",
              "          try {\n",
              "            const charts = await google.colab.kernel.invokeFunction(\n",
              "                'suggestCharts', [key], {});\n",
              "          } catch (error) {\n",
              "            console.error('Error during call to suggestCharts:', error);\n",
              "          }\n",
              "          quickchartButtonEl.classList.remove('colab-df-spinner');\n",
              "          quickchartButtonEl.classList.add('colab-df-quickchart-complete');\n",
              "        }\n",
              "        (() => {\n",
              "          let quickchartButtonEl =\n",
              "            document.querySelector('#df-0a5bd5b8-6ae5-4da3-9e8d-5cf499342bd6 button');\n",
              "          quickchartButtonEl.style.display =\n",
              "            google.colab.kernel.accessAllowed ? 'block' : 'none';\n",
              "        })();\n",
              "      </script>\n",
              "    </div>\n",
              "\n",
              "    </div>\n",
              "  </div>\n"
            ],
            "application/vnd.google.colaboratory.intrinsic+json": {
              "type": "dataframe"
            }
          },
          "metadata": {},
          "execution_count": 98
        }
      ]
    },
    {
      "cell_type": "code",
      "source": [],
      "metadata": {
        "id": "_Ap_-jJS5sBe"
      },
      "execution_count": null,
      "outputs": []
    }
  ]
}