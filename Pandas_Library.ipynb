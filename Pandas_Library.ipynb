{
  "cells": [
    {
      "cell_type": "markdown",
      "metadata": {
        "id": "view-in-github",
        "colab_type": "text"
      },
      "source": [
        "<a href=\"https://colab.research.google.com/github/Meghanakm-24/Meghanakm-24/blob/main/Pandas_Library.ipynb\" target=\"_parent\"><img src=\"https://colab.research.google.com/assets/colab-badge.svg\" alt=\"Open In Colab\"/></a>"
      ]
    },
    {
      "cell_type": "markdown",
      "metadata": {
        "id": "emRQe7ZBW1Z4"
      },
      "source": [
        "# Python- Pandas Library"
      ]
    },
    {
      "cell_type": "markdown",
      "source": [
        "- Pandas is a powerful, flexible, and easy-to-use open-source data manipulation and analysis library in Python. It is widely used for working with structured data, such as tables, time series, and other data types.  \n",
        "\n",
        "#Pandas provides two main data structures:\n",
        "\n",
        "1. Series: A one-dimensional labeled array capable of holding any data type.\n",
        "\n",
        "2. DataFrame: A two-dimensional labeled data structure with columns that can be of different types (like a table or a spreadsheet)."
      ],
      "metadata": {
        "id": "IE6VV8ZPvhPU"
      }
    },
    {
      "cell_type": "markdown",
      "source": [
        "#Key Features of Pandas:\n",
        "\n",
        "- Data Handling: Pandas allows you to read and write data in various formats, such as CSV, Excel, SQL, and JSON.\n",
        "- Data Cleaning: You can handle missing data, duplicate entries, and perform transformations efficiently.\n",
        "- Data Analysis: Pandas offers various functions for aggregating, grouping, and pivoting data.\n",
        "- Indexing and Selection: You can easily select, filter, and slice data using labels or conditions.\n",
        "- Time Series: Pandas has powerful tools for handling time series data, including date-time indexing and frequency handling."
      ],
      "metadata": {
        "id": "qaLK3LgTw10D"
      }
    },
    {
      "cell_type": "markdown",
      "source": [
        "# Common Operations in Pandas:\n",
        "- Creating DataFrames and Series: You can create DataFrames from dictionaries, lists, or NumPy arrays.\n",
        "- Reading and Writing Data: Functions like pd.read_csv(), pd.read_excel(), and pd.to_sql() are used to read and write data in various formats.\n",
        "- Handling Missing Data: Functions like fillna(), dropna(), and isna() help handle missing values.\n",
        "- Grouping and Aggregating: Use groupby() for grouping data and functions like mean(), sum(), and count() for aggregation."
      ],
      "metadata": {
        "id": "rNcrCg93xLD2"
      }
    },
    {
      "cell_type": "code",
      "source": [
        "import pandas as pd\n",
        "data = [1,2,3,4]     #simple list\n",
        "\n",
        "print(data)\n",
        "\n",
        "series =pd.Series(data)\n",
        "\n",
        "print(series)"
      ],
      "metadata": {
        "id": "TCLKtSvx3r5y"
      },
      "execution_count": null,
      "outputs": []
    },
    {
      "cell_type": "code",
      "source": [
        "type(series)"
      ],
      "metadata": {
        "id": "niGB0eq34iId",
        "colab": {
          "base_uri": "https://localhost:8080/",
          "height": 204
        },
        "outputId": "6d30d010-539a-4268-ea16-d4ed80083ddb"
      },
      "execution_count": null,
      "outputs": [
        {
          "output_type": "execute_result",
          "data": {
            "text/plain": [
              "pandas.core.series.Series"
            ],
            "text/html": [
              "<div style=\"max-width:800px; border: 1px solid var(--colab-border-color);\"><style>\n",
              "      pre.function-repr-contents {\n",
              "        overflow-x: auto;\n",
              "        padding: 8px 12px;\n",
              "        max-height: 500px;\n",
              "      }\n",
              "\n",
              "      pre.function-repr-contents.function-repr-contents-collapsed {\n",
              "        cursor: pointer;\n",
              "        max-height: 100px;\n",
              "      }\n",
              "    </style>\n",
              "    <pre style=\"white-space: initial; background:\n",
              "         var(--colab-secondary-surface-color); padding: 8px 12px;\n",
              "         border-bottom: 1px solid var(--colab-border-color);\"><b>pandas.core.series.Series</b><br/>def __init__(data=None, index=None, dtype: Dtype | None=None, name=None, copy: bool | None=None, fastpath: bool | lib.NoDefault=lib.no_default) -&gt; None</pre><pre class=\"function-repr-contents function-repr-contents-collapsed\" style=\"\"><a class=\"filepath\" style=\"display:none\" href=\"#\">/usr/local/lib/python3.11/dist-packages/pandas/core/series.py</a>One-dimensional ndarray with axis labels (including time series).\n",
              "\n",
              "Labels need not be unique but must be a hashable type. The object\n",
              "supports both integer- and label-based indexing and provides a host of\n",
              "methods for performing operations involving the index. Statistical\n",
              "methods from ndarray have been overridden to automatically exclude\n",
              "missing data (currently represented as NaN).\n",
              "\n",
              "Operations between Series (+, -, /, \\*, \\*\\*) align values based on their\n",
              "associated index values-- they need not be the same length. The result\n",
              "index will be the sorted union of the two indexes.\n",
              "\n",
              "Parameters\n",
              "----------\n",
              "data : array-like, Iterable, dict, or scalar value\n",
              "    Contains data stored in Series. If data is a dict, argument order is\n",
              "    maintained.\n",
              "index : array-like or Index (1d)\n",
              "    Values must be hashable and have the same length as `data`.\n",
              "    Non-unique index values are allowed. Will default to\n",
              "    RangeIndex (0, 1, 2, ..., n) if not provided. If data is dict-like\n",
              "    and index is None, then the keys in the data are used as the index. If the\n",
              "    index is not None, the resulting Series is reindexed with the index values.\n",
              "dtype : str, numpy.dtype, or ExtensionDtype, optional\n",
              "    Data type for the output Series. If not specified, this will be\n",
              "    inferred from `data`.\n",
              "    See the :ref:`user guide &lt;basics.dtypes&gt;` for more usages.\n",
              "name : Hashable, default None\n",
              "    The name to give to the Series.\n",
              "copy : bool, default False\n",
              "    Copy input data. Only affects Series or 1d ndarray input. See examples.\n",
              "\n",
              "Notes\n",
              "-----\n",
              "Please reference the :ref:`User Guide &lt;basics.series&gt;` for more information.\n",
              "\n",
              "Examples\n",
              "--------\n",
              "Constructing Series from a dictionary with an Index specified\n",
              "\n",
              "&gt;&gt;&gt; d = {&#x27;a&#x27;: 1, &#x27;b&#x27;: 2, &#x27;c&#x27;: 3}\n",
              "&gt;&gt;&gt; ser = pd.Series(data=d, index=[&#x27;a&#x27;, &#x27;b&#x27;, &#x27;c&#x27;])\n",
              "&gt;&gt;&gt; ser\n",
              "a   1\n",
              "b   2\n",
              "c   3\n",
              "dtype: int64\n",
              "\n",
              "The keys of the dictionary match with the Index values, hence the Index\n",
              "values have no effect.\n",
              "\n",
              "&gt;&gt;&gt; d = {&#x27;a&#x27;: 1, &#x27;b&#x27;: 2, &#x27;c&#x27;: 3}\n",
              "&gt;&gt;&gt; ser = pd.Series(data=d, index=[&#x27;x&#x27;, &#x27;y&#x27;, &#x27;z&#x27;])\n",
              "&gt;&gt;&gt; ser\n",
              "x   NaN\n",
              "y   NaN\n",
              "z   NaN\n",
              "dtype: float64\n",
              "\n",
              "Note that the Index is first build with the keys from the dictionary.\n",
              "After this the Series is reindexed with the given Index values, hence we\n",
              "get all NaN as a result.\n",
              "\n",
              "Constructing Series from a list with `copy=False`.\n",
              "\n",
              "&gt;&gt;&gt; r = [1, 2]\n",
              "&gt;&gt;&gt; ser = pd.Series(r, copy=False)\n",
              "&gt;&gt;&gt; ser.iloc[0] = 999\n",
              "&gt;&gt;&gt; r\n",
              "[1, 2]\n",
              "&gt;&gt;&gt; ser\n",
              "0    999\n",
              "1      2\n",
              "dtype: int64\n",
              "\n",
              "Due to input data type the Series has a `copy` of\n",
              "the original data even though `copy=False`, so\n",
              "the data is unchanged.\n",
              "\n",
              "Constructing Series from a 1d ndarray with `copy=False`.\n",
              "\n",
              "&gt;&gt;&gt; r = np.array([1, 2])\n",
              "&gt;&gt;&gt; ser = pd.Series(r, copy=False)\n",
              "&gt;&gt;&gt; ser.iloc[0] = 999\n",
              "&gt;&gt;&gt; r\n",
              "array([999,   2])\n",
              "&gt;&gt;&gt; ser\n",
              "0    999\n",
              "1      2\n",
              "dtype: int64\n",
              "\n",
              "Due to input data type the Series has a `view` on\n",
              "the original data, so\n",
              "the data is changed as well.</pre>\n",
              "      <script>\n",
              "      if (google.colab.kernel.accessAllowed && google.colab.files && google.colab.files.view) {\n",
              "        for (const element of document.querySelectorAll('.filepath')) {\n",
              "          element.style.display = 'block'\n",
              "          element.onclick = (event) => {\n",
              "            event.preventDefault();\n",
              "            event.stopPropagation();\n",
              "            google.colab.files.view(element.textContent, 263);\n",
              "          };\n",
              "        }\n",
              "      }\n",
              "      for (const element of document.querySelectorAll('.function-repr-contents')) {\n",
              "        element.onclick = (event) => {\n",
              "          event.preventDefault();\n",
              "          event.stopPropagation();\n",
              "          element.classList.toggle('function-repr-contents-collapsed');\n",
              "        };\n",
              "      }\n",
              "      </script>\n",
              "      </div>"
            ]
          },
          "metadata": {},
          "execution_count": 4
        }
      ]
    },
    {
      "cell_type": "code",
      "source": [
        "#How to change the Index name ?\n",
        "\n",
        "List =pd.Series([1,2,3,4],index=['a','b','c','d'])\n",
        "\n",
        "List\n",
        "\n"
      ],
      "metadata": {
        "id": "hbTRxLcn4wKN"
      },
      "execution_count": null,
      "outputs": []
    },
    {
      "cell_type": "code",
      "source": [],
      "metadata": {
        "id": "Y9yxIgUl_RGZ"
      },
      "execution_count": null,
      "outputs": []
    },
    {
      "cell_type": "markdown",
      "source": [
        "#Data Frames\n",
        "\n",
        "#Key Characteristics of a DataFrame:\n",
        "-1. Rows and Columns: It has labeled rows (index) and columns, making it easy to access and manipulate data.\n",
        "\n",
        " -2. Heterogeneous Data: Each column can contain data of a different type (e.g., numerical, categorical, or textual).\n",
        "\n",
        " -3. Indexing: Rows and columns can be accessed using labels (names) or numerical positions.\n",
        "\n",
        " -4. Built-in Functions: It provides numerous functions to clean, filter, aggregate, and analyze data."
      ],
      "metadata": {
        "id": "cpfN-Sz2_SL4"
      }
    },
    {
      "cell_type": "code",
      "source": [
        "#Creating Data Frame Using a List:\n",
        "\n",
        "import pandas as pd\n",
        "data = [1,2,3,4,5]\n",
        "df = pd.DataFrame(data)\n",
        "\n",
        "df"
      ],
      "metadata": {
        "id": "yJZBtXxBADqp"
      },
      "execution_count": null,
      "outputs": []
    },
    {
      "cell_type": "code",
      "source": [
        "#Creating a DataFrame using Series\n",
        "\n",
        "series = pd.Series([4,5], index = [\"a\", \"b\"])\n",
        "print(series)\n",
        "type(series)\n",
        "df = pd.DataFrame(series)\n",
        "\n",
        "print(df)\n",
        "type(df)"
      ],
      "metadata": {
        "id": "RMsfMIXZAlW5"
      },
      "execution_count": null,
      "outputs": []
    },
    {
      "cell_type": "code",
      "source": [
        "#Creating a DataFrame using NumPy Array:\n",
        "import numpy as np\n",
        "import pandas as pd\n",
        "\n",
        "array =np.array([[5000, 6000 ], [\"John\", \"James\"]])\n",
        "\n",
        "df= pd.DataFrame({\"Name\": array[1], \"Salary\":array[0]})\n",
        "\n",
        "df"
      ],
      "metadata": {
        "id": "lyu_wT67BX-b"
      },
      "execution_count": null,
      "outputs": []
    },
    {
      "cell_type": "code",
      "source": [
        "df = pd.DataFrame(np.random.randint(0,10,(3,3)),columns=['x1','x2','x3'])"
      ],
      "metadata": {
        "id": "TdBruV82j_58"
      },
      "execution_count": null,
      "outputs": []
    },
    {
      "cell_type": "code",
      "source": [
        "import pandas as pd\n",
        "import numpy as np"
      ],
      "metadata": {
        "id": "BJax7bXxzS-8"
      },
      "execution_count": null,
      "outputs": []
    },
    {
      "cell_type": "code",
      "source": [
        "df"
      ],
      "metadata": {
        "id": "dHblzLhZzTBd"
      },
      "execution_count": null,
      "outputs": []
    },
    {
      "cell_type": "code",
      "source": [],
      "metadata": {
        "id": "yuZpRx3FzTD0"
      },
      "execution_count": null,
      "outputs": []
    },
    {
      "cell_type": "code",
      "source": [],
      "metadata": {
        "id": "QgjbAZhrzTGH"
      },
      "execution_count": null,
      "outputs": []
    },
    {
      "cell_type": "markdown",
      "source": [
        "#Join and Concatenation in Pandas\n",
        "- Both join and concatenation are commonly used operations in Pandas for combining datasets.\n",
        "- Let’s explore them with simple examples."
      ],
      "metadata": {
        "id": "hCMuUEVDGelm"
      }
    },
    {
      "cell_type": "markdown",
      "source": [
        "#1. Concatenation in Pandas\n",
        "- Concatenation is used to combine two or more DataFrames along a particular axis (either rows or columns)."
      ],
      "metadata": {
        "id": "Ycu51k-tGn4M"
      }
    },
    {
      "cell_type": "code",
      "source": [
        "#Example 1: Concatenation Along Rows (Axis 0)\n",
        "\n",
        "import pandas as pd\n",
        "\n",
        "# Create two DataFrames\n",
        "df1 = pd.DataFrame({\n",
        "    'A': ['A0', 'A1', 'A2'],\n",
        "    'B': ['B0', 'B1', 'B2']\n",
        "})\n",
        "\n",
        "print(df1)\n",
        "\n",
        "df2 = pd.DataFrame({\n",
        "    'A': ['A3', 'A4', 'A5'],\n",
        "    'B': ['B3', 'B4', 'B5']\n",
        "})\n",
        "\n",
        "print(df2)\n",
        "\n",
        "# Concatenate DataFrames along rows\n",
        "result = pd.concat([df1, df2])\n",
        "\n",
        "print(result)\n"
      ],
      "metadata": {
        "id": "BbSpSIFaGije"
      },
      "execution_count": null,
      "outputs": []
    },
    {
      "cell_type": "code",
      "source": [
        "#Example 2: Concatenation Along Columns (Axis 1)\n",
        "\n",
        "# Concatenate DataFrames along columns\n",
        "result = pd.concat([df1, df2], axis=1)\n",
        "\n",
        "print(result)\n"
      ],
      "metadata": {
        "id": "f0JFzWbdGig9"
      },
      "execution_count": null,
      "outputs": []
    },
    {
      "cell_type": "code",
      "source": [],
      "metadata": {
        "id": "rwitxHSCY1di"
      },
      "execution_count": null,
      "outputs": []
    },
    {
      "cell_type": "markdown",
      "source": [
        "- To get the result with continued indexing when concatenating DataFrames in Pandas, you can use the ignore_index=True parameter.\n",
        "- This parameter resets the index in the resulting DataFrame, so the indexing starts from 0 and increments continuously.\n",
        "- ignore_index=True: This parameter resets the index in the resulting DataFrame, so instead of maintaining the original indices (which could repeat), a new index is generated, starting from 0 and continuing sequentially.\n",
        "- This way, you get a clean, continuous index for your concatenated DataFrame.\n",
        "\n",
        "- Here’s how you can achieve that:"
      ],
      "metadata": {
        "id": "uJTA9p6gPzfl"
      }
    },
    {
      "cell_type": "code",
      "source": [
        "import pandas as pd\n",
        "\n",
        "# Create two DataFrames\n",
        "df1 = pd.DataFrame({\n",
        "    'A': ['A0', 'A1', 'A2'],\n",
        "    'B': ['B0', 'B1', 'B2']\n",
        "})\n",
        "\n",
        "df2 = pd.DataFrame({\n",
        "    'A': ['A3', 'A4', 'A5'],\n",
        "    'B': ['B3', 'B4', 'B5']\n",
        "})\n",
        "\n",
        "# Concatenate DataFrames and reset index\n",
        "result = pd.concat([df1, df2], ignore_index=True)\n",
        "\n",
        "print(result)\n"
      ],
      "metadata": {
        "id": "YhWUhWZOP3Pt"
      },
      "execution_count": null,
      "outputs": []
    },
    {
      "cell_type": "markdown",
      "source": [
        "#Difference Between join and merge in Pandas\n",
        "- merge: Combines DataFrames based on keys(columns)/Values(Rows), similar to SQL joins. It offers flexibility with joining on multiple keys.\n",
        "\n",
        "- join: Primarily used for combining DataFrames on the index. It’s more convenient when you want to join by the index rather than by column.\n",
        "\n"
      ],
      "metadata": {
        "id": "ftzHPuDqkVmw"
      }
    },
    {
      "cell_type": "markdown",
      "source": [
        "#1.Inner Merge:\n",
        "\n",
        "Explanation: Returns only the rows where the key exists in both DataFrames."
      ],
      "metadata": {
        "id": "6sD6Ol-97u7V"
      }
    },
    {
      "cell_type": "code",
      "source": [
        "df1 = pd.DataFrame({\n",
        "    'key': ['A', 'B', 'C', 'D'],\n",
        "    'value': [1, 2, 3, 4]\n",
        "})\n",
        "print(df1)\n",
        "df2 = pd.DataFrame({\n",
        "    'key': ['B', 'D', 'E', 'F'],\n",
        "    'value': [5, 6, 7, 8]\n",
        "})\n",
        "\n",
        "print(df2)\n",
        "\n",
        "result = pd.merge(df1, df2, on='key', how='outer')\n",
        "print(result)\n"
      ],
      "metadata": {
        "id": "brAXMEmC70qP"
      },
      "execution_count": null,
      "outputs": []
    },
    {
      "cell_type": "markdown",
      "source": [
        "#2.Left Merge :\n",
        "\n",
        "- Explanation: Returns all rows from the left DataFrame, and matching rows from the right DataFrame. If no match, NaN is returned.\n",
        "- Explanation: All rows from df1 are included, and matching rows from df2 fill the value_y column. If there’s no match, NaN is filled."
      ],
      "metadata": {
        "id": "bugbGf_r8Bqg"
      }
    },
    {
      "cell_type": "code",
      "source": [
        "result = pd.merge(df1, df2, on='key', how='left')\n",
        "print(result)\n"
      ],
      "metadata": {
        "id": "SjRX7yHO76YC"
      },
      "execution_count": null,
      "outputs": []
    },
    {
      "cell_type": "markdown",
      "source": [
        "#3. Right Merge:\n",
        "\n",
        "- Explanation: Returns all rows from the right DataFrame, and matching rows from the left DataFrame.\n",
        "\n",
        "- Explanation: All rows from df2 are included, with matching rows from df1. Missing matches are filled with NaN.\n"
      ],
      "metadata": {
        "id": "P3AjuCMdDyJw"
      }
    },
    {
      "cell_type": "code",
      "source": [
        "print(df1)\n",
        "print(df2)\n",
        "\n",
        "result = pd.merge(df1, df2, on='key', how='right')\n",
        "print(result)\n"
      ],
      "metadata": {
        "id": "MGg7WDDRD7Iy"
      },
      "execution_count": null,
      "outputs": []
    },
    {
      "cell_type": "markdown",
      "source": [
        "#4. Outer Merge:\n",
        "\n",
        "- Explanation: Returns all rows when there is a match in either left or right DataFrame. Rows with no match in either DataFrame get NaN.\n",
        "- Explanation: Combines all keys from both DataFrames, filling in missing values with NaN.\n"
      ],
      "metadata": {
        "id": "WUQQRPOYEDN0"
      }
    },
    {
      "cell_type": "code",
      "source": [
        "result = pd.merge(df1, df2, on='key', how='outer')\n",
        "print(result)\n"
      ],
      "metadata": {
        "id": "q6OTsrwVFA1E"
      },
      "execution_count": null,
      "outputs": []
    },
    {
      "cell_type": "markdown",
      "source": [],
      "metadata": {
        "id": "aPwzaf-JFJFl"
      }
    },
    {
      "cell_type": "code",
      "source": [
        "import pandas as pd\n",
        "\n",
        "# DataFrame 1\n",
        "df1 = pd.DataFrame({\n",
        "    'ID': [1, 2, 3, 4],\n",
        "    'Name': ['Alice', 'Bob', 'Charlie', 'David'],\n",
        "    'Age': [23, 34, 25, 40]\n",
        "})\n",
        "\n",
        "# DataFrame 2\n",
        "df2 = pd.DataFrame({\n",
        "    'ID': [3, 4, 5, 6],\n",
        "    'Department': ['HR', 'Finance', 'IT', 'Marketing'],\n",
        "    'Salary': [50000, 60000, 55000, 70000]\n",
        "})\n",
        "\n",
        "# Perform Inner Join\n",
        "result = df1.merge(df2, on='ID', how='inner')\n",
        "\n",
        "print(result)\n",
        "\n",
        "result1=pd.merge(df1,df2, on='ID', how='inner')\n",
        "print(result1)\n"
      ],
      "metadata": {
        "id": "xub5AUcVNo2k"
      },
      "execution_count": null,
      "outputs": []
    },
    {
      "cell_type": "code",
      "source": [
        "import pandas as pd\n",
        "\n",
        "# DataFrame 1\n",
        "df1 = pd.DataFrame({\n",
        "    'ID': [1, 2, 3, 4],\n",
        "    'Name': ['Alice', 'Bob', 'Charlie', 'David'],\n",
        "    'Age': [23, 34, 25, 40]\n",
        "})\n",
        "\n",
        "# DataFrame 2\n",
        "df2 = pd.DataFrame({\n",
        "    'ID': [3, 4, 5, 6],\n",
        "    'Department': ['HR', 'Finance', 'IT', 'Marketing'],\n",
        "    'Salary': [50000, 60000, 55000, 70000]\n",
        "})\n",
        "\n",
        "# Set ID as the index\n",
        "df1.set_index('ID', inplace=True)\n",
        "df2.set_index('ID', inplace=True)\n",
        "\n",
        "print(df1)\n",
        "\n",
        "print(df2)\n"
      ],
      "metadata": {
        "id": "6DW4ftk3VJMX"
      },
      "execution_count": null,
      "outputs": []
    },
    {
      "cell_type": "code",
      "source": [
        "# Using join with inner join\n",
        "result_join = df1.join(df2, how='inner')\n",
        "print(\"\\nResult of join:\\n\", result_join)\n",
        "\n",
        "\n",
        "#Homework: perform right,left and outer joins."
      ],
      "metadata": {
        "id": "iTz-kINiVLmD"
      },
      "execution_count": null,
      "outputs": []
    },
    {
      "cell_type": "code",
      "source": [
        "df1.columns"
      ],
      "metadata": {
        "id": "HaYrfiyonAdT"
      },
      "execution_count": null,
      "outputs": []
    },
    {
      "cell_type": "code",
      "source": [
        "df1.index"
      ],
      "metadata": {
        "id": "JdguoFaYnAma"
      },
      "execution_count": null,
      "outputs": []
    },
    {
      "cell_type": "code",
      "source": [],
      "metadata": {
        "id": "KMXN1LahnAsi"
      },
      "execution_count": null,
      "outputs": []
    },
    {
      "cell_type": "markdown",
      "source": [
        "#Differences\n",
        "- 1.merge:\n",
        "\n",
        "Requires an on parameter to specify the key column.\n",
        "The ID column is included as a regular column.\n",
        "The output is more suitable when you want to explicitly show the joining key as a column.\n",
        "- 2.join:\n",
        "\n",
        "Uses the index as the key by default, so you don't need to specify the on parameter.\n",
        "The ID column is set as the index.\n",
        "The output is more suitable when you want to perform a join based on the index and don't need the key as a separate column.\n",
        "Conclusion\n",
        "Both merge and join can be used for inner joins, but merge is more versatile when you need to join on specific columns that are not indices. join, on the other hand, is simpler when working with DataFrames where the keys are already set as indices."
      ],
      "metadata": {
        "id": "l0GSYKb4VZ4_"
      }
    },
    {
      "cell_type": "markdown",
      "metadata": {
        "id": "trJoHnfyW1Z7"
      },
      "source": [
        "Dataset: Motor Trend Car Road Tests 32 observations on 11 (numeric) variables. The data was extracted from the 1974 Motor Trend US magazine, and comprises fuel consumption and 10 aspects of automobile design and performance for 32 automobiles (1973--74 models)."
      ]
    },
    {
      "cell_type": "markdown",
      "source": [
        "#Importing Data Set in our Notebook.\n"
      ],
      "metadata": {
        "id": "rXO6UBsyGYfP"
      }
    },
    {
      "cell_type": "code",
      "source": [
        "from google.colab import drive\n",
        "drive.mount('/content/drive')"
      ],
      "metadata": {
        "id": "dOE2Beq9dmoZ",
        "colab": {
          "base_uri": "https://localhost:8080/"
        },
        "outputId": "d44e1257-294b-4d8b-9542-4aa572f3c902"
      },
      "execution_count": null,
      "outputs": [
        {
          "output_type": "stream",
          "name": "stdout",
          "text": [
            "Mounted at /content/drive\n"
          ]
        }
      ]
    },
    {
      "cell_type": "markdown",
      "metadata": {
        "id": "J9M259ERW1Z7"
      },
      "source": [
        "# Dataset Import"
      ]
    },
    {
      "cell_type": "code",
      "source": [
        "import pandas as pd\n",
        "\n",
        "# Make sure the path to your file is correct\n",
        "file_path = '/content/drive/My Drive/Python - Teaching Material/Data Sets/mtcars2.csv'  #'C:/Users/user/Downloads/mtcars2.csv'\n",
        "\n",
        "#Jupyter_Notebook= 'C:/Users/chand/Downloads/mtcars2.csv'\n",
        "\n",
        "# Read dataset and store it into a DataFrame\n",
        "cars = pd.read_csv(file_path)   #cars=pd.read_csv('C:\\\\Users\\\\Admin\\\\Downloads\\\\mtcars2.csv')\n",
        "\n",
        "# Print the DataFrame\n",
        "print(cars)"
      ],
      "metadata": {
        "id": "wtkFlfIffus2"
      },
      "execution_count": null,
      "outputs": []
    },
    {
      "cell_type": "markdown",
      "metadata": {
        "id": "PNw16CRgW1Z8"
      },
      "source": [
        "Here we are going to import our dataset."
      ]
    },
    {
      "cell_type": "code",
      "execution_count": null,
      "metadata": {
        "id": "sSr32Z82W1Z9"
      },
      "outputs": [],
      "source": [
        "\n",
        "#to be removed before recording---to convert the mpg column to str--\n",
        "cars.mpg = cars.mpg.astype(str)\n",
        "#cars.Unnamed:1=cars.Unnamed:1.astype(str)"
      ]
    },
    {
      "cell_type": "markdown",
      "metadata": {
        "id": "tURjy3iJW1Z-"
      },
      "source": [
        "# Analysis"
      ]
    },
    {
      "cell_type": "markdown",
      "metadata": {
        "id": "zldINj21W1Z-"
      },
      "source": [
        "After importing the dataset we are all set to perform different analysis."
      ]
    },
    {
      "cell_type": "code",
      "execution_count": null,
      "metadata": {
        "id": "zI8KLKKUW1Z-",
        "colab": {
          "base_uri": "https://localhost:8080/",
          "height": 203
        },
        "outputId": "5a5ab886-85f1-4268-8005-9c951d7c74e4"
      },
      "outputs": [
        {
          "output_type": "execute_result",
          "data": {
            "text/plain": [
              "pandas.core.frame.DataFrame"
            ],
            "text/html": [
              "<div style=\"max-width:800px; border: 1px solid var(--colab-border-color);\"><style>\n",
              "      pre.function-repr-contents {\n",
              "        overflow-x: auto;\n",
              "        padding: 8px 12px;\n",
              "        max-height: 500px;\n",
              "      }\n",
              "\n",
              "      pre.function-repr-contents.function-repr-contents-collapsed {\n",
              "        cursor: pointer;\n",
              "        max-height: 100px;\n",
              "      }\n",
              "    </style>\n",
              "    <pre style=\"white-space: initial; background:\n",
              "         var(--colab-secondary-surface-color); padding: 8px 12px;\n",
              "         border-bottom: 1px solid var(--colab-border-color);\"><b>pandas.core.frame.DataFrame</b><br/>def __init__(data=None, index: Axes | None=None, columns: Axes | None=None, dtype: Dtype | None=None, copy: bool | None=None) -&gt; None</pre><pre class=\"function-repr-contents function-repr-contents-collapsed\" style=\"\"><a class=\"filepath\" style=\"display:none\" href=\"#\">/usr/local/lib/python3.11/dist-packages/pandas/core/frame.py</a>Two-dimensional, size-mutable, potentially heterogeneous tabular data.\n",
              "\n",
              "Data structure also contains labeled axes (rows and columns).\n",
              "Arithmetic operations align on both row and column labels. Can be\n",
              "thought of as a dict-like container for Series objects. The primary\n",
              "pandas data structure.\n",
              "\n",
              "Parameters\n",
              "----------\n",
              "data : ndarray (structured or homogeneous), Iterable, dict, or DataFrame\n",
              "    Dict can contain Series, arrays, constants, dataclass or list-like objects. If\n",
              "    data is a dict, column order follows insertion-order. If a dict contains Series\n",
              "    which have an index defined, it is aligned by its index. This alignment also\n",
              "    occurs if data is a Series or a DataFrame itself. Alignment is done on\n",
              "    Series/DataFrame inputs.\n",
              "\n",
              "    If data is a list of dicts, column order follows insertion-order.\n",
              "\n",
              "index : Index or array-like\n",
              "    Index to use for resulting frame. Will default to RangeIndex if\n",
              "    no indexing information part of input data and no index provided.\n",
              "columns : Index or array-like\n",
              "    Column labels to use for resulting frame when data does not have them,\n",
              "    defaulting to RangeIndex(0, 1, 2, ..., n). If data contains column labels,\n",
              "    will perform column selection instead.\n",
              "dtype : dtype, default None\n",
              "    Data type to force. Only a single dtype is allowed. If None, infer.\n",
              "copy : bool or None, default None\n",
              "    Copy data from inputs.\n",
              "    For dict data, the default of None behaves like ``copy=True``.  For DataFrame\n",
              "    or 2d ndarray input, the default of None behaves like ``copy=False``.\n",
              "    If data is a dict containing one or more Series (possibly of different dtypes),\n",
              "    ``copy=False`` will ensure that these inputs are not copied.\n",
              "\n",
              "    .. versionchanged:: 1.3.0\n",
              "\n",
              "See Also\n",
              "--------\n",
              "DataFrame.from_records : Constructor from tuples, also record arrays.\n",
              "DataFrame.from_dict : From dicts of Series, arrays, or dicts.\n",
              "read_csv : Read a comma-separated values (csv) file into DataFrame.\n",
              "read_table : Read general delimited file into DataFrame.\n",
              "read_clipboard : Read text from clipboard into DataFrame.\n",
              "\n",
              "Notes\n",
              "-----\n",
              "Please reference the :ref:`User Guide &lt;basics.dataframe&gt;` for more information.\n",
              "\n",
              "Examples\n",
              "--------\n",
              "Constructing DataFrame from a dictionary.\n",
              "\n",
              "&gt;&gt;&gt; d = {&#x27;col1&#x27;: [1, 2], &#x27;col2&#x27;: [3, 4]}\n",
              "&gt;&gt;&gt; df = pd.DataFrame(data=d)\n",
              "&gt;&gt;&gt; df\n",
              "   col1  col2\n",
              "0     1     3\n",
              "1     2     4\n",
              "\n",
              "Notice that the inferred dtype is int64.\n",
              "\n",
              "&gt;&gt;&gt; df.dtypes\n",
              "col1    int64\n",
              "col2    int64\n",
              "dtype: object\n",
              "\n",
              "To enforce a single dtype:\n",
              "\n",
              "&gt;&gt;&gt; df = pd.DataFrame(data=d, dtype=np.int8)\n",
              "&gt;&gt;&gt; df.dtypes\n",
              "col1    int8\n",
              "col2    int8\n",
              "dtype: object\n",
              "\n",
              "Constructing DataFrame from a dictionary including Series:\n",
              "\n",
              "&gt;&gt;&gt; d = {&#x27;col1&#x27;: [0, 1, 2, 3], &#x27;col2&#x27;: pd.Series([2, 3], index=[2, 3])}\n",
              "&gt;&gt;&gt; pd.DataFrame(data=d, index=[0, 1, 2, 3])\n",
              "   col1  col2\n",
              "0     0   NaN\n",
              "1     1   NaN\n",
              "2     2   2.0\n",
              "3     3   3.0\n",
              "\n",
              "Constructing DataFrame from numpy ndarray:\n",
              "\n",
              "&gt;&gt;&gt; df2 = pd.DataFrame(np.array([[1, 2, 3], [4, 5, 6], [7, 8, 9]]),\n",
              "...                    columns=[&#x27;a&#x27;, &#x27;b&#x27;, &#x27;c&#x27;])\n",
              "&gt;&gt;&gt; df2\n",
              "   a  b  c\n",
              "0  1  2  3\n",
              "1  4  5  6\n",
              "2  7  8  9\n",
              "\n",
              "Constructing DataFrame from a numpy ndarray that has labeled columns:\n",
              "\n",
              "&gt;&gt;&gt; data = np.array([(1, 2, 3), (4, 5, 6), (7, 8, 9)],\n",
              "...                 dtype=[(&quot;a&quot;, &quot;i4&quot;), (&quot;b&quot;, &quot;i4&quot;), (&quot;c&quot;, &quot;i4&quot;)])\n",
              "&gt;&gt;&gt; df3 = pd.DataFrame(data, columns=[&#x27;c&#x27;, &#x27;a&#x27;])\n",
              "...\n",
              "&gt;&gt;&gt; df3\n",
              "   c  a\n",
              "0  3  1\n",
              "1  6  4\n",
              "2  9  7\n",
              "\n",
              "Constructing DataFrame from dataclass:\n",
              "\n",
              "&gt;&gt;&gt; from dataclasses import make_dataclass\n",
              "&gt;&gt;&gt; Point = make_dataclass(&quot;Point&quot;, [(&quot;x&quot;, int), (&quot;y&quot;, int)])\n",
              "&gt;&gt;&gt; pd.DataFrame([Point(0, 0), Point(0, 3), Point(2, 3)])\n",
              "   x  y\n",
              "0  0  0\n",
              "1  0  3\n",
              "2  2  3\n",
              "\n",
              "Constructing DataFrame from Series/DataFrame:\n",
              "\n",
              "&gt;&gt;&gt; ser = pd.Series([1, 2, 3], index=[&quot;a&quot;, &quot;b&quot;, &quot;c&quot;])\n",
              "&gt;&gt;&gt; df = pd.DataFrame(data=ser, index=[&quot;a&quot;, &quot;c&quot;])\n",
              "&gt;&gt;&gt; df\n",
              "   0\n",
              "a  1\n",
              "c  3\n",
              "\n",
              "&gt;&gt;&gt; df1 = pd.DataFrame([1, 2, 3], index=[&quot;a&quot;, &quot;b&quot;, &quot;c&quot;], columns=[&quot;x&quot;])\n",
              "&gt;&gt;&gt; df2 = pd.DataFrame(data=df1, index=[&quot;a&quot;, &quot;c&quot;])\n",
              "&gt;&gt;&gt; df2\n",
              "   x\n",
              "a  1\n",
              "c  3</pre>\n",
              "      <script>\n",
              "      if (google.colab.kernel.accessAllowed && google.colab.files && google.colab.files.view) {\n",
              "        for (const element of document.querySelectorAll('.filepath')) {\n",
              "          element.style.display = 'block'\n",
              "          element.onclick = (event) => {\n",
              "            event.preventDefault();\n",
              "            event.stopPropagation();\n",
              "            google.colab.files.view(element.textContent, 509);\n",
              "          };\n",
              "        }\n",
              "      }\n",
              "      for (const element of document.querySelectorAll('.function-repr-contents')) {\n",
              "        element.onclick = (event) => {\n",
              "          event.preventDefault();\n",
              "          event.stopPropagation();\n",
              "          element.classList.toggle('function-repr-contents-collapsed');\n",
              "        };\n",
              "      }\n",
              "      </script>\n",
              "      </div>"
            ]
          },
          "metadata": {},
          "execution_count": 10
        }
      ],
      "source": [
        "#check the type\n",
        "type(cars)"
      ]
    },
    {
      "cell_type": "code",
      "execution_count": null,
      "metadata": {
        "id": "0f-vkNuSW1Z_",
        "colab": {
          "base_uri": "https://localhost:8080/",
          "height": 81
        },
        "outputId": "f9f081a4-61ec-4b81-a2b0-e12d0e60760f"
      },
      "outputs": [
        {
          "output_type": "execute_result",
          "data": {
            "text/plain": [
              "  Unnamed: 0   mpg  cyl   disp   hp  drat    wt   qsec  vs  am  gear  carb\n",
              "0  Mazda RX4  21.0    6  160.0  110   3.9  2.62  16.46   0   1     4     4"
            ],
            "text/html": [
              "\n",
              "  <div id=\"df-398cd7c7-f795-442c-b1a4-f1f664b0cd10\" class=\"colab-df-container\">\n",
              "    <div>\n",
              "<style scoped>\n",
              "    .dataframe tbody tr th:only-of-type {\n",
              "        vertical-align: middle;\n",
              "    }\n",
              "\n",
              "    .dataframe tbody tr th {\n",
              "        vertical-align: top;\n",
              "    }\n",
              "\n",
              "    .dataframe thead th {\n",
              "        text-align: right;\n",
              "    }\n",
              "</style>\n",
              "<table border=\"1\" class=\"dataframe\">\n",
              "  <thead>\n",
              "    <tr style=\"text-align: right;\">\n",
              "      <th></th>\n",
              "      <th>Unnamed: 0</th>\n",
              "      <th>mpg</th>\n",
              "      <th>cyl</th>\n",
              "      <th>disp</th>\n",
              "      <th>hp</th>\n",
              "      <th>drat</th>\n",
              "      <th>wt</th>\n",
              "      <th>qsec</th>\n",
              "      <th>vs</th>\n",
              "      <th>am</th>\n",
              "      <th>gear</th>\n",
              "      <th>carb</th>\n",
              "    </tr>\n",
              "  </thead>\n",
              "  <tbody>\n",
              "    <tr>\n",
              "      <th>0</th>\n",
              "      <td>Mazda RX4</td>\n",
              "      <td>21.0</td>\n",
              "      <td>6</td>\n",
              "      <td>160.0</td>\n",
              "      <td>110</td>\n",
              "      <td>3.9</td>\n",
              "      <td>2.62</td>\n",
              "      <td>16.46</td>\n",
              "      <td>0</td>\n",
              "      <td>1</td>\n",
              "      <td>4</td>\n",
              "      <td>4</td>\n",
              "    </tr>\n",
              "  </tbody>\n",
              "</table>\n",
              "</div>\n",
              "    <div class=\"colab-df-buttons\">\n",
              "\n",
              "  <div class=\"colab-df-container\">\n",
              "    <button class=\"colab-df-convert\" onclick=\"convertToInteractive('df-398cd7c7-f795-442c-b1a4-f1f664b0cd10')\"\n",
              "            title=\"Convert this dataframe to an interactive table.\"\n",
              "            style=\"display:none;\">\n",
              "\n",
              "  <svg xmlns=\"http://www.w3.org/2000/svg\" height=\"24px\" viewBox=\"0 -960 960 960\">\n",
              "    <path d=\"M120-120v-720h720v720H120Zm60-500h600v-160H180v160Zm220 220h160v-160H400v160Zm0 220h160v-160H400v160ZM180-400h160v-160H180v160Zm440 0h160v-160H620v160ZM180-180h160v-160H180v160Zm440 0h160v-160H620v160Z\"/>\n",
              "  </svg>\n",
              "    </button>\n",
              "\n",
              "  <style>\n",
              "    .colab-df-container {\n",
              "      display:flex;\n",
              "      gap: 12px;\n",
              "    }\n",
              "\n",
              "    .colab-df-convert {\n",
              "      background-color: #E8F0FE;\n",
              "      border: none;\n",
              "      border-radius: 50%;\n",
              "      cursor: pointer;\n",
              "      display: none;\n",
              "      fill: #1967D2;\n",
              "      height: 32px;\n",
              "      padding: 0 0 0 0;\n",
              "      width: 32px;\n",
              "    }\n",
              "\n",
              "    .colab-df-convert:hover {\n",
              "      background-color: #E2EBFA;\n",
              "      box-shadow: 0px 1px 2px rgba(60, 64, 67, 0.3), 0px 1px 3px 1px rgba(60, 64, 67, 0.15);\n",
              "      fill: #174EA6;\n",
              "    }\n",
              "\n",
              "    .colab-df-buttons div {\n",
              "      margin-bottom: 4px;\n",
              "    }\n",
              "\n",
              "    [theme=dark] .colab-df-convert {\n",
              "      background-color: #3B4455;\n",
              "      fill: #D2E3FC;\n",
              "    }\n",
              "\n",
              "    [theme=dark] .colab-df-convert:hover {\n",
              "      background-color: #434B5C;\n",
              "      box-shadow: 0px 1px 3px 1px rgba(0, 0, 0, 0.15);\n",
              "      filter: drop-shadow(0px 1px 2px rgba(0, 0, 0, 0.3));\n",
              "      fill: #FFFFFF;\n",
              "    }\n",
              "  </style>\n",
              "\n",
              "    <script>\n",
              "      const buttonEl =\n",
              "        document.querySelector('#df-398cd7c7-f795-442c-b1a4-f1f664b0cd10 button.colab-df-convert');\n",
              "      buttonEl.style.display =\n",
              "        google.colab.kernel.accessAllowed ? 'block' : 'none';\n",
              "\n",
              "      async function convertToInteractive(key) {\n",
              "        const element = document.querySelector('#df-398cd7c7-f795-442c-b1a4-f1f664b0cd10');\n",
              "        const dataTable =\n",
              "          await google.colab.kernel.invokeFunction('convertToInteractive',\n",
              "                                                    [key], {});\n",
              "        if (!dataTable) return;\n",
              "\n",
              "        const docLinkHtml = 'Like what you see? Visit the ' +\n",
              "          '<a target=\"_blank\" href=https://colab.research.google.com/notebooks/data_table.ipynb>data table notebook</a>'\n",
              "          + ' to learn more about interactive tables.';\n",
              "        element.innerHTML = '';\n",
              "        dataTable['output_type'] = 'display_data';\n",
              "        await google.colab.output.renderOutput(dataTable, element);\n",
              "        const docLink = document.createElement('div');\n",
              "        docLink.innerHTML = docLinkHtml;\n",
              "        element.appendChild(docLink);\n",
              "      }\n",
              "    </script>\n",
              "  </div>\n",
              "\n",
              "\n",
              "    </div>\n",
              "  </div>\n"
            ],
            "application/vnd.google.colaboratory.intrinsic+json": {
              "type": "dataframe",
              "variable_name": "cars",
              "summary": "{\n  \"name\": \"cars\",\n  \"rows\": 44,\n  \"fields\": [\n    {\n      \"column\": \"Unnamed: 0\",\n      \"properties\": {\n        \"dtype\": \"string\",\n        \"num_unique_values\": 32,\n        \"samples\": [\n          \"Ferrari Dino\",\n          \"AMC Javelin\",\n          \"Pontiac Firebird\"\n        ],\n        \"semantic_type\": \"\",\n        \"description\": \"\"\n      }\n    },\n    {\n      \"column\": \"mpg\",\n      \"properties\": {\n        \"dtype\": \"number\",\n        \"std\": 6.780679242794006,\n        \"min\": 10.4,\n        \"max\": 33.9,\n        \"num_unique_values\": 25,\n        \"samples\": [\n          19.2,\n          33.9,\n          21.0\n        ],\n        \"semantic_type\": \"\",\n        \"description\": \"\"\n      }\n    },\n    {\n      \"column\": \"cyl\",\n      \"properties\": {\n        \"dtype\": \"number\",\n        \"std\": 1,\n        \"min\": 4,\n        \"max\": 8,\n        \"num_unique_values\": 3,\n        \"samples\": [\n          6,\n          4,\n          8\n        ],\n        \"semantic_type\": \"\",\n        \"description\": \"\"\n      }\n    },\n    {\n      \"column\": \"disp\",\n      \"properties\": {\n        \"dtype\": \"number\",\n        \"std\": 134.98999686923796,\n        \"min\": 71.1,\n        \"max\": 472.0,\n        \"num_unique_values\": 27,\n        \"samples\": [\n          167.6,\n          78.7,\n          472.0\n        ],\n        \"semantic_type\": \"\",\n        \"description\": \"\"\n      }\n    },\n    {\n      \"column\": \"hp\",\n      \"properties\": {\n        \"dtype\": \"number\",\n        \"std\": 66,\n        \"min\": 52,\n        \"max\": 335,\n        \"num_unique_values\": 22,\n        \"samples\": [\n          110,\n          66,\n          123\n        ],\n        \"semantic_type\": \"\",\n        \"description\": \"\"\n      }\n    },\n    {\n      \"column\": \"drat\",\n      \"properties\": {\n        \"dtype\": \"number\",\n        \"std\": 0.559657239938558,\n        \"min\": 2.76,\n        \"max\": 4.93,\n        \"num_unique_values\": 22,\n        \"samples\": [\n          3.9,\n          4.93,\n          3.92\n        ],\n        \"semantic_type\": \"\",\n        \"description\": \"\"\n      }\n    },\n    {\n      \"column\": \"wt\",\n      \"properties\": {\n        \"dtype\": \"number\",\n        \"std\": 1.1137631397183823,\n        \"min\": 1.513,\n        \"max\": 5.424,\n        \"num_unique_values\": 29,\n        \"samples\": [\n          2.77,\n          2.2,\n          3.73\n        ],\n        \"semantic_type\": \"\",\n        \"description\": \"\"\n      }\n    },\n    {\n      \"column\": \"qsec\",\n      \"properties\": {\n        \"dtype\": \"number\",\n        \"std\": 1.535409177546726,\n        \"min\": 14.5,\n        \"max\": 22.9,\n        \"num_unique_values\": 28,\n        \"samples\": [\n          18.9,\n          15.5,\n          18.3\n        ],\n        \"semantic_type\": \"\",\n        \"description\": \"\"\n      }\n    },\n    {\n      \"column\": \"vs\",\n      \"properties\": {\n        \"dtype\": \"number\",\n        \"std\": 0,\n        \"min\": 0,\n        \"max\": 1,\n        \"num_unique_values\": 2,\n        \"samples\": [\n          1,\n          0\n        ],\n        \"semantic_type\": \"\",\n        \"description\": \"\"\n      }\n    },\n    {\n      \"column\": \"am\",\n      \"properties\": {\n        \"dtype\": \"number\",\n        \"std\": 0,\n        \"min\": 0,\n        \"max\": 1,\n        \"num_unique_values\": 2,\n        \"samples\": [\n          0,\n          1\n        ],\n        \"semantic_type\": \"\",\n        \"description\": \"\"\n      }\n    },\n    {\n      \"column\": \"gear\",\n      \"properties\": {\n        \"dtype\": \"number\",\n        \"std\": 0,\n        \"min\": 3,\n        \"max\": 5,\n        \"num_unique_values\": 3,\n        \"samples\": [\n          4,\n          3\n        ],\n        \"semantic_type\": \"\",\n        \"description\": \"\"\n      }\n    },\n    {\n      \"column\": \"carb\",\n      \"properties\": {\n        \"dtype\": \"number\",\n        \"std\": 1,\n        \"min\": 1,\n        \"max\": 8,\n        \"num_unique_values\": 6,\n        \"samples\": [\n          4,\n          1\n        ],\n        \"semantic_type\": \"\",\n        \"description\": \"\"\n      }\n    }\n  ]\n}"
            }
          },
          "metadata": {},
          "execution_count": 13
        }
      ],
      "source": [
        "#view only the first five records\n",
        "cars.head()"
      ]
    },
    {
      "cell_type": "code",
      "execution_count": null,
      "metadata": {
        "id": "_H7WwmMDW1Z_"
      },
      "outputs": [],
      "source": [
        "#view only the first ten records\n",
        "cars.head(10)"
      ]
    },
    {
      "cell_type": "code",
      "execution_count": null,
      "metadata": {
        "id": "pXB44Nd7W1Z_"
      },
      "outputs": [],
      "source": [
        "#view only the last five records\n",
        "cars.tail()"
      ]
    },
    {
      "cell_type": "code",
      "execution_count": null,
      "metadata": {
        "scrolled": true,
        "id": "-zXtGrROW1aA"
      },
      "outputs": [],
      "source": [
        "#view only the last ten records\n",
        "cars.tail(2)"
      ]
    },
    {
      "cell_type": "code",
      "execution_count": null,
      "metadata": {
        "id": "GbvxjzFGW1aA",
        "colab": {
          "base_uri": "https://localhost:8080/"
        },
        "outputId": "708c356e-fa55-49d6-872d-dee5a18c8539"
      },
      "outputs": [
        {
          "output_type": "execute_result",
          "data": {
            "text/plain": [
              "(44, 12)"
            ]
          },
          "metadata": {},
          "execution_count": 16
        }
      ],
      "source": [
        "#view number of rows and columns in the dataframe\n",
        "cars.shape"
      ]
    },
    {
      "cell_type": "code",
      "execution_count": null,
      "metadata": {
        "scrolled": true,
        "id": "eYQcXlBjW1aA"
      },
      "outputs": [],
      "source": [
        "#print a concise summary of the columns\n",
        "cars.info()"
      ]
    },
    {
      "cell_type": "code",
      "execution_count": null,
      "metadata": {
        "scrolled": false,
        "id": "lGodvETgW1aA"
      },
      "outputs": [],
      "source": [
        "#mean\n",
        "mean_values = cars.mean(numeric_only=True)\n",
        "print(mean_values)"
      ]
    },
    {
      "cell_type": "code",
      "execution_count": null,
      "metadata": {
        "id": "aKx_QkwZW1aA"
      },
      "outputs": [],
      "source": [
        "#median\n",
        "median_values = cars.median(numeric_only=True)\n",
        "print(median_values)"
      ]
    },
    {
      "cell_type": "code",
      "execution_count": null,
      "metadata": {
        "id": "KivHhPhcW1aB"
      },
      "outputs": [],
      "source": [
        "#standard deviation\n",
        "std_values = cars.std(numeric_only=True)\n",
        "std_values"
      ]
    },
    {
      "cell_type": "code",
      "execution_count": null,
      "metadata": {
        "id": "iqPS211-W1aB"
      },
      "outputs": [],
      "source": [
        "#maximum of each attribute\n",
        "cars.max(numeric_only=True)\n",
        "#cars.max()"
      ]
    },
    {
      "cell_type": "code",
      "execution_count": null,
      "metadata": {
        "scrolled": true,
        "id": "zfFUQ07IW1aB"
      },
      "outputs": [],
      "source": [
        "#minimum of each attribute\n",
        "cars.min()"
      ]
    },
    {
      "cell_type": "code",
      "execution_count": null,
      "metadata": {
        "id": "oXaYLyOwW1aB"
      },
      "outputs": [],
      "source": [
        "#number of non-null records in each column\n",
        "cars.count()"
      ]
    },
    {
      "cell_type": "code",
      "execution_count": null,
      "metadata": {
        "scrolled": true,
        "id": "B2bHGG0CW1aC"
      },
      "outputs": [],
      "source": [
        "#descriptive statistics summary\n",
        "cars.describe()"
      ]
    },
    {
      "cell_type": "code",
      "source": [
        "print(cars)"
      ],
      "metadata": {
        "id": "INqQoYLGkjgx"
      },
      "execution_count": null,
      "outputs": []
    },
    {
      "cell_type": "markdown",
      "metadata": {
        "id": "ghsUMpBxW1aC"
      },
      "source": [
        "# Cleaning"
      ]
    },
    {
      "cell_type": "markdown",
      "metadata": {
        "id": "c_0ApvZQW1aC"
      },
      "source": [
        "After analysing we have realized that our dataset is not perfect, some column names are irrelevant, there are a few missing data, some column has important data but cant perform some operation because they are of string type. So now with the help of PAndas we will be cleaning or in other words we will be making our data perfect to perform further operations."
      ]
    },
    {
      "cell_type": "code",
      "execution_count": null,
      "metadata": {
        "scrolled": true,
        "id": "_6NfsQhHW1aC"
      },
      "outputs": [],
      "source": [
        "#rename column\n",
        "cars=cars.rename(columns={'Unnamed: 0':'model'})\n",
        "print(cars)"
      ]
    },
    {
      "cell_type": "code",
      "execution_count": null,
      "metadata": {
        "id": "Llv4jUyeW1aC"
      },
      "outputs": [],
      "source": [
        "#Fill the null values with mean of the column\n",
        "cars.qsec=cars.qsec.fillna(cars.qsec.mean())   #cars.qsec.mean =17.674828\n",
        "cars\n"
      ]
    },
    {
      "cell_type": "code",
      "source": [
        "cars.describe()\n"
      ],
      "metadata": {
        "id": "PHygdO0Nlx96"
      },
      "execution_count": null,
      "outputs": []
    },
    {
      "cell_type": "code",
      "execution_count": null,
      "metadata": {
        "id": "_e4Lt2dyW1aD"
      },
      "outputs": [],
      "source": [
        "#drop unwanted column\n",
        "cars = cars.drop(columns=['S.No'])\n",
        "cars"
      ]
    },
    {
      "cell_type": "code",
      "source": [
        "#Drop unwanted Row\n",
        "\n",
        "cars = cars.drop(index=2)\n",
        "cars"
      ],
      "metadata": {
        "id": "Uz08IzqlPOX-"
      },
      "execution_count": null,
      "outputs": []
    },
    {
      "cell_type": "markdown",
      "source": [
        "- A correlation matrix is a table showing correlation coefficients between sets of variables. Each cell in the table shows the correlation between two variables. The value is in the range of -1 to 1, where:\n",
        "\n",
        "- 1 indicates a perfect positive correlation (as one variable increases, the other also increases).\n",
        "- -1 indicates a perfect negative correlation (as one variable increases, the other decreases).\n",
        "- 0 indicates no correlation (no linear relationship between the variables)."
      ],
      "metadata": {
        "id": "-7vZhcdW6-L3"
      }
    },
    {
      "cell_type": "markdown",
      "metadata": {
        "id": "_1paoGpnW1aD"
      },
      "source": [
        "Now from the correlation we can see lowest correlation is between \"am\" and \"carb\". So when we will taking \"carb\" as reference for any analysis we can drop \"am\", since it will not add any change or value to the analysis. In the same way we can drop \"carb\" column while taking \"am\" as reference for any analysis."
      ]
    },
    {
      "cell_type": "markdown",
      "metadata": {
        "id": "kIBM88SIW1aD"
      },
      "source": [
        "# Manipluation"
      ]
    },
    {
      "cell_type": "markdown",
      "metadata": {
        "id": "2A2WFJb1W1aE"
      },
      "source": [
        "Sometimes we don't need the whole dataset for analysis and cut them in small chunks, sometimes we need to arrange them in an certain order(ascending or descending), sometimes we may need to set a certain value to a column or apply a function to a column, sometmes we may also need to apply filters to our dataset---all of these comes under Pandas Data Manipulation."
      ]
    },
    {
      "cell_type": "markdown",
      "metadata": {
        "id": "790Q4RtRW1aE"
      },
      "source": [
        "# Indexing by position"
      ]
    },
    {
      "cell_type": "code",
      "execution_count": null,
      "metadata": {
        "id": "reLJnn_jW1aE"
      },
      "outputs": [],
      "source": [
        "#view hp column only\n",
        "print(cars.iloc[ : ,4])   #[ :  (Rows), 4(Columns)]\n",
        "\n"
      ]
    },
    {
      "cell_type": "code",
      "execution_count": null,
      "metadata": {
        "id": "VVAxfqD1W1aE"
      },
      "outputs": [],
      "source": [
        "#first five records of hp column\n",
        "cars.iloc[ 0:5,4]   #5-1=4th index"
      ]
    },
    {
      "cell_type": "code",
      "execution_count": null,
      "metadata": {
        "scrolled": true,
        "id": "kf4mLw4YW1aE"
      },
      "outputs": [],
      "source": [
        "#all rows, all columns\n",
        "cars.iloc[ : , : ]  #[ : , : ]"
      ]
    },
    {
      "cell_type": "code",
      "execution_count": null,
      "metadata": {
        "scrolled": false,
        "id": "nXQk-RymW1aE"
      },
      "outputs": [],
      "source": [
        "#for attributes from hp to carb see all the records from index 6\n",
        "cars.iloc[6:,4:]\n",
        "\n",
        "#View attributes from drat to vs and records from 2nd index to 10th index\n",
        "cars.iloc[2:11,5:9]"
      ]
    },
    {
      "cell_type": "code",
      "execution_count": null,
      "metadata": {
        "id": "xRPT-dpXW1aE"
      },
      "outputs": [],
      "source": [
        "#Now we want to look at all the rows and only the first column\n",
        "cars.iloc[:,0]"
      ]
    },
    {
      "cell_type": "markdown",
      "metadata": {
        "id": "yJWZ3onqW1aJ"
      },
      "source": [
        "# indexing by label"
      ]
    },
    {
      "cell_type": "code",
      "execution_count": null,
      "metadata": {
        "scrolled": true,
        "id": "Cbplae0PW1aJ"
      },
      "outputs": [],
      "source": [
        "#see all the record of mpg column\n",
        "cars.loc[:,\"mpg\"]"
      ]
    },
    {
      "cell_type": "code",
      "execution_count": null,
      "metadata": {
        "id": "xcuR7g7vW1aJ"
      },
      "outputs": [],
      "source": [
        "#display the records from index 0 to index 6 from mpg column\n",
        "cars.loc[0:6,\"mpg\"]"
      ]
    },
    {
      "cell_type": "code",
      "execution_count": null,
      "metadata": {
        "id": "X7uvz_oTW1aJ"
      },
      "outputs": [],
      "source": [
        "#see the first 7 records from mpg to qsec column\n",
        "cars.loc[0:6,\"mpg\":\"qsec\"]"
      ]
    },
    {
      "cell_type": "code",
      "execution_count": null,
      "metadata": {
        "id": "saHUTUzyW1aJ"
      },
      "outputs": [],
      "source": [
        "#set value 1 to column 'am'   automated = 0 , manual =1\n",
        "cars['am'] = 1\n",
        "cars"
      ]
    },
    {
      "cell_type": "code",
      "execution_count": null,
      "metadata": {
        "id": "olgpA_VyW1aK"
      },
      "outputs": [],
      "source": [
        "#double up records in 'am' using lambda fxn\n",
        "f = lambda x: x*2\n",
        "cars['am']= cars['am'].apply(f)\n",
        "cars"
      ]
    },
    {
      "cell_type": "markdown",
      "metadata": {
        "id": "l8spkHw8W1aK"
      },
      "source": [
        "# Sorting"
      ]
    },
    {
      "cell_type": "code",
      "execution_count": null,
      "metadata": {
        "id": "nDwT3DWXW1aK"
      },
      "outputs": [],
      "source": [
        "#sorting cyl column ascending order\n",
        "cars.sort_values(by='cyl')"
      ]
    },
    {
      "cell_type": "code",
      "execution_count": null,
      "metadata": {
        "id": "xSUJQEcbW1aK"
      },
      "outputs": [],
      "source": [
        "#sort cyl in descending order\n",
        "cars.sort_values(by='cyl', ascending=False)"
      ]
    },
    {
      "cell_type": "code",
      "source": [
        "cars.sort_values(by='mpg', ascending=False)\n",
        "\n",
        "#sort mpg column by descending order\n",
        "cars.sort_values(by='mpg', ascending=False)"
      ],
      "metadata": {
        "id": "S0zWUAQVySYV"
      },
      "execution_count": null,
      "outputs": []
    },
    {
      "cell_type": "markdown",
      "metadata": {
        "id": "HVHq5GyCW1aK"
      },
      "source": [
        "# Filtering"
      ]
    },
    {
      "cell_type": "code",
      "execution_count": null,
      "metadata": {
        "id": "h7ATeuocW1aK"
      },
      "outputs": [],
      "source": [
        "#filter records with more than 6 cylinders\n",
        "cars['cyl'] >= 6"
      ]
    },
    {
      "cell_type": "code",
      "execution_count": null,
      "metadata": {
        "id": "_SzOqKcnW1aK"
      },
      "outputs": [],
      "source": [
        "#filter records with more than 6 cylinders\n",
        "filter1 = cars['cyl'] > 6\n",
        "#apply filter to dataframe\n",
        "filtered_new = cars[filter1]\n",
        "#view filtered dataframe\n",
        "filtered_new\n",
        "\n",
        "\n"
      ]
    },
    {
      "cell_type": "code",
      "source": [
        "cars[(cars[\"cyl\"] > 6) & (cars[\"hp\"] > 300)]"
      ],
      "metadata": {
        "id": "QtnvTVZrwnpW"
      },
      "execution_count": null,
      "outputs": []
    },
    {
      "cell_type": "code",
      "source": [
        "new=cars[cars['cyl'] > 6]\n",
        "new"
      ],
      "metadata": {
        "id": "fxqVccKLv22u"
      },
      "execution_count": null,
      "outputs": []
    },
    {
      "cell_type": "code",
      "execution_count": null,
      "metadata": {
        "id": "8goUpQXXW1aK"
      },
      "outputs": [],
      "source": [
        "#filter records with more than 6 cyl and hp more than 300\n",
        "filter2 = (cars[\"cyl\"] > 6) & (cars[\"hp\"] > 300)\n",
        "#apply filter to dataframe\n",
        "filtered_review = cars[filter2]\n",
        "#display filtered data\n",
        "filtered_review"
      ]
    },
    {
      "cell_type": "code",
      "source": [
        "#filter records with more than 6 cyl and mpg greater than 20\n"
      ],
      "metadata": {
        "id": "CGltjaQq1wov"
      },
      "execution_count": null,
      "outputs": []
    },
    {
      "cell_type": "markdown",
      "metadata": {
        "id": "67mjC_-pW1aL"
      },
      "source": [
        "# Data Visualization"
      ]
    },
    {
      "cell_type": "code",
      "execution_count": null,
      "metadata": {
        "scrolled": true,
        "id": "SDm3Cy1SW1aL",
        "outputId": "abed54d4-856b-4b5f-8881-277c148cc781",
        "colab": {
          "base_uri": "https://localhost:8080/",
          "height": 211
        }
      },
      "outputs": [
        {
          "output_type": "error",
          "ename": "NameError",
          "evalue": "name 'cars' is not defined",
          "traceback": [
            "\u001b[0;31m---------------------------------------------------------------------------\u001b[0m",
            "\u001b[0;31mNameError\u001b[0m                                 Traceback (most recent call last)",
            "\u001b[0;32m<ipython-input-1-be78128dce5b>\u001b[0m in \u001b[0;36m<cell line: 0>\u001b[0;34m()\u001b[0m\n\u001b[1;32m      3\u001b[0m \u001b[0mget_ipython\u001b[0m\u001b[0;34m(\u001b[0m\u001b[0;34m)\u001b[0m\u001b[0;34m.\u001b[0m\u001b[0mrun_line_magic\u001b[0m\u001b[0;34m(\u001b[0m\u001b[0;34m'matplotlib'\u001b[0m\u001b[0;34m,\u001b[0m \u001b[0;34m'inline'\u001b[0m\u001b[0;34m)\u001b[0m\u001b[0;34m\u001b[0m\u001b[0;34m\u001b[0m\u001b[0m\n\u001b[1;32m      4\u001b[0m \u001b[0;31m#see how hp varies with each car with line plot\u001b[0m\u001b[0;34m\u001b[0m\u001b[0;34m\u001b[0m\u001b[0m\n\u001b[0;32m----> 5\u001b[0;31m \u001b[0my\u001b[0m \u001b[0;34m=\u001b[0m \u001b[0mcars\u001b[0m\u001b[0;34m[\u001b[0m\u001b[0;34m'hp'\u001b[0m\u001b[0;34m]\u001b[0m   \u001b[0;31m#0,4,6\u001b[0m\u001b[0;34m\u001b[0m\u001b[0;34m\u001b[0m\u001b[0m\n\u001b[0m\u001b[1;32m      6\u001b[0m \u001b[0mx\u001b[0m  \u001b[0;34m=\u001b[0m \u001b[0mrange\u001b[0m\u001b[0;34m(\u001b[0m\u001b[0;36m44\u001b[0m\u001b[0;34m)\u001b[0m   \u001b[0;31m#0,1,2,3,.....,44\u001b[0m\u001b[0;34m\u001b[0m\u001b[0;34m\u001b[0m\u001b[0m\n\u001b[1;32m      7\u001b[0m \u001b[0mplt\u001b[0m\u001b[0;34m.\u001b[0m\u001b[0mplot\u001b[0m\u001b[0;34m(\u001b[0m\u001b[0mx\u001b[0m\u001b[0;34m,\u001b[0m\u001b[0my\u001b[0m\u001b[0;34m)\u001b[0m\u001b[0;34m\u001b[0m\u001b[0;34m\u001b[0m\u001b[0m\n",
            "\u001b[0;31mNameError\u001b[0m: name 'cars' is not defined"
          ]
        }
      ],
      "source": [
        "#import matplotlib\n",
        "import matplotlib.pyplot  as plt\n",
        "%matplotlib inline\n",
        "#see how hp varies with each car with line plot\n",
        "y = cars['hp']   #0,4,6\n",
        "x  = range(44)   #0,1,2,3,.....,44\n",
        "plt.plot(x,y)"
      ]
    },
    {
      "cell_type": "code",
      "execution_count": null,
      "metadata": {
        "id": "HPt4iyEEW1aL"
      },
      "outputs": [],
      "source": [
        "#import matplotlib\n",
        "import matplotlib.pyplot  as plt\n",
        "%matplotlib inline\n",
        "#see how hp varies with each car with line plot\n",
        "y2 = cars['disp']\n",
        "x  = range(44)\n",
        "plt.plot(x,y2)"
      ]
    },
    {
      "cell_type": "code",
      "execution_count": null,
      "metadata": {
        "id": "q77piBWkW1aL"
      },
      "outputs": [],
      "source": [
        "#import matplotlib\n",
        "import matplotlib.pyplot  as plt\n",
        "%matplotlib inline\n",
        "y1 = cars['hp']\n",
        "y2 = cars['disp']\n",
        "#see how both hp and disp varies\n",
        "x  = range(44)\n",
        "plt.plot(x,y1)\n",
        "plt.plot(x,y2)\n",
        "plt.legend()"
      ]
    },
    {
      "cell_type": "code",
      "execution_count": null,
      "metadata": {
        "id": "c_3jFOiQW1aL"
      },
      "outputs": [],
      "source": [
        "#import matplotlib\n",
        "import matplotlib.pyplot  as plt\n",
        "%matplotlib inline\n",
        "y1 = cars['hp']\n",
        "y2 = cars['disp']\n",
        "x  = range(44)\n",
        "#area plot of hp and disp\n",
        "plt.stackplot(x,y1)#,colors = 'r', alpha = 0.7)\n",
        "plt.stackplot(x,y2)#,colors = 'c', alpha = 0.5)"
      ]
    },
    {
      "cell_type": "code",
      "execution_count": null,
      "metadata": {
        "id": "JqBuPYW7W1aM"
      },
      "outputs": [],
      "source": [
        "import matplotlib.pyplot  as plt\n",
        "%matplotlib inline\n",
        "y1 = cars['hp']\n",
        "y2 = cars['disp']\n",
        "x  = range(44)\n",
        "#plot both line plot and area plot to see the margin\n",
        "plt.plot(x,y1, linewidth = 2.0, color = 'c')\n",
        "plt.stackplot(x,y1,colors = 'gold', alpha = 0.7)\n",
        "plt.plot(x,y2, linewidth = 1.0, color = 'gold')\n",
        "plt.stackplot(x,y2,colors = 'b', alpha = 0.5)"
      ]
    },
    {
      "cell_type": "code",
      "execution_count": null,
      "metadata": {
        "scrolled": false,
        "id": "_FeT_QZdW1aM"
      },
      "outputs": [],
      "source": [
        "#import matplotlib\n",
        "import matplotlib.pyplot  as plt\n",
        "%matplotlib inline\n",
        "y = cars['hp']\n",
        "#x  = range(32)\n",
        "#model to list\n",
        "x1 = cars['model'].tolist()\n",
        "#adding figure to adjust figsize\n",
        "#fig = plt.figure(figsize = (30,15))\n",
        "#see how hp changes with bar plot\n",
        "plt.bar(x1,y,color=\"purple\", alpha=0.9)\n"
      ]
    },
    {
      "cell_type": "code",
      "execution_count": null,
      "metadata": {
        "scrolled": true,
        "id": "i9cUVZauW1aM"
      },
      "outputs": [],
      "source": [
        "#import matplotlib\n",
        "import matplotlib.pyplot  as plt\n",
        "%matplotlib inline\n",
        "y = cars['hp']\n",
        "x  = range(32)\n",
        "x1 = cars['model'].tolist()\n",
        "fig = plt.figure(figsize = (17,10))\n",
        "#to avoid the overlapping issue plot horizontal bar plot\n",
        "plt.barh(x1,y, color=\"purple\", alpha=0.8)"
      ]
    },
    {
      "cell_type": "code",
      "source": [
        "import pandas as pd"
      ],
      "metadata": {
        "id": "uoWVlCARowQa"
      },
      "execution_count": null,
      "outputs": []
    },
    {
      "cell_type": "code",
      "source": [
        "data=pd.read_excel('/content/Sample - Superstore.xlsx')\n",
        "data"
      ],
      "metadata": {
        "id": "yb2P-UIwowSi"
      },
      "execution_count": null,
      "outputs": []
    },
    {
      "cell_type": "code",
      "source": [
        "data= data.drop(columns=['Customer ID'])\n",
        "print(data)"
      ],
      "metadata": {
        "id": "4UdFrXjQm90N"
      },
      "execution_count": null,
      "outputs": []
    },
    {
      "cell_type": "code",
      "source": [
        "data.shape"
      ],
      "metadata": {
        "id": "UI4GnxnOowVE",
        "colab": {
          "base_uri": "https://localhost:8080/"
        },
        "outputId": "be204579-90a8-43a0-8cb8-c08f45d4bc99"
      },
      "execution_count": null,
      "outputs": [
        {
          "output_type": "execute_result",
          "data": {
            "text/plain": [
              "(9994, 21)"
            ]
          },
          "metadata": {},
          "execution_count": 7
        }
      ]
    },
    {
      "cell_type": "code",
      "source": [
        "print(data)"
      ],
      "metadata": {
        "id": "Nit9PEP0nO0j"
      },
      "execution_count": null,
      "outputs": []
    },
    {
      "cell_type": "code",
      "source": [
        "data.index"
      ],
      "metadata": {
        "id": "c1GMrfceowXu"
      },
      "execution_count": null,
      "outputs": []
    },
    {
      "cell_type": "code",
      "source": [
        "data.columns"
      ],
      "metadata": {
        "id": "DTfvF1IUpPGJ"
      },
      "execution_count": null,
      "outputs": []
    },
    {
      "cell_type": "code",
      "source": [
        "#Pandas is data manipulation and data analysis Library"
      ],
      "metadata": {
        "id": "Wf90FRqMpRo5"
      },
      "execution_count": null,
      "outputs": []
    },
    {
      "cell_type": "code",
      "source": [
        "data"
      ],
      "metadata": {
        "id": "N6dIe43kpikb"
      },
      "execution_count": null,
      "outputs": []
    },
    {
      "cell_type": "code",
      "source": [
        "data['City']   #Subsetting of Data"
      ],
      "metadata": {
        "id": "YUx2XluTpim5"
      },
      "execution_count": null,
      "outputs": []
    },
    {
      "cell_type": "code",
      "source": [
        "data[['City','Segment']].head(2)"
      ],
      "metadata": {
        "id": "kfxtiiGWpipV"
      },
      "execution_count": null,
      "outputs": []
    },
    {
      "cell_type": "code",
      "source": [
        "data[['City','Segment']].tail(3)"
      ],
      "metadata": {
        "id": "RARubQTepirj"
      },
      "execution_count": null,
      "outputs": []
    },
    {
      "cell_type": "code",
      "source": [
        "#i loc - integer location\n",
        "\n",
        "data.iloc[0:2,0:2]"
      ],
      "metadata": {
        "id": "t4cG2KhEpiuH"
      },
      "execution_count": null,
      "outputs": []
    },
    {
      "cell_type": "code",
      "source": [
        "data.iloc[0:5,-3: ]"
      ],
      "metadata": {
        "id": "GsxQrxrEpi0r"
      },
      "execution_count": null,
      "outputs": []
    },
    {
      "cell_type": "code",
      "source": [
        "data.loc[0:3,['Row ID','Segment']]"
      ],
      "metadata": {
        "id": "u2GN8EP7pi6a"
      },
      "execution_count": null,
      "outputs": []
    },
    {
      "cell_type": "code",
      "source": [
        "data.loc[0:3,'Row ID':'Segment']"
      ],
      "metadata": {
        "id": "IMreLE3mr0zK"
      },
      "execution_count": null,
      "outputs": []
    },
    {
      "cell_type": "code",
      "source": [
        "#loc function can fetch table columns by name:\n"
      ],
      "metadata": {
        "id": "uujLDhR7rDRx"
      },
      "execution_count": null,
      "outputs": []
    },
    {
      "cell_type": "code",
      "source": [
        "data.loc['Profit': ]"
      ],
      "metadata": {
        "id": "R5hnbwsWrbuE"
      },
      "execution_count": null,
      "outputs": []
    },
    {
      "cell_type": "code",
      "source": [
        "data['Segment'].unique()"
      ],
      "metadata": {
        "id": "i4Kd2MtGrbwe"
      },
      "execution_count": null,
      "outputs": []
    },
    {
      "cell_type": "code",
      "source": [
        "data['Segment'].value_counts()"
      ],
      "metadata": {
        "id": "SRlHTY_9rbzJ"
      },
      "execution_count": null,
      "outputs": []
    },
    {
      "cell_type": "code",
      "source": [
        "data.shape[0]  #if I 0 it gives only Rows\n"
      ],
      "metadata": {
        "colab": {
          "base_uri": "https://localhost:8080/"
        },
        "id": "HRXA0RTPrb16",
        "outputId": "9dd137e3-c39b-43de-ea45-8150ae70efee"
      },
      "execution_count": null,
      "outputs": [
        {
          "output_type": "execute_result",
          "data": {
            "text/plain": [
              "9994"
            ]
          },
          "metadata": {},
          "execution_count": 37
        }
      ]
    },
    {
      "cell_type": "code",
      "source": [],
      "metadata": {
        "id": "JKpzy4Rdrb4h"
      },
      "execution_count": null,
      "outputs": []
    },
    {
      "cell_type": "code",
      "source": [],
      "metadata": {
        "id": "5c6BdQhgrb7Z"
      },
      "execution_count": null,
      "outputs": []
    },
    {
      "cell_type": "code",
      "source": [],
      "metadata": {
        "id": "mg2CeQVgrb-B"
      },
      "execution_count": null,
      "outputs": []
    },
    {
      "cell_type": "code",
      "source": [],
      "metadata": {
        "id": "mebLymhFrcB6"
      },
      "execution_count": null,
      "outputs": []
    },
    {
      "cell_type": "code",
      "source": [],
      "metadata": {
        "id": "VXXOwTwRrcJy"
      },
      "execution_count": null,
      "outputs": []
    }
  ],
  "metadata": {
    "kernelspec": {
      "display_name": "Python 3",
      "language": "python",
      "name": "python3"
    },
    "language_info": {
      "codemirror_mode": {
        "name": "ipython",
        "version": 3
      },
      "file_extension": ".py",
      "mimetype": "text/x-python",
      "name": "python",
      "nbconvert_exporter": "python",
      "pygments_lexer": "ipython3",
      "version": "3.6.7"
    },
    "colab": {
      "provenance": [],
      "include_colab_link": true
    }
  },
  "nbformat": 4,
  "nbformat_minor": 0
}