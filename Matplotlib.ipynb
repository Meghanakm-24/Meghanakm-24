{
  "nbformat": 4,
  "nbformat_minor": 0,
  "metadata": {
    "colab": {
      "provenance": [],
      "authorship_tag": "ABX9TyNJKKn+SW+C6NjwFhvh5rA7",
      "include_colab_link": true
    },
    "kernelspec": {
      "name": "python3",
      "display_name": "Python 3"
    },
    "language_info": {
      "name": "python"
    }
  },
  "cells": [
    {
      "cell_type": "markdown",
      "metadata": {
        "id": "view-in-github",
        "colab_type": "text"
      },
      "source": [
        "<a href=\"https://colab.research.google.com/github/Meghanakm-24/Python-files/blob/main/Matplotlib.ipynb\" target=\"_parent\"><img src=\"https://colab.research.google.com/assets/colab-badge.svg\" alt=\"Open In Colab\"/></a>"
      ]
    },
    {
      "cell_type": "markdown",
      "source": [
        "Matplotlib"
      ],
      "metadata": {
        "id": "0YZx1KUcfkJu"
      }
    },
    {
      "cell_type": "markdown",
      "source": [
        "Data Manipulation"
      ],
      "metadata": {
        "id": "tyT-DohifrOc"
      }
    },
    {
      "cell_type": "code",
      "execution_count": null,
      "metadata": {
        "colab": {
          "base_uri": "https://localhost:8080/"
        },
        "id": "DfTXP7WqfiaW",
        "outputId": "e6742ce6-2cc2-428d-8199-22206a0c6dd2"
      },
      "outputs": [
        {
          "output_type": "stream",
          "name": "stdout",
          "text": [
            "Drive already mounted at /content/drive; to attempt to forcibly remount, call drive.mount(\"/content/drive\", force_remount=True).\n"
          ]
        }
      ],
      "source": [
        "from google.colab import drive\n",
        "drive.mount('/content/drive')"
      ]
    },
    {
      "cell_type": "code",
      "source": [
        "import pandas as pd"
      ],
      "metadata": {
        "id": "5kQzvvM-gV9l"
      },
      "execution_count": null,
      "outputs": []
    },
    {
      "cell_type": "code",
      "source": [
        "file_path='/content/drive/My Drive/mtcars2.csv'\n",
        "cars=pd.read_csv(file_path)\n",
        "print(cars)\n"
      ],
      "metadata": {
        "id": "O8IMvXmJf_LN"
      },
      "execution_count": null,
      "outputs": []
    },
    {
      "cell_type": "code",
      "source": [
        "import matplotlib.pyplot as plt\n",
        "%matplotlib inline\n",
        "y=cars['hp']\n",
        "x=range(44)\n",
        "plt.plot(x,y)"
      ],
      "metadata": {
        "id": "xwombo1mgGHz"
      },
      "execution_count": null,
      "outputs": []
    },
    {
      "cell_type": "code",
      "source": [
        "%matplotlib inline\n",
        "y=cars['disp']\n",
        "x=range(44)\n",
        "plt.plot(x,y)\n",
        "\n"
      ],
      "metadata": {
        "id": "DG_g03QmgL-w"
      },
      "execution_count": null,
      "outputs": []
    },
    {
      "cell_type": "code",
      "source": [
        "import matplotlib.pyplot as plt\n",
        "%matplotlib inline\n",
        "y1=cars['hp']\n",
        "y2=cars['disp']\n",
        "x=range(44)\n",
        "plt.plot(x,y1)\n",
        "plt.plot(x,y2)\n",
        "plt.legend()"
      ],
      "metadata": {
        "id": "9OQPXwTLgSvi"
      },
      "execution_count": null,
      "outputs": []
    },
    {
      "cell_type": "code",
      "source": [
        "import numpy as np\n",
        "import matplotlib.pyplot as plt\n",
        "%matplotlib inline\n",
        "#defining data set\n",
        "x=np.arange(0,10,1)\n",
        "y=2*x+5\n",
        "#plotting the data set\n",
        "plt.plot(x,y,color='green',marker='*')\n",
        "plt.show()"
      ],
      "metadata": {
        "id": "HC1hd3t5gdmy"
      },
      "execution_count": null,
      "outputs": []
    },
    {
      "cell_type": "markdown",
      "source": [
        "Customizing line plot\n",
        "\n"
      ],
      "metadata": {
        "id": "bNrkfm--ghkL"
      }
    },
    {
      "cell_type": "code",
      "source": [
        "import numpy as np\n",
        "import matplotlib.pyplot as plt\n",
        "%matplotlib inline\n",
        "#defining data set\n",
        "x=np.arange(0,10,1)\n",
        "y=2*x+5\n",
        "#changing the fig\n",
        "fig=plt.figure(figsize=(10,5))\n",
        "#plotting the data set\n",
        "plt.plot(x,y,linewidth=2.0,linestyle=\"--\",color='green',alpha=1.0,marker='p',markerfacecolor='r')\n",
        "plt.title(\"Line Plot Demo\")\n",
        "plt.xlabel(\"x-axis\")\n",
        "plt.ylabel(\"y-axis\")\n",
        "plt.legend(['line1'],loc='best')\n",
        "plt.grid(True)\n",
        "plt.show()"
      ],
      "metadata": {
        "id": "LZ-y3cVigjHB"
      },
      "execution_count": null,
      "outputs": []
    },
    {
      "cell_type": "code",
      "source": [
        "import numpy as np\n",
        "import matplotlib. pyplot as plt\n",
        "%matplotlib inline\n",
        "x=np.arange(0,10,1)\n",
        "y1=2*x+5\n",
        "y2=3*x+5\n",
        "#create two or more plots in fig\n",
        "plt.subplot(1,2,1)\n",
        "#plotting points\n",
        "plt.plot(x,y1,color='green')\n",
        "plt.title('Graph1')\n",
        "\n",
        "plt.subplot(1,2,2)\n",
        "plt.plot(x,y2,color='b')\n",
        "plt.title('Graph2')\n",
        "plt.show()\n"
      ],
      "metadata": {
        "id": "N4nY8TzEgrRr"
      },
      "execution_count": null,
      "outputs": []
    },
    {
      "cell_type": "markdown",
      "source": [
        "Bar chart"
      ],
      "metadata": {
        "id": "CFIJbJ_kgxPw"
      }
    },
    {
      "cell_type": "code",
      "source": [
        "import matplotlib.pyplot as plt\n",
        "%matplotlib inline\n",
        "#creating the dataset\n",
        "Data={'apples':30,'Mangoes':20,'Lemon':25,'Bananas':10}\n",
        "names=list(Data.keys())\n",
        "values=list(Data.values())\n",
        "fig=plt.figure(figsize=(10,5))\n",
        "plt.bar(names,values,color=['g','Gold','b','r'])\n",
        "plt.show()\n"
      ],
      "metadata": {
        "id": "JaO--C4RgyZo"
      },
      "execution_count": null,
      "outputs": []
    },
    {
      "cell_type": "markdown",
      "source": [
        "Customizing Bar chart"
      ],
      "metadata": {
        "id": "00o-zsS9g31y"
      }
    },
    {
      "cell_type": "code",
      "source": [
        "import matplotlib.pyplot as plt\n",
        "%matplotlib inline\n",
        "#creating the dataset\n",
        "Data={'apples':30,'Mangoes':20,'Lemon':25,'Bananas':10}\n",
        "names=list(Data.keys())\n",
        "values=list(Data.values())\n",
        "fig=plt.figure(figsize=(10,5))\n",
        "plt.bar(names,values,color=['g','Gold','b','r'])\n",
        "plt.title('Bar Graph Demo')\n",
        "plt.xlabel('Fruits')\n",
        "plt.ylabel('Quantity')\n",
        "plt.show()"
      ],
      "metadata": {
        "id": "qLtmXZLdg6PV"
      },
      "execution_count": null,
      "outputs": []
    },
    {
      "cell_type": "markdown",
      "source": [
        "Scatter plot"
      ],
      "metadata": {
        "id": "MMzqqwcng_nw"
      }
    },
    {
      "cell_type": "code",
      "source": [
        "import numpy as np\n",
        "import matplotlib.pyplot as plt\n",
        "%matplotlib inline\n",
        "a=np.arange(10,90,10)\n",
        "print(a)\n",
        "b=[5,2,3,6,7,3,4,5]\n",
        "x=[5,8,9,2,1,4,7,7]\n",
        "plt.scatter(a,b,color='b')\n",
        "plt.scatter(a,x,color='r')\n",
        "plt.show()\n"
      ],
      "metadata": {
        "id": "MYBpNJkhg8km",
        "colab": {
          "base_uri": "https://localhost:8080/",
          "height": 447
        },
        "outputId": "60629f18-dd54-4858-8eed-10a61507ee8c"
      },
      "execution_count": null,
      "outputs": [
        {
          "output_type": "stream",
          "name": "stdout",
          "text": [
            "[10 20 30 40 50 60 70 80]\n"
          ]
        },
        {
          "output_type": "display_data",
          "data": {
            "text/plain": [
              "<Figure size 640x480 with 1 Axes>"
            ],
            "image/png": "[encoded data removed]"
          },
          "metadata": {}
        }
      ]
    },
    {
      "cell_type": "markdown",
      "source": [
        "Customizing scatter plot"
      ],
      "metadata": {
        "id": "FD4NurZ6hEcZ"
      }
    },
    {
      "cell_type": "code",
      "source": [
        "import numpy as np\n",
        "import matplotlib.pyplot as plt\n",
        "%matplotlib inline\n",
        "a=np.arange(10,90,10)\n",
        "print(a)\n",
        "b=[5,2,3,6,7,3,4,5]\n",
        "x=[5,8,9,2,1,4,7,7]\n",
        "plt.scatter(a,b,color='b',s=100,edgecolor='y',marker='o',alpha=0.7)\n",
        "plt.scatter(a,x,color='r',s=170,edgecolor='g',marker='d',alpha=1)\n",
        "plt.legend(['b','x'],loc='best')\n",
        "plt.title('Scatter Plot Demo')\n",
        "plt.xlabel('x-axis')\n",
        "plt.ylabel('y-axis')\n",
        "plt.grid(True)\n",
        "plt.savefig('scatter plot.png')\n",
        "plt.show()\n"
      ],
      "metadata": {
        "id": "j4ivrGQYg8hO"
      },
      "execution_count": null,
      "outputs": []
    },
    {
      "cell_type": "markdown",
      "source": [
        "Histogram"
      ],
      "metadata": {
        "id": "K3mB8dHUhM_3"
      }
    },
    {
      "cell_type": "code",
      "source": [
        "age=(10,12,14,17,19,21,22,25,30,45,56,60,65,78,85,93,95)\n",
        "print(age)\n",
        "plt.hist(age,bins=[0,20,40,60,80,100],color='b')\n",
        "plt.title('Histogram Demo')\n",
        "plt.xlabel('Age')\n",
        "plt.show()"
      ],
      "metadata": {
        "id": "lIVucFwAg8fZ"
      },
      "execution_count": null,
      "outputs": []
    },
    {
      "cell_type": "markdown",
      "source": [
        "Customizing Histogram"
      ],
      "metadata": {
        "id": "UJBQ1yhKhOgt"
      }
    },
    {
      "cell_type": "code",
      "source": [
        "age=(10,12,14,17,19,21,22,25,30,45,56,60,65,78,85,93,95)\n",
        "print(age)\n",
        "plt.hist(age,bins=[0,20,40,60,80,100],color='b',edgecolor='g')\n",
        "plt.title('Histogram Demo')\n",
        "plt.xlabel('Range of values')\n",
        "plt.ylabel('Frequency of values')\n",
        "plt.savefig('Histogram plot.pdf')\n",
        "plt.xlabel('Age')\n",
        "plt.show()"
      ],
      "metadata": {
        "id": "lQZIfTvXg8dQ"
      },
      "execution_count": null,
      "outputs": []
    },
    {
      "cell_type": "markdown",
      "source": [
        "Pie chart"
      ],
      "metadata": {
        "id": "-JE1lC7HharD"
      }
    },
    {
      "cell_type": "code",
      "source": [
        "#creating dataset\n",
        "Animal=['Dog','Cat','Horse','Cow']\n",
        "values=[50,40,30,20]\n",
        "plt.pie(values,labels=Animal)\n",
        "plt.title('Pie chart demo')\n",
        "plt.show()"
      ],
      "metadata": {
        "id": "ShUI8Ee5g8bK"
      },
      "execution_count": null,
      "outputs": []
    },
    {
      "cell_type": "markdown",
      "source": [
        "Customizing pie chart"
      ],
      "metadata": {
        "id": "qtSC-Anrhcfb"
      }
    },
    {
      "cell_type": "code",
      "source": [
        "Animal=['Dog','Cat','Horse','Cow']\n",
        "values=[50,40,30,20]\n",
        "plt.pie(values,labels=Animal,autopct='%1.1f%%',shadow=True,startangle=90,explode=(0,0,0.1,0))\n",
        "plt.title('Pie chart demo')\n",
        "plt.show()"
      ],
      "metadata": {
        "id": "hmmMds3jhfH6"
      },
      "execution_count": null,
      "outputs": []
    },
    {
      "cell_type": "markdown",
      "source": [
        "Donut chart"
      ],
      "metadata": {
        "id": "KMYWXZhxhjAV"
      }
    },
    {
      "cell_type": "code",
      "source": [
        "group_name=['GroupA','GroupB','GroupC']\n",
        "group_size=[15,30,45]\n",
        "size_center=[10]\n",
        "a,b,c=[plt.cm.Blues,plt.cm.Oranges,plt.cm.Greens]\n",
        "pie1=plt.pie(group_size,labels=group_name,autopct='%1.1f%%',startangle=90,radius=1.5)\n",
        "pie2=plt.pie(size_center,radius=1.0,colors='w')\n",
        "plt.show()\n"
      ],
      "metadata": {
        "id": "D6yDEHFYhkmx"
      },
      "execution_count": null,
      "outputs": []
    },
    {
      "cell_type": "markdown",
      "source": [
        "Area chart"
      ],
      "metadata": {
        "id": "Ry4J_BwqhPr0"
      }
    },
    {
      "cell_type": "code",
      "source": [
        "x=range(1,15)\n",
        "y=(2,4,5,6,4,5,8,9,6,8,4,6,7,8)\n",
        "plt.stackplot(x,y,colors='g',alpha=0.4)\n",
        "plt.plot(x,y,color='k',marker='*')\n",
        "plt.grid(True)"
      ],
      "metadata": {
        "colab": {
          "base_uri": "https://localhost:8080/",
          "height": 430
        },
        "id": "IFGcZgjFX_QT",
        "outputId": "d542ba17-b64e-433e-9a10-ce476a99a724"
      },
      "execution_count": null,
      "outputs": [
        {
          "output_type": "display_data",
          "data": {
            "text/plain": [
              "<Figure size 640x480 with 1 Axes>"
            ],
            "image/png": "[encoded data removed]"
          },
          "metadata": {}
        }
      ]
    }
  ]
}