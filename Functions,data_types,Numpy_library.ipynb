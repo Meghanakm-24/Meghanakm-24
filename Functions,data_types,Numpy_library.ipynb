{
  "nbformat": 4,
  "nbformat_minor": 0,
  "metadata": {
    "colab": {
      "provenance": [],
      "authorship_tag": "ABX9TyO6Sfm56NRYnGMBJ6fqGIKd",
      "include_colab_link": true
    },
    "kernelspec": {
      "name": "python3",
      "display_name": "Python 3"
    },
    "language_info": {
      "name": "python"
    }
  },
  "cells": [
    {
      "cell_type": "markdown",
      "metadata": {
        "id": "view-in-github",
        "colab_type": "text"
      },
      "source": [
        "<a href=\"https://colab.research.google.com/github/Meghanakm-24/Meghanakm-24/blob/main/Functions%2Cdata_types%2CNumpy_library.ipynb\" target=\"_parent\"><img src=\"https://colab.research.google.com/assets/colab-badge.svg\" alt=\"Open In Colab\"/></a>"
      ]
    },
    {
      "cell_type": "code",
      "execution_count": null,
      "metadata": {
        "id": "y19-jF8yW79Z"
      },
      "outputs": [],
      "source": [
        "m= 10"
      ]
    },
    {
      "cell_type": "code",
      "source": [
        "print(m)"
      ],
      "metadata": {
        "colab": {
          "base_uri": "https://localhost:8080/"
        },
        "id": "08K_AVfbW9yj",
        "outputId": "0ca46db7-53aa-42be-b92b-ab8117e121f1"
      },
      "execution_count": null,
      "outputs": [
        {
          "output_type": "stream",
          "name": "stdout",
          "text": [
            "10\n"
          ]
        }
      ]
    },
    {
      "cell_type": "code",
      "source": [
        "a =10\n",
        "\n",
        "b =10\n",
        "\n",
        "c =a+b\n",
        "\n",
        "print(c)"
      ],
      "metadata": {
        "colab": {
          "base_uri": "https://localhost:8080/"
        },
        "id": "HzEW737aW_ev",
        "outputId": "f802d168-bd8a-40dc-f192-08b5b9ab6d24"
      },
      "execution_count": null,
      "outputs": [
        {
          "output_type": "stream",
          "name": "stdout",
          "text": [
            "20\n"
          ]
        }
      ]
    },
    {
      "cell_type": "code",
      "source": [],
      "metadata": {
        "id": "MK-vyjaevHXn"
      },
      "execution_count": null,
      "outputs": []
    },
    {
      "cell_type": "markdown",
      "source": [
        "Functions in python"
      ],
      "metadata": {
        "id": "_8P_49G6lekX"
      }
    },
    {
      "cell_type": "code",
      "source": [
        "c=\"Data Science\""
      ],
      "metadata": {
        "id": "ufN6U5UsjkZ3"
      },
      "execution_count": null,
      "outputs": []
    },
    {
      "cell_type": "code",
      "source": [
        "c.lower()"
      ],
      "metadata": {
        "colab": {
          "base_uri": "https://localhost:8080/",
          "height": 36
        },
        "id": "M5Lki3wUjtLs",
        "outputId": "2647453e-10a2-48ed-c21f-8bf9deb3d3a0"
      },
      "execution_count": null,
      "outputs": [
        {
          "output_type": "execute_result",
          "data": {
            "text/plain": [
              "'data science'"
            ],
            "application/vnd.google.colaboratory.intrinsic+json": {
              "type": "string"
            }
          },
          "metadata": {},
          "execution_count": 25
        }
      ]
    },
    {
      "cell_type": "code",
      "source": [
        "c.upper()"
      ],
      "metadata": {
        "colab": {
          "base_uri": "https://localhost:8080/",
          "height": 36
        },
        "id": "HoZviosnjvjb",
        "outputId": "592b32fb-4049-48e9-9345-f29a3b83bf79"
      },
      "execution_count": null,
      "outputs": [
        {
          "output_type": "execute_result",
          "data": {
            "text/plain": [
              "'DATA SCIENCE'"
            ],
            "application/vnd.google.colaboratory.intrinsic+json": {
              "type": "string"
            }
          },
          "metadata": {},
          "execution_count": 26
        }
      ]
    },
    {
      "cell_type": "code",
      "source": [
        "c.title()"
      ],
      "metadata": {
        "colab": {
          "base_uri": "https://localhost:8080/",
          "height": 36
        },
        "id": "TieUWfwtjxqQ",
        "outputId": "c33206b0-15ca-48a7-9873-1cb81895db2e"
      },
      "execution_count": null,
      "outputs": [
        {
          "output_type": "execute_result",
          "data": {
            "text/plain": [
              "'Data Science'"
            ],
            "application/vnd.google.colaboratory.intrinsic+json": {
              "type": "string"
            }
          },
          "metadata": {},
          "execution_count": 27
        }
      ]
    },
    {
      "cell_type": "code",
      "source": [
        "c.capitalize()"
      ],
      "metadata": {
        "colab": {
          "base_uri": "https://localhost:8080/",
          "height": 36
        },
        "id": "IdQKBV6Wj1Z8",
        "outputId": "551f5089-8452-4af6-b564-9fadf045d088"
      },
      "execution_count": null,
      "outputs": [
        {
          "output_type": "execute_result",
          "data": {
            "text/plain": [
              "'Data science'"
            ],
            "application/vnd.google.colaboratory.intrinsic+json": {
              "type": "string"
            }
          },
          "metadata": {},
          "execution_count": 28
        }
      ]
    },
    {
      "cell_type": "code",
      "source": [
        "c.isalnum()"
      ],
      "metadata": {
        "colab": {
          "base_uri": "https://localhost:8080/"
        },
        "id": "TXqznVjlj6Uv",
        "outputId": "b07a715d-33e9-4ac4-aa69-479cddf1640a"
      },
      "execution_count": null,
      "outputs": [
        {
          "output_type": "execute_result",
          "data": {
            "text/plain": [
              "False"
            ]
          },
          "metadata": {},
          "execution_count": 29
        }
      ]
    },
    {
      "cell_type": "code",
      "source": [
        "c.isalpha()"
      ],
      "metadata": {
        "colab": {
          "base_uri": "https://localhost:8080/"
        },
        "id": "GZe9vQMkj-tH",
        "outputId": "afb55126-7593-4860-ebf4-bc9e6fddd084"
      },
      "execution_count": null,
      "outputs": [
        {
          "output_type": "execute_result",
          "data": {
            "text/plain": [
              "False"
            ]
          },
          "metadata": {},
          "execution_count": 40
        }
      ]
    },
    {
      "cell_type": "code",
      "source": [
        "c.endswith(\"e\")"
      ],
      "metadata": {
        "colab": {
          "base_uri": "https://localhost:8080/"
        },
        "id": "_Bsh3o-Vkb50",
        "outputId": "f4c2058c-d45c-4442-b839-dffd885e3aad"
      },
      "execution_count": null,
      "outputs": [
        {
          "output_type": "execute_result",
          "data": {
            "text/plain": [
              "True"
            ]
          },
          "metadata": {},
          "execution_count": 33
        }
      ]
    },
    {
      "cell_type": "code",
      "source": [
        "c.swapcase()"
      ],
      "metadata": {
        "colab": {
          "base_uri": "https://localhost:8080/",
          "height": 36
        },
        "id": "Nf2ErcDTl8-J",
        "outputId": "3d882001-ba59-4b7b-e81e-96805c7559a7"
      },
      "execution_count": null,
      "outputs": [
        {
          "output_type": "execute_result",
          "data": {
            "text/plain": [
              "'dATA sCIENCE'"
            ],
            "application/vnd.google.colaboratory.intrinsic+json": {
              "type": "string"
            }
          },
          "metadata": {},
          "execution_count": 37
        }
      ]
    },
    {
      "cell_type": "code",
      "source": [],
      "metadata": {
        "id": "I9AUbLlymAuI"
      },
      "execution_count": null,
      "outputs": []
    },
    {
      "cell_type": "code",
      "source": [
        "X=int(input(\"Enter value of X\"))"
      ],
      "metadata": {
        "id": "DfvRBOd6XDM-",
        "colab": {
          "base_uri": "https://localhost:8080/"
        },
        "outputId": "416e15fa-ca11-4f93-e016-80fe5c679170"
      },
      "execution_count": null,
      "outputs": [
        {
          "name": "stdout",
          "output_type": "stream",
          "text": [
            "Enter value of X100\n"
          ]
        }
      ]
    },
    {
      "cell_type": "code",
      "source": [
        "m=float(input(\"Giuve a decimal value:\"))"
      ],
      "metadata": {
        "colab": {
          "base_uri": "https://localhost:8080/"
        },
        "id": "i3bQomk1bH4n",
        "outputId": "009386fe-d5f6-4a5f-c723-10948ba9ac35"
      },
      "execution_count": null,
      "outputs": [
        {
          "name": "stdout",
          "output_type": "stream",
          "text": [
            "Giuve a decimal value:25\n"
          ]
        }
      ]
    },
    {
      "cell_type": "code",
      "source": [
        "#complex=n+ij"
      ],
      "metadata": {
        "id": "nwjDm2EWcEFx"
      },
      "execution_count": null,
      "outputs": []
    },
    {
      "cell_type": "code",
      "source": [
        "b=5+4j"
      ],
      "metadata": {
        "id": "tAxzflR3cKz5"
      },
      "execution_count": null,
      "outputs": []
    },
    {
      "cell_type": "code",
      "source": [
        "type(b)"
      ],
      "metadata": {
        "colab": {
          "base_uri": "https://localhost:8080/"
        },
        "id": "xF4dxH9UcR1l",
        "outputId": "65e73e5e-5ab5-46b4-bffc-15bd4ac60728"
      },
      "execution_count": null,
      "outputs": [
        {
          "output_type": "execute_result",
          "data": {
            "text/plain": [
              "complex"
            ]
          },
          "metadata": {},
          "execution_count": 5
        }
      ]
    },
    {
      "cell_type": "code",
      "source": [
        "String1='Welcome to the world of python'"
      ],
      "metadata": {
        "id": "sPhhvF9Wcy1s"
      },
      "execution_count": null,
      "outputs": []
    },
    {
      "cell_type": "code",
      "source": [
        "print(String1)\n",
        "type(String1)"
      ],
      "metadata": {
        "colab": {
          "base_uri": "https://localhost:8080/"
        },
        "id": "sU8sjTUoc_5_",
        "outputId": "01968bdc-aab7-4664-e2c3-a0029ff1c0e1"
      },
      "execution_count": null,
      "outputs": [
        {
          "output_type": "stream",
          "name": "stdout",
          "text": [
            "Welcome to the world of python\n"
          ]
        },
        {
          "output_type": "execute_result",
          "data": {
            "text/plain": [
              "str"
            ]
          },
          "metadata": {},
          "execution_count": 9
        }
      ]
    },
    {
      "cell_type": "code",
      "source": [
        "# when there is a multi line code print in thriple coats."
      ],
      "metadata": {
        "id": "eiz4zoNxdVYe"
      },
      "execution_count": null,
      "outputs": []
    },
    {
      "cell_type": "code",
      "source": [
        "String3='''Im code and i live in world of\n",
        "programers'''"
      ],
      "metadata": {
        "id": "XGO_TW-idffq"
      },
      "execution_count": null,
      "outputs": []
    },
    {
      "cell_type": "code",
      "source": [
        "print(String3)\n",
        "type(String3)"
      ],
      "metadata": {
        "colab": {
          "base_uri": "https://localhost:8080/"
        },
        "id": "zGsq1IQMdstZ",
        "outputId": "a7a875a5-b88d-4237-ca57-cbf604419cde"
      },
      "execution_count": null,
      "outputs": [
        {
          "output_type": "stream",
          "name": "stdout",
          "text": [
            "Im code and i live in world of\n",
            "programers\n"
          ]
        },
        {
          "output_type": "execute_result",
          "data": {
            "text/plain": [
              "str"
            ]
          },
          "metadata": {},
          "execution_count": 13
        }
      ]
    },
    {
      "cell_type": "code",
      "source": [
        "c.split() # split divides based on space"
      ],
      "metadata": {
        "colab": {
          "base_uri": "https://localhost:8080/"
        },
        "id": "XujlnK99hD38",
        "outputId": "2f1a332b-560c-429a-a0d1-e2b8be1bb9ce"
      },
      "execution_count": null,
      "outputs": [
        {
          "output_type": "execute_result",
          "data": {
            "text/plain": [
              "['Data', 'Science']"
            ]
          },
          "metadata": {},
          "execution_count": 36
        }
      ]
    },
    {
      "cell_type": "code",
      "source": [],
      "metadata": {
        "id": "wcRO55WEl5oI"
      },
      "execution_count": null,
      "outputs": []
    },
    {
      "cell_type": "code",
      "source": [
        "a=\"91-8712113656\""
      ],
      "metadata": {
        "id": "hei-qdc_h3_w"
      },
      "execution_count": null,
      "outputs": []
    },
    {
      "cell_type": "code",
      "source": [
        "a.split(\"-\")"
      ],
      "metadata": {
        "colab": {
          "base_uri": "https://localhost:8080/"
        },
        "id": "wuytCQjJh9Dz",
        "outputId": "20b36f25-2e05-4c18-8808-74d5659d956c"
      },
      "execution_count": null,
      "outputs": [
        {
          "output_type": "execute_result",
          "data": {
            "text/plain": [
              "['91', '8712113656']"
            ]
          },
          "metadata": {},
          "execution_count": 22
        }
      ]
    },
    {
      "cell_type": "code",
      "source": [
        "c.split(\"a\")"
      ],
      "metadata": {
        "colab": {
          "base_uri": "https://localhost:8080/"
        },
        "id": "T5NzphlkjRXU",
        "outputId": "20b7466a-d059-487d-ef72-8d02daeb966c"
      },
      "execution_count": null,
      "outputs": [
        {
          "output_type": "execute_result",
          "data": {
            "text/plain": [
              "['D', 't', ' Science']"
            ]
          },
          "metadata": {},
          "execution_count": 23
        }
      ]
    },
    {
      "cell_type": "code",
      "source": [
        "c.strip()"
      ],
      "metadata": {
        "colab": {
          "base_uri": "https://localhost:8080/",
          "height": 36
        },
        "id": "TtzfKub9jiuQ",
        "outputId": "c28f46ae-556a-4e2c-c28a-a6f6de14645c"
      },
      "execution_count": null,
      "outputs": [
        {
          "output_type": "execute_result",
          "data": {
            "text/plain": [
              "'Data Science'"
            ],
            "application/vnd.google.colaboratory.intrinsic+json": {
              "type": "string"
            }
          },
          "metadata": {},
          "execution_count": 42
        }
      ]
    },
    {
      "cell_type": "code",
      "source": [
        "a= \"    Data Analytics    \""
      ],
      "metadata": {
        "id": "cLyaqEWonDo-"
      },
      "execution_count": null,
      "outputs": []
    },
    {
      "cell_type": "code",
      "source": [
        "a.strip()"
      ],
      "metadata": {
        "colab": {
          "base_uri": "https://localhost:8080/",
          "height": 36
        },
        "id": "SDNwLI2OnbkZ",
        "outputId": "c0fdcf6c-8b53-4cd9-eb01-fb71e137792b"
      },
      "execution_count": null,
      "outputs": [
        {
          "output_type": "execute_result",
          "data": {
            "text/plain": [
              "'Data Analytics'"
            ],
            "application/vnd.google.colaboratory.intrinsic+json": {
              "type": "string"
            }
          },
          "metadata": {},
          "execution_count": 48
        }
      ]
    },
    {
      "cell_type": "code",
      "source": [
        "a.lstrip()"
      ],
      "metadata": {
        "colab": {
          "base_uri": "https://localhost:8080/",
          "height": 36
        },
        "id": "jDPTa5BAnKUr",
        "outputId": "b4f39fe5-7797-4fca-b76d-7cf03a6b6d01"
      },
      "execution_count": null,
      "outputs": [
        {
          "output_type": "execute_result",
          "data": {
            "text/plain": [
              "'Data Analytics'"
            ],
            "application/vnd.google.colaboratory.intrinsic+json": {
              "type": "string"
            }
          },
          "metadata": {},
          "execution_count": 44
        }
      ]
    },
    {
      "cell_type": "code",
      "source": [
        "a.rstrip()"
      ],
      "metadata": {
        "colab": {
          "base_uri": "https://localhost:8080/",
          "height": 36
        },
        "id": "agG42T9znS10",
        "outputId": "7c8c472c-5e0b-4353-e34e-1e2df032b6b7"
      },
      "execution_count": null,
      "outputs": [
        {
          "output_type": "execute_result",
          "data": {
            "text/plain": [
              "'Data Analytics'"
            ],
            "application/vnd.google.colaboratory.intrinsic+json": {
              "type": "string"
            }
          },
          "metadata": {},
          "execution_count": 46
        }
      ]
    },
    {
      "cell_type": "code",
      "source": [
        "a=\"Data\""
      ],
      "metadata": {
        "id": "h3lcYmwbpzKK"
      },
      "execution_count": null,
      "outputs": []
    },
    {
      "cell_type": "code",
      "source": [
        "a.center(10,\"*\")"
      ],
      "metadata": {
        "colab": {
          "base_uri": "https://localhost:8080/",
          "height": 36
        },
        "id": "CbOC2s6rqCTe",
        "outputId": "86e1cc65-58e0-4dcd-e561-1537530231ce"
      },
      "execution_count": null,
      "outputs": [
        {
          "output_type": "execute_result",
          "data": {
            "text/plain": [
              "'***Data***'"
            ],
            "application/vnd.google.colaboratory.intrinsic+json": {
              "type": "string"
            }
          },
          "metadata": {},
          "execution_count": 61
        }
      ]
    },
    {
      "cell_type": "code",
      "source": [
        "a.rjust(10,\"*\")"
      ],
      "metadata": {
        "colab": {
          "base_uri": "https://localhost:8080/",
          "height": 36
        },
        "id": "Fd88cAiYttvA",
        "outputId": "a3f42dd1-3284-4252-9684-1423f49518d7"
      },
      "execution_count": null,
      "outputs": [
        {
          "output_type": "execute_result",
          "data": {
            "text/plain": [
              "'******Data'"
            ],
            "application/vnd.google.colaboratory.intrinsic+json": {
              "type": "string"
            }
          },
          "metadata": {},
          "execution_count": 62
        }
      ]
    },
    {
      "cell_type": "code",
      "source": [],
      "metadata": {
        "id": "zWe5i4_JcHY0"
      },
      "execution_count": null,
      "outputs": []
    },
    {
      "cell_type": "code",
      "source": [
        "a.ljust(10,\"*\")"
      ],
      "metadata": {
        "colab": {
          "base_uri": "https://localhost:8080/",
          "height": 36
        },
        "id": "RVIDLNujtx25",
        "outputId": "af7bb9c7-ac4a-43c4-8282-c30f80f9c2c1"
      },
      "execution_count": null,
      "outputs": [
        {
          "output_type": "execute_result",
          "data": {
            "text/plain": [
              "'Data******'"
            ],
            "application/vnd.google.colaboratory.intrinsic+json": {
              "type": "string"
            }
          },
          "metadata": {},
          "execution_count": 56
        }
      ]
    },
    {
      "cell_type": "code",
      "source": [
        "a.index(\"a\")"
      ],
      "metadata": {
        "colab": {
          "base_uri": "https://localhost:8080/"
        },
        "id": "kHvTg_ATvgpo",
        "outputId": "b0de5ff3-2af2-47c5-edaf-9486541bca05"
      },
      "execution_count": null,
      "outputs": [
        {
          "output_type": "execute_result",
          "data": {
            "text/plain": [
              "1"
            ]
          },
          "metadata": {},
          "execution_count": 57
        }
      ]
    },
    {
      "cell_type": "code",
      "source": [
        "\"da\".join(\"abc\")"
      ],
      "metadata": {
        "colab": {
          "base_uri": "https://localhost:8080/",
          "height": 36
        },
        "id": "KRoPObJ7wKbx",
        "outputId": "7dc5603f-cba1-47d4-81cc-c2bae2fb5410"
      },
      "execution_count": null,
      "outputs": [
        {
          "output_type": "execute_result",
          "data": {
            "text/plain": [
              "'adabdac'"
            ],
            "application/vnd.google.colaboratory.intrinsic+json": {
              "type": "string"
            }
          },
          "metadata": {},
          "execution_count": 65
        }
      ]
    },
    {
      "cell_type": "code",
      "source": [
        "#Slicing of string\n"
      ],
      "metadata": {
        "id": "3BjQNZoTzOxb"
      },
      "execution_count": null,
      "outputs": []
    },
    {
      "cell_type": "code",
      "source": [
        "c=\"Data science\""
      ],
      "metadata": {
        "id": "vKmKrFx3aVRt"
      },
      "execution_count": null,
      "outputs": []
    },
    {
      "cell_type": "code",
      "source": [
        "c[:4]"
      ],
      "metadata": {
        "colab": {
          "base_uri": "https://localhost:8080/",
          "height": 36
        },
        "id": "itp8wM3gziei",
        "outputId": "cfe56d06-4d57-45a4-93aa-7e7bd63dddaa"
      },
      "execution_count": null,
      "outputs": [
        {
          "output_type": "execute_result",
          "data": {
            "text/plain": [
              "'Data'"
            ],
            "application/vnd.google.colaboratory.intrinsic+json": {
              "type": "string"
            }
          },
          "metadata": {},
          "execution_count": 73
        }
      ]
    },
    {
      "cell_type": "code",
      "source": [
        "c[0:4]"
      ],
      "metadata": {
        "colab": {
          "base_uri": "https://localhost:8080/",
          "height": 36
        },
        "id": "qrNSa9nuzqbY",
        "outputId": "afd657e3-78e7-41cc-b294-b81b00986ccb"
      },
      "execution_count": null,
      "outputs": [
        {
          "output_type": "execute_result",
          "data": {
            "text/plain": [
              "'Data'"
            ],
            "application/vnd.google.colaboratory.intrinsic+json": {
              "type": "string"
            }
          },
          "metadata": {},
          "execution_count": 21
        }
      ]
    },
    {
      "cell_type": "code",
      "source": [
        "c[0:]"
      ],
      "metadata": {
        "colab": {
          "base_uri": "https://localhost:8080/",
          "height": 36
        },
        "id": "s9GjD-D_zyZm",
        "outputId": "0c274a8d-a182-4886-e56b-0b30b38f14ed"
      },
      "execution_count": null,
      "outputs": [
        {
          "output_type": "execute_result",
          "data": {
            "text/plain": [
              "'Data Science'"
            ],
            "application/vnd.google.colaboratory.intrinsic+json": {
              "type": "string"
            }
          },
          "metadata": {},
          "execution_count": 74
        }
      ]
    },
    {
      "cell_type": "code",
      "source": [
        "c[ : ]"
      ],
      "metadata": {
        "colab": {
          "base_uri": "https://localhost:8080/",
          "height": 36
        },
        "id": "jCsxDGLcz1bE",
        "outputId": "b33763bc-797d-4e58-b63a-08abdd0a0380"
      },
      "execution_count": null,
      "outputs": [
        {
          "output_type": "execute_result",
          "data": {
            "text/plain": [
              "'Data Science'"
            ],
            "application/vnd.google.colaboratory.intrinsic+json": {
              "type": "string"
            }
          },
          "metadata": {},
          "execution_count": 75
        }
      ]
    },
    {
      "cell_type": "code",
      "source": [
        "c[0:25]"
      ],
      "metadata": {
        "colab": {
          "base_uri": "https://localhost:8080/",
          "height": 36
        },
        "id": "VelvpiEoz5s6",
        "outputId": "e98d1acd-46b9-4371-d46f-4e51fe3dac1c"
      },
      "execution_count": null,
      "outputs": [
        {
          "output_type": "execute_result",
          "data": {
            "text/plain": [
              "'Data Science'"
            ],
            "application/vnd.google.colaboratory.intrinsic+json": {
              "type": "string"
            }
          },
          "metadata": {},
          "execution_count": 76
        }
      ]
    },
    {
      "cell_type": "code",
      "source": [
        "c[5:]"
      ],
      "metadata": {
        "colab": {
          "base_uri": "https://localhost:8080/",
          "height": 36
        },
        "id": "E9Hc1L4Oz-gb",
        "outputId": "963f2efc-fd51-4263-9fa2-c6b4731056f3"
      },
      "execution_count": null,
      "outputs": [
        {
          "output_type": "execute_result",
          "data": {
            "text/plain": [
              "'Science'"
            ],
            "application/vnd.google.colaboratory.intrinsic+json": {
              "type": "string"
            }
          },
          "metadata": {},
          "execution_count": 77
        }
      ]
    },
    {
      "cell_type": "code",
      "source": [
        "c[5:25]"
      ],
      "metadata": {
        "colab": {
          "base_uri": "https://localhost:8080/",
          "height": 36
        },
        "id": "xeM2j0j60BtA",
        "outputId": "86363a8e-ccaf-49b0-d24e-5a3a40861b1a"
      },
      "execution_count": null,
      "outputs": [
        {
          "output_type": "execute_result",
          "data": {
            "text/plain": [
              "'science'"
            ],
            "application/vnd.google.colaboratory.intrinsic+json": {
              "type": "string"
            }
          },
          "metadata": {},
          "execution_count": 22
        }
      ]
    },
    {
      "cell_type": "code",
      "source": [
        "String=\"Machine Learning\""
      ],
      "metadata": {
        "id": "UiuDXTvvvJxj"
      },
      "execution_count": null,
      "outputs": []
    },
    {
      "cell_type": "code",
      "source": [
        "String[0:2].upper()+String[8:10].upper()"
      ],
      "metadata": {
        "colab": {
          "base_uri": "https://localhost:8080/",
          "height": 36
        },
        "id": "5qVI8zScvXp_",
        "outputId": "7ab45ef0-f6df-42a3-90c9-187c5c4ee52d"
      },
      "execution_count": null,
      "outputs": [
        {
          "output_type": "execute_result",
          "data": {
            "text/plain": [
              "'MALE'"
            ],
            "application/vnd.google.colaboratory.intrinsic+json": {
              "type": "string"
            }
          },
          "metadata": {},
          "execution_count": 13
        }
      ]
    },
    {
      "cell_type": "code",
      "source": [
        "String[0:2].upper()+String[5:7].upper()+\" \"+String[9:12].lower()"
      ],
      "metadata": {
        "colab": {
          "base_uri": "https://localhost:8080/",
          "height": 36
        },
        "id": "_DOP_nUqxIia",
        "outputId": "6fef595f-1286-4cde-f5f8-d375d355ae58"
      },
      "execution_count": null,
      "outputs": [
        {
          "output_type": "execute_result",
          "data": {
            "text/plain": [
              "'MANE ear'"
            ],
            "application/vnd.google.colaboratory.intrinsic+json": {
              "type": "string"
            }
          },
          "metadata": {},
          "execution_count": 18
        }
      ]
    },
    {
      "cell_type": "code",
      "source": [
        "X=[\"Data\",9,'2024.23',(3+4j),[10,20,30]]"
      ],
      "metadata": {
        "id": "CvmFkD58z3wT"
      },
      "execution_count": null,
      "outputs": []
    },
    {
      "cell_type": "code",
      "source": [
        "print(X)"
      ],
      "metadata": {
        "colab": {
          "base_uri": "https://localhost:8080/"
        },
        "id": "MS_-vWec0_ER",
        "outputId": "80bb37ad-dc67-492b-f219-9f43f4a5bfbb"
      },
      "execution_count": null,
      "outputs": [
        {
          "output_type": "stream",
          "name": "stdout",
          "text": [
            "['Data', 9, 2024.23, (3+4j), [10, 20, 30]]\n"
          ]
        }
      ]
    },
    {
      "cell_type": "code",
      "source": [
        "X[2][4:]"
      ],
      "metadata": {
        "colab": {
          "base_uri": "https://localhost:8080/",
          "height": 36
        },
        "id": "ghjPx6_-0X05",
        "outputId": "0d8e703e-48f0-4392-ed9d-722fd09868f7"
      },
      "execution_count": null,
      "outputs": [
        {
          "output_type": "execute_result",
          "data": {
            "text/plain": [
              "'.23'"
            ],
            "application/vnd.google.colaboratory.intrinsic+json": {
              "type": "string"
            }
          },
          "metadata": {},
          "execution_count": 49
        }
      ]
    },
    {
      "cell_type": "code",
      "source": [
        "topics = [\n",
        "    ['Math', ['Algebra', 'Calculus', 'Geometry']],\n",
        "    ['Science', ['Physics', 'Chemistry', 'Biology']],\n",
        "    ['Technology', ['Programming', 'Networking', 'AI']],\n",
        "    ['History', ['Ancient', 'Medieval', 'Modern']],\n",
        "    ['Art', ['Painting', 'Sculpture', 'Architecture']]\n",
        "]\n"
      ],
      "metadata": {
        "id": "UQVnylQs1lNP"
      },
      "execution_count": null,
      "outputs": []
    },
    {
      "cell_type": "code",
      "source": [
        "topics[0][1][2][0:3].upper()+\" \"+topics[1][1][2][0:3].upper()+\" \"+topics[1][1][1][0:4].upper()"
      ],
      "metadata": {
        "colab": {
          "base_uri": "https://localhost:8080/",
          "height": 36
        },
        "id": "O51Ge6253eKH",
        "outputId": "2330c5b0-bc2c-4544-9766-9902eac447c5"
      },
      "execution_count": null,
      "outputs": [
        {
          "output_type": "execute_result",
          "data": {
            "text/plain": [
              "'GEO BIO CHEM'"
            ],
            "application/vnd.google.colaboratory.intrinsic+json": {
              "type": "string"
            }
          },
          "metadata": {},
          "execution_count": 4
        }
      ]
    },
    {
      "cell_type": "markdown",
      "source": [
        "Operators\n",
        "1.Arthematic operators"
      ],
      "metadata": {
        "id": "I8qfK3uLKn7G"
      }
    },
    {
      "cell_type": "code",
      "source": [
        "\n",
        "X=6\n",
        "Y=5\n",
        "addition=X+Y\n",
        "print(f\"Addition:{X}+{Y}={addition}\")"
      ],
      "metadata": {
        "id": "O9NnuFVC7CQC",
        "colab": {
          "base_uri": "https://localhost:8080/"
        },
        "outputId": "70ae1fe2-bcbb-4d36-f07c-d853acbd2447"
      },
      "execution_count": null,
      "outputs": [
        {
          "output_type": "stream",
          "name": "stdout",
          "text": [
            "Addition:6+5=11\n"
          ]
        }
      ]
    },
    {
      "cell_type": "code",
      "source": [
        "subtraction=X-Y\n",
        "print(f\"subtraction:{X}-{Y}={subtraction}\")"
      ],
      "metadata": {
        "colab": {
          "base_uri": "https://localhost:8080/"
        },
        "id": "FLaMurDu4ugD",
        "outputId": "0bdfd57b-3068-434b-c349-50d386d82407"
      },
      "execution_count": null,
      "outputs": [
        {
          "output_type": "stream",
          "name": "stdout",
          "text": [
            "subtraction:6-5=1\n"
          ]
        }
      ]
    },
    {
      "cell_type": "code",
      "source": [
        "Multiplication=X*Y\n",
        "print(f\"Multiplication:{X}*{Y}={Multiplication}\")"
      ],
      "metadata": {
        "colab": {
          "base_uri": "https://localhost:8080/"
        },
        "id": "l4qf40_85S2r",
        "outputId": "bd90f1b2-993d-42c4-e1ca-4e2cf3aa4443"
      },
      "execution_count": null,
      "outputs": [
        {
          "output_type": "stream",
          "name": "stdout",
          "text": [
            "Multiplication:6*5=30\n"
          ]
        }
      ]
    },
    {
      "cell_type": "code",
      "source": [
        "X=15\n",
        "Y=4\n",
        "division=X/Y\n",
        "print(f\"division:{X}/{Y}={division}\")"
      ],
      "metadata": {
        "colab": {
          "base_uri": "https://localhost:8080/"
        },
        "id": "N6nJ-kvW5oLb",
        "outputId": "0383a701-3da0-4e30-a1ff-2758267e04ba"
      },
      "execution_count": null,
      "outputs": [
        {
          "output_type": "stream",
          "name": "stdout",
          "text": [
            "division:15/4=3.75\n"
          ]
        }
      ]
    },
    {
      "cell_type": "code",
      "source": [
        "modulus=X%Y\n",
        "print(f\"modulus:{X}%{Y}={modulus}\")"
      ],
      "metadata": {
        "colab": {
          "base_uri": "https://localhost:8080/"
        },
        "id": "LE31RJEg56Tn",
        "outputId": "34ff436c-5561-44a5-e29e-b56111d0825e"
      },
      "execution_count": null,
      "outputs": [
        {
          "output_type": "stream",
          "name": "stdout",
          "text": [
            "modulus:15%4=3\n"
          ]
        }
      ]
    },
    {
      "cell_type": "code",
      "source": [
        "a=6\n",
        "b=3\n",
        "expn=a**b\n",
        "print(expn)"
      ],
      "metadata": {
        "colab": {
          "base_uri": "https://localhost:8080/"
        },
        "id": "mSQyCyd36VSX",
        "outputId": "f41ea978-bd56-42b2-aced-948da02cd956"
      },
      "execution_count": null,
      "outputs": [
        {
          "output_type": "stream",
          "name": "stdout",
          "text": [
            "216\n"
          ]
        }
      ]
    },
    {
      "cell_type": "code",
      "source": [
        "expn=a**b\n",
        "print(f\"expn:{a}**{b}={expn}\")"
      ],
      "metadata": {
        "colab": {
          "base_uri": "https://localhost:8080/"
        },
        "id": "0poNtk5E6rD4",
        "outputId": "64fccbd5-d7b7-48dd-8817-226489532fb8"
      },
      "execution_count": null,
      "outputs": [
        {
          "output_type": "stream",
          "name": "stdout",
          "text": [
            "expn:6**3=216\n"
          ]
        }
      ]
    },
    {
      "cell_type": "code",
      "source": [
        "X=13\n",
        "Y=4\n",
        "floor_division=X//Y\n",
        "print(f\"floor_division:{X}//{Y}={floor_division}\")"
      ],
      "metadata": {
        "colab": {
          "base_uri": "https://localhost:8080/"
        },
        "id": "_97sGXsc7La7",
        "outputId": "9c6fd76a-bb31-4d7c-c868-083fe8171a5b"
      },
      "execution_count": null,
      "outputs": [
        {
          "output_type": "stream",
          "name": "stdout",
          "text": [
            "floor_division:13//4=3\n"
          ]
        }
      ]
    },
    {
      "cell_type": "code",
      "source": [
        "a=9\n",
        "b=4\n",
        "addition=a+b\n",
        "subtraction=a-b\n",
        "multiplication=a*b\n",
        "division=a/b\n",
        "modulus=a%b\n",
        "expn=a**b\n",
        "floor_division=a//b\n",
        "print(f\"addition:{a}+{b}={addition}\")\n",
        "print(f\"subtraction:{a}-{b}={subtraction}\")\n",
        "print(f\"multiplication:{a}*{b}={multiplication}\")\n",
        "print(f\"division:{a}/{b}={division}\")\n",
        "print(f\"modulus:{a}%{b}={modulus}\")\n",
        "print(f\"expn:{a}**{b}={expn}\")\n",
        "print(f\"floor_division:{a}//{b}={floor_division}\")\n"
      ],
      "metadata": {
        "colab": {
          "base_uri": "https://localhost:8080/"
        },
        "id": "Q1_xU2Ad8JSu",
        "outputId": "5b30f8fb-1a92-407e-aeff-2ec6ee1b7aa8"
      },
      "execution_count": null,
      "outputs": [
        {
          "output_type": "stream",
          "name": "stdout",
          "text": [
            "addition:9+4=13\n",
            "subtraction:9-4=5\n",
            "multiplication:9*4=36\n",
            "division:9/4=2.25\n",
            "modulus:9%4=1\n",
            "expn:9**4=6561\n",
            "floor_division:9//4=2\n"
          ]
        }
      ]
    },
    {
      "cell_type": "markdown",
      "source": [
        "Assignment operators\n"
      ],
      "metadata": {
        "id": "TciUMlDBuoCt"
      }
    },
    {
      "cell_type": "code",
      "source": [
        "#= assignment\n",
        "X=10\n",
        "print(X)"
      ],
      "metadata": {
        "colab": {
          "base_uri": "https://localhost:8080/"
        },
        "id": "3DOGZSbV99EF",
        "outputId": "dfc740c9-4bde-4fab-c1c6-e8d0cb0b13aa"
      },
      "execution_count": null,
      "outputs": [
        {
          "output_type": "stream",
          "name": "stdout",
          "text": [
            "10\n"
          ]
        }
      ]
    },
    {
      "cell_type": "code",
      "source": [
        "#+= Addition Assignment\n",
        "X+=3\n",
        "print(X)"
      ],
      "metadata": {
        "colab": {
          "base_uri": "https://localhost:8080/"
        },
        "id": "1OO_gNMn-irK",
        "outputId": "0cc8b1bd-c90d-43b7-9e5b-ebabece5e202"
      },
      "execution_count": null,
      "outputs": [
        {
          "output_type": "stream",
          "name": "stdout",
          "text": [
            "13\n"
          ]
        }
      ]
    },
    {
      "cell_type": "code",
      "source": [
        "#-= Subtraction Assignment\n",
        "X-=3\n",
        "print(X)"
      ],
      "metadata": {
        "colab": {
          "base_uri": "https://localhost:8080/"
        },
        "id": "n8n2pcrj-y2w",
        "outputId": "c8028984-05c1-4fc3-c2e0-1ccc89faa7a8"
      },
      "execution_count": null,
      "outputs": [
        {
          "output_type": "stream",
          "name": "stdout",
          "text": [
            "10\n"
          ]
        }
      ]
    },
    {
      "cell_type": "code",
      "source": [
        "#*= Multiplication Assignment\n",
        "X*=3\n",
        "print(X)"
      ],
      "metadata": {
        "colab": {
          "base_uri": "https://localhost:8080/"
        },
        "id": "OIi61fc7_f4M",
        "outputId": "abc2fc89-29a0-4f53-8601-9e7141afce9e"
      },
      "execution_count": null,
      "outputs": [
        {
          "output_type": "stream",
          "name": "stdout",
          "text": [
            "30\n"
          ]
        }
      ]
    },
    {
      "cell_type": "code",
      "source": [
        "# /= Division assignment\n",
        "X/=3\n",
        "print(X)"
      ],
      "metadata": {
        "colab": {
          "base_uri": "https://localhost:8080/"
        },
        "id": "giRBKD7TAl5G",
        "outputId": "e43cabc7-1cc2-4a36-f605-9fd075ad6781"
      },
      "execution_count": null,
      "outputs": [
        {
          "output_type": "stream",
          "name": "stdout",
          "text": [
            "3.3333333333333335\n"
          ]
        }
      ]
    },
    {
      "cell_type": "code",
      "source": [
        "# **=Exponential assignment\n",
        "X**=3\n",
        "print(X)"
      ],
      "metadata": {
        "colab": {
          "base_uri": "https://localhost:8080/"
        },
        "id": "YzgPH9ky793F",
        "outputId": "d5ce6dd4-b315-4685-d4f2-45b016433366"
      },
      "execution_count": null,
      "outputs": [
        {
          "output_type": "stream",
          "name": "stdout",
          "text": [
            "37.037037037037045\n"
          ]
        }
      ]
    },
    {
      "cell_type": "code",
      "source": [
        "# //= Floor division\n",
        "X//=3\n",
        "print(X)"
      ],
      "metadata": {
        "colab": {
          "base_uri": "https://localhost:8080/"
        },
        "id": "6YQFp_5I8Nm9",
        "outputId": "0c7661db-33f7-4a00-fc81-79d8a0badfb1"
      },
      "execution_count": null,
      "outputs": [
        {
          "output_type": "stream",
          "name": "stdout",
          "text": [
            "12.0\n"
          ]
        }
      ]
    },
    {
      "cell_type": "markdown",
      "source": [
        "Bitwise AND operator\n"
      ],
      "metadata": {
        "id": "wG4Mc17f_6cf"
      }
    },
    {
      "cell_type": "code",
      "source": [
        "# &= Bitwise AND Assignment:\n",
        "#& is the bitwise AND operator, which compares each bit of two numbers and returns a new number.\n",
        "#Each bit in the result is 1 if the corresponding bits in both operands are 1, otherwise the bit is 0.\n",
        "# 1   0   0\n",
        "# 1   1   1\n",
        "# 0   1   0\n",
        "#1    1    1\n",
        "Y=6\n",
        "Y &=4\n",
        "print(Y)\n",
        "bin(4)"
      ],
      "metadata": {
        "id": "FStyaB7e_5sq",
        "colab": {
          "base_uri": "https://localhost:8080/",
          "height": 53
        },
        "outputId": "0f8dc11b-fbe2-4fd7-fd4e-3de0f772e77f"
      },
      "execution_count": null,
      "outputs": [
        {
          "output_type": "stream",
          "name": "stdout",
          "text": [
            "4\n"
          ]
        },
        {
          "output_type": "execute_result",
          "data": {
            "text/plain": [
              "'0b100'"
            ],
            "application/vnd.google.colaboratory.intrinsic+json": {
              "type": "string"
            }
          },
          "metadata": {},
          "execution_count": 2
        }
      ]
    },
    {
      "cell_type": "code",
      "source": [
        "a=7\n",
        "a &=10\n",
        "print(a)\n",
        "bin(a)"
      ],
      "metadata": {
        "colab": {
          "base_uri": "https://localhost:8080/",
          "height": 53
        },
        "id": "hAqk6AwaEN5z",
        "outputId": "1158f0be-e2d3-416c-fdf1-f5d1fb8bc0a9"
      },
      "execution_count": null,
      "outputs": [
        {
          "output_type": "stream",
          "name": "stdout",
          "text": [
            "2\n"
          ]
        },
        {
          "output_type": "execute_result",
          "data": {
            "text/plain": [
              "'0b10'"
            ],
            "application/vnd.google.colaboratory.intrinsic+json": {
              "type": "string"
            }
          },
          "metadata": {},
          "execution_count": 12
        }
      ]
    },
    {
      "cell_type": "markdown",
      "source": [
        "Bitwise OR operator\n"
      ],
      "metadata": {
        "id": "_Bht3LJsDdpF"
      }
    },
    {
      "cell_type": "code",
      "source": [
        "X=5\n",
        "X |=3\n",
        "print(X)\n",
        "bin(X)"
      ],
      "metadata": {
        "colab": {
          "base_uri": "https://localhost:8080/",
          "height": 53
        },
        "id": "XlN3kuQVDiYk",
        "outputId": "4aa751b9-21a1-4b9d-cd89-daefd2090246"
      },
      "execution_count": null,
      "outputs": [
        {
          "output_type": "stream",
          "name": "stdout",
          "text": [
            "7\n"
          ]
        },
        {
          "output_type": "execute_result",
          "data": {
            "text/plain": [
              "'0b111'"
            ],
            "application/vnd.google.colaboratory.intrinsic+json": {
              "type": "string"
            }
          },
          "metadata": {},
          "execution_count": 10
        }
      ]
    },
    {
      "cell_type": "code",
      "source": [
        "a=7\n",
        "a |=10\n",
        "print(a)\n",
        "bin(a)"
      ],
      "metadata": {
        "colab": {
          "base_uri": "https://localhost:8080/",
          "height": 53
        },
        "id": "XjKBACaPD5Ri",
        "outputId": "6bb1f5a8-f370-42de-9f4b-157e759588cd"
      },
      "execution_count": null,
      "outputs": [
        {
          "output_type": "stream",
          "name": "stdout",
          "text": [
            "15\n"
          ]
        },
        {
          "output_type": "execute_result",
          "data": {
            "text/plain": [
              "'0b1111'"
            ],
            "application/vnd.google.colaboratory.intrinsic+json": {
              "type": "string"
            }
          },
          "metadata": {},
          "execution_count": 11
        }
      ]
    },
    {
      "cell_type": "markdown",
      "source": [
        "Bitwise XOR"
      ],
      "metadata": {
        "id": "3NWWZwnEJu5w"
      }
    },
    {
      "cell_type": "code",
      "source": [
        "X=5\n",
        "X ^=3\n",
        "print(X)\n",
        "bin(X)"
      ],
      "metadata": {
        "colab": {
          "base_uri": "https://localhost:8080/",
          "height": 53
        },
        "id": "1uV2Cnp0EM5U",
        "outputId": "992b18d6-e526-473d-a4fa-ac5429615956"
      },
      "execution_count": null,
      "outputs": [
        {
          "output_type": "stream",
          "name": "stdout",
          "text": [
            "6\n"
          ]
        },
        {
          "output_type": "execute_result",
          "data": {
            "text/plain": [
              "'0b110'"
            ],
            "application/vnd.google.colaboratory.intrinsic+json": {
              "type": "string"
            }
          },
          "metadata": {},
          "execution_count": 13
        }
      ]
    },
    {
      "cell_type": "code",
      "source": [
        "a=8\n",
        "a^=2\n",
        "print(a)\n",
        "bin(a)"
      ],
      "metadata": {
        "colab": {
          "base_uri": "https://localhost:8080/",
          "height": 53
        },
        "id": "kavugeLdDcUZ",
        "outputId": "1fa7232d-66b4-4f0f-96e3-7bfbca951345"
      },
      "execution_count": null,
      "outputs": [
        {
          "output_type": "stream",
          "name": "stdout",
          "text": [
            "10\n"
          ]
        },
        {
          "output_type": "execute_result",
          "data": {
            "text/plain": [
              "'0b1010'"
            ],
            "application/vnd.google.colaboratory.intrinsic+json": {
              "type": "string"
            }
          },
          "metadata": {},
          "execution_count": 14
        }
      ]
    },
    {
      "cell_type": "code",
      "source": [],
      "metadata": {
        "id": "GQBd0MLCF7k7"
      },
      "execution_count": null,
      "outputs": []
    },
    {
      "cell_type": "markdown",
      "source": [
        "Right shift Operator- Shifts the value to right ex(1000) X>>=2 ---001000"
      ],
      "metadata": {
        "id": "3lDgt_eeF8mC"
      }
    },
    {
      "cell_type": "code",
      "source": [
        "Y=10\n",
        "Y >>=3\n",
        "print(Y)\n",
        "bin(Y)"
      ],
      "metadata": {
        "colab": {
          "base_uri": "https://localhost:8080/",
          "height": 53
        },
        "id": "_Kc6c7Y-GFLm",
        "outputId": "2544b604-b94d-4a0a-8a2f-5431f902ae54"
      },
      "execution_count": null,
      "outputs": [
        {
          "output_type": "stream",
          "name": "stdout",
          "text": [
            "1\n"
          ]
        },
        {
          "output_type": "execute_result",
          "data": {
            "text/plain": [
              "'0b1'"
            ],
            "application/vnd.google.colaboratory.intrinsic+json": {
              "type": "string"
            }
          },
          "metadata": {},
          "execution_count": 16
        }
      ]
    },
    {
      "cell_type": "code",
      "source": [],
      "metadata": {
        "id": "Zmehamj4HyMx"
      },
      "execution_count": null,
      "outputs": []
    },
    {
      "cell_type": "markdown",
      "source": [
        "Bitwise Left operator- shifts the value to left ex(0001) -----000100"
      ],
      "metadata": {
        "id": "GwMGU7ctH7L7"
      }
    },
    {
      "cell_type": "code",
      "source": [
        "a=5\n",
        "a<<=2\n",
        "print(a)\n",
        "bin(a)"
      ],
      "metadata": {
        "colab": {
          "base_uri": "https://localhost:8080/",
          "height": 53
        },
        "id": "nN6V33CVIBid",
        "outputId": "6b3366ed-c95e-44a3-f51a-acf1fb603a2f"
      },
      "execution_count": null,
      "outputs": [
        {
          "output_type": "stream",
          "name": "stdout",
          "text": [
            "20\n"
          ]
        },
        {
          "output_type": "execute_result",
          "data": {
            "text/plain": [
              "'0b10100'"
            ],
            "application/vnd.google.colaboratory.intrinsic+json": {
              "type": "string"
            }
          },
          "metadata": {},
          "execution_count": 18
        }
      ]
    },
    {
      "cell_type": "markdown",
      "source": [],
      "metadata": {
        "id": "PFRDIe9aH7IC"
      }
    },
    {
      "cell_type": "markdown",
      "source": [
        "Convert decimal to num and num to decimal"
      ],
      "metadata": {
        "id": "W-wYA6VLJ5tZ"
      }
    },
    {
      "cell_type": "code",
      "source": [
        "b= int('100111',2)\n",
        "print(b)"
      ],
      "metadata": {
        "colab": {
          "base_uri": "https://localhost:8080/"
        },
        "id": "Hnd2SGt1H2IE",
        "outputId": "ad328d65-cce4-4f7c-8339-6c73185ae50e"
      },
      "execution_count": null,
      "outputs": [
        {
          "output_type": "stream",
          "name": "stdout",
          "text": [
            "39\n"
          ]
        }
      ]
    },
    {
      "cell_type": "code",
      "source": [
        "a=10\n",
        "bin(a)"
      ],
      "metadata": {
        "colab": {
          "base_uri": "https://localhost:8080/",
          "height": 36
        },
        "id": "A6DXwXz-JsAW",
        "outputId": "705c4516-2123-4f09-8403-1c5add0e1619"
      },
      "execution_count": null,
      "outputs": [
        {
          "output_type": "execute_result",
          "data": {
            "text/plain": [
              "'0b1010'"
            ],
            "application/vnd.google.colaboratory.intrinsic+json": {
              "type": "string"
            }
          },
          "metadata": {},
          "execution_count": 2
        }
      ]
    },
    {
      "cell_type": "markdown",
      "source": [
        "Comparison operator"
      ],
      "metadata": {
        "id": "U6PXPp-BKFvw"
      }
    },
    {
      "cell_type": "code",
      "source": [
        "x=12\n",
        "y=10\n",
        "x==y"
      ],
      "metadata": {
        "colab": {
          "base_uri": "https://localhost:8080/"
        },
        "id": "FHhKxIzfKERm",
        "outputId": "3ac7b50b-4686-4199-ba5e-be505703d06e"
      },
      "execution_count": null,
      "outputs": [
        {
          "output_type": "execute_result",
          "data": {
            "text/plain": [
              "False"
            ]
          },
          "metadata": {},
          "execution_count": 3
        }
      ]
    },
    {
      "cell_type": "code",
      "source": [
        "x=12\n",
        "y=10\n",
        "x!=y"
      ],
      "metadata": {
        "colab": {
          "base_uri": "https://localhost:8080/"
        },
        "id": "1T_IpfucLe-F",
        "outputId": "9f088b5a-3596-4d63-8ad5-729b291106f9"
      },
      "execution_count": null,
      "outputs": [
        {
          "output_type": "execute_result",
          "data": {
            "text/plain": [
              "True"
            ]
          },
          "metadata": {},
          "execution_count": 4
        }
      ]
    },
    {
      "cell_type": "code",
      "source": [
        "x=12\n",
        "y=10\n",
        "x<y"
      ],
      "metadata": {
        "colab": {
          "base_uri": "https://localhost:8080/"
        },
        "id": "0sibPw13LlLL",
        "outputId": "2e7627bb-b04d-48f3-eb8a-49f343e29ed0"
      },
      "execution_count": null,
      "outputs": [
        {
          "output_type": "execute_result",
          "data": {
            "text/plain": [
              "False"
            ]
          },
          "metadata": {},
          "execution_count": 5
        }
      ]
    },
    {
      "cell_type": "code",
      "source": [
        "x=12\n",
        "y=10\n",
        "x>y"
      ],
      "metadata": {
        "colab": {
          "base_uri": "https://localhost:8080/"
        },
        "id": "_CtgTa_8MD9f",
        "outputId": "bc1330b6-b115-4ebf-be78-1da29e999bc0"
      },
      "execution_count": null,
      "outputs": [
        {
          "output_type": "execute_result",
          "data": {
            "text/plain": [
              "True"
            ]
          },
          "metadata": {},
          "execution_count": 11
        }
      ]
    },
    {
      "cell_type": "markdown",
      "source": [
        "Logical operator"
      ],
      "metadata": {
        "id": "4ueC8jPFQydZ"
      }
    },
    {
      "cell_type": "code",
      "source": [],
      "metadata": {
        "id": "V9Pp1KZKME_E"
      },
      "execution_count": null,
      "outputs": []
    },
    {
      "cell_type": "code",
      "source": [
        "a=5\n",
        "b=10\n",
        "print(a>2 and b<15)\n",
        "print(a>2 and b<8)"
      ],
      "metadata": {
        "colab": {
          "base_uri": "https://localhost:8080/"
        },
        "id": "vuwq-763MHFu",
        "outputId": "9eecff9c-4656-43db-94e7-a3c9c6fda6c9"
      },
      "execution_count": null,
      "outputs": [
        {
          "output_type": "stream",
          "name": "stdout",
          "text": [
            "True\n",
            "False\n"
          ]
        }
      ]
    },
    {
      "cell_type": "code",
      "source": [
        "a=5\n",
        "b=10\n",
        "print(a>2 or b<15)\n",
        "print(a>2 or b<8)"
      ],
      "metadata": {
        "colab": {
          "base_uri": "https://localhost:8080/"
        },
        "id": "PjH44_GXMT9Z",
        "outputId": "4026130e-1220-4a68-b8e3-2ac285311199"
      },
      "execution_count": null,
      "outputs": [
        {
          "output_type": "stream",
          "name": "stdout",
          "text": [
            "True\n",
            "True\n"
          ]
        }
      ]
    },
    {
      "cell_type": "code",
      "source": [],
      "metadata": {
        "id": "QSKybF-yQjZg"
      },
      "execution_count": null,
      "outputs": []
    },
    {
      "cell_type": "markdown",
      "source": [
        "Identity operator"
      ],
      "metadata": {
        "id": "0Jcd33YRQgiT"
      }
    },
    {
      "cell_type": "code",
      "source": [
        "a=[1,2,3]\n",
        "b=a\n",
        "c=[1,2,3]\n",
        "d=c\n",
        "print(a is b)\n",
        "print(c is a)\n",
        "print(c is not d)"
      ],
      "metadata": {
        "colab": {
          "base_uri": "https://localhost:8080/"
        },
        "id": "i_ifvB7KPhxu",
        "outputId": "34f9901e-b7bd-46c8-a349-66c511aec534"
      },
      "execution_count": null,
      "outputs": [
        {
          "output_type": "stream",
          "name": "stdout",
          "text": [
            "True\n",
            "False\n",
            "False\n"
          ]
        }
      ]
    },
    {
      "cell_type": "markdown",
      "source": [
        "Cached range(-5 to 256)\n",
        "\n",
        "\n",
        "```\n",
        "\n"
      ],
      "metadata": {
        "id": "pAbt0hr-RKOS"
      }
    },
    {
      "cell_type": "code",
      "source": [
        "a=157\n",
        "b=220\n",
        "h=220\n",
        "print(a is b)\n",
        "print(b is h)"
      ],
      "metadata": {
        "colab": {
          "base_uri": "https://localhost:8080/"
        },
        "id": "dI9bDdNsRWoJ",
        "outputId": "f5387e3d-b53b-4b42-8fd1-d99c4bbebb74"
      },
      "execution_count": null,
      "outputs": [
        {
          "output_type": "stream",
          "name": "stdout",
          "text": [
            "False\n",
            "True\n"
          ]
        }
      ]
    },
    {
      "cell_type": "code",
      "source": [
        "Fruits=['apple','banana','cherry']\n",
        "print('banana' in Fruits)\n",
        "print('grapes'in Fruits)"
      ],
      "metadata": {
        "colab": {
          "base_uri": "https://localhost:8080/"
        },
        "id": "canpgdRuS06Q",
        "outputId": "3bbf6906-ac92-4493-c7fe-b62d1741a01d"
      },
      "execution_count": null,
      "outputs": [
        {
          "output_type": "stream",
          "name": "stdout",
          "text": [
            "True\n",
            "False\n"
          ]
        }
      ]
    },
    {
      "cell_type": "code",
      "source": [
        "Fruits=['apple','banana','cherry']\n",
        "print('banana' not in Fruits)\n",
        "print('grapes'not in Fruits)"
      ],
      "metadata": {
        "colab": {
          "base_uri": "https://localhost:8080/"
        },
        "id": "h-lR4ITATUZ5",
        "outputId": "fa17538f-dd01-4fed-d88e-5c568037ab05"
      },
      "execution_count": null,
      "outputs": [
        {
          "output_type": "stream",
          "name": "stdout",
          "text": [
            "False\n",
            "True\n"
          ]
        }
      ]
    },
    {
      "cell_type": "code",
      "source": [
        "import math"
      ],
      "metadata": {
        "id": "TOQ49RYsWYV2"
      },
      "execution_count": null,
      "outputs": []
    },
    {
      "cell_type": "code",
      "source": [
        "math.ceil(3.1)"
      ],
      "metadata": {
        "colab": {
          "base_uri": "https://localhost:8080/"
        },
        "id": "YEzXEovJWeak",
        "outputId": "191981a1-a9de-4a15-991e-805096d748f8"
      },
      "execution_count": null,
      "outputs": [
        {
          "output_type": "execute_result",
          "data": {
            "text/plain": [
              "4"
            ]
          },
          "metadata": {},
          "execution_count": 3
        }
      ]
    },
    {
      "cell_type": "code",
      "source": [
        "math.floor(2.9)"
      ],
      "metadata": {
        "colab": {
          "base_uri": "https://localhost:8080/"
        },
        "id": "NXnd6ncRWj1c",
        "outputId": "cde2f7c9-9cba-48a0-8873-704ddae99f88"
      },
      "execution_count": null,
      "outputs": [
        {
          "output_type": "execute_result",
          "data": {
            "text/plain": [
              "2"
            ]
          },
          "metadata": {},
          "execution_count": 4
        }
      ]
    },
    {
      "cell_type": "code",
      "source": [
        "math.sqrt(4)"
      ],
      "metadata": {
        "colab": {
          "base_uri": "https://localhost:8080/"
        },
        "id": "vchyxMKaWnyL",
        "outputId": "f959f5eb-15d5-418a-ac24-beaac0c0f8ad"
      },
      "execution_count": null,
      "outputs": [
        {
          "output_type": "execute_result",
          "data": {
            "text/plain": [
              "2.0"
            ]
          },
          "metadata": {},
          "execution_count": 5
        }
      ]
    },
    {
      "cell_type": "code",
      "source": [
        "math.pow(2,1/2)"
      ],
      "metadata": {
        "colab": {
          "base_uri": "https://localhost:8080/"
        },
        "id": "pDYp410_Wq88",
        "outputId": "4ff7e479-0081-40b1-84f7-0d35bbc2f861"
      },
      "execution_count": null,
      "outputs": [
        {
          "output_type": "execute_result",
          "data": {
            "text/plain": [
              "1.4142135623730951"
            ]
          },
          "metadata": {},
          "execution_count": 6
        }
      ]
    },
    {
      "cell_type": "code",
      "source": [
        "math.pow(2,4)"
      ],
      "metadata": {
        "colab": {
          "base_uri": "https://localhost:8080/"
        },
        "id": "3Q596mluWxtR",
        "outputId": "9e3a12d9-1cf3-41be-ea5b-05cb90685c1a"
      },
      "execution_count": null,
      "outputs": [
        {
          "output_type": "execute_result",
          "data": {
            "text/plain": [
              "16.0"
            ]
          },
          "metadata": {},
          "execution_count": 7
        }
      ]
    },
    {
      "cell_type": "code",
      "source": [
        "math.pi"
      ],
      "metadata": {
        "colab": {
          "base_uri": "https://localhost:8080/"
        },
        "id": "3tVn-L_SXmn0",
        "outputId": "07c66979-be1d-4f53-c4ee-fd8f8c030b5a"
      },
      "execution_count": null,
      "outputs": [
        {
          "output_type": "execute_result",
          "data": {
            "text/plain": [
              "3.141592653589793"
            ]
          },
          "metadata": {},
          "execution_count": 8
        }
      ]
    },
    {
      "cell_type": "code",
      "source": [
        "math.trunc(2.1)"
      ],
      "metadata": {
        "colab": {
          "base_uri": "https://localhost:8080/"
        },
        "id": "dpm9q67NXqCY",
        "outputId": "bdd548c1-ea23-4f64-cdfa-c9da5a9a9e30"
      },
      "execution_count": null,
      "outputs": [
        {
          "output_type": "execute_result",
          "data": {
            "text/plain": [
              "2"
            ]
          },
          "metadata": {},
          "execution_count": 11
        }
      ]
    },
    {
      "cell_type": "code",
      "source": [
        "math.fabs(-3)"
      ],
      "metadata": {
        "colab": {
          "base_uri": "https://localhost:8080/"
        },
        "id": "1uefeLtdYNsy",
        "outputId": "331548b5-7911-49a8-b8fc-5f3413e40c96"
      },
      "execution_count": null,
      "outputs": [
        {
          "output_type": "execute_result",
          "data": {
            "text/plain": [
              "3.0"
            ]
          },
          "metadata": {},
          "execution_count": 12
        }
      ]
    },
    {
      "cell_type": "code",
      "source": [
        "math.exp(2)"
      ],
      "metadata": {
        "colab": {
          "base_uri": "https://localhost:8080/"
        },
        "id": "0RhtmEcXZDHn",
        "outputId": "6482c714-f425-4be8-d62b-299440cea99b"
      },
      "execution_count": null,
      "outputs": [
        {
          "output_type": "execute_result",
          "data": {
            "text/plain": [
              "7.38905609893065"
            ]
          },
          "metadata": {},
          "execution_count": 13
        }
      ]
    },
    {
      "cell_type": "code",
      "source": [
        "math.log(2,3)"
      ],
      "metadata": {
        "colab": {
          "base_uri": "https://localhost:8080/"
        },
        "id": "dfG4cAoOZHfm",
        "outputId": "55e5dcdb-f82a-4628-e9ae-a2f7d93eefc9"
      },
      "execution_count": null,
      "outputs": [
        {
          "output_type": "execute_result",
          "data": {
            "text/plain": [
              "0.6309297535714574"
            ]
          },
          "metadata": {},
          "execution_count": 14
        }
      ]
    },
    {
      "cell_type": "code",
      "source": [
        "math.factorial(5)"
      ],
      "metadata": {
        "colab": {
          "base_uri": "https://localhost:8080/"
        },
        "id": "61g-bhiAZLpl",
        "outputId": "8ee4bcaf-1612-4c6d-f05b-2f723297b803"
      },
      "execution_count": null,
      "outputs": [
        {
          "output_type": "execute_result",
          "data": {
            "text/plain": [
              "120"
            ]
          },
          "metadata": {},
          "execution_count": 15
        }
      ]
    },
    {
      "cell_type": "code",
      "source": [
        "math.gcd(40,80)"
      ],
      "metadata": {
        "colab": {
          "base_uri": "https://localhost:8080/"
        },
        "id": "3Sgh7dGKZQ1t",
        "outputId": "b7479662-79cb-4347-ebeb-9fa5a279abfe"
      },
      "execution_count": null,
      "outputs": [
        {
          "output_type": "execute_result",
          "data": {
            "text/plain": [
              "40"
            ]
          },
          "metadata": {},
          "execution_count": 16
        }
      ]
    },
    {
      "cell_type": "markdown",
      "source": [
        "Conditional statements"
      ],
      "metadata": {
        "id": "OSrD77BzcZov"
      }
    },
    {
      "cell_type": "markdown",
      "source": [
        "IF statements"
      ],
      "metadata": {
        "id": "Q1_6qqe0k1o0"
      }
    },
    {
      "cell_type": "code",
      "source": [
        "Tomato=15\n",
        "if Tomato<20:\n",
        "    print(\"Bring 1kg of tomatoes\")"
      ],
      "metadata": {
        "colab": {
          "base_uri": "https://localhost:8080/"
        },
        "id": "fPYX9rTZcJ2d",
        "outputId": "0b1c209a-3a10-4c8c-9701-56ab1d9b2264"
      },
      "execution_count": null,
      "outputs": [
        {
          "output_type": "stream",
          "name": "stdout",
          "text": [
            "Bring 1kg of tomatoes\n"
          ]
        }
      ]
    },
    {
      "cell_type": "code",
      "source": [
        "X=15\n",
        "if X<20:\n",
        "  print(\"Data science\")"
      ],
      "metadata": {
        "id": "YGC3D85kcfyA",
        "colab": {
          "base_uri": "https://localhost:8080/"
        },
        "outputId": "cb1e3795-35c6-480c-96ee-712b934b0d54"
      },
      "execution_count": null,
      "outputs": [
        {
          "output_type": "stream",
          "name": "stdout",
          "text": [
            "Data science\n"
          ]
        }
      ]
    },
    {
      "cell_type": "code",
      "source": [
        "if True:\n",
        "  print(\"Data science\")"
      ],
      "metadata": {
        "colab": {
          "base_uri": "https://localhost:8080/"
        },
        "id": "LhbD_sFwMVuQ",
        "outputId": "20118bd3-98a9-4bf0-aa9a-15a1babd23f3"
      },
      "execution_count": null,
      "outputs": [
        {
          "output_type": "stream",
          "name": "stdout",
          "text": [
            "Data science\n"
          ]
        }
      ]
    },
    {
      "cell_type": "code",
      "source": [
        "X=10\n",
        "if X%2==0:\n",
        "    print(\"Data science\")"
      ],
      "metadata": {
        "colab": {
          "base_uri": "https://localhost:8080/"
        },
        "id": "W3jP1YBkMgxY",
        "outputId": "a1221106-6ee6-46a1-a208-9406ee7401e9"
      },
      "execution_count": null,
      "outputs": [
        {
          "output_type": "stream",
          "name": "stdout",
          "text": [
            "Data science\n"
          ]
        }
      ]
    },
    {
      "cell_type": "code",
      "source": [
        "x=int(input())\n",
        "if not((x%2==0)and(X<10)):\n",
        "  print(\"Data Science\")\n"
      ],
      "metadata": {
        "colab": {
          "base_uri": "https://localhost:8080/"
        },
        "id": "zmiR6U0tQekY",
        "outputId": "d1cd2d67-982c-4b7f-a13f-f87e4aa2ed34"
      },
      "execution_count": null,
      "outputs": [
        {
          "output_type": "stream",
          "name": "stdout",
          "text": [
            "10\n",
            "Data Science\n"
          ]
        }
      ]
    },
    {
      "cell_type": "markdown",
      "source": [
        "IF else statements"
      ],
      "metadata": {
        "id": "y1wDq978ku5X"
      }
    },
    {
      "cell_type": "code",
      "source": [
        "X=7\n",
        "if X >5:\n",
        "  print(\"X is greater than 5\")\n",
        "else:\n",
        " print(\"X is smaller than 5\")"
      ],
      "metadata": {
        "colab": {
          "base_uri": "https://localhost:8080/"
        },
        "id": "CQ6qR-xWSkqQ",
        "outputId": "24dad456-adee-4315-e64c-58ebb7fcab54"
      },
      "execution_count": null,
      "outputs": [
        {
          "output_type": "stream",
          "name": "stdout",
          "text": [
            "X is greater than 5\n"
          ]
        }
      ]
    },
    {
      "cell_type": "markdown",
      "source": [
        "ELIF statements"
      ],
      "metadata": {
        "id": "n0yMM9AnlCOc"
      }
    },
    {
      "cell_type": "code",
      "source": [
        "Tomato=int(input(\"Tomatoes cost per kg:\\n\"))\n",
        "if Tomato<40:\n",
        "  print(\"Bring 5 kgs of Tomatoes\")\n",
        "elif Tomato>=50:\n",
        "  print(\"Bring 2 kgs of Tomatoes\")\n",
        "else:\n",
        "  print(\"Bring 1/2 kg of Toamtoes\")"
      ],
      "metadata": {
        "colab": {
          "base_uri": "https://localhost:8080/"
        },
        "id": "gGTo0PjBUZ13",
        "outputId": "a4b823cc-875f-4aba-d4fa-272026fe7d34"
      },
      "execution_count": null,
      "outputs": [
        {
          "output_type": "stream",
          "name": "stdout",
          "text": [
            "Tomatoes cost per kg:\n",
            "60\n",
            "Bring 2 kgs of Tomatoes\n"
          ]
        }
      ]
    },
    {
      "cell_type": "code",
      "source": [
        "X=\"Data science\"\n",
        "if \"sci\" in X:\n",
        "  print(\"Data\")\n",
        "else:\n",
        "  print(\"science\")"
      ],
      "metadata": {
        "colab": {
          "base_uri": "https://localhost:8080/"
        },
        "id": "uwEkCfYLWfvJ",
        "outputId": "18f2ecbc-389f-4fc7-b0c7-6215fae66a73"
      },
      "execution_count": null,
      "outputs": [
        {
          "output_type": "stream",
          "name": "stdout",
          "text": [
            "Data\n"
          ]
        }
      ]
    },
    {
      "cell_type": "code",
      "source": [
        "Age=int(input())\n",
        "has_permission=True\n",
        "if Age>=18:\n",
        "  if has_permission:\n",
        "    print(\"Allowed\")\n",
        "  else:\n",
        "    print(\"Not Allowed\")\n",
        "else:\n",
        "  if Age>=13:\n",
        "    print(\"Allowed with Guardian\")\n",
        "  else:\n",
        "    print(\"You are not Allowed\")\n",
        "\n"
      ],
      "metadata": {
        "colab": {
          "base_uri": "https://localhost:8080/"
        },
        "id": "hsuDMAIPZKBm",
        "outputId": "f9e57806-7271-4ae3-fc48-9ce84713f7d3"
      },
      "execution_count": null,
      "outputs": [
        {
          "output_type": "stream",
          "name": "stdout",
          "text": [
            "21\n",
            "Allowed\n"
          ]
        }
      ]
    },
    {
      "cell_type": "code",
      "source": [
        "Marks=int(input())\n",
        "if Marks<35:\n",
        "  print(\"Fail\")\n",
        "elif Marks>=35 and Marks<=50:\n",
        "  print(\"Grade C\")\n",
        "elif Marks>=50 and Marks<75:\n",
        "  print(\"Grade B\")\n",
        "elif Marks>=75 and Marks<90:\n",
        "  print(\"Grade A\")\n",
        "else:\n",
        "  print(\"Grade A+\")"
      ],
      "metadata": {
        "colab": {
          "base_uri": "https://localhost:8080/"
        },
        "id": "54gb3obracPT",
        "outputId": "bad24a9b-f296-48ba-f1fa-43e1d14b9641"
      },
      "execution_count": null,
      "outputs": [
        {
          "output_type": "stream",
          "name": "stdout",
          "text": [
            "45\n",
            "Grade C\n"
          ]
        }
      ]
    },
    {
      "cell_type": "markdown",
      "source": [
        "1. for Loops\n",
        "\n",
        "A for loop is used to iterate over a sequence (such as a list, tuple, dictionary, set, or string) and execute a block of code for each item in the sequence."
      ],
      "metadata": {
        "id": "-vbTl70ItIcd"
      }
    },
    {
      "cell_type": "code",
      "source": [
        "Word='Hello'\n",
        "for letter in Word:\n",
        "  print(letter)\n",
        "print(Word)"
      ],
      "metadata": {
        "colab": {
          "base_uri": "https://localhost:8080/"
        },
        "id": "9Rea-4vUtHvO",
        "outputId": "fe70d5fb-3e57-42f8-f5d3-b65e78dbb585"
      },
      "execution_count": null,
      "outputs": [
        {
          "output_type": "stream",
          "name": "stdout",
          "text": [
            "H\n",
            "e\n",
            "l\n",
            "l\n",
            "o\n",
            "Hello\n"
          ]
        }
      ]
    },
    {
      "cell_type": "code",
      "source": [
        "a=5\n",
        "for i in range(a):\n",
        "  print(i)"
      ],
      "metadata": {
        "colab": {
          "base_uri": "https://localhost:8080/"
        },
        "id": "kH4nZvSJ1bht",
        "outputId": "1945fc3f-3464-461e-c470-0d5fa3cc7769"
      },
      "execution_count": null,
      "outputs": [
        {
          "output_type": "stream",
          "name": "stdout",
          "text": [
            "0\n",
            "1\n",
            "2\n",
            "3\n",
            "4\n"
          ]
        }
      ]
    },
    {
      "cell_type": "code",
      "source": [
        "for i in range(1,10):\n",
        "  print(i)"
      ],
      "metadata": {
        "colab": {
          "base_uri": "https://localhost:8080/"
        },
        "id": "ss0dI7K13mGh",
        "outputId": "adbe7469-52f4-4e57-d55b-06e2c6be4d25"
      },
      "execution_count": null,
      "outputs": [
        {
          "output_type": "stream",
          "name": "stdout",
          "text": [
            "1\n",
            "2\n",
            "3\n",
            "4\n",
            "5\n",
            "6\n",
            "7\n",
            "8\n",
            "9\n"
          ]
        }
      ]
    },
    {
      "cell_type": "code",
      "source": [
        "#prime number\n",
        "for i in range(1,100):\n",
        "  for j in range(2,i):\n",
        "     if i%j==0:\n",
        "        break\n",
        "  else:\n",
        "    print(i)"
      ],
      "metadata": {
        "colab": {
          "base_uri": "https://localhost:8080/"
        },
        "id": "E_lSz9MoiMwq",
        "outputId": "d7fe4f43-43dd-411b-b818-abff525ec420"
      },
      "execution_count": null,
      "outputs": [
        {
          "output_type": "stream",
          "name": "stdout",
          "text": [
            "1\n",
            "2\n",
            "3\n",
            "5\n",
            "7\n",
            "11\n",
            "13\n",
            "17\n",
            "19\n",
            "23\n",
            "29\n",
            "31\n",
            "37\n",
            "41\n",
            "43\n",
            "47\n",
            "53\n",
            "59\n",
            "61\n",
            "67\n",
            "71\n",
            "73\n",
            "79\n",
            "83\n",
            "89\n",
            "97\n"
          ]
        }
      ]
    },
    {
      "cell_type": "code",
      "source": [
        "for i in range(1,100):\n",
        "    if i%2==0:\n",
        "      print(i)"
      ],
      "metadata": {
        "colab": {
          "base_uri": "https://localhost:8080/"
        },
        "id": "33gY9h_aklI3",
        "outputId": "b666be76-63f9-4f2a-b32a-457d8c87a70f"
      },
      "execution_count": null,
      "outputs": [
        {
          "output_type": "stream",
          "name": "stdout",
          "text": [
            "2\n",
            "4\n",
            "6\n",
            "8\n",
            "10\n",
            "12\n",
            "14\n",
            "16\n",
            "18\n",
            "20\n",
            "22\n",
            "24\n",
            "26\n",
            "28\n",
            "30\n",
            "32\n",
            "34\n",
            "36\n",
            "38\n",
            "40\n",
            "42\n",
            "44\n",
            "46\n",
            "48\n",
            "50\n",
            "52\n",
            "54\n",
            "56\n",
            "58\n",
            "60\n",
            "62\n",
            "64\n",
            "66\n",
            "68\n",
            "70\n",
            "72\n",
            "74\n",
            "76\n",
            "78\n",
            "80\n",
            "82\n",
            "84\n",
            "86\n",
            "88\n",
            "90\n",
            "92\n",
            "94\n",
            "96\n",
            "98\n"
          ]
        }
      ]
    },
    {
      "cell_type": "code",
      "source": [
        "for i in range(1,100):\n",
        "  if i%2==1:\n",
        "    print(i)"
      ],
      "metadata": {
        "colab": {
          "base_uri": "https://localhost:8080/"
        },
        "id": "yzIWo9Fqkxo5",
        "outputId": "ce3616af-09a4-4dfa-9129-78ec212535a9"
      },
      "execution_count": null,
      "outputs": [
        {
          "output_type": "stream",
          "name": "stdout",
          "text": [
            "1\n",
            "3\n",
            "5\n",
            "7\n",
            "9\n",
            "11\n",
            "13\n",
            "15\n",
            "17\n",
            "19\n",
            "21\n",
            "23\n",
            "25\n",
            "27\n",
            "29\n",
            "31\n",
            "33\n",
            "35\n",
            "37\n",
            "39\n",
            "41\n",
            "43\n",
            "45\n",
            "47\n",
            "49\n",
            "51\n",
            "53\n",
            "55\n",
            "57\n",
            "59\n",
            "61\n",
            "63\n",
            "65\n",
            "67\n",
            "69\n",
            "71\n",
            "73\n",
            "75\n",
            "77\n",
            "79\n",
            "81\n",
            "83\n",
            "85\n",
            "87\n",
            "89\n",
            "91\n",
            "93\n",
            "95\n",
            "97\n",
            "99\n"
          ]
        }
      ]
    },
    {
      "cell_type": "code",
      "source": [
        "for i in range(1,10,2):\n",
        " print(i)"
      ],
      "metadata": {
        "colab": {
          "base_uri": "https://localhost:8080/"
        },
        "id": "ob-a848z3X7Q",
        "outputId": "e800a28a-a5c7-43d6-c20b-9a2867453ec2"
      },
      "execution_count": null,
      "outputs": [
        {
          "output_type": "stream",
          "name": "stdout",
          "text": [
            "1\n",
            "3\n",
            "5\n",
            "7\n",
            "9\n"
          ]
        }
      ]
    },
    {
      "cell_type": "code",
      "source": [
        "n=5\n",
        "for i in range(n):\n",
        " for j in range(n):\n",
        "  print(\"*\",end=' ')\n",
        " print()"
      ],
      "metadata": {
        "colab": {
          "base_uri": "https://localhost:8080/"
        },
        "id": "oVlQC0MSkHbQ",
        "outputId": "fb09f0ea-b046-4ece-862f-aedacfa83719"
      },
      "execution_count": null,
      "outputs": [
        {
          "output_type": "stream",
          "name": "stdout",
          "text": [
            "* * * * * \n",
            "* * * * * \n",
            "* * * * * \n",
            "* * * * * \n",
            "* * * * * \n"
          ]
        }
      ]
    },
    {
      "cell_type": "code",
      "source": [
        "n=5\n",
        "for i in range(n):\n",
        "  for j in range(i+1):\n",
        "    print(\"*\",end=' ')\n",
        "  print()"
      ],
      "metadata": {
        "colab": {
          "base_uri": "https://localhost:8080/"
        },
        "id": "c4CF8Cfnky_C",
        "outputId": "4a861c52-3404-4740-8119-ebb0f6c33d3b"
      },
      "execution_count": null,
      "outputs": [
        {
          "output_type": "stream",
          "name": "stdout",
          "text": [
            "* \n",
            "* * \n",
            "* * * \n",
            "* * * * \n",
            "* * * * * \n"
          ]
        }
      ]
    },
    {
      "cell_type": "code",
      "source": [
        "n=5\n",
        "for i in range(n):\n",
        "  for j in range(i,n):\n",
        "    print(\"*\",end=' ')\n",
        "  print()"
      ],
      "metadata": {
        "colab": {
          "base_uri": "https://localhost:8080/"
        },
        "id": "FgEGv41ilRMI",
        "outputId": "2beef99e-8361-4d4e-9ff5-87354cf88179"
      },
      "execution_count": null,
      "outputs": [
        {
          "output_type": "stream",
          "name": "stdout",
          "text": [
            "* * * * * \n",
            "* * * * \n",
            "* * * \n",
            "* * \n",
            "* \n"
          ]
        }
      ]
    },
    {
      "cell_type": "code",
      "source": [
        "\n",
        "n = 5\n",
        "for i in range(n):\n",
        "    for j in range(i, n):\n",
        "        print(' ', end=' ')\n",
        "    for j in range(i + 1):\n",
        "        print('*', end=' ')\n",
        "    print()"
      ],
      "metadata": {
        "colab": {
          "base_uri": "https://localhost:8080/"
        },
        "id": "YBA32fzssVE5",
        "outputId": "bc740523-2538-47f3-8b1f-2d6b35671cf4"
      },
      "execution_count": null,
      "outputs": [
        {
          "output_type": "stream",
          "name": "stdout",
          "text": [
            "          * \n",
            "        * * \n",
            "      * * * \n",
            "    * * * * \n",
            "  * * * * * \n"
          ]
        }
      ]
    },
    {
      "cell_type": "code",
      "source": [
        "n=5\n",
        "for i in range(n):\n",
        "  for j in range(i,n):\n",
        "      print(' ',end=' ')\n",
        "  for j in range(i+1):\n",
        "      print('*',end=' ')\n",
        "  print()"
      ],
      "metadata": {
        "colab": {
          "base_uri": "https://localhost:8080/"
        },
        "id": "Y6IFEkRHCUpE",
        "outputId": "1b0791fa-9f74-4e3e-9625-d70eae0f5b03"
      },
      "execution_count": null,
      "outputs": [
        {
          "output_type": "stream",
          "name": "stdout",
          "text": [
            "          * \n",
            "        * * \n",
            "      * * * \n",
            "    * * * * \n",
            "  * * * * * \n"
          ]
        }
      ]
    },
    {
      "cell_type": "code",
      "source": [
        "n=5\n",
        "for i in range(n):\n",
        "  for j in range(i+1):\n",
        "   print(' ',end=' ')\n",
        "  for j in range(i,n):\n",
        "    print(\"*\",end=' ')\n",
        "  print()"
      ],
      "metadata": {
        "colab": {
          "base_uri": "https://localhost:8080/"
        },
        "id": "erki2tQ9oopD",
        "outputId": "b49e14c6-86ba-4ece-9ca3-c90df4c321d0"
      },
      "execution_count": null,
      "outputs": [
        {
          "output_type": "stream",
          "name": "stdout",
          "text": [
            "  * * * * * \n",
            "    * * * * \n",
            "      * * * \n",
            "        * * \n",
            "          * \n"
          ]
        }
      ]
    },
    {
      "cell_type": "code",
      "source": [
        "n=5\n",
        "for i in range(n):\n",
        "  for j in range(i,n):\n",
        "   print(' ',end=' ')\n",
        "  for j in range(i):\n",
        "   print('*',end=' ')\n",
        "  for j in range(i+1):\n",
        "   print('*',end=' ')\n",
        "  print()\n",
        "\n"
      ],
      "metadata": {
        "colab": {
          "base_uri": "https://localhost:8080/"
        },
        "id": "98frk9hLwrK8",
        "outputId": "697d8fd6-15f0-4b57-c53b-55e105fcb1c6"
      },
      "execution_count": null,
      "outputs": [
        {
          "output_type": "stream",
          "name": "stdout",
          "text": [
            "          * \n",
            "        * * * \n",
            "      * * * * * \n",
            "    * * * * * * * \n",
            "  * * * * * * * * * \n"
          ]
        }
      ]
    },
    {
      "cell_type": "code",
      "source": [
        "\n",
        "n = 5\n",
        "for i in range(n):\n",
        "    for j in range(i + 1):\n",
        "        print(' ', end=' ')  # leading spaces\n",
        "    for j in range(i, n - 1):\n",
        "        print('*', end=' ')  # left half of inverted hill\n",
        "    for j in range(i, n):\n",
        "        print('*', end=' ')  # right half of inverted hill\n",
        "    print()"
      ],
      "metadata": {
        "colab": {
          "base_uri": "https://localhost:8080/"
        },
        "id": "Zt-F_BjYzczx",
        "outputId": "d9bc5422-70b3-4726-eaa3-e9535fef8fc0"
      },
      "execution_count": null,
      "outputs": [
        {
          "output_type": "stream",
          "name": "stdout",
          "text": [
            "  * * * * * * * * * \n",
            "    * * * * * * * \n",
            "      * * * * * \n",
            "        * * * \n",
            "          * \n"
          ]
        }
      ]
    },
    {
      "cell_type": "code",
      "source": [
        "n=5\n",
        "for i in range(n-1):\n",
        "  for j in range(i,n):\n",
        "   print(' ',end=' ')\n",
        "  for j in range(i):\n",
        "   print('*',end=' ')\n",
        "  for j in range(i+1):\n",
        "   print('*',end=' ')\n",
        "  print()\n",
        "\n",
        "for i in range(n):\n",
        "    for j in range(i + 1):\n",
        "        print(' ', end=' ')\n",
        "    for j in range(i, n - 1):\n",
        "        print('*', end=' ')\n",
        "    for j in range(i, n):\n",
        "        print('*', end=' ')\n",
        "    print()"
      ],
      "metadata": {
        "colab": {
          "base_uri": "https://localhost:8080/"
        },
        "id": "XU7IUqtu0MSX",
        "outputId": "a26f2d00-8591-484e-c559-4c06f0c6fba1"
      },
      "execution_count": null,
      "outputs": [
        {
          "output_type": "stream",
          "name": "stdout",
          "text": [
            "          * \n",
            "        * * * \n",
            "      * * * * * \n",
            "    * * * * * * * \n",
            "  * * * * * * * * * \n",
            "    * * * * * * * \n",
            "      * * * * * \n",
            "        * * * \n",
            "          * \n"
          ]
        }
      ]
    },
    {
      "cell_type": "code",
      "source": [
        "n=5\n",
        "for i in range(1,n+1):\n",
        "  print((\"*\"*(2*i-1)).center(2* n-1))\n",
        "\n",
        "for j in range(n-1,0,-1):\n",
        "  print((\"*\"*(2*j-1)).center(2*n-1))"
      ],
      "metadata": {
        "colab": {
          "base_uri": "https://localhost:8080/"
        },
        "id": "lXwQFBb2Y7GT",
        "outputId": "79483fa3-400d-454e-ca71-165b74d42059"
      },
      "execution_count": null,
      "outputs": [
        {
          "output_type": "stream",
          "name": "stdout",
          "text": [
            "    *    \n",
            "   ***   \n",
            "  *****  \n",
            " ******* \n",
            "*********\n",
            " ******* \n",
            "  *****  \n",
            "   ***   \n",
            "    *    \n"
          ]
        }
      ]
    },
    {
      "cell_type": "code",
      "source": [
        "n=5\n",
        "for i in range(n):\n",
        "  for j in range(i+1):\n",
        "    print('1',end=' ')\n",
        "  print()\n"
      ],
      "metadata": {
        "colab": {
          "base_uri": "https://localhost:8080/"
        },
        "id": "DnXwV68VlpP1",
        "outputId": "6b320af1-5a72-4f7b-fd63-0da9b17a3c7a"
      },
      "execution_count": null,
      "outputs": [
        {
          "output_type": "stream",
          "name": "stdout",
          "text": [
            "1 \n",
            "1 1 \n",
            "1 1 1 \n",
            "1 1 1 1 \n",
            "1 1 1 1 1 \n"
          ]
        }
      ]
    },
    {
      "cell_type": "code",
      "source": [
        "n=5\n",
        "p=1\n",
        "for i in range(n):\n",
        "  for j in range(i+1):\n",
        "    print(p,end=' ')\n",
        "  p+=1\n",
        "  print()"
      ],
      "metadata": {
        "colab": {
          "base_uri": "https://localhost:8080/"
        },
        "id": "zGFLDtQyl8xW",
        "outputId": "d731abd1-34b5-4403-b9ff-cc616095e8a4"
      },
      "execution_count": null,
      "outputs": [
        {
          "output_type": "stream",
          "name": "stdout",
          "text": [
            "1 \n",
            "2 2 \n",
            "3 3 3 \n",
            "4 4 4 4 \n",
            "5 5 5 5 5 \n"
          ]
        }
      ]
    },
    {
      "cell_type": "code",
      "source": [
        "n=5\n",
        "p=1\n",
        "for i in range(n):\n",
        "  for j in range(i+1):\n",
        "    print(' ',end=' ')\n",
        "  for j in range(i,n):\n",
        "    print(p,end=' ')\n",
        "  p+=1\n",
        "  print()"
      ],
      "metadata": {
        "colab": {
          "base_uri": "https://localhost:8080/"
        },
        "id": "L8_Hu39vqGZL",
        "outputId": "8fa655f7-2516-44bf-8774-94ba3595ab00"
      },
      "execution_count": null,
      "outputs": [
        {
          "output_type": "stream",
          "name": "stdout",
          "text": [
            "  1 1 1 1 1 \n",
            "    2 2 2 2 \n",
            "      3 3 3 \n",
            "        4 4 \n",
            "          5 \n"
          ]
        }
      ]
    },
    {
      "cell_type": "code",
      "source": [],
      "metadata": {
        "id": "IvO1mBjBvpo_"
      },
      "execution_count": null,
      "outputs": []
    },
    {
      "cell_type": "code",
      "source": [
        "n=5\n",
        "p=1\n",
        "for i in range(n):\n",
        " for j in range(i,n):\n",
        "   print(' ',end=' ')\n",
        " for j in range(i):\n",
        "   print(p,end=' ')\n",
        " for j in range(i+1):\n",
        "   print(p,end=' ')\n",
        " p+=1\n",
        " print()"
      ],
      "metadata": {
        "colab": {
          "base_uri": "https://localhost:8080/"
        },
        "id": "L-eAuqCQujc4",
        "outputId": "53cf3825-b2b4-42a7-b2c0-bd6517812e84"
      },
      "execution_count": null,
      "outputs": [
        {
          "output_type": "stream",
          "name": "stdout",
          "text": [
            "          1 \n",
            "        2 2 2 \n",
            "      3 3 3 3 3 \n",
            "    4 4 4 4 4 4 4 \n",
            "  5 5 5 5 5 5 5 5 5 \n"
          ]
        }
      ]
    },
    {
      "cell_type": "code",
      "source": [
        "n=5\n",
        "p=5\n",
        "for i in range(n):\n",
        "  for j in range(i,n):\n",
        "    print(p,end=' ')\n",
        "  p-=1\n",
        "  print()"
      ],
      "metadata": {
        "colab": {
          "base_uri": "https://localhost:8080/"
        },
        "id": "p97rJRg3o4KG",
        "outputId": "1a3501a5-043b-435a-da42-f1edba8328f5"
      },
      "execution_count": null,
      "outputs": [
        {
          "output_type": "stream",
          "name": "stdout",
          "text": [
            "5 5 5 5 5 \n",
            "4 4 4 4 \n",
            "3 3 3 \n",
            "2 2 \n",
            "1 \n"
          ]
        }
      ]
    },
    {
      "cell_type": "code",
      "source": [
        "n=5\n",
        "p=0\n",
        "for i in range(n):\n",
        "  for j in range(i+1):\n",
        "    print(p,end=' ')\n",
        "  p+=2\n",
        "  print()"
      ],
      "metadata": {
        "colab": {
          "base_uri": "https://localhost:8080/"
        },
        "id": "YghwmJhav7LJ",
        "outputId": "92c77a8c-f7a1-44cc-d840-41bdb12e1c49"
      },
      "execution_count": null,
      "outputs": [
        {
          "output_type": "stream",
          "name": "stdout",
          "text": [
            "0 \n",
            "2 2 \n",
            "4 4 4 \n",
            "6 6 6 6 \n",
            "8 8 8 8 8 \n"
          ]
        }
      ]
    },
    {
      "cell_type": "code",
      "source": [
        "n=5\n",
        "for i in range(n):\n",
        "  for j in range(i+1):\n",
        "    if(i%2==0):\n",
        "       print('1',end=' ')\n",
        "    else:\n",
        "      print('2',end=' ')\n",
        "  print()"
      ],
      "metadata": {
        "colab": {
          "base_uri": "https://localhost:8080/"
        },
        "id": "JDkcmDUxvsFK",
        "outputId": "16e19d5a-2f9d-4178-ac03-79379ded0557"
      },
      "execution_count": null,
      "outputs": [
        {
          "output_type": "stream",
          "name": "stdout",
          "text": [
            "1 \n",
            "2 2 \n",
            "1 1 1 \n",
            "2 2 2 2 \n",
            "1 1 1 1 1 \n"
          ]
        }
      ]
    },
    {
      "cell_type": "code",
      "source": [
        "Text=''' The password for entry is XyZ@2024#—don’t forget the ‘@’ or you’re locked out! Meanwhile, user_47$ is still trying to crack the code (good luck with that!). Remember: 99% of security breaches happen due to weak P@$$w0rds!\"\n",
        "'''"
      ],
      "metadata": {
        "id": "MPM-o9J0cuXf"
      },
      "execution_count": null,
      "outputs": []
    },
    {
      "cell_type": "code",
      "source": [
        "for i in Text.split():\n",
        "  if i.isalnum()==True:\n",
        "    print(i,end=',')"
      ],
      "metadata": {
        "colab": {
          "base_uri": "https://localhost:8080/"
        },
        "id": "xTLouShLd9a6",
        "outputId": "508e6933-f607-4fc8-f5b3-3aab4167d575"
      },
      "execution_count": null,
      "outputs": [
        {
          "output_type": "stream",
          "name": "stdout",
          "text": [
            "The,password,for,entry,is,forget,the,or,locked,is,still,trying,to,crack,the,code,luck,with,of,security,breaches,happen,due,to,weak,"
          ]
        }
      ]
    },
    {
      "cell_type": "code",
      "source": [
        "X=0\n",
        "for i in Text:\n",
        "    if i .isupper():\n",
        "      X=X+1"
      ],
      "metadata": {
        "id": "RJxvh-iRfVRV"
      },
      "execution_count": null,
      "outputs": []
    },
    {
      "cell_type": "markdown",
      "source": [
        "2. while Loops\n",
        "A while loop repeats a block of code as long as a specified condition is true"
      ],
      "metadata": {
        "id": "MlLSUvN278c5"
      }
    },
    {
      "cell_type": "code",
      "source": [
        "count=1\n",
        "while count<=30:\n",
        "  print(count)\n",
        "  count +=2"
      ],
      "metadata": {
        "colab": {
          "base_uri": "https://localhost:8080/"
        },
        "id": "6VM5owuxu0K4",
        "outputId": "20b5cda0-8d76-45ef-8feb-c40c479fd691"
      },
      "execution_count": null,
      "outputs": [
        {
          "output_type": "stream",
          "name": "stdout",
          "text": [
            "1\n",
            "3\n",
            "5\n",
            "7\n",
            "9\n",
            "11\n",
            "13\n",
            "15\n",
            "17\n",
            "19\n",
            "21\n",
            "23\n",
            "25\n",
            "27\n",
            "29\n"
          ]
        }
      ]
    },
    {
      "cell_type": "code",
      "source": [],
      "metadata": {
        "id": "wTeGrtS779wO"
      },
      "execution_count": null,
      "outputs": []
    },
    {
      "cell_type": "code",
      "source": [
        "a = 1\n",
        "while a<10:\n",
        "  if(a%2==0):\n",
        "      print(a ,\"is even number\")\n",
        "  else:\n",
        "      print(a ,\"is odd number\")\n",
        "  a+=1"
      ],
      "metadata": {
        "colab": {
          "base_uri": "https://localhost:8080/"
        },
        "id": "yRFkW9Iow-Ld",
        "outputId": "e6167d46-3ab0-440f-9a8d-d37f1e1ee28e"
      },
      "execution_count": null,
      "outputs": [
        {
          "output_type": "stream",
          "name": "stdout",
          "text": [
            "1 is odd number\n",
            "2 is even number\n",
            "3 is odd number\n",
            "4 is even number\n",
            "5 is odd number\n",
            "6 is even number\n",
            "7 is odd number\n",
            "8 is even number\n",
            "9 is odd number\n"
          ]
        }
      ]
    },
    {
      "cell_type": "code",
      "source": [
        "X=2\n",
        "counter=1\n",
        "while X<5:\n",
        "  print(\"Interation\",counter,X)\n",
        "  counter=counter+1\n",
        "  X=X+1\n"
      ],
      "metadata": {
        "colab": {
          "base_uri": "https://localhost:8080/"
        },
        "id": "1tcMFxowe73g",
        "outputId": "ba110bc5-7a42-479f-b125-f4159d3353f5"
      },
      "execution_count": null,
      "outputs": [
        {
          "output_type": "stream",
          "name": "stdout",
          "text": [
            "Interation 1 2\n",
            "Interation 2 3\n",
            "Interation 3 4\n"
          ]
        }
      ]
    },
    {
      "cell_type": "markdown",
      "source": [
        "Break"
      ],
      "metadata": {
        "id": "WJ6VoCvosEgQ"
      }
    },
    {
      "cell_type": "code",
      "source": [
        "for i in range(1,100):\n",
        " if i==10:\n",
        "   print(i)\n",
        "   break"
      ],
      "metadata": {
        "colab": {
          "base_uri": "https://localhost:8080/"
        },
        "id": "SX8lD0N2lV7A",
        "outputId": "a29c5a55-cc96-448e-da46-045e1ec0c9df"
      },
      "execution_count": null,
      "outputs": [
        {
          "output_type": "stream",
          "name": "stdout",
          "text": [
            "10\n"
          ]
        }
      ]
    },
    {
      "cell_type": "code",
      "source": [
        "for i in range(1,100):\n",
        " if i==10:\n",
        "    break\n",
        " print(i)"
      ],
      "metadata": {
        "colab": {
          "base_uri": "https://localhost:8080/"
        },
        "id": "K6TpbkyHsIDN",
        "outputId": "e7174beb-6974-46a9-f8e8-2814ad7bd885"
      },
      "execution_count": null,
      "outputs": [
        {
          "output_type": "stream",
          "name": "stdout",
          "text": [
            "1\n",
            "2\n",
            "3\n",
            "4\n",
            "5\n",
            "6\n",
            "7\n",
            "8\n",
            "9\n"
          ]
        }
      ]
    },
    {
      "cell_type": "code",
      "source": [
        "for i in range(1,100):\n",
        "  print(i)\n",
        "  if i==10:\n",
        "    break"
      ],
      "metadata": {
        "colab": {
          "base_uri": "https://localhost:8080/"
        },
        "id": "LB9NahPEsog6",
        "outputId": "0e692d51-396e-4cc8-ea33-5051a74a7bdb"
      },
      "execution_count": null,
      "outputs": [
        {
          "output_type": "stream",
          "name": "stdout",
          "text": [
            "1\n",
            "2\n",
            "3\n",
            "4\n",
            "5\n",
            "6\n",
            "7\n",
            "8\n",
            "9\n",
            "10\n"
          ]
        }
      ]
    },
    {
      "cell_type": "markdown",
      "source": [
        "Continue"
      ],
      "metadata": {
        "id": "ZB_HvCuutIjA"
      }
    },
    {
      "cell_type": "code",
      "source": [
        "for i in range(1,6):\n",
        "  for j in range(1,6):\n",
        "    print(i,j)\n",
        "    if j==3:\n",
        "     break"
      ],
      "metadata": {
        "colab": {
          "base_uri": "https://localhost:8080/"
        },
        "id": "KXmY_pMFydmW",
        "outputId": "9a43bc2c-07db-4ab8-b899-789f834c3d2a"
      },
      "execution_count": null,
      "outputs": [
        {
          "output_type": "stream",
          "name": "stdout",
          "text": [
            "1 1\n",
            "1 2\n",
            "1 3\n",
            "2 1\n",
            "2 2\n",
            "2 3\n",
            "3 1\n",
            "3 2\n",
            "3 3\n",
            "4 1\n",
            "4 2\n",
            "4 3\n",
            "5 1\n",
            "5 2\n",
            "5 3\n"
          ]
        }
      ]
    },
    {
      "cell_type": "code",
      "source": [
        "for i in range(0,10):\n",
        " if i==5:\n",
        "   continue\n",
        " print(i,end=\",\")"
      ],
      "metadata": {
        "colab": {
          "base_uri": "https://localhost:8080/"
        },
        "id": "UY2MrivzlpA-",
        "outputId": "acc9efba-3443-4be5-b973-47ee61cac95f"
      },
      "execution_count": null,
      "outputs": [
        {
          "output_type": "stream",
          "name": "stdout",
          "text": [
            "0,1,2,3,4,6,7,8,9,"
          ]
        }
      ]
    },
    {
      "cell_type": "code",
      "source": [
        "for i in range(10):\n",
        "  if i % 2==1:\n",
        "    continue\n",
        "  print(i,end=\" \")"
      ],
      "metadata": {
        "colab": {
          "base_uri": "https://localhost:8080/"
        },
        "id": "FrI1aDBsm9a2",
        "outputId": "07155420-f2fb-4d93-fb59-2d02cc0e3711"
      },
      "execution_count": null,
      "outputs": [
        {
          "output_type": "stream",
          "name": "stdout",
          "text": [
            "0 2 4 6 8 "
          ]
        }
      ]
    },
    {
      "cell_type": "code",
      "source": [
        "for i in range(0,10):\n",
        "  if i<5:\n",
        "    continue\n",
        "    print(i,end=',')\n",
        "  else:\n",
        "    print(i,end=',')"
      ],
      "metadata": {
        "colab": {
          "base_uri": "https://localhost:8080/"
        },
        "id": "vh8_Wt50tdu3",
        "outputId": "7c25f6a2-256f-45d2-e5a5-b4e82a608541"
      },
      "execution_count": null,
      "outputs": [
        {
          "output_type": "stream",
          "name": "stdout",
          "text": [
            "5,6,7,8,9,"
          ]
        }
      ]
    },
    {
      "cell_type": "code",
      "source": [
        "for i in range(1,6):\n",
        "   for j in range(1,6):\n",
        "     if j==3:\n",
        "      continue\n",
        "     print(i,j)"
      ],
      "metadata": {
        "colab": {
          "base_uri": "https://localhost:8080/"
        },
        "id": "9kfCv6EkuVoM",
        "outputId": "cf826849-8168-4800-8547-dc16a28f4c1a"
      },
      "execution_count": null,
      "outputs": [
        {
          "output_type": "stream",
          "name": "stdout",
          "text": [
            "1 1\n",
            "1 2\n",
            "1 4\n",
            "1 5\n",
            "2 1\n",
            "2 2\n",
            "2 4\n",
            "2 5\n",
            "3 1\n",
            "3 2\n",
            "3 4\n",
            "3 5\n",
            "4 1\n",
            "4 2\n",
            "4 4\n",
            "4 5\n",
            "5 1\n",
            "5 2\n",
            "5 4\n",
            "5 5\n"
          ]
        }
      ]
    },
    {
      "cell_type": "code",
      "source": [
        "for i in range(1,6):\n",
        "  for j in range(i):\n",
        "    print(i,end=' ')\n",
        "  print()"
      ],
      "metadata": {
        "colab": {
          "base_uri": "https://localhost:8080/"
        },
        "id": "pJFLOlir3_o7",
        "outputId": "4073ca7b-6d8d-4492-e53a-e52aa6c24afd"
      },
      "execution_count": null,
      "outputs": [
        {
          "output_type": "stream",
          "name": "stdout",
          "text": [
            "1 \n",
            "2 2 \n",
            "3 3 3 \n",
            "4 4 4 4 \n",
            "5 5 5 5 5 \n"
          ]
        }
      ]
    },
    {
      "cell_type": "markdown",
      "source": [
        "in Python functions are a fundamental concept that allows you to group a set of statements so you can run them multiple times throughout your code. Functions help make your code modular, reusable, and organized. Let's dive into the details of functions in Python and break down every aspect of them.\n",
        "\n",
        "Defining a Function\n",
        "A function is defined using the def keyword, followed by the function name, parentheses (), and a colon :. The body of the function contains the code that executes when the function is called."
      ],
      "metadata": {
        "id": "RkzaBwZu6W0t"
      }
    },
    {
      "cell_type": "code",
      "source": [
        "def greet():\n",
        "  print(\"Hello world\")"
      ],
      "metadata": {
        "id": "9MuxBein6yjf"
      },
      "execution_count": null,
      "outputs": []
    },
    {
      "cell_type": "code",
      "source": [
        "greet();"
      ],
      "metadata": {
        "colab": {
          "base_uri": "https://localhost:8080/"
        },
        "id": "lAmLm3Tj6yIe",
        "outputId": "0bff9ddc-ad7d-46e4-e49f-61cc918b44c7"
      },
      "execution_count": null,
      "outputs": [
        {
          "output_type": "stream",
          "name": "stdout",
          "text": [
            "Hello world\n"
          ]
        }
      ]
    },
    {
      "cell_type": "code",
      "source": [
        "def greet(arg):\n",
        "  print(f\"Good morning,{arg}\")\n",
        "greet(\"Students\")"
      ],
      "metadata": {
        "colab": {
          "base_uri": "https://localhost:8080/"
        },
        "id": "MQa7FOWb6xzn",
        "outputId": "3328241b-8558-4f53-b969-29497bd45400"
      },
      "execution_count": null,
      "outputs": [
        {
          "output_type": "stream",
          "name": "stdout",
          "text": [
            "Good morning,Students\n"
          ]
        }
      ]
    },
    {
      "cell_type": "code",
      "source": [
        "def multiply(a,b):\n",
        "  return a*b\n",
        "result=multiply(3,5)\n",
        "print(result)"
      ],
      "metadata": {
        "colab": {
          "base_uri": "https://localhost:8080/"
        },
        "id": "oxZP1LHs9elg",
        "outputId": "c5e8decf-73c3-4d86-9459-6620c2192fac"
      },
      "execution_count": null,
      "outputs": [
        {
          "output_type": "stream",
          "name": "stdout",
          "text": [
            "15\n"
          ]
        }
      ]
    },
    {
      "cell_type": "code",
      "source": [
        "def division(a,b):\n",
        "   return a/b\n",
        "result=division(3,5)\n",
        "print(result)"
      ],
      "metadata": {
        "colab": {
          "base_uri": "https://localhost:8080/"
        },
        "id": "cWN4H2Ev6WXS",
        "outputId": "5c7806f2-8d3e-436d-b542-15cf297fbe19"
      },
      "execution_count": null,
      "outputs": [
        {
          "output_type": "stream",
          "name": "stdout",
          "text": [
            "0.6\n"
          ]
        }
      ]
    },
    {
      "cell_type": "code",
      "source": [
        "def add(a,b):\n",
        "  return a+b\n",
        "def sub(m,n):\n",
        "  return m-n\n",
        "def div(g,f):\n",
        "  return g/f\n",
        "result=add(5,10)\n",
        "print(result)\n",
        "result=sub(5,10)\n",
        "print(result)\n",
        "result=div(5,10)\n",
        "print(result)"
      ],
      "metadata": {
        "colab": {
          "base_uri": "https://localhost:8080/"
        },
        "id": "91oLMQZy-hpO",
        "outputId": "eb425bca-74b4-4086-ae35-0c8934aacc4e"
      },
      "execution_count": null,
      "outputs": [
        {
          "output_type": "stream",
          "name": "stdout",
          "text": [
            "15\n",
            "-5\n",
            "0.5\n"
          ]
        }
      ]
    },
    {
      "cell_type": "markdown",
      "source": [
        "Arbitrary arguements -----To assign many numbers"
      ],
      "metadata": {
        "id": "umBNhDNl7GJH"
      }
    },
    {
      "cell_type": "code",
      "source": [
        "def add(*args):\n",
        "  return sum(args)\n",
        "print(add(2,3,4,5))\n",
        "print(add(3,4,6,7))"
      ],
      "metadata": {
        "colab": {
          "base_uri": "https://localhost:8080/"
        },
        "id": "zLUWDGOa256J",
        "outputId": "dfc0b1a5-57eb-49fd-f801-5711cb37de5a"
      },
      "execution_count": null,
      "outputs": [
        {
          "output_type": "stream",
          "name": "stdout",
          "text": [
            "14\n",
            "20\n"
          ]
        }
      ]
    },
    {
      "cell_type": "code",
      "source": [
        "def average(*args):\n",
        "  return mean(args)\n",
        "print(average(2,3,4,5))\n",
        "print(average(3,4,6,7,6))\n"
      ],
      "metadata": {
        "colab": {
          "base_uri": "https://localhost:8080/",
          "height": 297
        },
        "id": "ZX03S7HA7y6L",
        "outputId": "591337a9-9050-4e11-e3a5-7e72ac5c4d77"
      },
      "execution_count": null,
      "outputs": [
        {
          "output_type": "error",
          "ename": "NameError",
          "evalue": "name 'mean' is not defined",
          "traceback": [
            "\u001b[0;31m---------------------------------------------------------------------------\u001b[0m",
            "\u001b[0;31mNameError\u001b[0m                                 Traceback (most recent call last)",
            "\u001b[0;32m<ipython-input-5-f8e965cdf4f7>\u001b[0m in \u001b[0;36m<cell line: 0>\u001b[0;34m()\u001b[0m\n\u001b[1;32m      1\u001b[0m \u001b[0;32mdef\u001b[0m \u001b[0maverage\u001b[0m\u001b[0;34m(\u001b[0m\u001b[0;34m*\u001b[0m\u001b[0margs\u001b[0m\u001b[0;34m)\u001b[0m\u001b[0;34m:\u001b[0m\u001b[0;34m\u001b[0m\u001b[0;34m\u001b[0m\u001b[0m\n\u001b[1;32m      2\u001b[0m   \u001b[0;32mreturn\u001b[0m \u001b[0mmean\u001b[0m\u001b[0;34m(\u001b[0m\u001b[0margs\u001b[0m\u001b[0;34m)\u001b[0m\u001b[0;34m\u001b[0m\u001b[0;34m\u001b[0m\u001b[0m\n\u001b[0;32m----> 3\u001b[0;31m \u001b[0mprint\u001b[0m\u001b[0;34m(\u001b[0m\u001b[0maverage\u001b[0m\u001b[0;34m(\u001b[0m\u001b[0;36m2\u001b[0m\u001b[0;34m,\u001b[0m\u001b[0;36m3\u001b[0m\u001b[0;34m,\u001b[0m\u001b[0;36m4\u001b[0m\u001b[0;34m,\u001b[0m\u001b[0;36m5\u001b[0m\u001b[0;34m)\u001b[0m\u001b[0;34m)\u001b[0m\u001b[0;34m\u001b[0m\u001b[0;34m\u001b[0m\u001b[0m\n\u001b[0m\u001b[1;32m      4\u001b[0m \u001b[0mprint\u001b[0m\u001b[0;34m(\u001b[0m\u001b[0maverage\u001b[0m\u001b[0;34m(\u001b[0m\u001b[0;36m3\u001b[0m\u001b[0;34m,\u001b[0m\u001b[0;36m4\u001b[0m\u001b[0;34m,\u001b[0m\u001b[0;36m6\u001b[0m\u001b[0;34m,\u001b[0m\u001b[0;36m7\u001b[0m\u001b[0;34m,\u001b[0m\u001b[0;36m6\u001b[0m\u001b[0;34m)\u001b[0m\u001b[0;34m)\u001b[0m\u001b[0;34m\u001b[0m\u001b[0;34m\u001b[0m\u001b[0m\n",
            "\u001b[0;32m<ipython-input-5-f8e965cdf4f7>\u001b[0m in \u001b[0;36maverage\u001b[0;34m(*args)\u001b[0m\n\u001b[1;32m      1\u001b[0m \u001b[0;32mdef\u001b[0m \u001b[0maverage\u001b[0m\u001b[0;34m(\u001b[0m\u001b[0;34m*\u001b[0m\u001b[0margs\u001b[0m\u001b[0;34m)\u001b[0m\u001b[0;34m:\u001b[0m\u001b[0;34m\u001b[0m\u001b[0;34m\u001b[0m\u001b[0m\n\u001b[0;32m----> 2\u001b[0;31m   \u001b[0;32mreturn\u001b[0m \u001b[0mmean\u001b[0m\u001b[0;34m(\u001b[0m\u001b[0margs\u001b[0m\u001b[0;34m)\u001b[0m\u001b[0;34m\u001b[0m\u001b[0;34m\u001b[0m\u001b[0m\n\u001b[0m\u001b[1;32m      3\u001b[0m \u001b[0mprint\u001b[0m\u001b[0;34m(\u001b[0m\u001b[0maverage\u001b[0m\u001b[0;34m(\u001b[0m\u001b[0;36m2\u001b[0m\u001b[0;34m,\u001b[0m\u001b[0;36m3\u001b[0m\u001b[0;34m,\u001b[0m\u001b[0;36m4\u001b[0m\u001b[0;34m,\u001b[0m\u001b[0;36m5\u001b[0m\u001b[0;34m)\u001b[0m\u001b[0;34m)\u001b[0m\u001b[0;34m\u001b[0m\u001b[0;34m\u001b[0m\u001b[0m\n\u001b[1;32m      4\u001b[0m \u001b[0mprint\u001b[0m\u001b[0;34m(\u001b[0m\u001b[0maverage\u001b[0m\u001b[0;34m(\u001b[0m\u001b[0;36m3\u001b[0m\u001b[0;34m,\u001b[0m\u001b[0;36m4\u001b[0m\u001b[0;34m,\u001b[0m\u001b[0;36m6\u001b[0m\u001b[0;34m,\u001b[0m\u001b[0;36m7\u001b[0m\u001b[0;34m,\u001b[0m\u001b[0;36m6\u001b[0m\u001b[0;34m)\u001b[0m\u001b[0;34m)\u001b[0m\u001b[0;34m\u001b[0m\u001b[0;34m\u001b[0m\u001b[0m\n",
            "\u001b[0;31mNameError\u001b[0m: name 'mean' is not defined"
          ]
        }
      ]
    },
    {
      "cell_type": "markdown",
      "source": [
        "**Kwargs-----to assign keywords"
      ],
      "metadata": {
        "id": "eC1lebEM88cF"
      }
    },
    {
      "cell_type": "code",
      "source": [
        "def print_details(**kwargs):\n",
        "  for key,value in kwargs.items():\n",
        "    print(f\"{key}:{value}\")\n",
        "print_details(name=\"Alice\",age=25,city=\"New York\")"
      ],
      "metadata": {
        "colab": {
          "base_uri": "https://localhost:8080/"
        },
        "id": "yGJW8uA-8w9R",
        "outputId": "e6aebdbe-81d9-42cb-ceee-e04370622cea"
      },
      "execution_count": null,
      "outputs": [
        {
          "output_type": "stream",
          "name": "stdout",
          "text": [
            "name:Alice\n",
            "age:25\n",
            "city:New York\n"
          ]
        }
      ]
    },
    {
      "cell_type": "markdown",
      "source": [
        "Lambda function"
      ],
      "metadata": {
        "id": "qkbrqxL-9Mn8"
      }
    },
    {
      "cell_type": "code",
      "source": [
        "add=lambda a,b:a+b\n",
        "print(add(2,3))"
      ],
      "metadata": {
        "colab": {
          "base_uri": "https://localhost:8080/"
        },
        "id": "XVBJRjUq9P9Y",
        "outputId": "19d536a9-9cfa-45ba-fcaa-0e7eed9e7720"
      },
      "execution_count": null,
      "outputs": [
        {
          "output_type": "stream",
          "name": "stdout",
          "text": [
            "5\n"
          ]
        }
      ]
    },
    {
      "cell_type": "code",
      "source": [
        "subtraction=lambda a,b:a-b\n",
        "print(subtraction(2,3))"
      ],
      "metadata": {
        "colab": {
          "base_uri": "https://localhost:8080/"
        },
        "id": "0r1uV4QH967j",
        "outputId": "c6fbc964-bc36-415b-b289-4ec0c6657e1e"
      },
      "execution_count": null,
      "outputs": [
        {
          "output_type": "stream",
          "name": "stdout",
          "text": [
            "-1\n"
          ]
        }
      ]
    },
    {
      "cell_type": "code",
      "source": [
        "#crate a function to find square of a number\n",
        "square = lambda x:x*x\n",
        "print(square(2))"
      ],
      "metadata": {
        "colab": {
          "base_uri": "https://localhost:8080/"
        },
        "id": "uBtkubyM-V71",
        "outputId": "e418ed30-5075-46c5-8ad3-67c386d8bc19"
      },
      "execution_count": null,
      "outputs": [
        {
          "output_type": "stream",
          "name": "stdout",
          "text": [
            "4\n"
          ]
        }
      ]
    },
    {
      "cell_type": "code",
      "source": [
        "cube=lambda x: x*x*x\n",
        "print(cube(5))"
      ],
      "metadata": {
        "colab": {
          "base_uri": "https://localhost:8080/"
        },
        "id": "p0KMGwQQ-1ey",
        "outputId": "f132479a-0870-4196-bb05-0c75332bc106"
      },
      "execution_count": null,
      "outputs": [
        {
          "output_type": "stream",
          "name": "stdout",
          "text": [
            "125\n"
          ]
        }
      ]
    },
    {
      "cell_type": "markdown",
      "source": [
        "Python Arrays"
      ],
      "metadata": {
        "id": "U3YYWNYv_PMj"
      }
    },
    {
      "cell_type": "code",
      "source": [
        "# B--intgers ranges b/w 0 to 255\n",
        "import array as arr\n",
        "a=arr.array('B',[1,25,3,4,56,7])\n",
        "print(a)"
      ],
      "metadata": {
        "id": "-MwOTylP_DXS",
        "colab": {
          "base_uri": "https://localhost:8080/"
        },
        "outputId": "e03fd9ec-c856-4c0d-8ffa-0ab02f7a464c"
      },
      "execution_count": null,
      "outputs": [
        {
          "output_type": "stream",
          "name": "stdout",
          "text": [
            "array('B', [1, 25, 3, 4, 56, 7])\n"
          ]
        }
      ]
    },
    {
      "cell_type": "code",
      "source": [
        "#u----single char\n",
        "import array as arr\n",
        "b=arr.array('u',['H','T','U'])\n",
        "print(b)"
      ],
      "metadata": {
        "colab": {
          "base_uri": "https://localhost:8080/"
        },
        "id": "hjZrElO1A-bl",
        "outputId": "0ec17357-717c-4526-fab6-0119c8d3f0ed"
      },
      "execution_count": null,
      "outputs": [
        {
          "output_type": "stream",
          "name": "stdout",
          "text": [
            "array('u', 'HTU')\n"
          ]
        }
      ]
    },
    {
      "cell_type": "code",
      "source": [
        "import array as arr\n",
        "x=arr.array('i',[1,2,3,4,5,6])\n",
        "print(x)\n",
        "x.append(8)\n",
        "print(x)"
      ],
      "metadata": {
        "colab": {
          "base_uri": "https://localhost:8080/"
        },
        "id": "3YJmqBf6Brvi",
        "outputId": "06b221b3-743c-497d-ec1e-b31cea6be1b8"
      },
      "execution_count": null,
      "outputs": [
        {
          "output_type": "stream",
          "name": "stdout",
          "text": [
            "array('i', [1, 2, 3, 4, 5, 6])\n",
            "array('i', [1, 2, 3, 4, 5, 6, 8])\n"
          ]
        }
      ]
    },
    {
      "cell_type": "code",
      "source": [
        "x.extend([12,14,16])\n",
        "print(x)"
      ],
      "metadata": {
        "colab": {
          "base_uri": "https://localhost:8080/"
        },
        "id": "KI7aoh6SCGOX",
        "outputId": "34712bd9-2da9-44f6-c71b-c0265c577e19"
      },
      "execution_count": null,
      "outputs": [
        {
          "output_type": "stream",
          "name": "stdout",
          "text": [
            "array('i', [1, 2, 3, 4, 5, 6, 8, 12, 14, 16])\n"
          ]
        }
      ]
    },
    {
      "cell_type": "code",
      "source": [
        "# it inserts values in a specified position ex (4,24) 4 represents 4th position and 24 represents value to be inserted\n",
        "x.insert(4,5)\n",
        "print(x)"
      ],
      "metadata": {
        "colab": {
          "base_uri": "https://localhost:8080/"
        },
        "id": "4U8yBPceCGK8",
        "outputId": "697f0993-7e71-434c-aefa-7fb1d68541fe"
      },
      "execution_count": null,
      "outputs": [
        {
          "output_type": "stream",
          "name": "stdout",
          "text": [
            "array('i', [1, 2, 3, 4, 5, 5, 6, 8])\n"
          ]
        }
      ]
    },
    {
      "cell_type": "code",
      "source": [
        "# removes the value in the specified position(removes based on index)\n",
        "x.pop(2)\n",
        "print(x)"
      ],
      "metadata": {
        "colab": {
          "base_uri": "https://localhost:8080/"
        },
        "id": "gaH4XMxnDLA_",
        "outputId": "12846d41-9ae9-4fc7-e63f-420a1be60eb6"
      },
      "execution_count": null,
      "outputs": [
        {
          "output_type": "stream",
          "name": "stdout",
          "text": [
            "array('i', [1, 2, 24, 6, 8, 12, 14, 16])\n"
          ]
        }
      ]
    },
    {
      "cell_type": "code",
      "source": [
        "#removes first occurance of the element(removes based on occurance\n",
        "x.remove(8)\n",
        "print(x)\n"
      ],
      "metadata": {
        "colab": {
          "base_uri": "https://localhost:8080/"
        },
        "id": "8PgXicAPDbkf",
        "outputId": "6abc3976-73c3-43af-f84d-973805c1fcde"
      },
      "execution_count": null,
      "outputs": [
        {
          "output_type": "stream",
          "name": "stdout",
          "text": [
            "array('i', [1, 2, 24, 6, 12, 14, 16])\n"
          ]
        }
      ]
    },
    {
      "cell_type": "code",
      "source": [
        "#removes sec occurance of the values\n",
        "def remove_sec_occurance(array,value):\n",
        "     count=0\n",
        "     for elements in range(len(array)):\n",
        "       if array[elements]==value:\n",
        "         count+=1\n",
        "         if count==2:\n",
        "            array.pop(elements)\n",
        "            break\n",
        "remove_sec_occurance(x,5)\n",
        "print(x)\n"
      ],
      "metadata": {
        "id": "ba3R5I1iEI3s",
        "colab": {
          "base_uri": "https://localhost:8080/"
        },
        "outputId": "e4bf05f8-43c7-426a-d1aa-5b57a7c6b31b"
      },
      "execution_count": null,
      "outputs": [
        {
          "output_type": "stream",
          "name": "stdout",
          "text": [
            "array('i', [1, 2, 3, 4, 5, 6, 8])\n"
          ]
        }
      ]
    },
    {
      "cell_type": "code",
      "source": [
        "def remove_occurance(array,value):\n",
        "  count=0\n",
        "  for elements in range(len(array)):\n",
        "    if array[elements]==value:\n",
        "      count+=1\n",
        "      if count==2:\n",
        "        array.pop(elements)\n",
        "        break"
      ],
      "metadata": {
        "id": "8v_d2ANTgJo0"
      },
      "execution_count": null,
      "outputs": []
    },
    {
      "cell_type": "code",
      "source": [
        "x.count(1)"
      ],
      "metadata": {
        "colab": {
          "base_uri": "https://localhost:8080/"
        },
        "id": "FtKaFV4kGnKw",
        "outputId": "16713e45-5b92-48d1-f42e-7e1b20a7d8a3"
      },
      "execution_count": null,
      "outputs": [
        {
          "output_type": "execute_result",
          "data": {
            "text/plain": [
              "1"
            ]
          },
          "metadata": {},
          "execution_count": 29
        }
      ]
    },
    {
      "cell_type": "code",
      "source": [
        "print(\"original array:\",x)\n",
        "x.reverse()\n",
        "print(\"Reversed array:\",x)"
      ],
      "metadata": {
        "colab": {
          "base_uri": "https://localhost:8080/"
        },
        "id": "S4JhxPAUG7wI",
        "outputId": "cd84fff6-a7e6-4622-d588-a815b4d5b0f4"
      },
      "execution_count": null,
      "outputs": [
        {
          "output_type": "stream",
          "name": "stdout",
          "text": [
            "original array: array('i', [1, 2, 24, 6, 12, 14, 16])\n",
            "Reversed array: array('i', [16, 14, 12, 6, 24, 2, 1])\n"
          ]
        }
      ]
    },
    {
      "cell_type": "code",
      "source": [
        "#buffer_info----memory address of elements\n",
        "x.buffer_info()"
      ],
      "metadata": {
        "colab": {
          "base_uri": "https://localhost:8080/"
        },
        "id": "ovx0CPC_HcME",
        "outputId": "154454ba-eb6d-4a84-8fbd-ef485112884f"
      },
      "execution_count": null,
      "outputs": [
        {
          "output_type": "execute_result",
          "data": {
            "text/plain": [
              "(135819769070016, 7)"
            ]
          },
          "metadata": {},
          "execution_count": 31
        }
      ]
    },
    {
      "cell_type": "code",
      "source": [
        "print(x.tolist())"
      ],
      "metadata": {
        "colab": {
          "base_uri": "https://localhost:8080/"
        },
        "id": "xPEJltaoH2zD",
        "outputId": "9e426d06-39f8-4bac-d0ed-d90055aba769"
      },
      "execution_count": null,
      "outputs": [
        {
          "output_type": "stream",
          "name": "stdout",
          "text": [
            "[16, 14, 12, 6, 24, 2, 1]\n"
          ]
        }
      ]
    },
    {
      "cell_type": "markdown",
      "source": [
        "NumPy (Numerical Python)\n",
        "is a powerful library for numerical computations in Python.\n",
        "It provides support for arrays, matrices, and\n",
        "many mathematical functions to operate on these data structures."
      ],
      "metadata": {
        "id": "PMOp9s4RESUK"
      }
    },
    {
      "cell_type": "code",
      "source": [
        "import numpy as np\n",
        "np.random.randint(0,10,6)"
      ],
      "metadata": {
        "colab": {
          "base_uri": "https://localhost:8080/"
        },
        "id": "WgMR3IUM4Ymb",
        "outputId": "2423eccc-2755-49d6-88a9-c58a59a3956b"
      },
      "execution_count": null,
      "outputs": [
        {
          "output_type": "execute_result",
          "data": {
            "text/plain": [
              "array([7, 2, 0, 8, 0, 6])"
            ]
          },
          "metadata": {},
          "execution_count": 1
        }
      ]
    },
    {
      "cell_type": "code",
      "source": [
        "import numpy as np\n",
        "x=np.array([2,3,4,5])\n",
        "print(x/2)"
      ],
      "metadata": {
        "colab": {
          "base_uri": "https://localhost:8080/"
        },
        "id": "WVgNxdZA5EW8",
        "outputId": "2514ccfd-c21b-4299-af8b-88178c9182e7"
      },
      "execution_count": null,
      "outputs": [
        {
          "output_type": "stream",
          "name": "stdout",
          "text": [
            "[1.  1.5 2.  2.5]\n"
          ]
        }
      ]
    },
    {
      "cell_type": "code",
      "source": [
        "array=np.random.randint(0,10,(3,3))"
      ],
      "metadata": {
        "id": "9KhFkQjMCrDh"
      },
      "execution_count": null,
      "outputs": []
    },
    {
      "cell_type": "code",
      "source": [
        "array"
      ],
      "metadata": {
        "colab": {
          "base_uri": "https://localhost:8080/"
        },
        "id": "rGu5wJ7tC152",
        "outputId": "13568a80-507f-426f-b4b4-9293e008c879"
      },
      "execution_count": null,
      "outputs": [
        {
          "output_type": "execute_result",
          "data": {
            "text/plain": [
              "array([[1, 6, 7],\n",
              "       [2, 5, 1],\n",
              "       [1, 3, 0]])"
            ]
          },
          "metadata": {},
          "execution_count": 9
        }
      ]
    },
    {
      "cell_type": "code",
      "source": [
        "np.random.randint(0,10,(2,3))"
      ],
      "metadata": {
        "colab": {
          "base_uri": "https://localhost:8080/"
        },
        "id": "_6UajXMCDCge",
        "outputId": "72ed447c-adc8-4228-c53f-0a1f5a7afcbe"
      },
      "execution_count": null,
      "outputs": [
        {
          "output_type": "execute_result",
          "data": {
            "text/plain": [
              "array([[1, 3, 2],\n",
              "       [8, 6, 2]])"
            ]
          },
          "metadata": {},
          "execution_count": 7
        }
      ]
    },
    {
      "cell_type": "markdown",
      "source": [
        "Array slicing"
      ],
      "metadata": {
        "id": "kArWBdHaEW-W"
      }
    },
    {
      "cell_type": "code",
      "source": [
        "data=np.random.randint(0,10,(5,4))\n",
        "data"
      ],
      "metadata": {
        "colab": {
          "base_uri": "https://localhost:8080/"
        },
        "id": "2iJxPSLwDZVN",
        "outputId": "54786787-d6ef-485d-963a-2f56e7dd544e"
      },
      "execution_count": null,
      "outputs": [
        {
          "output_type": "execute_result",
          "data": {
            "text/plain": [
              "array([[7, 3, 4, 2],\n",
              "       [5, 8, 8, 2],\n",
              "       [0, 0, 6, 4],\n",
              "       [6, 6, 1, 7],\n",
              "       [1, 2, 5, 7]])"
            ]
          },
          "metadata": {},
          "execution_count": 27
        }
      ]
    },
    {
      "cell_type": "code",
      "source": [
        "data[1:3,1:3]"
      ],
      "metadata": {
        "colab": {
          "base_uri": "https://localhost:8080/"
        },
        "id": "araclykjEZO-",
        "outputId": "bdce418e-7549-44c4-b4bf-ca2e5c554bb8"
      },
      "execution_count": null,
      "outputs": [
        {
          "output_type": "execute_result",
          "data": {
            "text/plain": [
              "array([[8, 8],\n",
              "       [0, 6]])"
            ]
          },
          "metadata": {},
          "execution_count": 28
        }
      ]
    },
    {
      "cell_type": "code",
      "source": [
        "data[2:4,1:3]"
      ],
      "metadata": {
        "colab": {
          "base_uri": "https://localhost:8080/"
        },
        "id": "vMM8eqDLqEIF",
        "outputId": "eb858c50-8b88-4289-9e92-8b6ff1002e6e"
      },
      "execution_count": null,
      "outputs": [
        {
          "output_type": "execute_result",
          "data": {
            "text/plain": [
              "array([[0, 6],\n",
              "       [6, 1]])"
            ]
          },
          "metadata": {},
          "execution_count": 29
        }
      ]
    },
    {
      "cell_type": "markdown",
      "source": [
        "Dimensional arrays"
      ],
      "metadata": {
        "id": "ftNHeSWNFw2M"
      }
    },
    {
      "cell_type": "code",
      "source": [
        "#Numpy\n",
        "\n",
        "#1 D array:\n",
        "\n",
        "import numpy as np\n",
        "a=np.array([1,23,24])\n",
        "a #or print(a)"
      ],
      "metadata": {
        "colab": {
          "base_uri": "https://localhost:8080/"
        },
        "id": "QF2ylUAeEvhI",
        "outputId": "6f248c8e-7653-4b22-d7aa-3e7e09cef3a3"
      },
      "execution_count": null,
      "outputs": [
        {
          "output_type": "execute_result",
          "data": {
            "text/plain": [
              "array([ 1, 23, 24])"
            ]
          },
          "metadata": {},
          "execution_count": 2
        }
      ]
    },
    {
      "cell_type": "code",
      "source": [
        "#2D array\n",
        "b=np.array([[1,2,3],[5,6,7],[3,6,7]])\n",
        "print(b)"
      ],
      "metadata": {
        "colab": {
          "base_uri": "https://localhost:8080/"
        },
        "id": "w4W3NBLBEOQz",
        "outputId": "5d4aa37c-2e53-45e9-df04-584e08b56d36"
      },
      "execution_count": null,
      "outputs": [
        {
          "output_type": "stream",
          "name": "stdout",
          "text": [
            "[[1 2 3]\n",
            " [5 6 7]\n",
            " [3 6 7]]\n"
          ]
        }
      ]
    },
    {
      "cell_type": "code",
      "source": [
        "#3D array\n",
        "c=np.array([[[2,3,4],[5,6,7]],[[8,9,10],[1,2,3]]])\n",
        "print(c)"
      ],
      "metadata": {
        "colab": {
          "base_uri": "https://localhost:8080/"
        },
        "id": "Ywy_XiuJFK7G",
        "outputId": "f8435b32-1011-45a4-d304-6a5caace6fef"
      },
      "execution_count": null,
      "outputs": [
        {
          "output_type": "stream",
          "name": "stdout",
          "text": [
            "[[[ 2  3  4]\n",
            "  [ 5  6  7]]\n",
            "\n",
            " [[ 8  9 10]\n",
            "  [ 1  2  3]]]\n"
          ]
        }
      ]
    },
    {
      "cell_type": "code",
      "source": [
        "import numpy as np\n",
        "np.zeros((2,3))"
      ],
      "metadata": {
        "colab": {
          "base_uri": "https://localhost:8080/"
        },
        "id": "PEueOsFE66r_",
        "outputId": "6c688f50-8144-4454-c864-0be3c1319560"
      },
      "execution_count": null,
      "outputs": [
        {
          "output_type": "execute_result",
          "data": {
            "text/plain": [
              "array([[0., 0., 0.],\n",
              "       [0., 0., 0.]])"
            ]
          },
          "metadata": {},
          "execution_count": 37
        }
      ]
    },
    {
      "cell_type": "code",
      "source": [
        "np.ones((2,3))"
      ],
      "metadata": {
        "colab": {
          "base_uri": "https://localhost:8080/"
        },
        "id": "Y3DwI-Si8lDo",
        "outputId": "eac38733-2df2-4142-e8e2-869e81e6798d"
      },
      "execution_count": null,
      "outputs": [
        {
          "output_type": "execute_result",
          "data": {
            "text/plain": [
              "array([[1., 1., 1.],\n",
              "       [1., 1., 1.]])"
            ]
          },
          "metadata": {},
          "execution_count": 38
        }
      ]
    },
    {
      "cell_type": "markdown",
      "source": [
        "function to get other values otherthan 0 and 1 is full"
      ],
      "metadata": {
        "id": "Yl6u0mWp9Df8"
      }
    },
    {
      "cell_type": "code",
      "source": [
        "np.full((4,4),-6)"
      ],
      "metadata": {
        "colab": {
          "base_uri": "https://localhost:8080/"
        },
        "id": "QH6JSby88sEW",
        "outputId": "103b8cfd-93f1-464c-db49-255f0b81aed2"
      },
      "execution_count": null,
      "outputs": [
        {
          "output_type": "execute_result",
          "data": {
            "text/plain": [
              "array([[-6, -6, -6, -6],\n",
              "       [-6, -6, -6, -6],\n",
              "       [-6, -6, -6, -6],\n",
              "       [-6, -6, -6, -6]])"
            ]
          },
          "metadata": {},
          "execution_count": 39
        }
      ]
    },
    {
      "cell_type": "markdown",
      "source": [
        "To get intervals"
      ],
      "metadata": {
        "id": "ZdDxJ4AUAGKn"
      }
    },
    {
      "cell_type": "code",
      "source": [
        "np.arange(0,101,5)"
      ],
      "metadata": {
        "colab": {
          "base_uri": "https://localhost:8080/"
        },
        "id": "kO8NMnsZ9NeU",
        "outputId": "9a08bf2b-38a5-43f5-f329-bdbcda634b66"
      },
      "execution_count": null,
      "outputs": [
        {
          "output_type": "execute_result",
          "data": {
            "text/plain": [
              "array([  0,   5,  10,  15,  20,  25,  30,  35,  40,  45,  50,  55,  60,\n",
              "        65,  70,  75,  80,  85,  90,  95, 100])"
            ]
          },
          "metadata": {},
          "execution_count": 6
        }
      ]
    },
    {
      "cell_type": "markdown",
      "source": [
        "To get equal spaces or equal intervals"
      ],
      "metadata": {
        "id": "vPgdL0GRAm91"
      }
    },
    {
      "cell_type": "code",
      "source": [
        "np.linspace(10,5,4)"
      ],
      "metadata": {
        "colab": {
          "base_uri": "https://localhost:8080/"
        },
        "id": "05ZLfOmM9Bix",
        "outputId": "4a7e9234-56f0-4912-8ebf-10613f39e981"
      },
      "execution_count": null,
      "outputs": [
        {
          "output_type": "execute_result",
          "data": {
            "text/plain": [
              "array([10.        ,  8.33333333,  6.66666667,  5.        ])"
            ]
          },
          "metadata": {},
          "execution_count": 10
        }
      ]
    },
    {
      "cell_type": "markdown",
      "source": [
        "Gives identical matrix"
      ],
      "metadata": {
        "id": "yZSFMdUZB5ii"
      }
    },
    {
      "cell_type": "code",
      "source": [
        "np.eye(3)"
      ],
      "metadata": {
        "colab": {
          "base_uri": "https://localhost:8080/"
        },
        "id": "qVb4xiRwBunZ",
        "outputId": "74f27610-d19b-475b-ff9c-60e3abc06cef"
      },
      "execution_count": null,
      "outputs": [
        {
          "output_type": "execute_result",
          "data": {
            "text/plain": [
              "array([[1., 0., 0.],\n",
              "       [0., 1., 0.],\n",
              "       [0., 0., 1.]])"
            ]
          },
          "metadata": {},
          "execution_count": 55
        }
      ]
    },
    {
      "cell_type": "code",
      "source": [
        "data = np.array([[5, 4, 0, 1],\n",
        "                  [11, 4, 10, 7],\n",
        "                  [7, 10, 5, 6],\n",
        "                  [7, 12, 10, 4],\n",
        "                  [3, 7, 3, 4]])\n"
      ],
      "metadata": {
        "id": "J9AR7IdRCf-5"
      },
      "execution_count": null,
      "outputs": []
    },
    {
      "cell_type": "code",
      "source": [
        "data"
      ],
      "metadata": {
        "colab": {
          "base_uri": "https://localhost:8080/"
        },
        "id": "zWNvH4NKCqdq",
        "outputId": "db3c9b80-2059-49a6-a8fb-5bcaeb001612"
      },
      "execution_count": null,
      "outputs": [
        {
          "output_type": "execute_result",
          "data": {
            "text/plain": [
              "array([[ 5,  4,  0,  1],\n",
              "       [11,  4, 10,  7],\n",
              "       [ 7, 10,  5,  6],\n",
              "       [ 7, 12, 10,  4],\n",
              "       [ 3,  7,  3,  4]])"
            ]
          },
          "metadata": {},
          "execution_count": 59
        }
      ]
    },
    {
      "cell_type": "code",
      "source": [
        "data.sum()"
      ],
      "metadata": {
        "colab": {
          "base_uri": "https://localhost:8080/"
        },
        "id": "Ik0Df9CyC0N8",
        "outputId": "b2a239d5-a355-4f3e-e8f6-2bfc64c639ae"
      },
      "execution_count": null,
      "outputs": [
        {
          "output_type": "execute_result",
          "data": {
            "text/plain": [
              "np.int64(120)"
            ]
          },
          "metadata": {},
          "execution_count": 62
        }
      ]
    },
    {
      "cell_type": "code",
      "source": [
        "data.max()"
      ],
      "metadata": {
        "colab": {
          "base_uri": "https://localhost:8080/"
        },
        "id": "6QiyJAO7C_CL",
        "outputId": "58437cf3-674c-4388-be7d-8c4262f6b36e"
      },
      "execution_count": null,
      "outputs": [
        {
          "output_type": "execute_result",
          "data": {
            "text/plain": [
              "np.int64(12)"
            ]
          },
          "metadata": {},
          "execution_count": 63
        }
      ]
    },
    {
      "cell_type": "code",
      "source": [
        "data.min()"
      ],
      "metadata": {
        "colab": {
          "base_uri": "https://localhost:8080/"
        },
        "id": "DiwswfTcDFJ9",
        "outputId": "31dff64c-1dcb-4cb7-bbad-6dd7d5473d02"
      },
      "execution_count": null,
      "outputs": [
        {
          "output_type": "execute_result",
          "data": {
            "text/plain": [
              "np.int64(0)"
            ]
          },
          "metadata": {},
          "execution_count": 64
        }
      ]
    },
    {
      "cell_type": "code",
      "source": [
        "data.mean()"
      ],
      "metadata": {
        "colab": {
          "base_uri": "https://localhost:8080/"
        },
        "id": "Y-UQtV2bDTZg",
        "outputId": "0e557ec4-9e8b-474a-a771-97ef7dd43f9a"
      },
      "execution_count": null,
      "outputs": [
        {
          "output_type": "execute_result",
          "data": {
            "text/plain": [
              "np.float64(6.0)"
            ]
          },
          "metadata": {},
          "execution_count": 65
        }
      ]
    },
    {
      "cell_type": "code",
      "source": [
        "b=np.array([[1,2,3],[5,6,7],[3,6,7]])\n",
        "print(b.shape)"
      ],
      "metadata": {
        "colab": {
          "base_uri": "https://localhost:8080/"
        },
        "id": "3N_xS0uXEjMJ",
        "outputId": "0b0fe869-815b-4764-ecaa-d140aa103c3c"
      },
      "execution_count": null,
      "outputs": [
        {
          "output_type": "stream",
          "name": "stdout",
          "text": [
            "(3, 3)\n"
          ]
        }
      ]
    },
    {
      "cell_type": "code",
      "source": [
        "a=np.array([[2,4,6,4],[5,6,7,8],[8,10,12,4]])\n",
        "print(\"original array:\\n\",a)\n",
        "print(a.shape)\n",
        "a.shape=(6,2)\n",
        "print(\"changed array:\\n\",a)"
      ],
      "metadata": {
        "colab": {
          "base_uri": "https://localhost:8080/"
        },
        "id": "Pf4xwp8KE-12",
        "outputId": "4bfb5831-c36c-4e1c-97e5-68f76bd9c59c"
      },
      "execution_count": null,
      "outputs": [
        {
          "output_type": "stream",
          "name": "stdout",
          "text": [
            "original array:\n",
            " [[ 2  4  6  4]\n",
            " [ 5  6  7  8]\n",
            " [ 8 10 12  4]]\n",
            "(3, 4)\n",
            "changed array:\n",
            " [[ 2  4]\n",
            " [ 6  4]\n",
            " [ 5  6]\n",
            " [ 7  8]\n",
            " [ 8 10]\n",
            " [12  4]]\n"
          ]
        }
      ]
    },
    {
      "cell_type": "code",
      "source": [
        "import numpy as np\n",
        "a=np.arange(30)\n",
        "a.shape=(2,5,3)\n",
        "print(a)\n",
        "\n"
      ],
      "metadata": {
        "colab": {
          "base_uri": "https://localhost:8080/"
        },
        "id": "HIWk10-3Gb9X",
        "outputId": "1cdfb180-304e-46f2-fc12-ec66ad794cf5"
      },
      "execution_count": null,
      "outputs": [
        {
          "output_type": "stream",
          "name": "stdout",
          "text": [
            "[[[ 0  1  2]\n",
            "  [ 3  4  5]\n",
            "  [ 6  7  8]\n",
            "  [ 9 10 11]\n",
            "  [12 13 14]]\n",
            "\n",
            " [[15 16 17]\n",
            "  [18 19 20]\n",
            "  [21 22 23]\n",
            "  [24 25 26]\n",
            "  [27 28 29]]]\n"
          ]
        }
      ]
    },
    {
      "cell_type": "code",
      "source": [
        "a=np.array([[1,2,3],[4,5,6],[5,8,12]])\n",
        "print(a.size )    #9\n",
        "print(a.shape)    #3,3\n",
        "print(a.ndim)     #2 D\n",
        "print(a.dtype)\n",
        "#"
      ],
      "metadata": {
        "colab": {
          "base_uri": "https://localhost:8080/"
        },
        "id": "1nOf0Ydfs8Lw",
        "outputId": "c77cd211-9297-4c1a-97a2-8a51210e4ef6"
      },
      "execution_count": null,
      "outputs": [
        {
          "output_type": "stream",
          "name": "stdout",
          "text": [
            "9\n",
            "(3, 3)\n",
            "2\n",
            "int64\n"
          ]
        }
      ]
    },
    {
      "cell_type": "code",
      "source": [
        "x=np.random.randint(0,20,(6,5))\n",
        "print(x)"
      ],
      "metadata": {
        "colab": {
          "base_uri": "https://localhost:8080/"
        },
        "id": "WYjcNXCXbA32",
        "outputId": "0597400f-6494-4e54-960f-6230aae3eace"
      },
      "execution_count": null,
      "outputs": [
        {
          "output_type": "stream",
          "name": "stdout",
          "text": [
            "[[18  0 10  8  0]\n",
            " [17 18  4  6 16]\n",
            " [15 17  3  2 18]\n",
            " [16 18  0 12  0]\n",
            " [ 8  5  2 13 16]\n",
            " [ 7  1 19 14 16]]\n"
          ]
        }
      ]
    },
    {
      "cell_type": "code",
      "source": [
        "print(x.shape)"
      ],
      "metadata": {
        "colab": {
          "base_uri": "https://localhost:8080/"
        },
        "id": "xTRdLScJbNzj",
        "outputId": "d0326135-41e7-4c48-89d6-7ebfe45b20b4"
      },
      "execution_count": null,
      "outputs": [
        {
          "output_type": "stream",
          "name": "stdout",
          "text": [
            "(6, 5)\n"
          ]
        }
      ]
    },
    {
      "cell_type": "code",
      "source": [
        "x.shape()"
      ],
      "metadata": {
        "colab": {
          "base_uri": "https://localhost:8080/",
          "height": 141
        },
        "id": "ftN5ZUWxbfQn",
        "outputId": "c7e6a0f1-6588-4540-fea6-ba657710f629"
      },
      "execution_count": null,
      "outputs": [
        {
          "output_type": "error",
          "ename": "TypeError",
          "evalue": "'tuple' object is not callable",
          "traceback": [
            "\u001b[0;31m---------------------------------------------------------------------------\u001b[0m",
            "\u001b[0;31mTypeError\u001b[0m                                 Traceback (most recent call last)",
            "\u001b[0;32m<ipython-input-6-53b346520f3e>\u001b[0m in \u001b[0;36m<cell line: 0>\u001b[0;34m()\u001b[0m\n\u001b[0;32m----> 1\u001b[0;31m \u001b[0mx\u001b[0m\u001b[0;34m.\u001b[0m\u001b[0mshape\u001b[0m\u001b[0;34m(\u001b[0m\u001b[0;34m)\u001b[0m\u001b[0;34m\u001b[0m\u001b[0;34m\u001b[0m\u001b[0m\n\u001b[0m",
            "\u001b[0;31mTypeError\u001b[0m: 'tuple' object is not callable"
          ]
        }
      ]
    },
    {
      "cell_type": "code",
      "source": [
        "x.ravel()"
      ],
      "metadata": {
        "colab": {
          "base_uri": "https://localhost:8080/"
        },
        "id": "OQGy8uImtw8Z",
        "outputId": "2d32239f-bf68-4ebd-81c3-db090e404d4e"
      },
      "execution_count": null,
      "outputs": [
        {
          "output_type": "execute_result",
          "data": {
            "text/plain": [
              "array([18,  0, 10,  8,  0, 17, 18,  4,  6, 16, 15, 17,  3,  2, 18, 16, 18,\n",
              "        0, 12,  0,  8,  5,  2, 13, 16,  7,  1, 19, 14, 16])"
            ]
          },
          "metadata": {},
          "execution_count": 7
        }
      ]
    },
    {
      "cell_type": "code",
      "source": [
        "y=x.ravel()"
      ],
      "metadata": {
        "id": "0T3jfSIjcnYS"
      },
      "execution_count": null,
      "outputs": []
    },
    {
      "cell_type": "code",
      "source": [
        "y.reshape(10,3)"
      ],
      "metadata": {
        "colab": {
          "base_uri": "https://localhost:8080/"
        },
        "id": "pfY3Q0iSt5QY",
        "outputId": "4c45ddd5-244c-4a0e-da77-aad4d6036355"
      },
      "execution_count": null,
      "outputs": [
        {
          "output_type": "execute_result",
          "data": {
            "text/plain": [
              "array([[18,  0, 10],\n",
              "       [ 8,  0, 17],\n",
              "       [18,  4,  6],\n",
              "       [16, 15, 17],\n",
              "       [ 3,  2, 18],\n",
              "       [16, 18,  0],\n",
              "       [12,  0,  8],\n",
              "       [ 5,  2, 13],\n",
              "       [16,  7,  1],\n",
              "       [19, 14, 16]])"
            ]
          },
          "metadata": {},
          "execution_count": 9
        }
      ]
    },
    {
      "cell_type": "code",
      "source": [
        "x1=np.array([[2,3],[4,3]])\n",
        "print(x1)"
      ],
      "metadata": {
        "colab": {
          "base_uri": "https://localhost:8080/"
        },
        "id": "ZrqPpUPNdiV2",
        "outputId": "0cdfa03f-9cd2-45ac-ddab-658f435982ac"
      },
      "execution_count": null,
      "outputs": [
        {
          "output_type": "stream",
          "name": "stdout",
          "text": [
            "[[2 3]\n",
            " [4 3]]\n"
          ]
        }
      ]
    },
    {
      "cell_type": "code",
      "source": [
        "x2=np.array([[4,5],[6,7]])\n",
        "print(x2)"
      ],
      "metadata": {
        "colab": {
          "base_uri": "https://localhost:8080/"
        },
        "id": "_7TjoqQhdywH",
        "outputId": "8d4c85f9-ff44-4bce-eebd-cbb318746114"
      },
      "execution_count": null,
      "outputs": [
        {
          "output_type": "stream",
          "name": "stdout",
          "text": [
            "[[4 5]\n",
            " [6 7]]\n"
          ]
        }
      ]
    },
    {
      "cell_type": "code",
      "source": [
        "np.vstack((x1,x2))"
      ],
      "metadata": {
        "colab": {
          "base_uri": "https://localhost:8080/"
        },
        "id": "njicKNgMd6z8",
        "outputId": "8fdeba58-d63c-4c68-8d96-6aba372bf4af"
      },
      "execution_count": null,
      "outputs": [
        {
          "output_type": "execute_result",
          "data": {
            "text/plain": [
              "array([[2, 3],\n",
              "       [4, 3],\n",
              "       [4, 5],\n",
              "       [6, 7]])"
            ]
          },
          "metadata": {},
          "execution_count": 26
        }
      ]
    },
    {
      "cell_type": "code",
      "source": [
        "np.hstack((x1,x2))"
      ],
      "metadata": {
        "colab": {
          "base_uri": "https://localhost:8080/"
        },
        "id": "a_2HWwF0d_vq",
        "outputId": "3ff464d9-bdff-433c-ba31-973097c97e03"
      },
      "execution_count": null,
      "outputs": [
        {
          "output_type": "execute_result",
          "data": {
            "text/plain": [
              "array([[2, 3, 4, 5],\n",
              "       [4, 3, 6, 7]])"
            ]
          },
          "metadata": {},
          "execution_count": 27
        }
      ]
    },
    {
      "cell_type": "code",
      "source": [
        "np.concatenate((x1,x2),axis=0)"
      ],
      "metadata": {
        "colab": {
          "base_uri": "https://localhost:8080/"
        },
        "id": "Yt8I_4M2eFx3",
        "outputId": "f4f46211-7605-46ca-a6b3-42db6f16c22e"
      },
      "execution_count": null,
      "outputs": [
        {
          "output_type": "execute_result",
          "data": {
            "text/plain": [
              "array([[2, 3],\n",
              "       [4, 3],\n",
              "       [4, 5],\n",
              "       [6, 7]])"
            ]
          },
          "metadata": {},
          "execution_count": 28
        }
      ]
    },
    {
      "cell_type": "code",
      "source": [
        "np.concatenate((x1,x2),axis=1)"
      ],
      "metadata": {
        "colab": {
          "base_uri": "https://localhost:8080/"
        },
        "id": "JE5jJ8rVeJjS",
        "outputId": "43a674ce-901b-4a7a-d4a9-cf31f49ed7bd"
      },
      "execution_count": null,
      "outputs": [
        {
          "output_type": "execute_result",
          "data": {
            "text/plain": [
              "array([[2, 3, 4, 5],\n",
              "       [4, 3, 6, 7]])"
            ]
          },
          "metadata": {},
          "execution_count": 29
        }
      ]
    },
    {
      "cell_type": "markdown",
      "source": [
        "Mathematical functions"
      ],
      "metadata": {
        "id": "Mk_NU6ZVo62q"
      }
    },
    {
      "cell_type": "code",
      "source": [
        "#addition\n",
        "x=np.array([10,2,3])\n",
        "np.sum(x)"
      ],
      "metadata": {
        "colab": {
          "base_uri": "https://localhost:8080/"
        },
        "id": "4aeOwPQRgHzB",
        "outputId": "b8ac7302-1d84-46a7-cfb4-b61a10f8bfe0"
      },
      "execution_count": null,
      "outputs": [
        {
          "output_type": "execute_result",
          "data": {
            "text/plain": [
              "np.int64(15)"
            ]
          },
          "metadata": {},
          "execution_count": 33
        }
      ]
    },
    {
      "cell_type": "code",
      "source": [
        "array1=np.array([[1,2,3],\n",
        "                  [4,5,6]])\n",
        "array2=np.array([[7,8,9],\n",
        "                  [10,11,12]])\n",
        "sum_array=array1+array2\n",
        "print(\"Addition:\\n\",sum_array)"
      ],
      "metadata": {
        "colab": {
          "base_uri": "https://localhost:8080/"
        },
        "id": "3ETb-nm1f1Ao",
        "outputId": "1f0d01a4-cac1-4806-f568-7bef9a6deaf7"
      },
      "execution_count": null,
      "outputs": [
        {
          "output_type": "stream",
          "name": "stdout",
          "text": [
            "Addition:\n",
            " [[ 8 10 12]\n",
            " [14 16 18]]\n"
          ]
        }
      ]
    },
    {
      "cell_type": "code",
      "source": [
        "#subtrction\n",
        "a1=np.array([0,1,6])\n",
        "a2=np.array([0,5,3])\n",
        "sub_array=a1-a2\n",
        "print(\"Subtraction:\\n\",sub_array)"
      ],
      "metadata": {
        "colab": {
          "base_uri": "https://localhost:8080/"
        },
        "id": "0CBOh0MCic91",
        "outputId": "e0739b9f-6869-43b9-863b-c452730f3804"
      },
      "execution_count": null,
      "outputs": [
        {
          "output_type": "stream",
          "name": "stdout",
          "text": [
            "Subtraction:\n",
            " [ 0 -4  3]\n"
          ]
        }
      ]
    },
    {
      "cell_type": "code",
      "source": [
        "#broadcasting\n",
        "#addition\n",
        "a=np.array([[1,2,],[6,8],[6,5]])\n",
        "b=np.array([5,4])\n",
        "result=a+b\n",
        "print(result)"
      ],
      "metadata": {
        "colab": {
          "base_uri": "https://localhost:8080/"
        },
        "id": "DZUyFlDvksdZ",
        "outputId": "9f2cf5c2-0fc9-45ff-dd4a-7a22d7f5187b"
      },
      "execution_count": null,
      "outputs": [
        {
          "output_type": "stream",
          "name": "stdout",
          "text": [
            "[[ 6  6]\n",
            " [11 12]\n",
            " [11  9]]\n"
          ]
        }
      ]
    },
    {
      "cell_type": "code",
      "source": [
        "#subtraction\n",
        "a=np.array([[1,2,],[6,8],[6,5]])\n",
        "b=np.array([5,4])\n",
        "result=a-b\n",
        "print(result)"
      ],
      "metadata": {
        "colab": {
          "base_uri": "https://localhost:8080/"
        },
        "id": "p9XgE8mTlhnL",
        "outputId": "3e1cb529-e4e5-4140-8b6b-6f19582e4a05"
      },
      "execution_count": null,
      "outputs": [
        {
          "output_type": "stream",
          "name": "stdout",
          "text": [
            "[[-4 -2]\n",
            " [ 1  4]\n",
            " [ 1  1]]\n"
          ]
        }
      ]
    },
    {
      "cell_type": "markdown",
      "source": [
        "Array multiplication"
      ],
      "metadata": {
        "id": "t6JZVlndtRDT"
      }
    },
    {
      "cell_type": "code",
      "source": [
        "#for multiplication there should be one row in sec array or it should have equal rows and columns to first array\n",
        "array1=np.array([[1,2,3],\n",
        "                  [4,5,6]])\n",
        "array2=np.array([[7,8,9],\n",
        "                  [10,11,12]])\n",
        "mult_array=array1*array2\n",
        "print(\"Multiplication:\\n\",mult_array)"
      ],
      "metadata": {
        "colab": {
          "base_uri": "https://localhost:8080/"
        },
        "id": "rtun8ApVr018",
        "outputId": "45738c19-23a9-4dad-854f-9320f4b69cdd"
      },
      "execution_count": null,
      "outputs": [
        {
          "output_type": "stream",
          "name": "stdout",
          "text": [
            "Multiplication:\n",
            " [[ 7 16 27]\n",
            " [40 55 72]]\n"
          ]
        }
      ]
    },
    {
      "cell_type": "markdown",
      "source": [
        "Matrix Multiplication"
      ],
      "metadata": {
        "id": "IBBpv4RMtUXh"
      }
    },
    {
      "cell_type": "code",
      "source": [
        "#the num of rows in both matrices should be same\n",
        "x1=np.random.randint(0,10,(2,2))\n",
        "x2=np.random.randint(0,10,(2,2))"
      ],
      "metadata": {
        "id": "CRFwSXkMtT_U"
      },
      "execution_count": null,
      "outputs": []
    },
    {
      "cell_type": "code",
      "source": [
        "x1"
      ],
      "metadata": {
        "colab": {
          "base_uri": "https://localhost:8080/"
        },
        "id": "QO6WWr8hsRim",
        "outputId": "83e86586-2f13-4288-d000-d5c8f5ea332d"
      },
      "execution_count": null,
      "outputs": [
        {
          "output_type": "execute_result",
          "data": {
            "text/plain": [
              "array([[1, 9],\n",
              "       [4, 0]])"
            ]
          },
          "metadata": {},
          "execution_count": 8
        }
      ]
    },
    {
      "cell_type": "code",
      "source": [
        "x2"
      ],
      "metadata": {
        "colab": {
          "base_uri": "https://localhost:8080/"
        },
        "id": "bn6aqPaguEh8",
        "outputId": "f9dfb290-59fd-45a3-8173-97d61be156b2"
      },
      "execution_count": null,
      "outputs": [
        {
          "output_type": "execute_result",
          "data": {
            "text/plain": [
              "array([[3, 6],\n",
              "       [9, 0]])"
            ]
          },
          "metadata": {},
          "execution_count": 9
        }
      ]
    },
    {
      "cell_type": "code",
      "source": [
        "np.dot(x1,x2)"
      ],
      "metadata": {
        "colab": {
          "base_uri": "https://localhost:8080/"
        },
        "id": "p6xfMKETuFj-",
        "outputId": "3fbcb5c3-c1c3-4414-c7d8-c1c8a8e66288"
      },
      "execution_count": null,
      "outputs": [
        {
          "output_type": "execute_result",
          "data": {
            "text/plain": [
              "array([[84,  6],\n",
              "       [12, 24]])"
            ]
          },
          "metadata": {},
          "execution_count": 11
        }
      ]
    },
    {
      "cell_type": "markdown",
      "source": [
        "Division"
      ],
      "metadata": {
        "id": "ylSx6_iT4zSh"
      }
    },
    {
      "cell_type": "code",
      "source": [
        "array1=np.array([[1,2,3],\n",
        "                  [4,5,6]])\n",
        "array2=np.array([[7,8,9],\n",
        "                  [10,11,12]])\n",
        "div_array=array1/array2\n",
        "print(\"Division:\\n\",div_array)"
      ],
      "metadata": {
        "colab": {
          "base_uri": "https://localhost:8080/"
        },
        "id": "DnqIhbSA4y2s",
        "outputId": "8b0a82e9-2f7c-4ea1-d513-2ea0cf037a77"
      },
      "execution_count": null,
      "outputs": [
        {
          "output_type": "stream",
          "name": "stdout",
          "text": [
            "Division:\n",
            " [[0.14285714 0.25       0.33333333]\n",
            " [0.4        0.45454545 0.5       ]]\n"
          ]
        }
      ]
    },
    {
      "cell_type": "markdown",
      "source": [
        "Exponent"
      ],
      "metadata": {
        "id": "kEuWqftr-PDY"
      }
    },
    {
      "cell_type": "code",
      "source": [
        "a=np.array([1,2,3,4])"
      ],
      "metadata": {
        "id": "zCjOVB2s-Rwi"
      },
      "execution_count": null,
      "outputs": []
    },
    {
      "cell_type": "code",
      "source": [
        "np.exp(a)"
      ],
      "metadata": {
        "colab": {
          "base_uri": "https://localhost:8080/"
        },
        "id": "rxNM3evi-WCA",
        "outputId": "8b0e097a-ff19-4f03-d9c0-ff0c59546ea5"
      },
      "execution_count": null,
      "outputs": [
        {
          "output_type": "execute_result",
          "data": {
            "text/plain": [
              "array([ 2.71828183,  7.3890561 , 20.08553692, 54.59815003])"
            ]
          },
          "metadata": {},
          "execution_count": 57
        }
      ]
    },
    {
      "cell_type": "markdown",
      "source": [
        "String functions"
      ],
      "metadata": {
        "id": "VbOPaXMYwzxa"
      }
    },
    {
      "cell_type": "code",
      "source": [
        "x=np.array(['1','2','3','data'])"
      ],
      "metadata": {
        "id": "UVdTrb7gwzN9"
      },
      "execution_count": null,
      "outputs": []
    },
    {
      "cell_type": "code",
      "source": [
        "np.char.center(x,10,fillchar='*')"
      ],
      "metadata": {
        "colab": {
          "base_uri": "https://localhost:8080/"
        },
        "id": "e7sPBagzxRR8",
        "outputId": "13ccd6fd-b5a8-4cfc-c5f2-47ae2b3d6143"
      },
      "execution_count": null,
      "outputs": [
        {
          "output_type": "execute_result",
          "data": {
            "text/plain": [
              "array(['****1*****', '****2*****', '****3*****', '***data***'],\n",
              "      dtype='<U10')"
            ]
          },
          "metadata": {},
          "execution_count": 37
        }
      ]
    },
    {
      "cell_type": "code",
      "source": [
        "y=np.array(['1','2','3','data engineering'])"
      ],
      "metadata": {
        "id": "lebxTSRi8BYM"
      },
      "execution_count": null,
      "outputs": []
    },
    {
      "cell_type": "code",
      "source": [
        "print(np.char.upper(y))\n",
        "print(np.char.lower(y))\n",
        "print(np.char.title(y))\n",
        "print(np.char.capitalize(y))"
      ],
      "metadata": {
        "colab": {
          "base_uri": "https://localhost:8080/"
        },
        "id": "jk2tTXPUySy-",
        "outputId": "9b712713-9d4b-4ac7-a5d5-fe76e81b6d7e"
      },
      "execution_count": null,
      "outputs": [
        {
          "output_type": "stream",
          "name": "stdout",
          "text": [
            "['1' '2' '3' 'DATA ENGINEERING']\n",
            "['1' '2' '3' 'data engineering']\n",
            "['1' '2' '3' 'Data Engineering']\n",
            "['1' '2' '3' 'Data engineering']\n"
          ]
        }
      ]
    },
    {
      "cell_type": "code",
      "source": [
        "np.char.split(y,'e')"
      ],
      "metadata": {
        "colab": {
          "base_uri": "https://localhost:8080/"
        },
        "id": "zOaz-PgUzCz0",
        "outputId": "4a63f466-e836-4b04-8da4-440767c48586"
      },
      "execution_count": null,
      "outputs": [
        {
          "output_type": "execute_result",
          "data": {
            "text/plain": [
              "array([list(['1']), list(['2']), list(['3']),\n",
              "       list(['data ', 'ngin', '', 'ring'])], dtype=object)"
            ]
          },
          "metadata": {},
          "execution_count": 47
        }
      ]
    },
    {
      "cell_type": "code",
      "source": [
        "np.char.count(y,'e')"
      ],
      "metadata": {
        "colab": {
          "base_uri": "https://localhost:8080/"
        },
        "id": "EQB5jUMx8Xxv",
        "outputId": "de10568b-0378-44f8-de01-94fd36d18aed"
      },
      "execution_count": null,
      "outputs": [
        {
          "output_type": "execute_result",
          "data": {
            "text/plain": [
              "array([0, 0, 0, 3])"
            ]
          },
          "metadata": {},
          "execution_count": 50
        }
      ]
    },
    {
      "cell_type": "code",
      "source": [
        "np.char.startswith(x,'d')"
      ],
      "metadata": {
        "colab": {
          "base_uri": "https://localhost:8080/"
        },
        "id": "jMStve9VzSbW",
        "outputId": "7b0cb3fa-c60e-4a81-8adf-c1de620e33bb"
      },
      "execution_count": null,
      "outputs": [
        {
          "output_type": "execute_result",
          "data": {
            "text/plain": [
              "array([False, False, False,  True])"
            ]
          },
          "metadata": {},
          "execution_count": 28
        }
      ]
    },
    {
      "cell_type": "code",
      "source": [
        "np.char.endswith(x,'g')"
      ],
      "metadata": {
        "colab": {
          "base_uri": "https://localhost:8080/"
        },
        "id": "x7oLeLURzex7",
        "outputId": "3c10b372-d62f-40ae-c9a8-7b44b3fee48a"
      },
      "execution_count": null,
      "outputs": [
        {
          "output_type": "execute_result",
          "data": {
            "text/plain": [
              "array([False, False, False,  True])"
            ]
          },
          "metadata": {},
          "execution_count": 29
        }
      ]
    },
    {
      "cell_type": "code",
      "source": [
        "np.char.rjust(x,10,fillchar='*')"
      ],
      "metadata": {
        "colab": {
          "base_uri": "https://localhost:8080/"
        },
        "id": "CXHiASLdzlSF",
        "outputId": "90c235e3-64b6-4519-f50a-dc174aa43e32"
      },
      "execution_count": null,
      "outputs": [
        {
          "output_type": "execute_result",
          "data": {
            "text/plain": [
              "array(['*********1', '*********2', '*********3', '******data'],\n",
              "      dtype='<U10')"
            ]
          },
          "metadata": {},
          "execution_count": 39
        }
      ]
    },
    {
      "cell_type": "code",
      "source": [
        "np.char.ljust(x,10,fillchar='*')"
      ],
      "metadata": {
        "colab": {
          "base_uri": "https://localhost:8080/"
        },
        "id": "90v-d2cJz1r-",
        "outputId": "d2b8c3cc-249e-4780-d01d-d3cc1e49c872"
      },
      "execution_count": null,
      "outputs": [
        {
          "output_type": "execute_result",
          "data": {
            "text/plain": [
              "array(['1*********', '2*********', '3*********', 'data******'],\n",
              "      dtype='<U10')"
            ]
          },
          "metadata": {},
          "execution_count": 38
        }
      ]
    },
    {
      "cell_type": "code",
      "source": [
        "np.char.replace(y,'a','^^')"
      ],
      "metadata": {
        "colab": {
          "base_uri": "https://localhost:8080/"
        },
        "id": "8DBqixzA0DAJ",
        "outputId": "5ce49509-1dbb-4af0-e82e-0706459f977c"
      },
      "execution_count": null,
      "outputs": [
        {
          "output_type": "execute_result",
          "data": {
            "text/plain": [
              "array(['1', '2', '3', 'd^^t^^ engineering'], dtype='<U18')"
            ]
          },
          "metadata": {},
          "execution_count": 52
        }
      ]
    },
    {
      "cell_type": "code",
      "source": [
        "a=np.array([1,2,3,4,5])\n",
        "print(\"sqrt of a:\",np.sqrt(a))\n",
        "print(\"expn of a:\",np.exp(a))\n",
        "print(\"log of a:\",np.log(a))\n",
        "print(\"sin of a:\",np.sin(a))\n",
        "print(\"cos of a:\",np.cos(a))"
      ],
      "metadata": {
        "colab": {
          "base_uri": "https://localhost:8080/"
        },
        "id": "nuvqUs1B_IeI",
        "outputId": "9b8ef209-b7a3-4a22-fac5-01b7c9d3536d"
      },
      "execution_count": null,
      "outputs": [
        {
          "output_type": "stream",
          "name": "stdout",
          "text": [
            "sqrt of a: [1.         1.41421356 1.73205081 2.         2.23606798]\n",
            "expn of a: [  2.71828183   7.3890561   20.08553692  54.59815003 148.4131591 ]\n",
            "log of a: [0.         0.69314718 1.09861229 1.38629436 1.60943791]\n",
            "sin of a: [ 0.84147098  0.90929743  0.14112001 -0.7568025  -0.95892427]\n",
            "cos of a: [ 0.54030231 -0.41614684 -0.9899925  -0.65364362  0.28366219]\n"
          ]
        }
      ]
    },
    {
      "cell_type": "markdown",
      "source": [
        "Aggregate functions"
      ],
      "metadata": {
        "id": "xrMJlPb9AWzt"
      }
    },
    {
      "cell_type": "code",
      "source": [
        "a=np.array([1,2,3,4,5])\n",
        "print(\"sum:\",np.sum(a))\n",
        "print(\"max:\",np.max(a))\n",
        "print(\"min:\",np.min(a))\n",
        "print(\"medain:\",np.median(a))\n",
        "print(\"mean:\",np.mean(a))\n",
        "print(\"correlation coefficient:\",np.corrcoef(a))\n",
        "print(\"standard deviation:\",np.std(a))\n",
        "print(\"variance:\",np.var(a))\n"
      ],
      "metadata": {
        "colab": {
          "base_uri": "https://localhost:8080/"
        },
        "id": "nEO-FOPVAZXA",
        "outputId": "3b4b3cc1-b094-484c-a70c-560d6e92a8a9"
      },
      "execution_count": null,
      "outputs": [
        {
          "output_type": "stream",
          "name": "stdout",
          "text": [
            "sum: 15\n",
            "max: 5\n",
            "min: 1\n",
            "medain: 3.0\n",
            "mean: 3.0\n",
            "correlation coefficient: 1.0\n",
            "standard deviation: 1.4142135623730951\n",
            "variance: 2.0\n"
          ]
        }
      ]
    },
    {
      "cell_type": "code",
      "source": [],
      "metadata": {
        "id": "8DAlM2f62n5r"
      },
      "execution_count": null,
      "outputs": []
    }
  ]
}