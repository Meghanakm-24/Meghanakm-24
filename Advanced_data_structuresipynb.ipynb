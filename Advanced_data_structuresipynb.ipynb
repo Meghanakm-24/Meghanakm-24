{
  "nbformat": 4,
  "nbformat_minor": 0,
  "metadata": {
    "colab": {
      "provenance": [],
      "authorship_tag": "ABX9TyM575Z1Orhay8kkJb0z26a6",
      "include_colab_link": true
    },
    "kernelspec": {
      "name": "python3",
      "display_name": "Python 3"
    },
    "language_info": {
      "name": "python"
    }
  },
  "cells": [
    {
      "cell_type": "markdown",
      "metadata": {
        "id": "view-in-github",
        "colab_type": "text"
      },
      "source": [
        "<a href=\"https://colab.research.google.com/github/Meghanakm-24/Python-files/blob/main/Advanced_data_structuresipynb.ipynb\" target=\"_parent\"><img src=\"https://colab.research.google.com/assets/colab-badge.svg\" alt=\"Open In Colab\"/></a>"
      ]
    },
    {
      "cell_type": "markdown",
      "source": [
        "Deque--Double ended queue"
      ],
      "metadata": {
        "id": "zqwGOO-aMYmB"
      }
    },
    {
      "cell_type": "code",
      "execution_count": null,
      "metadata": {
        "colab": {
          "base_uri": "https://localhost:8080/"
        },
        "id": "v7guCxrjLa7y",
        "outputId": "fc962ac0-c401-498a-f010-50d092db091f"
      },
      "outputs": [
        {
          "output_type": "stream",
          "name": "stdout",
          "text": [
            "deque([1])\n",
            "deque([2, 1])\n"
          ]
        }
      ],
      "source": [
        "from collections import deque\n",
        "d=deque()\n",
        "d.append(1)\n",
        "print(d)\n",
        "d.appendleft(2)\n",
        "print(d)"
      ]
    },
    {
      "cell_type": "code",
      "source": [
        "#remove elements from deque\n",
        "d.pop()\n",
        "print(d)"
      ],
      "metadata": {
        "colab": {
          "base_uri": "https://localhost:8080/"
        },
        "id": "1TAhbCExNZcj",
        "outputId": "fc70bece-c70e-4a52-ad2e-34ac47bf12ed"
      },
      "execution_count": null,
      "outputs": [
        {
          "output_type": "stream",
          "name": "stdout",
          "text": [
            "deque([2])\n"
          ]
        }
      ]
    },
    {
      "cell_type": "code",
      "source": [
        "d.extend([1,2,3])\n",
        "d.extendleft([4,5,6])\n",
        "print(d)"
      ],
      "metadata": {
        "colab": {
          "base_uri": "https://localhost:8080/"
        },
        "id": "m4EPD_p6Nvqg",
        "outputId": "0c2f21bf-34fd-4d2f-baf7-bb278b13ed36"
      },
      "execution_count": null,
      "outputs": [
        {
          "output_type": "stream",
          "name": "stdout",
          "text": [
            "deque([6, 5, 4, 2, 1, 2, 3])\n"
          ]
        }
      ]
    },
    {
      "cell_type": "code",
      "source": [
        "d.rotate(2)\n",
        "print(d)\n",
        "d.rotate(-2)\n",
        "print(d)"
      ],
      "metadata": {
        "colab": {
          "base_uri": "https://localhost:8080/"
        },
        "id": "tAe7uyvBOt8M",
        "outputId": "fdb74c30-5da7-4e2a-f4e1-108ed12d29fe"
      },
      "execution_count": null,
      "outputs": [
        {
          "output_type": "stream",
          "name": "stdout",
          "text": [
            "deque([2, 1, 2, 3, 6, 5, 4])\n",
            "deque([2, 3, 6, 5, 4, 2, 1])\n"
          ]
        }
      ]
    },
    {
      "cell_type": "markdown",
      "source": [
        "Namedtuple"
      ],
      "metadata": {
        "id": "OcmWAtxZO5Ob"
      }
    },
    {
      "cell_type": "code",
      "source": [
        "from collections import namedtuple\n",
        "person=namedtuple('person',['name','age','city'])\n",
        "#create an instance of person\n",
        "person1=person(name='John Doe',age=30,city='Newyork')\n",
        "print(f\"name={person1.name}\")\n",
        "print(person1.age)\n",
        "print(person1.city)"
      ],
      "metadata": {
        "colab": {
          "base_uri": "https://localhost:8080/"
        },
        "id": "fhh6D9DSO8D8",
        "outputId": "42c22599-a0f1-4c30-c517-85425a94f0c5"
      },
      "execution_count": null,
      "outputs": [
        {
          "output_type": "stream",
          "name": "stdout",
          "text": [
            "name=John Doe\n",
            "30\n",
            "Newyork\n"
          ]
        }
      ]
    },
    {
      "cell_type": "markdown",
      "source": [
        "Chainmap\n",
        "\n",
        "using multiple dictionaries as single unit without merging them\n"
      ],
      "metadata": {
        "id": "YINAXoACP_o8"
      }
    },
    {
      "cell_type": "code",
      "source": [
        "from collections import ChainMap\n",
        "dict1={'a':1,'b':2}\n",
        "dict2={'b':3,'c':4}\n",
        "chain=ChainMap(dict1,dict2)\n",
        "print(chain)\n",
        "#Access values\n",
        "print(chain['a'])\n",
        "print(chain['b'])\n",
        "print(chain['c'])\n",
        "print(chain.maps[1]['b'])"
      ],
      "metadata": {
        "colab": {
          "base_uri": "https://localhost:8080/"
        },
        "id": "YTisz83QQEh4",
        "outputId": "a1eb5998-2e63-46ac-eb82-10f846427627"
      },
      "execution_count": null,
      "outputs": [
        {
          "output_type": "stream",
          "name": "stdout",
          "text": [
            "ChainMap({'a': 1, 'b': 2}, {'b': 3, 'c': 4})\n",
            "1\n",
            "2\n",
            "4\n",
            "3\n"
          ]
        }
      ]
    },
    {
      "cell_type": "markdown",
      "source": [
        "Counter\n",
        "\n",
        "subclass of dictionaries designed to count hashable(cant be changed) objects\n"
      ],
      "metadata": {
        "id": "SBb2YzQHRW9K"
      }
    },
    {
      "cell_type": "code",
      "source": [
        "from collections import Counter\n",
        "counter=Counter(['apple','banana','apple','orange','banana'])\n",
        "print(counter)\n",
        "\n",
        "#access counts\n",
        "print(counter['apple'])\n",
        "print(counter['banana'])\n",
        "print(counter['orange'])"
      ],
      "metadata": {
        "colab": {
          "base_uri": "https://localhost:8080/"
        },
        "id": "8YzObWwySIdc",
        "outputId": "3a8795ea-4ae9-43c8-ee8f-5648a02f1e2e"
      },
      "execution_count": null,
      "outputs": [
        {
          "output_type": "stream",
          "name": "stdout",
          "text": [
            "Counter({'apple': 2, 'banana': 2, 'orange': 1})\n",
            "2\n",
            "2\n",
            "1\n"
          ]
        }
      ]
    },
    {
      "cell_type": "code",
      "source": [
        "from collections import Counter\n",
        "a=Counter([1,2,4,5,3,4,5,7,5,3])\n",
        "print(a)\n"
      ],
      "metadata": {
        "colab": {
          "base_uri": "https://localhost:8080/"
        },
        "id": "8vQ_4cPKTFvM",
        "outputId": "a631532d-40c6-40b4-c85d-33113f4f70c7"
      },
      "execution_count": null,
      "outputs": [
        {
          "output_type": "stream",
          "name": "stdout",
          "text": [
            "Counter({5: 3, 4: 2, 3: 2, 1: 1, 2: 1, 7: 1})\n"
          ]
        }
      ]
    },
    {
      "cell_type": "markdown",
      "source": [
        "Ordered dict"
      ],
      "metadata": {
        "id": "d9hF8pY0U07w"
      }
    },
    {
      "cell_type": "code",
      "source": [
        "from collections import OrderedDict\n",
        "od=OrderedDict()\n",
        "od['a']=1\n",
        "od['b']=2\n",
        "od['c']=3\n",
        "od['e']='word'\n",
        "print(od)\n",
        "\n",
        "print(od['e'])"
      ],
      "metadata": {
        "colab": {
          "base_uri": "https://localhost:8080/"
        },
        "id": "LUXkk_c3U0fC",
        "outputId": "a5762022-0bbc-4f39-834b-ac5d7eac9b52"
      },
      "execution_count": null,
      "outputs": [
        {
          "output_type": "stream",
          "name": "stdout",
          "text": [
            "OrderedDict([('a', 1), ('b', 2), ('c', 3), ('e', 'word')])\n",
            "word\n"
          ]
        }
      ]
    },
    {
      "cell_type": "markdown",
      "source": [
        "Default dict\n",
        "\n",
        "Assigns default value to the key that doesnt exsist\n"
      ],
      "metadata": {
        "id": "YjCpv7XZV_3l"
      }
    },
    {
      "cell_type": "code",
      "source": [
        "from collections import defaultdict\n",
        "d=defaultdict(int)\n",
        "d['python']=1\n",
        "d['java']=2\n",
        "d['SQL']\n",
        "d['powerbi']\n",
        "print(d)"
      ],
      "metadata": {
        "colab": {
          "base_uri": "https://localhost:8080/"
        },
        "id": "BsPrAc0rU0bp",
        "outputId": "b6cedc65-8a80-4a74-8e46-987e09d840c3"
      },
      "execution_count": null,
      "outputs": [
        {
          "output_type": "stream",
          "name": "stdout",
          "text": [
            "defaultdict(<class 'int'>, {'python': 1, 'java': 2, 'SQL': 0, 'powerbi': 0})\n"
          ]
        }
      ]
    }
  ]
}